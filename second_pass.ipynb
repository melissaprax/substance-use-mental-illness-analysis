{
 "cells": [
  {
   "cell_type": "code",
   "execution_count": 1,
   "metadata": {},
   "outputs": [
    {
     "name": "stderr",
     "output_type": "stream",
     "text": [
      "c:\\Users\\e.a.wright\\anaconda3\\envs\\datascience\\Lib\\site-packages\\numpy\\_distributor_init.py:30: UserWarning: loaded more than 1 DLL from .libs:\n",
      "c:\\Users\\e.a.wright\\anaconda3\\envs\\datascience\\Lib\\site-packages\\numpy\\.libs\\libopenblas64__v0.3.23-246-g3d31191b-gcc_10_3_0.dll\n",
      "c:\\Users\\e.a.wright\\anaconda3\\envs\\datascience\\Lib\\site-packages\\numpy\\.libs\\libopenblas64__v0.3.23-gcc_10_3_0.dll\n",
      "  warnings.warn(\"loaded more than 1 DLL from .libs:\"\n"
     ]
    }
   ],
   "source": [
    "import pandas as pd\n",
    "import numpy as np"
   ]
  },
  {
   "cell_type": "code",
   "execution_count": 2,
   "metadata": {},
   "outputs": [
    {
     "name": "stderr",
     "output_type": "stream",
     "text": [
      "C:\\Users\\e.a.wright\\AppData\\Local\\Temp\\ipykernel_7492\\2103078997.py:3: DtypeWarning: Columns (2792) have mixed types. Specify dtype option on import or set low_memory=False.\n",
      "  data = pd.read_csv(file_path, sep='\\t')\n"
     ]
    }
   ],
   "source": [
    "file_path = 'data/NSDUH_2021_Tab.txt'\n",
    "\n",
    "data = pd.read_csv(file_path, sep='\\t')"
   ]
  },
  {
   "cell_type": "code",
   "execution_count": 3,
   "metadata": {},
   "outputs": [
    {
     "name": "stdout",
     "output_type": "stream",
     "text": [
      "<class 'pandas.core.frame.DataFrame'>\n",
      "RangeIndex: 58034 entries, 0 to 58033\n",
      "Columns: 2988 entries, QUESTID2 to VEREP\n",
      "dtypes: float64(539), int64(2447), object(2)\n",
      "memory usage: 1.3+ GB\n"
     ]
    }
   ],
   "source": [
    "data.info()"
   ]
  },
  {
   "cell_type": "code",
   "execution_count": 4,
   "metadata": {},
   "outputs": [],
   "source": [
    "# Combine the starter MJ codes and the select MJ Market codes\n",
    "MJ_CODES = [\n",
    "\"MJEVER\", # Ever used marijuana/hashish\n",
    "\"MJAGE\", # Age when first used marijuana/hashish\n",
    "\"MJYFU\", # Year of first use marijuana/hashish use\n",
    "\"MJREC\", # Month of first use marijuana/hashish use \n",
    "\"MJYRTOT\", # Total number of days used marijuana/hashish in past 12 months\n",
    "\"MRTOTFG\", # Trimming indicator for MJRTOT\n",
    "\"MJFQFLG\", # Trimmed MJRTOT if R is used < 12\n",
    "\"MRBSTWAY\", # EASIEST WAY TO TELL US # DAYS USED MARIJUANA/HASH \n",
    "\"MRDAYPYR\", # DAYS USED MARIJUANA/HASHISH PAST 12 MONTHS\n",
    "\"MRDAYPMO\", # DAYS PER MO USED MARIJUANA/HASHISH PAST 12 MOS\n",
    "\"MRDAYPWK\", # DAYS PER WEEK USED MARIJUANA/HASHISH PAST 12 MOS\n",
    "\"MJDAY30A\", # DAYS USED MARIJUANA/HASHISH PAST 30 DAYS\n",
    "\"MR30EST\", # BEST EST. # DAYS USED MARIJUANA PAST 30 DAYS\n",
    "'MMBTPYR', # Bought MJ in past 12 months\n",
    "'MMBT30DY', # # Days bought MH in Past Month\n",
    "'MMBTDISP', # Bought from store or dispoensary\n",
    "'MMBJOINT', # Last MJ bought in joints\n",
    "'MMBLOOSE', # Last MJ bought in Loose form\n",
    "'MMBOTHER', # Last MJ bought in other form\n",
    "'MMLSUNIT1', # AMT MJ bought in last time: grams/oz/lbs\n",
    "'MMLSPCTB1', # Amount paid for MJ last time in bins\n",
    "'MMLSPCAT1', # Price category of last loose marijuana bought\n",
    "'MMBSELL', # Sell any marijuana bought last time\n",
    "]"
   ]
  },
  {
   "cell_type": "code",
   "execution_count": 5,
   "metadata": {},
   "outputs": [],
   "source": [
    "# Subset the dataset down to only MJ Codes (Mental Health Outcome)\n",
    "TARGETS = [\n",
    "'IRIMPREMEM', # DIFFICULTY REMEMBERING ONE MO IN PST 12 MOS - IMP REV (457) --> BINARY!\n",
    "'ADDPREV', # SEVERAL DAYS OR LNGR WHEN FELT SAD/EMPTY/DPRSD (506) --> BINARY!\n",
    "'IRSUIPLANYR', # ADULT MADE PLANS TO KILL SELF IN PST YR - IMP REV (499)\n",
    "'ASDSREL2', # ADULT: DEP FEELINGS ROLE IMPAIRMENT - CLOSE RELATIONSHIPS (520)\n",
    "'IRAMDEYR', # ADULT: PAST YEAR MAJOR DEPRESSIVE EPISODE (MDE) - IMP REV\n",
    "'IRDSTCHR12' # HOW OFTEN FELT COULDN'T BE CHEERED UP WRST MONTH - IMP REV\n",
    "]"
   ]
  },
  {
   "cell_type": "code",
   "execution_count": 6,
   "metadata": {},
   "outputs": [],
   "source": [
    "# Manually combine lists before subsetting dataset\n",
    "COLUMNS = [\n",
    "# Features\n",
    "\"MJEVER\", # Ever used marijuana/hashish\n",
    "\"MJAGE\", # Age when first used marijuana/hashish\n",
    "\"MJYFU\", # Year of first use marijuana/hashish use\n",
    "\"MJREC\", # Month of first use marijuana/hashish use \n",
    "\"MJYRTOT\", # Total number of days used marijuana/hashish in past 12 months\n",
    "\"MRTOTFG\", # Trimming indicator for MJRTOT\n",
    "\"MJFQFLG\", # Trimmed MJRTOT if R is used < 12\n",
    "\"MRBSTWAY\", # EASIEST WAY TO TELL US # DAYS USED MARIJUANA/HASH \n",
    "\"MRDAYPYR\", # DAYS USED MARIJUANA/HASHISH PAST 12 MONTHS\n",
    "\"MRDAYPMO\", # DAYS PER MO USED MARIJUANA/HASHISH PAST 12 MOS\n",
    "\"MRDAYPWK\", # DAYS PER WEEK USED MARIJUANA/HASHISH PAST 12 MOS\n",
    "\"MJDAY30A\", # DAYS USED MARIJUANA/HASHISH PAST 30 DAYS\n",
    "\"MR30EST\", # BEST EST. # DAYS USED MARIJUANA PAST 30 DAYS\n",
    "'MMBTPYR', # Bought MJ in past 12 months\n",
    "'MMBT30DY', # # Days bought MH in Past Month\n",
    "'MMBTDISP', # Bought from store or dispoensary\n",
    "'MMBJOINT', # Last MJ bought in joints\n",
    "'MMBLOOSE', # Last MJ bought in Loose form\n",
    "'MMBOTHER', # Last MJ bought in other form\n",
    "'MMLSUNIT1', # AMT MJ bought in last time: grams/oz/lbs\n",
    "'MMLSPCTB1', # Amount paid for MJ last time in bins\n",
    "'MMLSPCAT1', # Price category of last loose marijuana bought\n",
    "'MMBSELL', # Sell any marijuana bought last time\n",
    "# Targets\n",
    "'IRIMPREMEM', # DIFFICULTY REMEMBERING ONE MO IN PST 12 MOS - IMP REV (457) --> BINARY!\n",
    "'ADDPREV', # SEVERAL DAYS OR LNGR WHEN FELT SAD/EMPTY/DPRSD (506) --> BINARY!\n",
    "'IRSUIPLANYR', # ADULT MADE PLANS TO KILL SELF IN PST YR - IMP REV (499)\n",
    "'ASDSREL2', # ADULT: DEP FEELINGS ROLE IMPAIRMENT - CLOSE RELATIONSHIPS (520)\n",
    "'IRAMDEYR', # ADULT: PAST YEAR MAJOR DEPRESSIVE EPISODE (MDE) - IMP REV\n",
    "'IRDSTCHR12' # HOW OFTEN FELT COULDN'T BE CHEERED UP WRST MONTH - IMP REV\n",
    "]"
   ]
  },
  {
   "cell_type": "code",
   "execution_count": 7,
   "metadata": {},
   "outputs": [],
   "source": [
    "df = data[COLUMNS]"
   ]
  },
  {
   "cell_type": "code",
   "execution_count": 8,
   "metadata": {},
   "outputs": [
    {
     "data": {
      "text/html": [
       "<div>\n",
       "<style scoped>\n",
       "    .dataframe tbody tr th:only-of-type {\n",
       "        vertical-align: middle;\n",
       "    }\n",
       "\n",
       "    .dataframe tbody tr th {\n",
       "        vertical-align: top;\n",
       "    }\n",
       "\n",
       "    .dataframe thead th {\n",
       "        text-align: right;\n",
       "    }\n",
       "</style>\n",
       "<table border=\"1\" class=\"dataframe\">\n",
       "  <thead>\n",
       "    <tr style=\"text-align: right;\">\n",
       "      <th></th>\n",
       "      <th>MJEVER</th>\n",
       "      <th>MJAGE</th>\n",
       "      <th>MJYFU</th>\n",
       "      <th>MJREC</th>\n",
       "      <th>MJYRTOT</th>\n",
       "      <th>MRTOTFG</th>\n",
       "      <th>MJFQFLG</th>\n",
       "      <th>MRBSTWAY</th>\n",
       "      <th>MRDAYPYR</th>\n",
       "      <th>MRDAYPMO</th>\n",
       "      <th>...</th>\n",
       "      <th>MMLSUNIT1</th>\n",
       "      <th>MMLSPCTB1</th>\n",
       "      <th>MMLSPCAT1</th>\n",
       "      <th>MMBSELL</th>\n",
       "      <th>IRIMPREMEM</th>\n",
       "      <th>ADDPREV</th>\n",
       "      <th>IRSUIPLANYR</th>\n",
       "      <th>ASDSREL2</th>\n",
       "      <th>IRAMDEYR</th>\n",
       "      <th>IRDSTCHR12</th>\n",
       "    </tr>\n",
       "  </thead>\n",
       "  <tbody>\n",
       "    <tr>\n",
       "      <th>0</th>\n",
       "      <td>1</td>\n",
       "      <td>19</td>\n",
       "      <td>9999</td>\n",
       "      <td>1</td>\n",
       "      <td>52</td>\n",
       "      <td>98</td>\n",
       "      <td>98</td>\n",
       "      <td>1</td>\n",
       "      <td>999</td>\n",
       "      <td>99</td>\n",
       "      <td>...</td>\n",
       "      <td>1</td>\n",
       "      <td>7</td>\n",
       "      <td>70</td>\n",
       "      <td>2</td>\n",
       "      <td>2</td>\n",
       "      <td>2</td>\n",
       "      <td>0.0</td>\n",
       "      <td>NaN</td>\n",
       "      <td>0.0</td>\n",
       "      <td>99</td>\n",
       "    </tr>\n",
       "    <tr>\n",
       "      <th>1</th>\n",
       "      <td>2</td>\n",
       "      <td>991</td>\n",
       "      <td>9991</td>\n",
       "      <td>91</td>\n",
       "      <td>991</td>\n",
       "      <td>98</td>\n",
       "      <td>98</td>\n",
       "      <td>91</td>\n",
       "      <td>991</td>\n",
       "      <td>91</td>\n",
       "      <td>...</td>\n",
       "      <td>91</td>\n",
       "      <td>91</td>\n",
       "      <td>991</td>\n",
       "      <td>91</td>\n",
       "      <td>99</td>\n",
       "      <td>2</td>\n",
       "      <td>0.0</td>\n",
       "      <td>NaN</td>\n",
       "      <td>0.0</td>\n",
       "      <td>99</td>\n",
       "    </tr>\n",
       "    <tr>\n",
       "      <th>2</th>\n",
       "      <td>2</td>\n",
       "      <td>991</td>\n",
       "      <td>9991</td>\n",
       "      <td>91</td>\n",
       "      <td>991</td>\n",
       "      <td>98</td>\n",
       "      <td>98</td>\n",
       "      <td>91</td>\n",
       "      <td>991</td>\n",
       "      <td>91</td>\n",
       "      <td>...</td>\n",
       "      <td>91</td>\n",
       "      <td>91</td>\n",
       "      <td>991</td>\n",
       "      <td>91</td>\n",
       "      <td>1</td>\n",
       "      <td>2</td>\n",
       "      <td>0.0</td>\n",
       "      <td>NaN</td>\n",
       "      <td>0.0</td>\n",
       "      <td>4</td>\n",
       "    </tr>\n",
       "    <tr>\n",
       "      <th>3</th>\n",
       "      <td>1</td>\n",
       "      <td>13</td>\n",
       "      <td>9999</td>\n",
       "      <td>1</td>\n",
       "      <td>364</td>\n",
       "      <td>98</td>\n",
       "      <td>98</td>\n",
       "      <td>1</td>\n",
       "      <td>999</td>\n",
       "      <td>99</td>\n",
       "      <td>...</td>\n",
       "      <td>99</td>\n",
       "      <td>99</td>\n",
       "      <td>999</td>\n",
       "      <td>99</td>\n",
       "      <td>2</td>\n",
       "      <td>1</td>\n",
       "      <td>0.0</td>\n",
       "      <td>NaN</td>\n",
       "      <td>0.0</td>\n",
       "      <td>99</td>\n",
       "    </tr>\n",
       "    <tr>\n",
       "      <th>4</th>\n",
       "      <td>2</td>\n",
       "      <td>991</td>\n",
       "      <td>9991</td>\n",
       "      <td>91</td>\n",
       "      <td>991</td>\n",
       "      <td>98</td>\n",
       "      <td>98</td>\n",
       "      <td>91</td>\n",
       "      <td>991</td>\n",
       "      <td>91</td>\n",
       "      <td>...</td>\n",
       "      <td>91</td>\n",
       "      <td>91</td>\n",
       "      <td>991</td>\n",
       "      <td>91</td>\n",
       "      <td>99</td>\n",
       "      <td>2</td>\n",
       "      <td>0.0</td>\n",
       "      <td>NaN</td>\n",
       "      <td>0.0</td>\n",
       "      <td>99</td>\n",
       "    </tr>\n",
       "  </tbody>\n",
       "</table>\n",
       "<p>5 rows × 29 columns</p>\n",
       "</div>"
      ],
      "text/plain": [
       "   MJEVER  MJAGE  MJYFU  MJREC  MJYRTOT  MRTOTFG  MJFQFLG  MRBSTWAY  MRDAYPYR  \\\n",
       "0       1     19   9999      1       52       98       98         1       999   \n",
       "1       2    991   9991     91      991       98       98        91       991   \n",
       "2       2    991   9991     91      991       98       98        91       991   \n",
       "3       1     13   9999      1      364       98       98         1       999   \n",
       "4       2    991   9991     91      991       98       98        91       991   \n",
       "\n",
       "   MRDAYPMO  ...  MMLSUNIT1  MMLSPCTB1  MMLSPCAT1  MMBSELL  IRIMPREMEM  \\\n",
       "0        99  ...          1          7         70        2           2   \n",
       "1        91  ...         91         91        991       91          99   \n",
       "2        91  ...         91         91        991       91           1   \n",
       "3        99  ...         99         99        999       99           2   \n",
       "4        91  ...         91         91        991       91          99   \n",
       "\n",
       "   ADDPREV  IRSUIPLANYR  ASDSREL2  IRAMDEYR  IRDSTCHR12  \n",
       "0        2          0.0       NaN       0.0          99  \n",
       "1        2          0.0       NaN       0.0          99  \n",
       "2        2          0.0       NaN       0.0           4  \n",
       "3        1          0.0       NaN       0.0          99  \n",
       "4        2          0.0       NaN       0.0          99  \n",
       "\n",
       "[5 rows x 29 columns]"
      ]
     },
     "execution_count": 8,
     "metadata": {},
     "output_type": "execute_result"
    }
   ],
   "source": [
    "df.head()"
   ]
  },
  {
   "cell_type": "code",
   "execution_count": 9,
   "metadata": {},
   "outputs": [
    {
     "data": {
      "text/plain": [
       "2    32487\n",
       "1    25355\n",
       "Name: MJEVER, dtype: int64"
      ]
     },
     "execution_count": 9,
     "metadata": {},
     "output_type": "execute_result"
    }
   ],
   "source": [
    "# Drop all rows where MJEVER is not 1 or 2\n",
    "df = df[df['MJEVER'].isin([1,2])]\n",
    "\n",
    "# Check that we have only 1 and 2 in MJEVER\n",
    "df['MJEVER'].value_counts()"
   ]
  },
  {
   "cell_type": "code",
   "execution_count": 10,
   "metadata": {},
   "outputs": [
    {
     "data": {
      "text/plain": [
       "0    32487\n",
       "1    25355\n",
       "Name: MJEVER, dtype: int64"
      ]
     },
     "execution_count": 10,
     "metadata": {},
     "output_type": "execute_result"
    }
   ],
   "source": [
    "# Change the 2s in MJEVER to 0s\n",
    "df.loc[df['MJEVER'] == 2, 'MJEVER'] = 0\n",
    "\n",
    "# Inspect changes\n",
    "df['MJEVER'].value_counts()"
   ]
  },
  {
   "cell_type": "code",
   "execution_count": 11,
   "metadata": {},
   "outputs": [
    {
     "data": {
      "text/plain": [
       "<Axes: ylabel='Frequency'>"
      ]
     },
     "execution_count": 11,
     "metadata": {},
     "output_type": "execute_result"
    },
    {
     "data": {
      "image/png": "[encoded data removed]",
      "text/plain": [
       "<Figure size 640x480 with 1 Axes>"
      ]
     },
     "metadata": {},
     "output_type": "display_data"
    }
   ],
   "source": [
    "# Further inspect MJAGE to see how we can handle that field\n",
    "\n",
    "# Get all MJAGE values less than 82\n",
    "actual_ages = df[df['MJAGE'] < 82]['MJAGE']\n",
    "\n",
    "actual_ages.plot.hist(bins=30)"
   ]
  },
  {
   "cell_type": "code",
   "execution_count": 12,
   "metadata": {},
   "outputs": [],
   "source": [
    "# Create a binary variable for 5 year age groups (using MJAGE) up until 30 years old, and then a 31+ category\n",
    "\n",
    "# <= 5\n",
    "df['AGE_5'] = np.where(df['MJAGE'] <= 5, 1, 0)\n",
    "# 6-10\n",
    "df['AGE_6_10'] = np.where((df['MJAGE'] > 5) & (df['MJAGE'] <= 10), 1, 0)\n",
    "# 11-15\n",
    "df['AGE_11_15'] = np.where((df['MJAGE'] > 10) & (df['MJAGE'] <= 15), 1, 0)\n",
    "# 16-20\n",
    "df['AGE_16_20'] = np.where((df['MJAGE'] > 15) & (df['MJAGE'] <= 20), 1, 0)\n",
    "# 21-25\n",
    "df['AGE_21_25'] = np.where((df['MJAGE'] > 20) & (df['MJAGE'] <= 25), 1, 0)\n",
    "# 26-30\n",
    "df['AGE_26_30'] = np.where((df['MJAGE'] > 25) & (df['MJAGE'] <= 30), 1, 0)\n",
    "# 31+\n",
    "df['AGE_31'] = np.where(df['MJAGE'] > 30, 1, 0)"
   ]
  },
  {
   "cell_type": "code",
   "execution_count": 13,
   "metadata": {},
   "outputs": [
    {
     "name": "stdout",
     "output_type": "stream",
     "text": [
      "0    49666\n",
      "1     8176\n",
      "Name: MJUSE30, dtype: int64\n",
      "0    54002\n",
      "1     3840\n",
      "Name: MJUSENOT30BUT12, dtype: int64\n",
      "0    44956\n",
      "1    12886\n",
      "Name: MJUSEMORE12, dtype: int64\n"
     ]
    }
   ],
   "source": [
    "# Use MJREC to create 3 new binary variables: MJUSE30, MJUSENOT30BUT12, MJUSEMORE12\n",
    "\n",
    "# Where MJREC == 1, MJUSE30 = 1, else 0\n",
    "df['MJUSE30'] = np.where(df['MJREC'] == 1, 1, 0)\n",
    "\n",
    "# Where MJREC == 2, MJUSENOT30BUT12 = 1, else 0\n",
    "df['MJUSENOT30BUT12'] = np.where(df['MJREC'] == 2, 1, 0)\n",
    "\n",
    "# Where MJREC == 3, MJUSEMORE12 = 1, else 0\n",
    "df['MJUSEMORE12'] = np.where(df['MJREC'] == 3, 1, 0)\n",
    "\n",
    "# Inspect the new variables by printing value counts\n",
    "print(df['MJUSE30'].value_counts())\n",
    "print(df['MJUSENOT30BUT12'].value_counts())\n",
    "print(df['MJUSEMORE12'].value_counts())"
   ]
  },
  {
   "cell_type": "code",
   "execution_count": 14,
   "metadata": {},
   "outputs": [
    {
     "data": {
      "text/plain": [
       "<Axes: >"
      ]
     },
     "execution_count": 14,
     "metadata": {},
     "output_type": "execute_result"
    },
    {
     "data": {
      "image/png": "[encoded data removed]",
      "text/plain": [
       "<Figure size 640x480 with 1 Axes>"
      ]
     },
     "metadata": {},
     "output_type": "display_data"
    }
   ],
   "source": [
    "# Filter MRDAYPYR to values less than 366\n",
    "mj_use_last_year = df[df['MRDAYPYR'] < 366]\n",
    "\n",
    "# Plot histogram of MJ use in last year\n",
    "mj_use_last_year['MRDAYPYR'].hist(bins=30)"
   ]
  },
  {
   "cell_type": "code",
   "execution_count": 15,
   "metadata": {},
   "outputs": [
    {
     "data": {
      "text/plain": [
       "1    54055\n",
       "0     3787\n",
       "Name: MJUSE100DAYS+, dtype: int64"
      ]
     },
     "execution_count": 15,
     "metadata": {},
     "output_type": "execute_result"
    }
   ],
   "source": [
    "# Create a new binary variable called MJUSE100DAYS+ for all individuals who used MJ for 100 days or more in the past year\n",
    "df['MJUSE100DAYS+'] = np.where(df['MRDAYPYR'] >= 100, 1, 0)\n",
    "\n",
    "# Inspect value_counts() of MJUSE100DAYS+\n",
    "df['MJUSE100DAYS+'].value_counts()"
   ]
  },
  {
   "cell_type": "code",
   "execution_count": 16,
   "metadata": {},
   "outputs": [],
   "source": [
    "second_pass_df = df[['MJEVER', 'AGE_5', 'AGE_6_10', 'AGE_11_15', 'AGE_16_20', 'AGE_21_25',\n",
    "       'AGE_26_30', 'AGE_31', 'MJUSE30', 'MJUSENOT30BUT12', 'MJUSEMORE12', 'MJUSE100DAYS+', 'ADDPREV']]"
   ]
  },
  {
   "cell_type": "code",
   "execution_count": 17,
   "metadata": {},
   "outputs": [
    {
     "data": {
      "text/html": [
       "<div>\n",
       "<style scoped>\n",
       "    .dataframe tbody tr th:only-of-type {\n",
       "        vertical-align: middle;\n",
       "    }\n",
       "\n",
       "    .dataframe tbody tr th {\n",
       "        vertical-align: top;\n",
       "    }\n",
       "\n",
       "    .dataframe thead th {\n",
       "        text-align: right;\n",
       "    }\n",
       "</style>\n",
       "<table border=\"1\" class=\"dataframe\">\n",
       "  <thead>\n",
       "    <tr style=\"text-align: right;\">\n",
       "      <th></th>\n",
       "      <th>MJEVER</th>\n",
       "      <th>AGE_5</th>\n",
       "      <th>AGE_6_10</th>\n",
       "      <th>AGE_11_15</th>\n",
       "      <th>AGE_16_20</th>\n",
       "      <th>AGE_21_25</th>\n",
       "      <th>AGE_26_30</th>\n",
       "      <th>AGE_31</th>\n",
       "      <th>MJUSE30</th>\n",
       "      <th>MJUSENOT30BUT12</th>\n",
       "      <th>MJUSEMORE12</th>\n",
       "      <th>MJUSE100DAYS+</th>\n",
       "      <th>ADDPREV</th>\n",
       "    </tr>\n",
       "  </thead>\n",
       "  <tbody>\n",
       "    <tr>\n",
       "      <th>0</th>\n",
       "      <td>1</td>\n",
       "      <td>0</td>\n",
       "      <td>0</td>\n",
       "      <td>0</td>\n",
       "      <td>1</td>\n",
       "      <td>0</td>\n",
       "      <td>0</td>\n",
       "      <td>0</td>\n",
       "      <td>1</td>\n",
       "      <td>0</td>\n",
       "      <td>0</td>\n",
       "      <td>1</td>\n",
       "      <td>2</td>\n",
       "    </tr>\n",
       "    <tr>\n",
       "      <th>1</th>\n",
       "      <td>0</td>\n",
       "      <td>0</td>\n",
       "      <td>0</td>\n",
       "      <td>0</td>\n",
       "      <td>0</td>\n",
       "      <td>0</td>\n",
       "      <td>0</td>\n",
       "      <td>1</td>\n",
       "      <td>0</td>\n",
       "      <td>0</td>\n",
       "      <td>0</td>\n",
       "      <td>1</td>\n",
       "      <td>2</td>\n",
       "    </tr>\n",
       "    <tr>\n",
       "      <th>2</th>\n",
       "      <td>0</td>\n",
       "      <td>0</td>\n",
       "      <td>0</td>\n",
       "      <td>0</td>\n",
       "      <td>0</td>\n",
       "      <td>0</td>\n",
       "      <td>0</td>\n",
       "      <td>1</td>\n",
       "      <td>0</td>\n",
       "      <td>0</td>\n",
       "      <td>0</td>\n",
       "      <td>1</td>\n",
       "      <td>2</td>\n",
       "    </tr>\n",
       "    <tr>\n",
       "      <th>3</th>\n",
       "      <td>1</td>\n",
       "      <td>0</td>\n",
       "      <td>0</td>\n",
       "      <td>1</td>\n",
       "      <td>0</td>\n",
       "      <td>0</td>\n",
       "      <td>0</td>\n",
       "      <td>0</td>\n",
       "      <td>1</td>\n",
       "      <td>0</td>\n",
       "      <td>0</td>\n",
       "      <td>1</td>\n",
       "      <td>1</td>\n",
       "    </tr>\n",
       "    <tr>\n",
       "      <th>4</th>\n",
       "      <td>0</td>\n",
       "      <td>0</td>\n",
       "      <td>0</td>\n",
       "      <td>0</td>\n",
       "      <td>0</td>\n",
       "      <td>0</td>\n",
       "      <td>0</td>\n",
       "      <td>1</td>\n",
       "      <td>0</td>\n",
       "      <td>0</td>\n",
       "      <td>0</td>\n",
       "      <td>1</td>\n",
       "      <td>2</td>\n",
       "    </tr>\n",
       "    <tr>\n",
       "      <th>...</th>\n",
       "      <td>...</td>\n",
       "      <td>...</td>\n",
       "      <td>...</td>\n",
       "      <td>...</td>\n",
       "      <td>...</td>\n",
       "      <td>...</td>\n",
       "      <td>...</td>\n",
       "      <td>...</td>\n",
       "      <td>...</td>\n",
       "      <td>...</td>\n",
       "      <td>...</td>\n",
       "      <td>...</td>\n",
       "      <td>...</td>\n",
       "    </tr>\n",
       "    <tr>\n",
       "      <th>58029</th>\n",
       "      <td>1</td>\n",
       "      <td>0</td>\n",
       "      <td>0</td>\n",
       "      <td>0</td>\n",
       "      <td>0</td>\n",
       "      <td>1</td>\n",
       "      <td>0</td>\n",
       "      <td>0</td>\n",
       "      <td>0</td>\n",
       "      <td>0</td>\n",
       "      <td>1</td>\n",
       "      <td>1</td>\n",
       "      <td>2</td>\n",
       "    </tr>\n",
       "    <tr>\n",
       "      <th>58030</th>\n",
       "      <td>1</td>\n",
       "      <td>0</td>\n",
       "      <td>0</td>\n",
       "      <td>0</td>\n",
       "      <td>0</td>\n",
       "      <td>1</td>\n",
       "      <td>0</td>\n",
       "      <td>0</td>\n",
       "      <td>0</td>\n",
       "      <td>0</td>\n",
       "      <td>1</td>\n",
       "      <td>1</td>\n",
       "      <td>1</td>\n",
       "    </tr>\n",
       "    <tr>\n",
       "      <th>58031</th>\n",
       "      <td>1</td>\n",
       "      <td>0</td>\n",
       "      <td>0</td>\n",
       "      <td>0</td>\n",
       "      <td>1</td>\n",
       "      <td>0</td>\n",
       "      <td>0</td>\n",
       "      <td>0</td>\n",
       "      <td>1</td>\n",
       "      <td>0</td>\n",
       "      <td>0</td>\n",
       "      <td>1</td>\n",
       "      <td>2</td>\n",
       "    </tr>\n",
       "    <tr>\n",
       "      <th>58032</th>\n",
       "      <td>1</td>\n",
       "      <td>0</td>\n",
       "      <td>0</td>\n",
       "      <td>0</td>\n",
       "      <td>1</td>\n",
       "      <td>0</td>\n",
       "      <td>0</td>\n",
       "      <td>0</td>\n",
       "      <td>0</td>\n",
       "      <td>1</td>\n",
       "      <td>0</td>\n",
       "      <td>0</td>\n",
       "      <td>1</td>\n",
       "    </tr>\n",
       "    <tr>\n",
       "      <th>58033</th>\n",
       "      <td>0</td>\n",
       "      <td>0</td>\n",
       "      <td>0</td>\n",
       "      <td>0</td>\n",
       "      <td>0</td>\n",
       "      <td>0</td>\n",
       "      <td>0</td>\n",
       "      <td>1</td>\n",
       "      <td>0</td>\n",
       "      <td>0</td>\n",
       "      <td>0</td>\n",
       "      <td>1</td>\n",
       "      <td>2</td>\n",
       "    </tr>\n",
       "  </tbody>\n",
       "</table>\n",
       "<p>57842 rows × 13 columns</p>\n",
       "</div>"
      ],
      "text/plain": [
       "       MJEVER  AGE_5  AGE_6_10  AGE_11_15  AGE_16_20  AGE_21_25  AGE_26_30  \\\n",
       "0           1      0         0          0          1          0          0   \n",
       "1           0      0         0          0          0          0          0   \n",
       "2           0      0         0          0          0          0          0   \n",
       "3           1      0         0          1          0          0          0   \n",
       "4           0      0         0          0          0          0          0   \n",
       "...       ...    ...       ...        ...        ...        ...        ...   \n",
       "58029       1      0         0          0          0          1          0   \n",
       "58030       1      0         0          0          0          1          0   \n",
       "58031       1      0         0          0          1          0          0   \n",
       "58032       1      0         0          0          1          0          0   \n",
       "58033       0      0         0          0          0          0          0   \n",
       "\n",
       "       AGE_31  MJUSE30  MJUSENOT30BUT12  MJUSEMORE12  MJUSE100DAYS+  ADDPREV  \n",
       "0           0        1                0            0              1        2  \n",
       "1           1        0                0            0              1        2  \n",
       "2           1        0                0            0              1        2  \n",
       "3           0        1                0            0              1        1  \n",
       "4           1        0                0            0              1        2  \n",
       "...       ...      ...              ...          ...            ...      ...  \n",
       "58029       0        0                0            1              1        2  \n",
       "58030       0        0                0            1              1        1  \n",
       "58031       0        1                0            0              1        2  \n",
       "58032       0        0                1            0              0        1  \n",
       "58033       1        0                0            0              1        2  \n",
       "\n",
       "[57842 rows x 13 columns]"
      ]
     },
     "execution_count": 17,
     "metadata": {},
     "output_type": "execute_result"
    }
   ],
   "source": [
    "second_pass_df"
   ]
  },
  {
   "cell_type": "code",
   "execution_count": 18,
   "metadata": {},
   "outputs": [],
   "source": [
    "# Freq Pct\n",
    "# 1 = Yes................................................................................................................................ 16069 27.69\n",
    "# 2 = No................................................................................................................................. 29524 50.87\n",
    "# 85 = BAD DATA Logically assigned ................................................................................. 7 0.01\n",
    "# 94 = DON'T KNOW........................................................................................................... 59 0.10\n",
    "# 97 = REFUSED .................................................................................................................. 108 0.19\n",
    "# 98 = BLANK (NO ANSWER) ........................................................................................... 1524 2.63\n",
    "# 99 = LEGITIMATE SKIP................................................................................................... 10743 18.51"
   ]
  },
  {
   "cell_type": "code",
   "execution_count": 19,
   "metadata": {},
   "outputs": [],
   "source": [
    "# Import ignore warnings\n",
    "import warnings\n",
    "# q: How do I ignore warnings?\n",
    "warnings.filterwarnings('ignore')\n",
    "\n",
    "# Process ADDPREV, keeping 1 as 1, changing 2 to 0, changing 99 to 2, and setting 85, 94, 97, and 98 to NaN\n",
    "second_pass_df['ADDPREV'] = second_pass_df['ADDPREV'].replace(2, 0)\n",
    "second_pass_df['ADDPREV'] = second_pass_df['ADDPREV'].replace(99, np.nan) # Legitimate Skip - Ask Will how to handle this. Setting to NaN for now.\n",
    "second_pass_df['ADDPREV'] = second_pass_df['ADDPREV'].replace(85, np.nan)\n",
    "second_pass_df['ADDPREV'] = second_pass_df['ADDPREV'].replace(94, np.nan)\n",
    "second_pass_df['ADDPREV'] = second_pass_df['ADDPREV'].replace(97, np.nan)\n",
    "second_pass_df['ADDPREV'] = second_pass_df['ADDPREV'].replace(98, np.nan)"
   ]
  },
  {
   "cell_type": "code",
   "execution_count": 20,
   "metadata": {},
   "outputs": [
    {
     "name": "stdout",
     "output_type": "stream",
     "text": [
      "<class 'pandas.core.frame.DataFrame'>\n",
      "Int64Index: 57842 entries, 0 to 58033\n",
      "Data columns (total 13 columns):\n",
      " #   Column           Non-Null Count  Dtype  \n",
      "---  ------           --------------  -----  \n",
      " 0   MJEVER           57842 non-null  int64  \n",
      " 1   AGE_5            57842 non-null  int32  \n",
      " 2   AGE_6_10         57842 non-null  int32  \n",
      " 3   AGE_11_15        57842 non-null  int32  \n",
      " 4   AGE_16_20        57842 non-null  int32  \n",
      " 5   AGE_21_25        57842 non-null  int32  \n",
      " 6   AGE_26_30        57842 non-null  int32  \n",
      " 7   AGE_31           57842 non-null  int32  \n",
      " 8   MJUSE30          57842 non-null  int32  \n",
      " 9   MJUSENOT30BUT12  57842 non-null  int32  \n",
      " 10  MJUSEMORE12      57842 non-null  int32  \n",
      " 11  MJUSE100DAYS+    57842 non-null  int32  \n",
      " 12  ADDPREV          45489 non-null  float64\n",
      "dtypes: float64(1), int32(11), int64(1)\n",
      "memory usage: 3.8 MB\n"
     ]
    }
   ],
   "source": [
    "# Inspect\n",
    "second_pass_df.info()"
   ]
  },
  {
   "cell_type": "code",
   "execution_count": 21,
   "metadata": {},
   "outputs": [
    {
     "name": "stdout",
     "output_type": "stream",
     "text": [
      "<class 'pandas.core.frame.DataFrame'>\n",
      "Int64Index: 45489 entries, 0 to 58033\n",
      "Data columns (total 13 columns):\n",
      " #   Column           Non-Null Count  Dtype  \n",
      "---  ------           --------------  -----  \n",
      " 0   MJEVER           45489 non-null  int64  \n",
      " 1   AGE_5            45489 non-null  int32  \n",
      " 2   AGE_6_10         45489 non-null  int32  \n",
      " 3   AGE_11_15        45489 non-null  int32  \n",
      " 4   AGE_16_20        45489 non-null  int32  \n",
      " 5   AGE_21_25        45489 non-null  int32  \n",
      " 6   AGE_26_30        45489 non-null  int32  \n",
      " 7   AGE_31           45489 non-null  int32  \n",
      " 8   MJUSE30          45489 non-null  int32  \n",
      " 9   MJUSENOT30BUT12  45489 non-null  int32  \n",
      " 10  MJUSEMORE12      45489 non-null  int32  \n",
      " 11  MJUSE100DAYS+    45489 non-null  int32  \n",
      " 12  ADDPREV          45489 non-null  float64\n",
      "dtypes: float64(1), int32(11), int64(1)\n",
      "memory usage: 2.9 MB\n"
     ]
    }
   ],
   "source": [
    "# Drop all rows with NaN values\n",
    "second_pass_df = second_pass_df.dropna()\n",
    "\n",
    "# Reinspect info\n",
    "second_pass_df.info()"
   ]
  },
  {
   "cell_type": "code",
   "execution_count": 22,
   "metadata": {},
   "outputs": [],
   "source": [
    "# Convert ADDPREV to integer\n",
    "second_pass_df['ADDPREV'] = second_pass_df['ADDPREV'].astype(int)"
   ]
  },
  {
   "cell_type": "code",
   "execution_count": 23,
   "metadata": {},
   "outputs": [
    {
     "data": {
      "text/plain": [
       "dtype('int32')"
      ]
     },
     "execution_count": 23,
     "metadata": {},
     "output_type": "execute_result"
    }
   ],
   "source": [
    "# Check\n",
    "second_pass_df['ADDPREV'].dtype"
   ]
  },
  {
   "cell_type": "code",
   "execution_count": 24,
   "metadata": {},
   "outputs": [],
   "source": [
    "# Define X and y\n",
    "X = second_pass_df.drop(columns=['ADDPREV'])\n",
    "y = second_pass_df['ADDPREV']"
   ]
  },
  {
   "cell_type": "code",
   "execution_count": 25,
   "metadata": {},
   "outputs": [],
   "source": [
    "# Split the data into training and testing sets\n",
    "from sklearn.model_selection import train_test_split\n",
    "\n",
    "X_train, X_test, y_train, y_test = train_test_split(X, y, random_state=42, stratify=y)"
   ]
  },
  {
   "cell_type": "code",
   "execution_count": 26,
   "metadata": {},
   "outputs": [],
   "source": [
    "# Let's first use a Random Forest Classifier to predict the labels of the test set.\n",
    "from sklearn.ensemble import RandomForestClassifier\n",
    "from sklearn.metrics import balanced_accuracy_score, confusion_matrix, classification_report\n",
    "\n",
    "rf = RandomForestClassifier()\n",
    "\n",
    "rf.fit(X_train, y_train)\n",
    "\n",
    "# Predict the labels of the test set: y_pred\n",
    "y_pred = rf.predict(X_test)"
   ]
  },
  {
   "cell_type": "code",
   "execution_count": 27,
   "metadata": {},
   "outputs": [
    {
     "data": {
      "image/png": "[encoded data removed]",
      "text/plain": [
       "<Figure size 640x480 with 2 Axes>"
      ]
     },
     "metadata": {},
     "output_type": "display_data"
    }
   ],
   "source": [
    "# Now generate a more visually appealing confusion matrix using seaborn\n",
    "\n",
    "import seaborn as sns\n",
    "import matplotlib.pyplot as plt\n",
    "\n",
    "ax1 = sns.heatmap(confusion_matrix(y_test, y_pred), annot=True, cmap='Blues', fmt='g')\n",
    "plt.show(ax1)"
   ]
  },
  {
   "cell_type": "markdown",
   "metadata": {},
   "source": [
    "## In this iteration of the model, there were:\n",
    "### 1. 6642 TNs\n",
    "### 2. 3234 FNs\n",
    "### 3. 728 FPs\n",
    "### 4. 769 TPs"
   ]
  },
  {
   "cell_type": "code",
   "execution_count": 28,
   "metadata": {},
   "outputs": [
    {
     "name": "stdout",
     "output_type": "stream",
     "text": [
      "              precision    recall  f1-score   support\n",
      "\n",
      "           0       0.68      0.89      0.77      7370\n",
      "           1       0.51      0.21      0.30      4003\n",
      "\n",
      "    accuracy                           0.65     11373\n",
      "   macro avg       0.60      0.55      0.53     11373\n",
      "weighted avg       0.62      0.65      0.60     11373\n",
      "\n"
     ]
    }
   ],
   "source": [
    "# Print a classification report for the model\n",
    "print(classification_report(y_test, y_pred))"
   ]
  },
  {
   "cell_type": "code",
   "execution_count": 29,
   "metadata": {},
   "outputs": [
    {
     "name": "stdout",
     "output_type": "stream",
     "text": [
      "Accuracy: 0.6522465488437528\n"
     ]
    }
   ],
   "source": [
    "# Compute and print metrics\n",
    "print(\"Accuracy: {}\".format(rf.score(X_test, y_test)))"
   ]
  },
  {
   "cell_type": "code",
   "execution_count": 30,
   "metadata": {},
   "outputs": [],
   "source": [
    "# The model is not yet good at predicting postives.\n",
    "\n",
    "# q: How can we improve a RandomForestClassifier without adding more data?\n",
    "# a: We can tune the hyperparameters of the model."
   ]
  },
  {
   "cell_type": "code",
   "execution_count": 31,
   "metadata": {},
   "outputs": [
    {
     "data": {
      "text/html": [
       "<div>\n",
       "<style scoped>\n",
       "    .dataframe tbody tr th:only-of-type {\n",
       "        vertical-align: middle;\n",
       "    }\n",
       "\n",
       "    .dataframe tbody tr th {\n",
       "        vertical-align: top;\n",
       "    }\n",
       "\n",
       "    .dataframe thead th {\n",
       "        text-align: right;\n",
       "    }\n",
       "</style>\n",
       "<table border=\"1\" class=\"dataframe\">\n",
       "  <thead>\n",
       "    <tr style=\"text-align: right;\">\n",
       "      <th></th>\n",
       "      <th>feature</th>\n",
       "      <th>feature_importance</th>\n",
       "    </tr>\n",
       "  </thead>\n",
       "  <tbody>\n",
       "    <tr>\n",
       "      <th>0</th>\n",
       "      <td>MJEVER</td>\n",
       "      <td>0.342399</td>\n",
       "    </tr>\n",
       "    <tr>\n",
       "      <th>7</th>\n",
       "      <td>AGE_31</td>\n",
       "      <td>0.250781</td>\n",
       "    </tr>\n",
       "    <tr>\n",
       "      <th>8</th>\n",
       "      <td>MJUSE30</td>\n",
       "      <td>0.111104</td>\n",
       "    </tr>\n",
       "    <tr>\n",
       "      <th>3</th>\n",
       "      <td>AGE_11_15</td>\n",
       "      <td>0.077500</td>\n",
       "    </tr>\n",
       "    <tr>\n",
       "      <th>10</th>\n",
       "      <td>MJUSEMORE12</td>\n",
       "      <td>0.076292</td>\n",
       "    </tr>\n",
       "    <tr>\n",
       "      <th>4</th>\n",
       "      <td>AGE_16_20</td>\n",
       "      <td>0.045040</td>\n",
       "    </tr>\n",
       "    <tr>\n",
       "      <th>11</th>\n",
       "      <td>MJUSE100DAYS+</td>\n",
       "      <td>0.043610</td>\n",
       "    </tr>\n",
       "    <tr>\n",
       "      <th>9</th>\n",
       "      <td>MJUSENOT30BUT12</td>\n",
       "      <td>0.032500</td>\n",
       "    </tr>\n",
       "    <tr>\n",
       "      <th>6</th>\n",
       "      <td>AGE_26_30</td>\n",
       "      <td>0.007350</td>\n",
       "    </tr>\n",
       "    <tr>\n",
       "      <th>5</th>\n",
       "      <td>AGE_21_25</td>\n",
       "      <td>0.005729</td>\n",
       "    </tr>\n",
       "    <tr>\n",
       "      <th>2</th>\n",
       "      <td>AGE_6_10</td>\n",
       "      <td>0.005637</td>\n",
       "    </tr>\n",
       "    <tr>\n",
       "      <th>1</th>\n",
       "      <td>AGE_5</td>\n",
       "      <td>0.002057</td>\n",
       "    </tr>\n",
       "  </tbody>\n",
       "</table>\n",
       "</div>"
      ],
      "text/plain": [
       "            feature  feature_importance\n",
       "0            MJEVER            0.342399\n",
       "7            AGE_31            0.250781\n",
       "8           MJUSE30            0.111104\n",
       "3         AGE_11_15            0.077500\n",
       "10      MJUSEMORE12            0.076292\n",
       "4         AGE_16_20            0.045040\n",
       "11    MJUSE100DAYS+            0.043610\n",
       "9   MJUSENOT30BUT12            0.032500\n",
       "6         AGE_26_30            0.007350\n",
       "5         AGE_21_25            0.005729\n",
       "2          AGE_6_10            0.005637\n",
       "1             AGE_5            0.002057"
      ]
     },
     "execution_count": 31,
     "metadata": {},
     "output_type": "execute_result"
    }
   ],
   "source": [
    "# Create feature importance dataframe to analyze the importance of each feature\n",
    "fi_values = rf.feature_importances_\n",
    "features = X_train.columns\n",
    "\n",
    "# Create dataframe\n",
    "feature_importance_df = pd.DataFrame({\"feature\": features, \"feature_importance\": fi_values})\n",
    "\n",
    "# Sort in descending order\n",
    "feature_importance_df = feature_importance_df.sort_values(by=\"feature_importance\", ascending = False)\n",
    "\n",
    "# View dataframe\n",
    "feature_importance_df"
   ]
  },
  {
   "cell_type": "code",
   "execution_count": 32,
   "metadata": {},
   "outputs": [
    {
     "name": "stdout",
     "output_type": "stream",
     "text": [
      "Parameters currently in use:\n",
      "\n"
     ]
    },
    {
     "data": {
      "text/plain": [
       "{'bootstrap': True,\n",
       " 'ccp_alpha': 0.0,\n",
       " 'class_weight': None,\n",
       " 'criterion': 'gini',\n",
       " 'max_depth': None,\n",
       " 'max_features': 'sqrt',\n",
       " 'max_leaf_nodes': None,\n",
       " 'max_samples': None,\n",
       " 'min_impurity_decrease': 0.0,\n",
       " 'min_samples_leaf': 1,\n",
       " 'min_samples_split': 2,\n",
       " 'min_weight_fraction_leaf': 0.0,\n",
       " 'n_estimators': 100,\n",
       " 'n_jobs': None,\n",
       " 'oob_score': False,\n",
       " 'random_state': None,\n",
       " 'verbose': 0,\n",
       " 'warm_start': False}"
      ]
     },
     "execution_count": 32,
     "metadata": {},
     "output_type": "execute_result"
    }
   ],
   "source": [
    "# Tune Hyperparameters of the model above\n",
    "\n",
    "# First print the parameters currently in use\n",
    "print('Parameters currently in use:\\n')\n",
    "rf.get_params()"
   ]
  },
  {
   "cell_type": "code",
   "execution_count": 33,
   "metadata": {},
   "outputs": [
    {
     "name": "stdout",
     "output_type": "stream",
     "text": [
      "              precision    recall  f1-score   support\n",
      "\n",
      "           0       0.67      0.91      0.77      7370\n",
      "           1       0.52      0.18      0.27      4003\n",
      "\n",
      "    accuracy                           0.65     11373\n",
      "   macro avg       0.60      0.55      0.52     11373\n",
      "weighted avg       0.62      0.65      0.60     11373\n",
      "\n"
     ]
    }
   ],
   "source": [
    "# Double the number of estimators and test again\n",
    "\n",
    "rf.bootstrap = True\n",
    "rf.n_estimator = 100\n",
    "rf.max_depth = 100\n",
    "rf.min_samples_leaf = 1\n",
    "rf.min_samples_split = 5\n",
    "rf.criterion = 'entropy'\n",
    "\n",
    "rf.fit(X_train, y_train)\n",
    "\n",
    "y_pred = rf.predict(X_test)\n",
    "\n",
    "# Print classification report\n",
    "print(classification_report(y_test, y_pred))"
   ]
  },
  {
   "cell_type": "markdown",
   "metadata": {},
   "source": [
    "### Third Pass: First attempt at MultiOutputClassifier"
   ]
  },
  {
   "cell_type": "code",
   "execution_count": 34,
   "metadata": {},
   "outputs": [],
   "source": [
    "multi_output_df = df[['MJEVER', 'AGE_5', 'AGE_6_10', 'AGE_11_15', 'AGE_16_20', 'AGE_21_25',\n",
    "       'AGE_26_30', 'AGE_31', 'MJUSE30', 'MJUSENOT30BUT12', 'MJUSEMORE12', 'MJUSE100DAYS+', 'ADDPREV',\n",
    "       'IRIMPREMEM', 'IRSUIPLANYR', 'ASDSREL2', 'IRAMDEYR', 'IRDSTCHR12']]"
   ]
  },
  {
   "cell_type": "code",
   "execution_count": 35,
   "metadata": {},
   "outputs": [
    {
     "data": {
      "text/html": [
       "<div>\n",
       "<style scoped>\n",
       "    .dataframe tbody tr th:only-of-type {\n",
       "        vertical-align: middle;\n",
       "    }\n",
       "\n",
       "    .dataframe tbody tr th {\n",
       "        vertical-align: top;\n",
       "    }\n",
       "\n",
       "    .dataframe thead th {\n",
       "        text-align: right;\n",
       "    }\n",
       "</style>\n",
       "<table border=\"1\" class=\"dataframe\">\n",
       "  <thead>\n",
       "    <tr style=\"text-align: right;\">\n",
       "      <th></th>\n",
       "      <th>MJEVER</th>\n",
       "      <th>MJAGE</th>\n",
       "      <th>MJYFU</th>\n",
       "      <th>MJREC</th>\n",
       "      <th>MJYRTOT</th>\n",
       "      <th>MRTOTFG</th>\n",
       "      <th>MJFQFLG</th>\n",
       "      <th>MRBSTWAY</th>\n",
       "      <th>MRDAYPYR</th>\n",
       "      <th>MRDAYPMO</th>\n",
       "      <th>...</th>\n",
       "      <th>AGE_6_10</th>\n",
       "      <th>AGE_11_15</th>\n",
       "      <th>AGE_16_20</th>\n",
       "      <th>AGE_21_25</th>\n",
       "      <th>AGE_26_30</th>\n",
       "      <th>AGE_31</th>\n",
       "      <th>MJUSE30</th>\n",
       "      <th>MJUSENOT30BUT12</th>\n",
       "      <th>MJUSEMORE12</th>\n",
       "      <th>MJUSE100DAYS+</th>\n",
       "    </tr>\n",
       "  </thead>\n",
       "  <tbody>\n",
       "    <tr>\n",
       "      <th>0</th>\n",
       "      <td>1</td>\n",
       "      <td>19</td>\n",
       "      <td>9999</td>\n",
       "      <td>1</td>\n",
       "      <td>52</td>\n",
       "      <td>98</td>\n",
       "      <td>98</td>\n",
       "      <td>1</td>\n",
       "      <td>999</td>\n",
       "      <td>99</td>\n",
       "      <td>...</td>\n",
       "      <td>0</td>\n",
       "      <td>0</td>\n",
       "      <td>1</td>\n",
       "      <td>0</td>\n",
       "      <td>0</td>\n",
       "      <td>0</td>\n",
       "      <td>1</td>\n",
       "      <td>0</td>\n",
       "      <td>0</td>\n",
       "      <td>1</td>\n",
       "    </tr>\n",
       "    <tr>\n",
       "      <th>1</th>\n",
       "      <td>0</td>\n",
       "      <td>991</td>\n",
       "      <td>9991</td>\n",
       "      <td>91</td>\n",
       "      <td>991</td>\n",
       "      <td>98</td>\n",
       "      <td>98</td>\n",
       "      <td>91</td>\n",
       "      <td>991</td>\n",
       "      <td>91</td>\n",
       "      <td>...</td>\n",
       "      <td>0</td>\n",
       "      <td>0</td>\n",
       "      <td>0</td>\n",
       "      <td>0</td>\n",
       "      <td>0</td>\n",
       "      <td>1</td>\n",
       "      <td>0</td>\n",
       "      <td>0</td>\n",
       "      <td>0</td>\n",
       "      <td>1</td>\n",
       "    </tr>\n",
       "    <tr>\n",
       "      <th>2</th>\n",
       "      <td>0</td>\n",
       "      <td>991</td>\n",
       "      <td>9991</td>\n",
       "      <td>91</td>\n",
       "      <td>991</td>\n",
       "      <td>98</td>\n",
       "      <td>98</td>\n",
       "      <td>91</td>\n",
       "      <td>991</td>\n",
       "      <td>91</td>\n",
       "      <td>...</td>\n",
       "      <td>0</td>\n",
       "      <td>0</td>\n",
       "      <td>0</td>\n",
       "      <td>0</td>\n",
       "      <td>0</td>\n",
       "      <td>1</td>\n",
       "      <td>0</td>\n",
       "      <td>0</td>\n",
       "      <td>0</td>\n",
       "      <td>1</td>\n",
       "    </tr>\n",
       "    <tr>\n",
       "      <th>3</th>\n",
       "      <td>1</td>\n",
       "      <td>13</td>\n",
       "      <td>9999</td>\n",
       "      <td>1</td>\n",
       "      <td>364</td>\n",
       "      <td>98</td>\n",
       "      <td>98</td>\n",
       "      <td>1</td>\n",
       "      <td>999</td>\n",
       "      <td>99</td>\n",
       "      <td>...</td>\n",
       "      <td>0</td>\n",
       "      <td>1</td>\n",
       "      <td>0</td>\n",
       "      <td>0</td>\n",
       "      <td>0</td>\n",
       "      <td>0</td>\n",
       "      <td>1</td>\n",
       "      <td>0</td>\n",
       "      <td>0</td>\n",
       "      <td>1</td>\n",
       "    </tr>\n",
       "    <tr>\n",
       "      <th>4</th>\n",
       "      <td>0</td>\n",
       "      <td>991</td>\n",
       "      <td>9991</td>\n",
       "      <td>91</td>\n",
       "      <td>991</td>\n",
       "      <td>98</td>\n",
       "      <td>98</td>\n",
       "      <td>91</td>\n",
       "      <td>991</td>\n",
       "      <td>91</td>\n",
       "      <td>...</td>\n",
       "      <td>0</td>\n",
       "      <td>0</td>\n",
       "      <td>0</td>\n",
       "      <td>0</td>\n",
       "      <td>0</td>\n",
       "      <td>1</td>\n",
       "      <td>0</td>\n",
       "      <td>0</td>\n",
       "      <td>0</td>\n",
       "      <td>1</td>\n",
       "    </tr>\n",
       "  </tbody>\n",
       "</table>\n",
       "<p>5 rows × 40 columns</p>\n",
       "</div>"
      ],
      "text/plain": [
       "   MJEVER  MJAGE  MJYFU  MJREC  MJYRTOT  MRTOTFG  MJFQFLG  MRBSTWAY  MRDAYPYR  \\\n",
       "0       1     19   9999      1       52       98       98         1       999   \n",
       "1       0    991   9991     91      991       98       98        91       991   \n",
       "2       0    991   9991     91      991       98       98        91       991   \n",
       "3       1     13   9999      1      364       98       98         1       999   \n",
       "4       0    991   9991     91      991       98       98        91       991   \n",
       "\n",
       "   MRDAYPMO  ...  AGE_6_10  AGE_11_15  AGE_16_20  AGE_21_25  AGE_26_30  \\\n",
       "0        99  ...         0          0          1          0          0   \n",
       "1        91  ...         0          0          0          0          0   \n",
       "2        91  ...         0          0          0          0          0   \n",
       "3        99  ...         0          1          0          0          0   \n",
       "4        91  ...         0          0          0          0          0   \n",
       "\n",
       "   AGE_31  MJUSE30  MJUSENOT30BUT12  MJUSEMORE12  MJUSE100DAYS+  \n",
       "0       0        1                0            0              1  \n",
       "1       1        0                0            0              1  \n",
       "2       1        0                0            0              1  \n",
       "3       0        1                0            0              1  \n",
       "4       1        0                0            0              1  \n",
       "\n",
       "[5 rows x 40 columns]"
      ]
     },
     "execution_count": 35,
     "metadata": {},
     "output_type": "execute_result"
    }
   ],
   "source": [
    "# Use MultiOutputClassifier with Random Forest Classifier to predict all 6 targets\n",
    "\n",
    "# We already have the features and targets in df. So reinspect df:\n",
    "df.head()"
   ]
  },
  {
   "cell_type": "code",
   "execution_count": 36,
   "metadata": {},
   "outputs": [],
   "source": [
    "# Need more features!\n",
    "\n",
    "# Cigarettes - CIGEVER\n",
    "# Marijuana - MJEVER\n",
    "# Alcohol - ALCEVER\n",
    "# Cocaine - COCEVER\n",
    "# Crack - CRKEVER\n",
    "# Heroin - HEREVER\n",
    "# Hallucinogen - LSD\n",
    "# Methamphetamine - METHAMEVR"
   ]
  },
  {
   "cell_type": "code",
   "execution_count": null,
   "metadata": {},
   "outputs": [],
   "source": [
    "drug_list = [\"CIGEVER\", \"MJEVER\", \"ALCEVER\", \"COCEVER\", \"CRKEVER\", \"HEREVER\", \"LSD\", \"METHAMEVR\"]"
   ]
  },
  {
   "cell_type": "code",
   "execution_count": null,
   "metadata": {},
   "outputs": [],
   "source": [
    "drugs_df = data[\"\"]"
   ]
  },
  {
   "cell_type": "code",
   "execution_count": null,
   "metadata": {},
   "outputs": [],
   "source": [
    "# Cocaine\n"
   ]
  }
 ],
 "metadata": {
  "kernelspec": {
   "display_name": "datascience",
   "language": "python",
   "name": "python3"
  },
  "language_info": {
   "codemirror_mode": {
    "name": "ipython",
    "version": 3
   },
   "file_extension": ".py",
   "mimetype": "text/x-python",
   "name": "python",
   "nbconvert_exporter": "python",
   "pygments_lexer": "ipython3",
   "version": "3.11.3"
  },
  "orig_nbformat": 4
 },
 "nbformat": 4,
 "nbformat_minor": 2
}

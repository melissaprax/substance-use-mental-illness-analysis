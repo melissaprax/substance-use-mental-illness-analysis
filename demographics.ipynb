{
 "cells": [
  {
   "cell_type": "code",
   "execution_count": 12,
   "metadata": {},
   "outputs": [
    {
     "name": "stdout",
     "output_type": "stream",
     "text": [
      "Collecting sweetviz\n",
      "  Downloading sweetviz-2.1.4-py3-none-any.whl (15.1 MB)\n",
      "\u001b[2K     \u001b[90m━━━━━━━━━━━━━━━━━━━━━━━━━━━━━━━━━━━━━━━━\u001b[0m \u001b[32m15.1/15.1 MB\u001b[0m \u001b[31m35.4 MB/s\u001b[0m eta \u001b[36m0:00:00\u001b[0m00:01\u001b[0m00:01\u001b[0m\n",
      "\u001b[?25hRequirement already satisfied: jinja2>=2.11.1 in /Users/melissaprax/opt/anaconda3/lib/python3.9/site-packages (from sweetviz) (2.11.3)\n",
      "Requirement already satisfied: numpy>=1.16.0 in /Users/melissaprax/opt/anaconda3/lib/python3.9/site-packages (from sweetviz) (1.24.3)\n",
      "Requirement already satisfied: pandas!=1.0.0,!=1.0.1,!=1.0.2,>=0.25.3 in /Users/melissaprax/opt/anaconda3/lib/python3.9/site-packages (from sweetviz) (2.0.3)\n",
      "Requirement already satisfied: scipy>=1.3.2 in /Users/melissaprax/opt/anaconda3/lib/python3.9/site-packages (from sweetviz) (1.9.1)\n",
      "Collecting importlib-resources>=1.2.0\n",
      "  Downloading importlib_resources-6.0.1-py3-none-any.whl (34 kB)\n",
      "Requirement already satisfied: matplotlib>=3.1.3 in /Users/melissaprax/opt/anaconda3/lib/python3.9/site-packages (from sweetviz) (3.5.2)\n",
      "Requirement already satisfied: tqdm>=4.43.0 in /Users/melissaprax/opt/anaconda3/lib/python3.9/site-packages (from sweetviz) (4.64.1)\n",
      "Requirement already satisfied: zipp>=3.1.0 in /Users/melissaprax/opt/anaconda3/lib/python3.9/site-packages (from importlib-resources>=1.2.0->sweetviz) (3.8.0)\n",
      "Requirement already satisfied: MarkupSafe>=0.23 in /Users/melissaprax/opt/anaconda3/lib/python3.9/site-packages (from jinja2>=2.11.1->sweetviz) (2.0.1)\n",
      "Requirement already satisfied: packaging>=20.0 in /Users/melissaprax/opt/anaconda3/lib/python3.9/site-packages (from matplotlib>=3.1.3->sweetviz) (21.3)\n",
      "Requirement already satisfied: fonttools>=4.22.0 in /Users/melissaprax/opt/anaconda3/lib/python3.9/site-packages (from matplotlib>=3.1.3->sweetviz) (4.25.0)\n",
      "Requirement already satisfied: kiwisolver>=1.0.1 in /Users/melissaprax/opt/anaconda3/lib/python3.9/site-packages (from matplotlib>=3.1.3->sweetviz) (1.4.2)\n",
      "Requirement already satisfied: python-dateutil>=2.7 in /Users/melissaprax/opt/anaconda3/lib/python3.9/site-packages (from matplotlib>=3.1.3->sweetviz) (2.8.2)\n",
      "Requirement already satisfied: pyparsing>=2.2.1 in /Users/melissaprax/opt/anaconda3/lib/python3.9/site-packages (from matplotlib>=3.1.3->sweetviz) (3.0.9)\n",
      "Requirement already satisfied: pillow>=6.2.0 in /Users/melissaprax/opt/anaconda3/lib/python3.9/site-packages (from matplotlib>=3.1.3->sweetviz) (9.2.0)\n",
      "Requirement already satisfied: cycler>=0.10 in /Users/melissaprax/opt/anaconda3/lib/python3.9/site-packages (from matplotlib>=3.1.3->sweetviz) (0.11.0)\n",
      "Requirement already satisfied: tzdata>=2022.1 in /Users/melissaprax/opt/anaconda3/lib/python3.9/site-packages (from pandas!=1.0.0,!=1.0.1,!=1.0.2,>=0.25.3->sweetviz) (2023.3)\n",
      "Requirement already satisfied: pytz>=2020.1 in /Users/melissaprax/opt/anaconda3/lib/python3.9/site-packages (from pandas!=1.0.0,!=1.0.1,!=1.0.2,>=0.25.3->sweetviz) (2022.1)\n",
      "Requirement already satisfied: six>=1.5 in /Users/melissaprax/opt/anaconda3/lib/python3.9/site-packages (from python-dateutil>=2.7->matplotlib>=3.1.3->sweetviz) (1.16.0)\n",
      "Installing collected packages: importlib-resources, sweetviz\n",
      "Successfully installed importlib-resources-6.0.1 sweetviz-2.1.4\n"
     ]
    }
   ],
   "source": [
    "#pip install sweetviz\n",
    "#!pip install sweetviz"
   ]
  },
  {
   "cell_type": "code",
   "execution_count": 13,
   "metadata": {},
   "outputs": [],
   "source": [
    "import pandas as pd\n",
    "import numpy as np\n",
    "np.bool = np.bool_\n",
    "import sweetviz as sv"
   ]
  },
  {
   "cell_type": "code",
   "execution_count": 2,
   "metadata": {},
   "outputs": [
    {
     "name": "stderr",
     "output_type": "stream",
     "text": [
      "/var/folders/ks/nvwnsjxx73sfdyfzgxxlgscw0000gn/T/ipykernel_82939/2103078997.py:3: DtypeWarning: Columns (2792) have mixed types. Specify dtype option on import or set low_memory=False.\n",
      "  data = pd.read_csv(file_path, sep='\\t')\n"
     ]
    }
   ],
   "source": [
    "file_path = 'data/NSDUH_2021_Tab.txt'\n",
    "\n",
    "data = pd.read_csv(file_path, sep='\\t')"
   ]
  },
  {
   "cell_type": "code",
   "execution_count": 8,
   "metadata": {},
   "outputs": [],
   "source": [
    "col_list = ['HEALTH', #Would you say your health in general is excellent, very good, good, fair, or poor?\n",
    "            'LVLDIFMEM2', #LEVEL OF DIFFICULTY REMEMBERING OR CONCENTRATING\n",
    "            'POVERTY3', #RC-POVERTY LEVEL (% OF US CENSUS POVERTY THRESHOLD)\n",
    "            'IRINSUR4' #RC-OVERALL HEALTH INSURANCE - IMPUTATION REVISED\n",
    "\n",
    "            ]"
   ]
  },
  {
   "cell_type": "code",
   "execution_count": 9,
   "metadata": {},
   "outputs": [
    {
     "data": {
      "text/html": [
       "<div>\n",
       "<style scoped>\n",
       "    .dataframe tbody tr th:only-of-type {\n",
       "        vertical-align: middle;\n",
       "    }\n",
       "\n",
       "    .dataframe tbody tr th {\n",
       "        vertical-align: top;\n",
       "    }\n",
       "\n",
       "    .dataframe thead th {\n",
       "        text-align: right;\n",
       "    }\n",
       "</style>\n",
       "<table border=\"1\" class=\"dataframe\">\n",
       "  <thead>\n",
       "    <tr style=\"text-align: right;\">\n",
       "      <th></th>\n",
       "      <th>HEALTH</th>\n",
       "      <th>LVLDIFMEM2</th>\n",
       "      <th>POVERTY3</th>\n",
       "      <th>IRINSUR4</th>\n",
       "    </tr>\n",
       "  </thead>\n",
       "  <tbody>\n",
       "    <tr>\n",
       "      <th>0</th>\n",
       "      <td>4</td>\n",
       "      <td>1</td>\n",
       "      <td>2.0</td>\n",
       "      <td>1</td>\n",
       "    </tr>\n",
       "    <tr>\n",
       "      <th>1</th>\n",
       "      <td>3</td>\n",
       "      <td>1</td>\n",
       "      <td>3.0</td>\n",
       "      <td>1</td>\n",
       "    </tr>\n",
       "    <tr>\n",
       "      <th>2</th>\n",
       "      <td>2</td>\n",
       "      <td>1</td>\n",
       "      <td>2.0</td>\n",
       "      <td>1</td>\n",
       "    </tr>\n",
       "    <tr>\n",
       "      <th>3</th>\n",
       "      <td>2</td>\n",
       "      <td>2</td>\n",
       "      <td>2.0</td>\n",
       "      <td>1</td>\n",
       "    </tr>\n",
       "    <tr>\n",
       "      <th>4</th>\n",
       "      <td>1</td>\n",
       "      <td>1</td>\n",
       "      <td>1.0</td>\n",
       "      <td>2</td>\n",
       "    </tr>\n",
       "  </tbody>\n",
       "</table>\n",
       "</div>"
      ],
      "text/plain": [
       "   HEALTH  LVLDIFMEM2  POVERTY3  IRINSUR4\n",
       "0       4           1       2.0         1\n",
       "1       3           1       3.0         1\n",
       "2       2           1       2.0         1\n",
       "3       2           2       2.0         1\n",
       "4       1           1       1.0         2"
      ]
     },
     "execution_count": 9,
     "metadata": {},
     "output_type": "execute_result"
    }
   ],
   "source": [
    "df = data[col_list]\n",
    "df.head()"
   ]
  },
  {
   "cell_type": "code",
   "execution_count": 10,
   "metadata": {},
   "outputs": [
    {
     "name": "stdout",
     "output_type": "stream",
     "text": [
      "<class 'pandas.core.frame.DataFrame'>\n",
      "RangeIndex: 58034 entries, 0 to 58033\n",
      "Data columns (total 4 columns):\n",
      " #   Column      Non-Null Count  Dtype  \n",
      "---  ------      --------------  -----  \n",
      " 0   HEALTH      58034 non-null  int64  \n",
      " 1   LVLDIFMEM2  58034 non-null  int64  \n",
      " 2   POVERTY3    57990 non-null  float64\n",
      " 3   IRINSUR4    58034 non-null  int64  \n",
      "dtypes: float64(1), int64(3)\n",
      "memory usage: 1.8 MB\n"
     ]
    }
   ],
   "source": [
    "df.info()"
   ]
  },
  {
   "cell_type": "code",
   "execution_count": 21,
   "metadata": {},
   "outputs": [],
   "source": []
  },
  {
   "cell_type": "code",
   "execution_count": 22,
   "metadata": {},
   "outputs": [],
   "source": [
    "#run on standard scaler so it's computable after scaling \n",
    "from sklearn.preprocessing import StandardScaler"
   ]
  },
  {
   "cell_type": "code",
   "execution_count": 23,
   "metadata": {},
   "outputs": [],
   "source": [
    "scaler = StandardScaler()"
   ]
  },
  {
   "cell_type": "code",
   "execution_count": 24,
   "metadata": {},
   "outputs": [
    {
     "data": {
      "text/plain": [
       "StandardScaler()"
      ]
     },
     "execution_count": 24,
     "metadata": {},
     "output_type": "execute_result"
    }
   ],
   "source": [
    "scaler.fit(df)\n"
   ]
  },
  {
   "cell_type": "code",
   "execution_count": 25,
   "metadata": {},
   "outputs": [
    {
     "data": {
      "text/plain": [
       "array([[ 0.86458901, -0.21729068, -0.60335283, -0.32010874],\n",
       "       [ 0.34865557, -0.21729068,  0.69588337, -0.32010874],\n",
       "       [-0.16727786, -0.21729068, -0.60335283, -0.32010874],\n",
       "       ...,\n",
       "       [-0.6832113 , -0.21729068,  0.69588337, -0.32010874],\n",
       "       [-0.16727786, -0.21729068,  0.69588337, -0.32010874],\n",
       "       [-0.16727786, -0.16154246,  0.69588337, -0.32010874]])"
      ]
     },
     "execution_count": 25,
     "metadata": {},
     "output_type": "execute_result"
    }
   ],
   "source": [
    "scaler.transform(df)"
   ]
  },
  {
   "cell_type": "code",
   "execution_count": null,
   "metadata": {},
   "outputs": [],
   "source": [
    "#df['HEALTH'] = pd.to_numeric(df.target)\n",
    "#might need to target to get sweet viz"
   ]
  },
  {
   "cell_type": "code",
   "execution_count": 14,
   "metadata": {},
   "outputs": [
    {
     "ename": "AttributeError",
     "evalue": "'DataFrame' object has no attribute 'iteritems'",
     "output_type": "error",
     "traceback": [
      "\u001b[0;31m---------------------------------------------------------------------------\u001b[0m",
      "\u001b[0;31mAttributeError\u001b[0m                            Traceback (most recent call last)",
      "\u001b[0;32m/var/folders/ks/nvwnsjxx73sfdyfzgxxlgscw0000gn/T/ipykernel_82939/623440298.py\u001b[0m in \u001b[0;36m<module>\u001b[0;34m\u001b[0m\n\u001b[0;32m----> 1\u001b[0;31m \u001b[0mreport\u001b[0m \u001b[0;34m=\u001b[0m \u001b[0msv\u001b[0m\u001b[0;34m.\u001b[0m\u001b[0manalyze\u001b[0m\u001b[0;34m(\u001b[0m\u001b[0mdf\u001b[0m\u001b[0;34m,\u001b[0m \u001b[0mtarget_feat\u001b[0m\u001b[0;34m=\u001b[0m\u001b[0;34m'HEALTH'\u001b[0m\u001b[0;34m)\u001b[0m\u001b[0;34m\u001b[0m\u001b[0;34m\u001b[0m\u001b[0m\n\u001b[0m",
      "\u001b[0;32m~/opt/anaconda3/lib/python3.9/site-packages/sweetviz/sv_public.py\u001b[0m in \u001b[0;36manalyze\u001b[0;34m(source, target_feat, feat_cfg, pairwise_analysis)\u001b[0m\n\u001b[1;32m     10\u001b[0m             \u001b[0mfeat_cfg\u001b[0m\u001b[0;34m:\u001b[0m \u001b[0mFeatureConfig\u001b[0m \u001b[0;34m=\u001b[0m \u001b[0;32mNone\u001b[0m\u001b[0;34m,\u001b[0m\u001b[0;34m\u001b[0m\u001b[0;34m\u001b[0m\u001b[0m\n\u001b[1;32m     11\u001b[0m             pairwise_analysis: str = 'auto'):\n\u001b[0;32m---> 12\u001b[0;31m     report = sweetviz.DataframeReport(source, target_feat, None,\n\u001b[0m\u001b[1;32m     13\u001b[0m                                       pairwise_analysis, feat_cfg)\n\u001b[1;32m     14\u001b[0m     \u001b[0;32mreturn\u001b[0m \u001b[0mreport\u001b[0m\u001b[0;34m\u001b[0m\u001b[0;34m\u001b[0m\u001b[0m\n",
      "\u001b[0;32m~/opt/anaconda3/lib/python3.9/site-packages/sweetviz/dataframe_report.py\u001b[0m in \u001b[0;36m__init__\u001b[0;34m(self, source, target_feature_name, compare, pairwise_analysis, fc)\u001b[0m\n\u001b[1;32m     72\u001b[0m                 \u001b[0mtarget_feature_name\u001b[0m \u001b[0;34m=\u001b[0m \u001b[0;34m'df_index'\u001b[0m\u001b[0;34m\u001b[0m\u001b[0;34m\u001b[0m\u001b[0m\n\u001b[1;32m     73\u001b[0m \u001b[0;34m\u001b[0m\u001b[0m\n\u001b[0;32m---> 74\u001b[0;31m         \u001b[0mall_source_names\u001b[0m \u001b[0;34m=\u001b[0m \u001b[0;34m[\u001b[0m\u001b[0mcur_name\u001b[0m \u001b[0;32mfor\u001b[0m \u001b[0mcur_name\u001b[0m\u001b[0;34m,\u001b[0m \u001b[0mcur_series\u001b[0m \u001b[0;32min\u001b[0m \u001b[0msource_df\u001b[0m\u001b[0;34m.\u001b[0m\u001b[0miteritems\u001b[0m\u001b[0;34m(\u001b[0m\u001b[0;34m)\u001b[0m\u001b[0;34m]\u001b[0m\u001b[0;34m\u001b[0m\u001b[0;34m\u001b[0m\u001b[0m\n\u001b[0m\u001b[1;32m     75\u001b[0m         \u001b[0;32mif\u001b[0m \u001b[0mcompare\u001b[0m \u001b[0;32mis\u001b[0m \u001b[0;32mNone\u001b[0m\u001b[0;34m:\u001b[0m\u001b[0;34m\u001b[0m\u001b[0;34m\u001b[0m\u001b[0m\n\u001b[1;32m     76\u001b[0m             \u001b[0mcompare_df\u001b[0m \u001b[0;34m=\u001b[0m \u001b[0;32mNone\u001b[0m\u001b[0;34m\u001b[0m\u001b[0;34m\u001b[0m\u001b[0m\n",
      "\u001b[0;32m~/opt/anaconda3/lib/python3.9/site-packages/pandas/core/generic.py\u001b[0m in \u001b[0;36m__getattr__\u001b[0;34m(self, name)\u001b[0m\n\u001b[1;32m   5987\u001b[0m         ):\n\u001b[1;32m   5988\u001b[0m             \u001b[0;32mreturn\u001b[0m \u001b[0mself\u001b[0m\u001b[0;34m[\u001b[0m\u001b[0mname\u001b[0m\u001b[0;34m]\u001b[0m\u001b[0;34m\u001b[0m\u001b[0;34m\u001b[0m\u001b[0m\n\u001b[0;32m-> 5989\u001b[0;31m         \u001b[0;32mreturn\u001b[0m \u001b[0mobject\u001b[0m\u001b[0;34m.\u001b[0m\u001b[0m__getattribute__\u001b[0m\u001b[0;34m(\u001b[0m\u001b[0mself\u001b[0m\u001b[0;34m,\u001b[0m \u001b[0mname\u001b[0m\u001b[0;34m)\u001b[0m\u001b[0;34m\u001b[0m\u001b[0;34m\u001b[0m\u001b[0m\n\u001b[0m\u001b[1;32m   5990\u001b[0m \u001b[0;34m\u001b[0m\u001b[0m\n\u001b[1;32m   5991\u001b[0m     \u001b[0;32mdef\u001b[0m \u001b[0m__setattr__\u001b[0m\u001b[0;34m(\u001b[0m\u001b[0mself\u001b[0m\u001b[0;34m,\u001b[0m \u001b[0mname\u001b[0m\u001b[0;34m:\u001b[0m \u001b[0mstr\u001b[0m\u001b[0;34m,\u001b[0m \u001b[0mvalue\u001b[0m\u001b[0;34m)\u001b[0m \u001b[0;34m->\u001b[0m \u001b[0;32mNone\u001b[0m\u001b[0;34m:\u001b[0m\u001b[0;34m\u001b[0m\u001b[0;34m\u001b[0m\u001b[0m\n",
      "\u001b[0;31mAttributeError\u001b[0m: 'DataFrame' object has no attribute 'iteritems'"
     ]
    }
   ],
   "source": [
    "report = sv.analyze(df, target_feat='HEALTH')"
   ]
  }
 ],
 "metadata": {
  "kernelspec": {
   "display_name": "base",
   "language": "python",
   "name": "python3"
  },
  "language_info": {
   "codemirror_mode": {
    "name": "ipython",
    "version": 3
   },
   "file_extension": ".py",
   "mimetype": "text/x-python",
   "name": "python",
   "nbconvert_exporter": "python",
   "pygments_lexer": "ipython3",
   "version": "3.9.13"
  },
  "orig_nbformat": 4
 },
 "nbformat": 4,
 "nbformat_minor": 2
}

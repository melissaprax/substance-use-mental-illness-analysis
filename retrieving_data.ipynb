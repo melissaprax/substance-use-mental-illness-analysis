{
 "cells": [
  {
   "cell_type": "markdown",
   "id": "8388ae5c",
   "metadata": {},
   "source": [
    "### Data Preprocessing of \"Lisa's Complete Set\""
   ]
  },
  {
   "cell_type": "code",
   "execution_count": null,
   "id": "897b9382",
   "metadata": {},
   "outputs": [],
   "source": [
    "# Note frome Erin: Evaluate feature importance when using Tree Models... and eliminate low-importance features to prevent \"over-fitting\" on test data."
   ]
  },
  {
   "cell_type": "code",
   "execution_count": null,
   "id": "aa925de1",
   "metadata": {},
   "outputs": [],
   "source": [
    "# Note to self: ADSMMDEA (Adult Depression Target)\n",
    "# YODSMMDE (Youth Depression Target)"
   ]
  },
  {
   "cell_type": "markdown",
   "id": "67710751-92ba-465d-83c5-0900b1df002f",
   "metadata": {
    "id": "67710751-92ba-465d-83c5-0900b1df002f",
    "tags": []
   },
   "source": [
    "Codes and description\n",
    "\n",
    " > MJ_Codes(12) =\n",
    "            - MJEVER =\n",
    "            - MJAGE =\n",
    "            - MJYFU =\n",
    "            - MJMFU =\n",
    "            - MJREC =\n",
    "            - MJYRTOT =\n",
    "            - MRBSTWAY =\n",
    "            - MRDAYPYR =\n",
    "            - MRDAYPMO =\n",
    "            - MRDAYPWK =\n",
    "            - MJDAY30A =\n",
    "            - MR30EST =\n",
    "\n",
    " > MJ_MARKET_CODES(10) =\n",
    "    - MMBTPYR', # Bought MJ in past 12 months\n",
    "    - MMBT30DY', # # Days bought MH in Past Month\n",
    "    - MMBTDISP', # Bought from store or dispoensary\n",
    "    - MMBJOINT', # Last MJ bought in joints\n",
    "    - MMBLOOSE', # Last MJ bought in Loose form\n",
    "    - MMBOTHER', # Last MJ bought in other form\n",
    "    - MMLSUNIT1', # AMT MJ bought in last time: grams/oz/lbs\n",
    "    - MLSPCTB1', # Amount paid for MJ last time in bins\n",
    "    - MMLSPCAT1', # Price category of last loose marijuana bought\n",
    "    - MMBSELL', # Sell any marijuana bought last time\n",
    "\n",
    " > OTHER_DRUGS (7) = \n",
    "    - TOBFLAG\n",
    "    - ALCFLAG\n",
    "    - COCFLAG\n",
    "    - CRKFLAG\n",
    "    - HERFLAG\n",
    "    - LSDFLAG\n",
    "    - METHAMFLAG\n",
    "\n",
    " > MJ_USE (29) = \n",
    "- UDMJTIMEUSE - SPENT GREAT DEAL OF TIME USING/FEEL EFF OF MJ PST 12 MOS\n",
    "- UDMJTIMEGET Len : 2 SPENT GREAT DEAL TIME TRY TO GET/GETTING MJ IN PST 12 MOS\n",
    "- UDMJWANTBAD Len : 2 WANTED TO USE MARIJUANA SO BADLY IN PAST 12 MOS\n",
    "- UDMJSTRURGE Len : 2 STRONG URGE TO USE MARIJUANA IN PAST 12 MOS\n",
    "- UDMJNEEDMOR Len : 2 NEEDED A LOT MORE MARIJUANA TO GET FEELING YOU WANT\n",
    "- UDMJLESSEFF Len : 2 SAME AMT MARIJUANA HAS LESS EFFECT THAN IT USED TO\n",
    "- UDMJTRYSTOP Len : 2 TRY TO CUT DOWN/STOP MARIJUANA USE IN PAST 12 MOS\n",
    "- UDMJHLTHPRB Len : 2 ANY LONG-LASTING PHYS PRBS CAUSED/WORSND BY MJ PST 12 MOS\n",
    "- UDMJHLTHCTD Len : 2 CONTD TO USE MARIJUANA DESPITE MJ CAUSE/WORSEN PHYS PRBS\n",
    "- UDMJMNTLPRB Len : 2 ANY EMOT/MNTL HLTH PRBS CAUSED/WORSND BY MJ PAST 12 MOS\n",
    "- UDMJMNTLCTD Len : 2 CONTD MARIJUANA USE DESPITE MJ CSE/WRSN EMOT/MNTL HLTH PRBS\n",
    "- UDMJSTOPACT Len : 2 LESS ACTIVITIES B/C OF MARIJUANA USE PAST 12 MOS\n",
    "- UDMJWORKPRB Len : 2 MARIJUANA CAUSE SERIOUS PRBS AT HOME/WORK/SCH PST 12 MOS\n",
    "- UDMJFMLYPRB Len : 2 MARIJUANA CAUSE ARGUMENTS/PROBS W/FAMILY/FRIENDS PST 12 MOS\n",
    "- UDMJFMLYCTD Len : 2 CONTD MARIJUANA USE DESPITE MJ CAUSE ARGUMENTS W/FAM/FRNDS\n",
    "- UDMJGETHURT Len : 2 MARIJUANA USE INCREASED CHANCE GETTING HURT PST 12 MOS\n",
    "- UDMJWDANGRY Len : 2 FEELING IRRITABLE OR ANGRY-MJ WITHDRAWAL SYMPTOM PST 12 MOS\n",
    "- UDMJWDFLANX Len : 2 FEELING ANXIOUS/NERVOUS - MJ WITHDRAWAL SYMPTOM PST 12 MOS\n",
    "- UDMJWDSLEEP Len : 2 HAVING TROUBLE SLEEPING - MJ WITHDRAWAL SYMPTOM PST 12 MOS\n",
    "- UDMJWDAPPET Len : 2 LOSING APPETITE OR WEIGHT - MJ WITHDRAWAL SYMPTOM PST 12 MOS\n",
    "- UDMJWDSITST Len : 2 COULDN'T SIT STILL - MJ WITHDRAWAL SYMPTOM PST 12 MOS\n",
    "- UDMJWDDEPRS Len : 2 FEELING DEPRESSED - MJ WITHDRAWAL SYMPTOM PST 12 MOS\n",
    "- UDMJWDSTMCH Len : 2 STOMACH ACHE - MJ WITHDRAWAL SYMPTOM PST 12 MOS\n",
    "- UDMJWDSHAKE Len : 2 SHAKING OR TREMORS - MJ WITHDRAWAL SYMPTOM PST 12 MOS\n",
    "- UDMJWDSWEAT Len : 2 SWEATING - MJ WITHDRAWAL SYMPTOM PST 12 MOS\n",
    "- UDMJWDFEVER Len : 2 FEVER - MJ WITHDRAWAL SYMPTOM PST 12 MOS\n",
    "- UDMJWDCHILL Len : 2 CHILLS - MJ WITHDRAWAL SYMPTOM PST 12 MOS\n",
    "- UDMJWDHEDAC Len : 2 HEADACHE - MJ WITHDRAWAL SYMPTOM PST 12 MOS\n",
    "- PYUD5MRJ Len : 2 MARIJUANA USE DISORDER IN THE PAST YEAR\n",
    "\n",
    " > MH_CARE (14) = \n",
    "- AUMHTELYR Len : 2 ADULT RCVD MENTAL HLTH TRMT OVER PHONE/EMAIL/VIDEO PST 12\n",
    "- AUALTYR Len : 2 RCVD ALTERNATIVE MENT HLTH TRMT PAST 12 MOS\n",
    "- SUICTHNK Len : 2 SERIOUSLY THINK ABOUT KILLING SELF PST 12 MOS\n",
    "- SUIPLANYR Len : 2 ADULT MAKE PLANS TO KILL SELF PST 12 MOS\n",
    "- AD_MDEA1 Len : 2 SAD/EMPTY/DEPRESSED MOST OF DAY OR DISCOURAGED\n",
    "- AD_MDEA2 Len : 2 LOST INTEREST OR PLEASURE IN MOST THINGS\n",
    "- AD_MDEA3 Len : 2 CHANGES IN APPETITE OR WT\n",
    "- AD_MDEA4 Len : 2 SLEEP PROBLEMS\n",
    "- AD_MDEA8 Len : 2 INABILITY TO CONCENTRATE OR MAKE DECISIONS\n",
    "- ADSMMDEA Len : 2 SCORE OF SYMPTOM INDICATORS 1 THRU 9\n",
    "- YODSMMDE Len : 2 SCORE OF SYMPTOM INDICATORS 1 THRU 9 (Youth)\n",
    "- CAMHPROB2 Len : 2 THINK EVER HAD PROBLEM WITH OWN MENTAL HEALTH\n",
    "- LVLDIFMEM2 Len : 2 LEVEL OF DIFFICULTY REMEMBERING OR CONCENTRATING\n",
    "- LVLDIFCOMM2 Len : 2 LEVEL OF DIFFICULTY COMMUNICATING USING YOUR USUAL LANGUAGE\n",
    "\n",
    " > DEMOGRAPHICS (8) = \n",
    "- AGE3 Len : 2 RECODE - FINAL EDITED AGE\n",
    "- HEALTH Len : 2 OVERALL HEALTH\n",
    "- CATAG3 Len : 1 RC-AGE CATEGORY RECODE (5 LEVELS)\n",
    "- HEALTH2 Len : 1 RC-OVERALL HEALTH RECODE\n",
    "- ANYHLTI2 Len : 2 COVERED BY ANY HEALTH INSURANCE - RECODE\n",
    "- INCOME Len : 1 RC-TOTAL FAMILY INCOME RECODE\n",
    "- POVERTY3 Len : 1 RC-POVERTY LEVEL (% OF US CENSUS POVERTY THRESHOLD)\n",
    "- COUTYP4 Len : 1 COUNTY METRO/NONMETRO STATUS (2013 3-LEVEL)\n",
    "\n",
    " > Columns with NAs:\n",
    "- \"AMISUD5ANY\" = 10743\n",
    "- \"ASDSREL2\" = 52894\n",
    "- \"HEALTH2\" = 19\n",
    "- \"PYUD5MRJ\" = 560"
   ]
  },
  {
   "cell_type": "markdown",
   "id": "3fa8545c-980d-4be0-9b6a-a916d1180bd4",
   "metadata": {
    "id": "3fa8545c-980d-4be0-9b6a-a916d1180bd4",
    "tags": []
   },
   "source": [
    "# Code for cleaning the data"
   ]
  },
  {
   "cell_type": "markdown",
   "id": "a04777aa-ecd9-469f-b200-0ebadcd8c18a",
   "metadata": {
    "id": "a04777aa-ecd9-469f-b200-0ebadcd8c18a"
   },
   "source": [
    "The aim is to create a model that can predict whether the use of marihuana contributes to poor mental health outcomes.\n",
    "Questions:\n",
    "* Group similar mental health problems. Assign categories: for example, isolation from family, mood symptoms, etc, according to severity?\n",
    "* Same with physical health?"
   ]
  },
  {
   "cell_type": "code",
   "execution_count": 1,
   "id": "50108f2a-eaee-47da-96ca-1c1097d371d2",
   "metadata": {
    "colab": {
     "base_uri": "https://localhost:8080/",
     "height": 390
    },
    "executionInfo": {
     "elapsed": 154,
     "status": "error",
     "timestamp": 1692031332151,
     "user": {
      "displayName": "Lisa Maccio Maretto",
      "userId": "05827428193686000354"
     },
     "user_tz": 300
    },
    "id": "50108f2a-eaee-47da-96ca-1c1097d371d2",
    "outputId": "a2838c5a-4882-4c1c-aae3-c6c88dba3ea4"
   },
   "outputs": [
    {
     "name": "stderr",
     "output_type": "stream",
     "text": [
      "c:\\Users\\e.a.wright\\anaconda3\\envs\\datascience\\Lib\\site-packages\\numpy\\_distributor_init.py:30: UserWarning: loaded more than 1 DLL from .libs:\n",
      "c:\\Users\\e.a.wright\\anaconda3\\envs\\datascience\\Lib\\site-packages\\numpy\\.libs\\libopenblas64__v0.3.23-246-g3d31191b-gcc_10_3_0.dll\n",
      "c:\\Users\\e.a.wright\\anaconda3\\envs\\datascience\\Lib\\site-packages\\numpy\\.libs\\libopenblas64__v0.3.23-gcc_10_3_0.dll\n",
      "  warnings.warn(\"loaded more than 1 DLL from .libs:\"\n",
      "C:\\Users\\e.a.wright\\AppData\\Local\\Temp\\ipykernel_24052\\2739492926.py:8: DtypeWarning: Columns (2792) have mixed types. Specify dtype option on import or set low_memory=False.\n",
      "  nsduh_df = pd.read_csv(nsduh_csv, sep=\"\\t\")\n"
     ]
    },
    {
     "data": {
      "text/html": [
       "<div>\n",
       "<style scoped>\n",
       "    .dataframe tbody tr th:only-of-type {\n",
       "        vertical-align: middle;\n",
       "    }\n",
       "\n",
       "    .dataframe tbody tr th {\n",
       "        vertical-align: top;\n",
       "    }\n",
       "\n",
       "    .dataframe thead th {\n",
       "        text-align: right;\n",
       "    }\n",
       "</style>\n",
       "<table border=\"1\" class=\"dataframe\">\n",
       "  <thead>\n",
       "    <tr style=\"text-align: right;\">\n",
       "      <th></th>\n",
       "      <th>QUESTID2</th>\n",
       "      <th>FILEDATE</th>\n",
       "      <th>CIGEVER</th>\n",
       "      <th>CIGOFRSM</th>\n",
       "      <th>CIGWILYR</th>\n",
       "      <th>CIGTRY</th>\n",
       "      <th>CIGYFU</th>\n",
       "      <th>CIGMFU</th>\n",
       "      <th>CIGREC</th>\n",
       "      <th>CIG30USE</th>\n",
       "      <th>...</th>\n",
       "      <th>GOVTPROG</th>\n",
       "      <th>INCOME</th>\n",
       "      <th>POVERTY3</th>\n",
       "      <th>PDEN10</th>\n",
       "      <th>COUTYP4</th>\n",
       "      <th>MAIIN102</th>\n",
       "      <th>AIIND102</th>\n",
       "      <th>ANALWT_C</th>\n",
       "      <th>VESTR_C</th>\n",
       "      <th>VEREP</th>\n",
       "    </tr>\n",
       "  </thead>\n",
       "  <tbody>\n",
       "    <tr>\n",
       "      <th>0</th>\n",
       "      <td>10000182</td>\n",
       "      <td>10/06/2022</td>\n",
       "      <td>1</td>\n",
       "      <td>99</td>\n",
       "      <td>99</td>\n",
       "      <td>19</td>\n",
       "      <td>9999</td>\n",
       "      <td>99</td>\n",
       "      <td>1</td>\n",
       "      <td>7</td>\n",
       "      <td>...</td>\n",
       "      <td>1</td>\n",
       "      <td>1</td>\n",
       "      <td>2.0</td>\n",
       "      <td>2</td>\n",
       "      <td>3</td>\n",
       "      <td>2</td>\n",
       "      <td>2</td>\n",
       "      <td>675.130812</td>\n",
       "      <td>40047</td>\n",
       "      <td>1</td>\n",
       "    </tr>\n",
       "    <tr>\n",
       "      <th>1</th>\n",
       "      <td>10001255</td>\n",
       "      <td>10/06/2022</td>\n",
       "      <td>1</td>\n",
       "      <td>99</td>\n",
       "      <td>99</td>\n",
       "      <td>15</td>\n",
       "      <td>9999</td>\n",
       "      <td>99</td>\n",
       "      <td>4</td>\n",
       "      <td>93</td>\n",
       "      <td>...</td>\n",
       "      <td>2</td>\n",
       "      <td>4</td>\n",
       "      <td>3.0</td>\n",
       "      <td>1</td>\n",
       "      <td>1</td>\n",
       "      <td>2</td>\n",
       "      <td>2</td>\n",
       "      <td>12435.513603</td>\n",
       "      <td>40037</td>\n",
       "      <td>2</td>\n",
       "    </tr>\n",
       "    <tr>\n",
       "      <th>2</th>\n",
       "      <td>10001831</td>\n",
       "      <td>10/06/2022</td>\n",
       "      <td>2</td>\n",
       "      <td>99</td>\n",
       "      <td>99</td>\n",
       "      <td>991</td>\n",
       "      <td>9991</td>\n",
       "      <td>91</td>\n",
       "      <td>91</td>\n",
       "      <td>91</td>\n",
       "      <td>...</td>\n",
       "      <td>2</td>\n",
       "      <td>2</td>\n",
       "      <td>2.0</td>\n",
       "      <td>2</td>\n",
       "      <td>2</td>\n",
       "      <td>2</td>\n",
       "      <td>2</td>\n",
       "      <td>647.085653</td>\n",
       "      <td>40037</td>\n",
       "      <td>2</td>\n",
       "    </tr>\n",
       "    <tr>\n",
       "      <th>3</th>\n",
       "      <td>10002722</td>\n",
       "      <td>10/06/2022</td>\n",
       "      <td>1</td>\n",
       "      <td>99</td>\n",
       "      <td>99</td>\n",
       "      <td>9</td>\n",
       "      <td>9999</td>\n",
       "      <td>99</td>\n",
       "      <td>1</td>\n",
       "      <td>30</td>\n",
       "      <td>...</td>\n",
       "      <td>2</td>\n",
       "      <td>2</td>\n",
       "      <td>2.0</td>\n",
       "      <td>1</td>\n",
       "      <td>1</td>\n",
       "      <td>2</td>\n",
       "      <td>2</td>\n",
       "      <td>11275.260484</td>\n",
       "      <td>40045</td>\n",
       "      <td>2</td>\n",
       "    </tr>\n",
       "    <tr>\n",
       "      <th>4</th>\n",
       "      <td>10002897</td>\n",
       "      <td>10/06/2022</td>\n",
       "      <td>2</td>\n",
       "      <td>99</td>\n",
       "      <td>99</td>\n",
       "      <td>991</td>\n",
       "      <td>9991</td>\n",
       "      <td>91</td>\n",
       "      <td>91</td>\n",
       "      <td>91</td>\n",
       "      <td>...</td>\n",
       "      <td>2</td>\n",
       "      <td>1</td>\n",
       "      <td>1.0</td>\n",
       "      <td>1</td>\n",
       "      <td>1</td>\n",
       "      <td>2</td>\n",
       "      <td>2</td>\n",
       "      <td>350.985132</td>\n",
       "      <td>40006</td>\n",
       "      <td>1</td>\n",
       "    </tr>\n",
       "  </tbody>\n",
       "</table>\n",
       "<p>5 rows × 2988 columns</p>\n",
       "</div>"
      ],
      "text/plain": [
       "   QUESTID2    FILEDATE  CIGEVER  CIGOFRSM  CIGWILYR  CIGTRY  CIGYFU  CIGMFU  \\\n",
       "0  10000182  10/06/2022        1        99        99      19    9999      99   \n",
       "1  10001255  10/06/2022        1        99        99      15    9999      99   \n",
       "2  10001831  10/06/2022        2        99        99     991    9991      91   \n",
       "3  10002722  10/06/2022        1        99        99       9    9999      99   \n",
       "4  10002897  10/06/2022        2        99        99     991    9991      91   \n",
       "\n",
       "   CIGREC  CIG30USE  ...  GOVTPROG  INCOME  POVERTY3  PDEN10  COUTYP4  \\\n",
       "0       1         7  ...         1       1       2.0       2        3   \n",
       "1       4        93  ...         2       4       3.0       1        1   \n",
       "2      91        91  ...         2       2       2.0       2        2   \n",
       "3       1        30  ...         2       2       2.0       1        1   \n",
       "4      91        91  ...         2       1       1.0       1        1   \n",
       "\n",
       "   MAIIN102  AIIND102      ANALWT_C  VESTR_C  VEREP  \n",
       "0         2         2    675.130812    40047      1  \n",
       "1         2         2  12435.513603    40037      2  \n",
       "2         2         2    647.085653    40037      2  \n",
       "3         2         2  11275.260484    40045      2  \n",
       "4         2         2    350.985132    40006      1  \n",
       "\n",
       "[5 rows x 2988 columns]"
      ]
     },
     "execution_count": 1,
     "metadata": {},
     "output_type": "execute_result"
    }
   ],
   "source": [
    "# Dependencies\n",
    "import pandas as pd\n",
    "\n",
    "# Store filepath in a variable\n",
    "nsduh_csv = \"data/NSDUH_2021_Tab.txt\"\n",
    "\n",
    "# Read the csv\n",
    "nsduh_df = pd.read_csv(nsduh_csv, sep=\"\\t\")\n",
    "\n",
    "# Print the head\n",
    "nsduh_df.head(5)"
   ]
  },
  {
   "cell_type": "code",
   "execution_count": 2,
   "id": "aa1bcc69-52db-4c34-b612-d18e5a1baeb3",
   "metadata": {
    "colab": {
     "base_uri": "https://localhost:8080/",
     "height": 245
    },
    "executionInfo": {
     "elapsed": 162,
     "status": "error",
     "timestamp": 1692031316643,
     "user": {
      "displayName": "Lisa Maccio Maretto",
      "userId": "05827428193686000354"
     },
     "user_tz": 300
    },
    "id": "aa1bcc69-52db-4c34-b612-d18e5a1baeb3",
    "outputId": "ed180321-e472-4a6d-c271-2d6b280ea66e"
   },
   "outputs": [
    {
     "data": {
      "text/html": [
       "<div>\n",
       "<style scoped>\n",
       "    .dataframe tbody tr th:only-of-type {\n",
       "        vertical-align: middle;\n",
       "    }\n",
       "\n",
       "    .dataframe tbody tr th {\n",
       "        vertical-align: top;\n",
       "    }\n",
       "\n",
       "    .dataframe thead th {\n",
       "        text-align: right;\n",
       "    }\n",
       "</style>\n",
       "<table border=\"1\" class=\"dataframe\">\n",
       "  <thead>\n",
       "    <tr style=\"text-align: right;\">\n",
       "      <th></th>\n",
       "      <th>MJAGE</th>\n",
       "      <th>MJYFU</th>\n",
       "      <th>MJMFU</th>\n",
       "      <th>MJREC</th>\n",
       "      <th>MJYRTOT</th>\n",
       "      <th>MRBSTWAY</th>\n",
       "      <th>MRDAYPYR</th>\n",
       "      <th>MRDAYPMO</th>\n",
       "      <th>MRDAYPWK</th>\n",
       "      <th>MJDAY30A</th>\n",
       "      <th>...</th>\n",
       "      <th>AGE3</th>\n",
       "      <th>HEALTH</th>\n",
       "      <th>LVLDIFMEM2</th>\n",
       "      <th>LVLDIFCOMM2</th>\n",
       "      <th>CATAG3</th>\n",
       "      <th>HEALTH2</th>\n",
       "      <th>ANYHLTI2</th>\n",
       "      <th>INCOME</th>\n",
       "      <th>POVERTY3</th>\n",
       "      <th>COUTYP4</th>\n",
       "    </tr>\n",
       "  </thead>\n",
       "  <tbody>\n",
       "    <tr>\n",
       "      <th>0</th>\n",
       "      <td>19</td>\n",
       "      <td>9999</td>\n",
       "      <td>99</td>\n",
       "      <td>1</td>\n",
       "      <td>52</td>\n",
       "      <td>1</td>\n",
       "      <td>999</td>\n",
       "      <td>99</td>\n",
       "      <td>1</td>\n",
       "      <td>30</td>\n",
       "      <td>...</td>\n",
       "      <td>8</td>\n",
       "      <td>4</td>\n",
       "      <td>1</td>\n",
       "      <td>1</td>\n",
       "      <td>3</td>\n",
       "      <td>4.0</td>\n",
       "      <td>1</td>\n",
       "      <td>1</td>\n",
       "      <td>2.0</td>\n",
       "      <td>3</td>\n",
       "    </tr>\n",
       "    <tr>\n",
       "      <th>1</th>\n",
       "      <td>991</td>\n",
       "      <td>9991</td>\n",
       "      <td>91</td>\n",
       "      <td>91</td>\n",
       "      <td>991</td>\n",
       "      <td>91</td>\n",
       "      <td>991</td>\n",
       "      <td>91</td>\n",
       "      <td>91</td>\n",
       "      <td>91</td>\n",
       "      <td>...</td>\n",
       "      <td>11</td>\n",
       "      <td>3</td>\n",
       "      <td>1</td>\n",
       "      <td>1</td>\n",
       "      <td>5</td>\n",
       "      <td>3.0</td>\n",
       "      <td>1</td>\n",
       "      <td>4</td>\n",
       "      <td>3.0</td>\n",
       "      <td>1</td>\n",
       "    </tr>\n",
       "    <tr>\n",
       "      <th>2</th>\n",
       "      <td>991</td>\n",
       "      <td>9991</td>\n",
       "      <td>91</td>\n",
       "      <td>91</td>\n",
       "      <td>991</td>\n",
       "      <td>91</td>\n",
       "      <td>991</td>\n",
       "      <td>91</td>\n",
       "      <td>91</td>\n",
       "      <td>91</td>\n",
       "      <td>...</td>\n",
       "      <td>6</td>\n",
       "      <td>2</td>\n",
       "      <td>1</td>\n",
       "      <td>1</td>\n",
       "      <td>2</td>\n",
       "      <td>2.0</td>\n",
       "      <td>1</td>\n",
       "      <td>2</td>\n",
       "      <td>2.0</td>\n",
       "      <td>2</td>\n",
       "    </tr>\n",
       "    <tr>\n",
       "      <th>3</th>\n",
       "      <td>13</td>\n",
       "      <td>9999</td>\n",
       "      <td>99</td>\n",
       "      <td>1</td>\n",
       "      <td>364</td>\n",
       "      <td>1</td>\n",
       "      <td>999</td>\n",
       "      <td>99</td>\n",
       "      <td>7</td>\n",
       "      <td>30</td>\n",
       "      <td>...</td>\n",
       "      <td>9</td>\n",
       "      <td>2</td>\n",
       "      <td>2</td>\n",
       "      <td>2</td>\n",
       "      <td>4</td>\n",
       "      <td>2.0</td>\n",
       "      <td>1</td>\n",
       "      <td>2</td>\n",
       "      <td>2.0</td>\n",
       "      <td>1</td>\n",
       "    </tr>\n",
       "    <tr>\n",
       "      <th>4</th>\n",
       "      <td>991</td>\n",
       "      <td>9991</td>\n",
       "      <td>91</td>\n",
       "      <td>91</td>\n",
       "      <td>991</td>\n",
       "      <td>91</td>\n",
       "      <td>991</td>\n",
       "      <td>91</td>\n",
       "      <td>91</td>\n",
       "      <td>91</td>\n",
       "      <td>...</td>\n",
       "      <td>6</td>\n",
       "      <td>1</td>\n",
       "      <td>1</td>\n",
       "      <td>1</td>\n",
       "      <td>2</td>\n",
       "      <td>1.0</td>\n",
       "      <td>2</td>\n",
       "      <td>1</td>\n",
       "      <td>1.0</td>\n",
       "      <td>1</td>\n",
       "    </tr>\n",
       "    <tr>\n",
       "      <th>5</th>\n",
       "      <td>991</td>\n",
       "      <td>9991</td>\n",
       "      <td>91</td>\n",
       "      <td>91</td>\n",
       "      <td>991</td>\n",
       "      <td>91</td>\n",
       "      <td>991</td>\n",
       "      <td>91</td>\n",
       "      <td>91</td>\n",
       "      <td>91</td>\n",
       "      <td>...</td>\n",
       "      <td>10</td>\n",
       "      <td>3</td>\n",
       "      <td>1</td>\n",
       "      <td>1</td>\n",
       "      <td>5</td>\n",
       "      <td>3.0</td>\n",
       "      <td>1</td>\n",
       "      <td>3</td>\n",
       "      <td>2.0</td>\n",
       "      <td>1</td>\n",
       "    </tr>\n",
       "    <tr>\n",
       "      <th>6</th>\n",
       "      <td>998</td>\n",
       "      <td>9998</td>\n",
       "      <td>98</td>\n",
       "      <td>11</td>\n",
       "      <td>998</td>\n",
       "      <td>98</td>\n",
       "      <td>998</td>\n",
       "      <td>98</td>\n",
       "      <td>98</td>\n",
       "      <td>98</td>\n",
       "      <td>...</td>\n",
       "      <td>5</td>\n",
       "      <td>2</td>\n",
       "      <td>1</td>\n",
       "      <td>1</td>\n",
       "      <td>2</td>\n",
       "      <td>2.0</td>\n",
       "      <td>94</td>\n",
       "      <td>4</td>\n",
       "      <td>3.0</td>\n",
       "      <td>1</td>\n",
       "    </tr>\n",
       "    <tr>\n",
       "      <th>7</th>\n",
       "      <td>991</td>\n",
       "      <td>9991</td>\n",
       "      <td>91</td>\n",
       "      <td>91</td>\n",
       "      <td>991</td>\n",
       "      <td>91</td>\n",
       "      <td>991</td>\n",
       "      <td>91</td>\n",
       "      <td>91</td>\n",
       "      <td>91</td>\n",
       "      <td>...</td>\n",
       "      <td>9</td>\n",
       "      <td>3</td>\n",
       "      <td>1</td>\n",
       "      <td>1</td>\n",
       "      <td>4</td>\n",
       "      <td>3.0</td>\n",
       "      <td>1</td>\n",
       "      <td>3</td>\n",
       "      <td>3.0</td>\n",
       "      <td>2</td>\n",
       "    </tr>\n",
       "    <tr>\n",
       "      <th>8</th>\n",
       "      <td>991</td>\n",
       "      <td>9991</td>\n",
       "      <td>91</td>\n",
       "      <td>91</td>\n",
       "      <td>991</td>\n",
       "      <td>91</td>\n",
       "      <td>991</td>\n",
       "      <td>91</td>\n",
       "      <td>91</td>\n",
       "      <td>91</td>\n",
       "      <td>...</td>\n",
       "      <td>1</td>\n",
       "      <td>3</td>\n",
       "      <td>1</td>\n",
       "      <td>1</td>\n",
       "      <td>1</td>\n",
       "      <td>3.0</td>\n",
       "      <td>1</td>\n",
       "      <td>1</td>\n",
       "      <td>1.0</td>\n",
       "      <td>2</td>\n",
       "    </tr>\n",
       "    <tr>\n",
       "      <th>9</th>\n",
       "      <td>991</td>\n",
       "      <td>9991</td>\n",
       "      <td>91</td>\n",
       "      <td>91</td>\n",
       "      <td>991</td>\n",
       "      <td>91</td>\n",
       "      <td>991</td>\n",
       "      <td>91</td>\n",
       "      <td>91</td>\n",
       "      <td>91</td>\n",
       "      <td>...</td>\n",
       "      <td>4</td>\n",
       "      <td>2</td>\n",
       "      <td>1</td>\n",
       "      <td>1</td>\n",
       "      <td>2</td>\n",
       "      <td>2.0</td>\n",
       "      <td>1</td>\n",
       "      <td>1</td>\n",
       "      <td>1.0</td>\n",
       "      <td>1</td>\n",
       "    </tr>\n",
       "  </tbody>\n",
       "</table>\n",
       "<p>10 rows × 84 columns</p>\n",
       "</div>"
      ],
      "text/plain": [
       "   MJAGE  MJYFU  MJMFU  MJREC  MJYRTOT  MRBSTWAY  MRDAYPYR  MRDAYPMO  \\\n",
       "0     19   9999     99      1       52         1       999        99   \n",
       "1    991   9991     91     91      991        91       991        91   \n",
       "2    991   9991     91     91      991        91       991        91   \n",
       "3     13   9999     99      1      364         1       999        99   \n",
       "4    991   9991     91     91      991        91       991        91   \n",
       "5    991   9991     91     91      991        91       991        91   \n",
       "6    998   9998     98     11      998        98       998        98   \n",
       "7    991   9991     91     91      991        91       991        91   \n",
       "8    991   9991     91     91      991        91       991        91   \n",
       "9    991   9991     91     91      991        91       991        91   \n",
       "\n",
       "   MRDAYPWK  MJDAY30A  ...  AGE3  HEALTH  LVLDIFMEM2  LVLDIFCOMM2  CATAG3  \\\n",
       "0         1        30  ...     8       4           1            1       3   \n",
       "1        91        91  ...    11       3           1            1       5   \n",
       "2        91        91  ...     6       2           1            1       2   \n",
       "3         7        30  ...     9       2           2            2       4   \n",
       "4        91        91  ...     6       1           1            1       2   \n",
       "5        91        91  ...    10       3           1            1       5   \n",
       "6        98        98  ...     5       2           1            1       2   \n",
       "7        91        91  ...     9       3           1            1       4   \n",
       "8        91        91  ...     1       3           1            1       1   \n",
       "9        91        91  ...     4       2           1            1       2   \n",
       "\n",
       "   HEALTH2  ANYHLTI2  INCOME  POVERTY3  COUTYP4  \n",
       "0      4.0         1       1       2.0        3  \n",
       "1      3.0         1       4       3.0        1  \n",
       "2      2.0         1       2       2.0        2  \n",
       "3      2.0         1       2       2.0        1  \n",
       "4      1.0         2       1       1.0        1  \n",
       "5      3.0         1       3       2.0        1  \n",
       "6      2.0        94       4       3.0        1  \n",
       "7      3.0         1       3       3.0        2  \n",
       "8      3.0         1       1       1.0        2  \n",
       "9      2.0         1       1       1.0        1  \n",
       "\n",
       "[10 rows x 84 columns]"
      ]
     },
     "execution_count": 2,
     "metadata": {},
     "output_type": "execute_result"
    }
   ],
   "source": [
    "# Columns\n",
    "mj_mh_col = [\"AD_MDEA1\", \"AD_MDEA2\", \"AD_MDEA3\", \"AD_MDEA4\", \"AD_MDEA8\", \"ADDPREV\", \"ADSMMDEA\", \"AGE3\", \"ALCFLAG\", \"ANYHLTI2\",\n",
    "             \"ASDSREL2\", \"AUALTYR\", \"AUMHTELYR2\", \"CAMHPROB2\", \"CATAG3\", \"COCFLAG\", \"COUTYP4\", \"CRKFLAG\", \"HEALTH\", \"HEALTH2\", \n",
    "             \"HERFLAG\", \"INCOME\", \"IRPYUD5MRJ\", \"LSDFLAG\", \"LVLDIFCOMM2\", \"LVLDIFMEM2\", \"METHAMFLAG\", \"MJAGE\", \"MJDAY30A\", \"MRJFLAG\",\n",
    "             \"MJONLYFLAG\", \"MJMFU\", \"MJREC\", \"MJYFU\", \"MJYRTOT\", \"MMBJOINT\", \"MMBLOOSE\", \"MMBOTHER\", \"MMBSELL\", \"MMBT30DY\", \n",
    "             \"MMBTDISP\", \"MMBTPYR\", \"MMLSPCAT1\", \"MMLSPCTB1\", \"MMLSUNIT1\", \"MRBSTWAY\", \"MRDAYPMO\", \"MRDAYPWK\", \"MRDAYPYR\", \"MR30EST\", \n",
    "             \"POVERTY3\", \"PYUD5MRJ\", \"SUICTHNK\", \"SUIPLANYR\", \"TOBFLAG\", \"UDMJFMLYCTD\", \"UDMJFMLYPRB\", \"UDMJGETHURT\", \"UDMJHLTHCTD\", \"UDMJHLTHPRB\",\n",
    "             \"UDMJLESSEFF\", \"UDMJMNTLCTD\", \"UDMJMNTLPRB\", \"UDMJNEEDMOR\", \"UDMJSTOPACT\", \"UDMJSTRURGE\", \"UDMJTIMEGET\", \"UDMJTIMEUSE\", \"UDMJTRYSTOP\", \"UDMJWANTBAD\",\n",
    "             \"UDMJWDANGRY\", \"UDMJWDAPPET\", \"UDMJWDCHILL\", \"UDMJWDDEPRS\", \"UDMJWDFEVER\", \"UDMJWDFLANX\", \"UDMJWDHEDAC\", \"UDMJWDSHAKE\", \"UDMJWDSITST\", \"UDMJWDSLEEP\", \n",
    "             \"UDMJWDSTMCH\", \"UDMJWDSWEAT\", \"UDMJWORKPRB\", \"YODSMMDE\"]\n",
    "\n",
    "mj_mh_df = nsduh_df.drop(columns=[col for col in nsduh_df.columns if col not in mj_mh_col])\n",
    "\n",
    "mj_mh_df.head(10)"
   ]
  },
  {
   "cell_type": "code",
   "execution_count": 16,
   "id": "a98fb8de",
   "metadata": {},
   "outputs": [],
   "source": [
    "columns = df.columns"
   ]
  },
  {
   "cell_type": "code",
   "execution_count": 18,
   "id": "41173ccf",
   "metadata": {},
   "outputs": [
    {
     "data": {
      "text/plain": [
       "'MJYFU'"
      ]
     },
     "execution_count": 18,
     "metadata": {},
     "output_type": "execute_result"
    }
   ],
   "source": [
    "columns[1]"
   ]
  },
  {
   "cell_type": "code",
   "execution_count": 19,
   "id": "89f05ee0",
   "metadata": {},
   "outputs": [
    {
     "data": {
      "text/plain": [
       "9991    32487\n",
       "9999    23607\n",
       "2020      774\n",
       "2021      444\n",
       "2019      187\n",
       "9998      177\n",
       "9985      132\n",
       "9989      112\n",
       "9994       66\n",
       "9997       48\n",
       "Name: MJYFU, dtype: int64"
      ]
     },
     "execution_count": 19,
     "metadata": {},
     "output_type": "execute_result"
    }
   ],
   "source": [
    "df.MJYFU.value_counts()"
   ]
  },
  {
   "cell_type": "code",
   "execution_count": 20,
   "id": "927f0808",
   "metadata": {},
   "outputs": [
    {
     "data": {
      "text/plain": [
       "'MJMFU'"
      ]
     },
     "execution_count": 20,
     "metadata": {},
     "output_type": "execute_result"
    }
   ],
   "source": [
    "columns[2]"
   ]
  },
  {
   "cell_type": "code",
   "execution_count": null,
   "id": "3d5a7542",
   "metadata": {},
   "outputs": [],
   "source": [
    "1 = January.......................................................................................................................... 105 0.18\n",
    "2 = February........................................................................................................................ 96 0.17\n",
    "3 = March............................................................................................................................ 113 0.19\n",
    "4 = April ............................................................................................................................. 111 0.19\n",
    "5 = May............................................................................................................................... 97 0.17\n",
    "6 = June............................................................................................................................... 139 0.24\n",
    "7 = July ............................................................................................................................... 125 0.22\n",
    "8 = August .......................................................................................................................... 118 0.20\n",
    "9 = September..................................................................................................................... 99 0.17\n",
    "10 = October....................................................................................................................... 114 0.20\n",
    "11 = November................................................................................................................... 91 0.16\n",
    "12 = December.................................................................................................................... 113 0.19\n",
    "85 = BAD DATA Logically assigned ................................................................................. 132 0.23\n",
    "89 = LEGITIMATE SKIP Logically assigned .................................................................... 112 0.19\n",
    "91 = NEVER USED MARIJUANA ................................................................................... 32487 55.98\n",
    "94 = DON'T KNOW........................................................................................................... 146 0.25\n",
    "97 = REFUSED .................................................................................................................. 52 0.09\n",
    "98 = BLANK (NO ANSWER) ........................................................................................... 177 0.30\n",
    "99 = LEGITIMATE SKIP................................................................................................... 23607 40.68"
   ]
  },
  {
   "cell_type": "code",
   "execution_count": 21,
   "id": "8250e3d5",
   "metadata": {},
   "outputs": [
    {
     "data": {
      "text/plain": [
       "91    32487\n",
       "99    23607\n",
       "98      177\n",
       "94      146\n",
       "6       139\n",
       "85      132\n",
       "7       125\n",
       "8       118\n",
       "10      114\n",
       "12      113\n",
       "3       113\n",
       "89      112\n",
       "4       111\n",
       "1       105\n",
       "9        99\n",
       "5        97\n",
       "2        96\n",
       "11       91\n",
       "97       52\n",
       "Name: MJMFU, dtype: int64"
      ]
     },
     "execution_count": 21,
     "metadata": {},
     "output_type": "execute_result"
    }
   ],
   "source": [
    "df.MJMFU.value_counts()"
   ]
  },
  {
   "cell_type": "code",
   "execution_count": 22,
   "id": "ced7d261",
   "metadata": {},
   "outputs": [
    {
     "data": {
      "text/plain": [
       "'MJREC'"
      ]
     },
     "execution_count": 22,
     "metadata": {},
     "output_type": "execute_result"
    }
   ],
   "source": [
    "columns[3]"
   ]
  },
  {
   "cell_type": "code",
   "execution_count": 23,
   "id": "d4c4fd9f",
   "metadata": {},
   "outputs": [
    {
     "data": {
      "text/plain": [
       "91    32487\n",
       "3     12886\n",
       "1      8176\n",
       "2      3840\n",
       "12      161\n",
       "8       160\n",
       "11      136\n",
       "9        85\n",
       "13       70\n",
       "98       16\n",
       "97       16\n",
       "85        1\n",
       "Name: MJREC, dtype: int64"
      ]
     },
     "execution_count": 23,
     "metadata": {},
     "output_type": "execute_result"
    }
   ],
   "source": [
    "df.MJREC.value_counts()"
   ]
  },
  {
   "cell_type": "code",
   "execution_count": 24,
   "id": "cd5f29ba",
   "metadata": {},
   "outputs": [
    {
     "data": {
      "text/plain": [
       "'MJYRTOT'"
      ]
     },
     "execution_count": 24,
     "metadata": {},
     "output_type": "execute_result"
    }
   ],
   "source": [
    "columns[4]"
   ]
  },
  {
   "cell_type": "code",
   "execution_count": 9,
   "id": "7f6953a5",
   "metadata": {},
   "outputs": [
    {
     "data": {
      "text/plain": [
       "0      45443\n",
       "364     1548\n",
       "260      717\n",
       "1        625\n",
       "2        623\n",
       "       ...  \n",
       "135        1\n",
       "258        1\n",
       "39         1\n",
       "136        1\n",
       "98         1\n",
       "Name: MJYRTOT, Length: 203, dtype: int64"
      ]
     },
     "execution_count": 9,
     "metadata": {},
     "output_type": "execute_result"
    }
   ],
   "source": [
    "# Process MJYRTOT\n",
    "\n",
    "# Set 991 and 993 to 0\n",
    "df.loc[df['MJYRTOT'] == 991, 'MJYRTOT'] = 0\n",
    "df.loc[df['MJYRTOT'] == 993, 'MJYRTOT'] = 0"
   ]
  },
  {
   "cell_type": "code",
   "execution_count": 27,
   "id": "41052c9e",
   "metadata": {},
   "outputs": [
    {
     "data": {
      "text/plain": [
       "count    58034.000000\n",
       "mean        39.193628\n",
       "std        129.138829\n",
       "min          0.000000\n",
       "25%          0.000000\n",
       "50%          0.000000\n",
       "75%          0.000000\n",
       "max        998.000000\n",
       "Name: MJYRTOT, dtype: float64"
      ]
     },
     "execution_count": 27,
     "metadata": {},
     "output_type": "execute_result"
    }
   ],
   "source": [
    "# Inspect using histogram\n",
    "df.MJYRTOT.describe()"
   ]
  },
  {
   "cell_type": "code",
   "execution_count": 28,
   "id": "d7d060cc",
   "metadata": {},
   "outputs": [
    {
     "data": {
      "text/plain": [
       "'MRBSTWAY'"
      ]
     },
     "execution_count": 28,
     "metadata": {},
     "output_type": "execute_result"
    }
   ],
   "source": [
    "columns[5]"
   ]
  },
  {
   "cell_type": "code",
   "execution_count": 29,
   "id": "e8c32431",
   "metadata": {},
   "outputs": [
    {
     "data": {
      "text/plain": [
       "'MRDAYPYR'"
      ]
     },
     "execution_count": 29,
     "metadata": {},
     "output_type": "execute_result"
    }
   ],
   "source": [
    "columns[6]"
   ]
  },
  {
   "cell_type": "code",
   "execution_count": null,
   "id": "0a7a3ac5",
   "metadata": {},
   "outputs": [],
   "source": [
    "RANGE = 1 - 366 ............................................................................................................... 4308 7.42\n",
    "985 = BAD DATA Logically assigned ............................................................................... 31 0.05\n",
    "989 = LEGITIMATE SKIP Logically assigned .................................................................. 39 0.07\n",
    "991 = NEVER USED MARIJUANA ................................................................................. 32487 55.98\n",
    "993 = DID NOT USE MARIJUANA IN THE PAST 12 MOS........................................... 12956 22.32\n",
    "994 = DON'T KNOW......................................................................................................... 26 0.04\n",
    "997 = REFUSED ................................................................................................................ 26 0.04\n",
    "998 = BLANK (NO ANSWER).......................................................................................... 429 0.74\n",
    "999 = LEGITIMATE SKIP................................................................................................. 7732 13.32"
   ]
  },
  {
   "cell_type": "code",
   "execution_count": 30,
   "id": "dfe8d807",
   "metadata": {},
   "outputs": [],
   "source": [
    "# Clean MRDAYPYR - note: it is different from MJYRTOT because it includes HASHISH\n",
    "\n",
    "# Replace 991 with 0\n",
    "df['MRBSTWAY'] = df['MRBSTWAY'].replace(991, 0)\n",
    "\n",
    "# Drop all values outside of range 0-366\n",
    "df = df[df['MRBSTWAY'] <= 366]"
   ]
  },
  {
   "cell_type": "code",
   "execution_count": 31,
   "id": "42429cb9",
   "metadata": {},
   "outputs": [
    {
     "data": {
      "text/plain": [
       "'MRDAYPMO'"
      ]
     },
     "execution_count": 31,
     "metadata": {},
     "output_type": "execute_result"
    }
   ],
   "source": [
    "columns[7] # Dropping"
   ]
  },
  {
   "cell_type": "code",
   "execution_count": 32,
   "id": "525e4a07",
   "metadata": {},
   "outputs": [
    {
     "data": {
      "text/plain": [
       "'MRDAYPWK'"
      ]
     },
     "execution_count": 32,
     "metadata": {},
     "output_type": "execute_result"
    }
   ],
   "source": [
    "columns[8]"
   ]
  },
  {
   "cell_type": "code",
   "execution_count": 33,
   "id": "b32245fc",
   "metadata": {},
   "outputs": [
    {
     "data": {
      "text/plain": [
       "'MJDAY30A'"
      ]
     },
     "execution_count": 33,
     "metadata": {},
     "output_type": "execute_result"
    }
   ],
   "source": [
    "columns[9]"
   ]
  },
  {
   "cell_type": "code",
   "execution_count": 34,
   "id": "ce91e06e",
   "metadata": {},
   "outputs": [
    {
     "data": {
      "text/plain": [
       "'MR30EST'"
      ]
     },
     "execution_count": 34,
     "metadata": {},
     "output_type": "execute_result"
    }
   ],
   "source": [
    "columns[10]"
   ]
  },
  {
   "cell_type": "code",
   "execution_count": 35,
   "id": "03d8a9f3",
   "metadata": {},
   "outputs": [
    {
     "data": {
      "text/plain": [
       "'TOBFLAG'"
      ]
     },
     "execution_count": 35,
     "metadata": {},
     "output_type": "execute_result"
    }
   ],
   "source": [
    "columns[11]"
   ]
  },
  {
   "cell_type": "code",
   "execution_count": 44,
   "id": "0973a467",
   "metadata": {},
   "outputs": [
    {
     "data": {
      "text/plain": [
       "'UDMJTIMEUSE'"
      ]
     },
     "execution_count": 44,
     "metadata": {},
     "output_type": "execute_result"
    }
   ],
   "source": [
    "columns[20] # SPENT GREAT DEAL OF TIME USING/FEEL EFF OF MJ PST 12 MOS"
   ]
  },
  {
   "cell_type": "code",
   "execution_count": null,
   "id": "3ecf4139",
   "metadata": {},
   "outputs": [],
   "source": [
    "1 = Yes................................................................................................................................ 3530 6.08\n",
    "2 = No................................................................................................................................. 5905 10.18\n",
    "83 = DID NOT USE MARIJUANA PAST 12 MOS OR USED <6 DAYS Log assn......... 27 0.05\n",
    "85 = BAD DATA LOGICALLY ASSIGNED.................................................................... 4 0.01\n",
    "91 = NEVER USED MARIJUANA ................................................................................... 32487 55.98\n",
    "93 = DID NOT USE MARIJUANA PAST 12 MOS OR USED <6 DAYS........................ 15491 26.69\n",
    "94 = DON'T KNOW........................................................................................................... 18 0.03\n",
    "97 = REFUSED .................................................................................................................. 29 0.05\n",
    "98 = BLANK (NO ANSWER) ........................................................................................... 543 0.94"
   ]
  },
  {
   "cell_type": "code",
   "execution_count": 45,
   "id": "774812f6",
   "metadata": {},
   "outputs": [],
   "source": [
    "# Clean UDMJTIMEUSE\n",
    "\n",
    "# Replace 91 with 0\n",
    "df['UDMJTIMEUSE'] = df['UDMJTIMEUSE'].replace(91, 0)\n",
    "\n",
    "# Drop all values that are not 0 or 1\n",
    "df = df[df['UDMJTIMEUSE'].isin([0, 1])]"
   ]
  },
  {
   "cell_type": "code",
   "execution_count": 46,
   "id": "b3ef1248",
   "metadata": {},
   "outputs": [
    {
     "data": {
      "text/plain": [
       "'UDMJTIMEGET'"
      ]
     },
     "execution_count": 46,
     "metadata": {},
     "output_type": "execute_result"
    }
   ],
   "source": [
    "columns[21]"
   ]
  },
  {
   "cell_type": "code",
   "execution_count": 47,
   "id": "c2410164",
   "metadata": {},
   "outputs": [
    {
     "data": {
      "text/plain": [
       "'UDMJWANTBAD'"
      ]
     },
     "execution_count": 47,
     "metadata": {},
     "output_type": "execute_result"
    }
   ],
   "source": [
    "columns[22]"
   ]
  },
  {
   "cell_type": "code",
   "execution_count": 48,
   "id": "5c1baaee",
   "metadata": {},
   "outputs": [
    {
     "data": {
      "text/plain": [
       "'UDMJSTRURGE'"
      ]
     },
     "execution_count": 48,
     "metadata": {},
     "output_type": "execute_result"
    }
   ],
   "source": [
    "columns[23]"
   ]
  },
  {
   "cell_type": "code",
   "execution_count": 49,
   "id": "77885634",
   "metadata": {},
   "outputs": [
    {
     "data": {
      "text/plain": [
       "'UDMJNEEDMOR'"
      ]
     },
     "execution_count": 49,
     "metadata": {},
     "output_type": "execute_result"
    }
   ],
   "source": [
    "columns[24]"
   ]
  },
  {
   "cell_type": "code",
   "execution_count": 50,
   "id": "4e8db966",
   "metadata": {},
   "outputs": [
    {
     "data": {
      "text/plain": [
       "'UDMJLESSEFF'"
      ]
     },
     "execution_count": 50,
     "metadata": {},
     "output_type": "execute_result"
    }
   ],
   "source": [
    "columns[25] # TRY TO CUT DOWN/STOP MARIJUANA USE IN PAST 12 MOS"
   ]
  },
  {
   "cell_type": "code",
   "execution_count": 51,
   "id": "56bf398e",
   "metadata": {},
   "outputs": [
    {
     "data": {
      "text/plain": [
       "'UDMJTRYSTOP'"
      ]
     },
     "execution_count": 51,
     "metadata": {},
     "output_type": "execute_result"
    }
   ],
   "source": [
    "columns[26]"
   ]
  },
  {
   "cell_type": "code",
   "execution_count": null,
   "id": "07e925af",
   "metadata": {},
   "outputs": [],
   "source": [
    "1 = Yes................................................................................................................................ 2747 4.73\n",
    "2 = No................................................................................................................................. 6683 11.52\n",
    "83 = DID NOT USE MARIJUANA PAST 12 MOS OR USED <6 DAYS Log assn......... 27 0.05\n",
    "85 = BAD DATA LOGICALLY ASSIGNED.................................................................... 4 0.01\n",
    "91 = NEVER USED MARIJUANA ................................................................................... 32487 55.98\n",
    "93 = DID NOT USE MARIJUANA PAST 12 MOS OR USED <6 DAYS........................ 15491 26.69\n",
    "94 = DON'T KNOW........................................................................................................... 12 0.02\n",
    "97 = REFUSED .................................................................................................................. 27 0.05\n",
    "98 = BLANK (NO ANSWER) ........................................................................................... 556 0.96"
   ]
  },
  {
   "cell_type": "code",
   "execution_count": 52,
   "id": "3069ecef",
   "metadata": {},
   "outputs": [],
   "source": [
    "# Clean UDMJTRYSTOP\n",
    "\n",
    "# Replace 91 with 0\n",
    "df['UDMJTRYSTOP'] = df['UDMJTRYSTOP'].replace(91, 0)\n",
    "\n",
    "# Drop all values other than 1 and 0\n",
    "df = df[df['UDMJTRYSTOP'].isin([0, 1])]"
   ]
  },
  {
   "cell_type": "code",
   "execution_count": 53,
   "id": "916c2acd",
   "metadata": {},
   "outputs": [
    {
     "data": {
      "text/plain": [
       "'UDMJHLTHPRB'"
      ]
     },
     "execution_count": 53,
     "metadata": {},
     "output_type": "execute_result"
    }
   ],
   "source": [
    "columns[27]"
   ]
  },
  {
   "cell_type": "code",
   "execution_count": 54,
   "id": "207cc7c9",
   "metadata": {},
   "outputs": [
    {
     "data": {
      "text/plain": [
       "'UDMJHLTHCTD'"
      ]
     },
     "execution_count": 54,
     "metadata": {},
     "output_type": "execute_result"
    }
   ],
   "source": [
    "columns[28]"
   ]
  },
  {
   "cell_type": "code",
   "execution_count": 55,
   "id": "15b83e94",
   "metadata": {},
   "outputs": [
    {
     "data": {
      "text/plain": [
       "'UDMJMNTLPRB'"
      ]
     },
     "execution_count": 55,
     "metadata": {},
     "output_type": "execute_result"
    }
   ],
   "source": [
    "columns[29]"
   ]
  },
  {
   "cell_type": "code",
   "execution_count": 56,
   "id": "041cf8b8",
   "metadata": {},
   "outputs": [
    {
     "data": {
      "text/plain": [
       "'UDMJMNTLCTD'"
      ]
     },
     "execution_count": 56,
     "metadata": {},
     "output_type": "execute_result"
    }
   ],
   "source": [
    "columns[30]"
   ]
  },
  {
   "cell_type": "code",
   "execution_count": 57,
   "id": "e02d6cd5",
   "metadata": {},
   "outputs": [
    {
     "data": {
      "text/plain": [
       "'UDMJSTOPACT'"
      ]
     },
     "execution_count": 57,
     "metadata": {},
     "output_type": "execute_result"
    }
   ],
   "source": [
    "columns[31]"
   ]
  },
  {
   "cell_type": "code",
   "execution_count": 58,
   "id": "138ce8b8",
   "metadata": {},
   "outputs": [
    {
     "data": {
      "text/plain": [
       "'UDMJWORKPRB'"
      ]
     },
     "execution_count": 58,
     "metadata": {},
     "output_type": "execute_result"
    }
   ],
   "source": [
    "columns[32]"
   ]
  },
  {
   "cell_type": "code",
   "execution_count": 59,
   "id": "c6d0e493",
   "metadata": {},
   "outputs": [
    {
     "data": {
      "text/plain": [
       "'UDMJFMLYPRB'"
      ]
     },
     "execution_count": 59,
     "metadata": {},
     "output_type": "execute_result"
    }
   ],
   "source": [
    "columns[33]"
   ]
  },
  {
   "cell_type": "code",
   "execution_count": 61,
   "id": "9105196e",
   "metadata": {},
   "outputs": [
    {
     "data": {
      "text/plain": [
       "'UDMJFMLYCTD'"
      ]
     },
     "execution_count": 61,
     "metadata": {},
     "output_type": "execute_result"
    }
   ],
   "source": [
    "columns[34]"
   ]
  },
  {
   "cell_type": "code",
   "execution_count": 62,
   "id": "b6d299df",
   "metadata": {},
   "outputs": [
    {
     "data": {
      "text/plain": [
       "'UDMJGETHURT'"
      ]
     },
     "execution_count": 62,
     "metadata": {},
     "output_type": "execute_result"
    }
   ],
   "source": [
    "columns[35]"
   ]
  },
  {
   "cell_type": "code",
   "execution_count": 63,
   "id": "26dbf326",
   "metadata": {},
   "outputs": [
    {
     "data": {
      "text/plain": [
       "'UDMJWDANGRY'"
      ]
     },
     "execution_count": 63,
     "metadata": {},
     "output_type": "execute_result"
    }
   ],
   "source": [
    "columns[36] # FEELING IRRITABLE OR ANGRY-MJ WITHDRAWAL SYMPTOM PST 12 MOS"
   ]
  },
  {
   "cell_type": "code",
   "execution_count": null,
   "id": "ad897ca5",
   "metadata": {},
   "outputs": [],
   "source": [
    "1 = Yes................................................................................................................................ 1572 2.71\n",
    "2 = No................................................................................................................................. 7840 13.51\n",
    "83 = DID NOT USE MARIJUANA PAST 12 MOS OR USED <6 DAYS Log assn......... 27 0.05\n",
    "85 = BAD DATA LOGICALLY ASSIGNED.................................................................... 4 0.01\n",
    "91 = NEVER USED MARIJUANA ................................................................................... 32487 55.98\n",
    "93 = DID NOT USE MARIJUANA PAST 12 MOS OR USED <6 DAYS........................ 15491 26.69\n",
    "94 = DON'T KNOW........................................................................................................... 20 0.03\n",
    "97 = REFUSED .................................................................................................................. 27 0.05\n",
    "98 = BLANK (NO ANSWER) ........................................................................................... 566 0.98"
   ]
  },
  {
   "cell_type": "code",
   "execution_count": 65,
   "id": "719cc6c8",
   "metadata": {},
   "outputs": [],
   "source": [
    "# Clean UDMJWDANGRY\n",
    "\n",
    "# Replace 91 and 93 with 0\n",
    "df['UDMJWDANGRY'] = df['UDMJWDANGRY'].replace([91, 93], 0)\n",
    "\n",
    "# Drop all values that are not 0 or 1\n",
    "df = df[df['UDMJWDANGRY'].isin([0, 1])]"
   ]
  },
  {
   "cell_type": "code",
   "execution_count": 66,
   "id": "086dab04",
   "metadata": {},
   "outputs": [
    {
     "data": {
      "text/plain": [
       "'UDMJWDFLANX'"
      ]
     },
     "execution_count": 66,
     "metadata": {},
     "output_type": "execute_result"
    }
   ],
   "source": [
    "columns[37] # FEELING ANXIOUS/NERVOUS - MJ WITHDRAWAL SYMPTOM PST 12 MOS"
   ]
  },
  {
   "cell_type": "code",
   "execution_count": 64,
   "id": "cf4e6690",
   "metadata": {},
   "outputs": [
    {
     "data": {
      "text/plain": [
       "91    32487\n",
       "2       820\n",
       "1       678\n",
       "94        3\n",
       "98        1\n",
       "Name: UDMJWDANGRY, dtype: int64"
      ]
     },
     "execution_count": 64,
     "metadata": {},
     "output_type": "execute_result"
    }
   ],
   "source": [
    "df.UDMJWDANGRY.value_counts()"
   ]
  },
  {
   "cell_type": "code",
   "execution_count": null,
   "id": "1b4bba08",
   "metadata": {},
   "outputs": [],
   "source": [
    "# If a column is missing >= 50% of its values (i.e. 991 or something similar), drop the field!"
   ]
  },
  {
   "cell_type": "code",
   "execution_count": 60,
   "id": "65feeb11",
   "metadata": {},
   "outputs": [
    {
     "data": {
      "text/plain": [
       "91.0    32487\n",
       "1.0      1415\n",
       "0.0        86\n",
       "Name: PYUD5MRJ, dtype: int64"
      ]
     },
     "execution_count": 60,
     "metadata": {},
     "output_type": "execute_result"
    }
   ],
   "source": [
    "df.PYUD5MRJ.value_counts()"
   ]
  },
  {
   "cell_type": "code",
   "execution_count": null,
   "id": "a109587f",
   "metadata": {},
   "outputs": [],
   "source": [
    "fields_to_drop = ['MJAGE', 'MJYFU', 'MJMFU', 'MJREC', 'MRDAYPMO', 'MRDAYPWK', 'MJDAY30A', 'MR30EST', 'UDMJTIMEGET', 'UDMJWANTBAD',\n",
    "                  'UDMJSTRURGE', 'UDMJNEEDMOR', 'UDMJLESSEFF', 'UDMJHLTHPRB', 'UDMJHLTHCTD', 'UDMJMNTLPRB', 'UDMJMNTLCTD', 'UDMJSTOPACT',\n",
    "                  'UDMJWORKPRB', 'UDMJFMLYPRB', 'UDMJFMLYCTD', 'UDMJGETHURT', ]"
   ]
  },
  {
   "cell_type": "code",
   "execution_count": 15,
   "id": "8d25a2c1",
   "metadata": {},
   "outputs": [
    {
     "data": {
      "text/plain": [
       "991    32487\n",
       "16      3704\n",
       "18      3493\n",
       "15      2868\n",
       "17      2377\n",
       "       ...  \n",
       "79         1\n",
       "82         1\n",
       "64         1\n",
       "78         1\n",
       "80         1\n",
       "Name: MJAGE, Length: 84, dtype: int64"
      ]
     },
     "execution_count": 15,
     "metadata": {},
     "output_type": "execute_result"
    }
   ],
   "source": [
    "df.MJAGE.value_counts()"
   ]
  },
  {
   "cell_type": "code",
   "execution_count": null,
   "id": "5e1659d5",
   "metadata": {},
   "outputs": [],
   "source": [
    "# Notes:\n",
    "# If you have values over 900, filter them out!\n",
    "# \"Anything greater than 900... etc.\"\n",
    "# Must know which columns where \"problem\" encoding applies\n",
    "# Run drop command for every column"
   ]
  },
  {
   "cell_type": "code",
   "execution_count": null,
   "id": "df03923d",
   "metadata": {},
   "outputs": [],
   "source": [
    "# First make sure no NaN values (must have 0 null values)\n",
    "# Or call fillna() on column to replace NA values"
   ]
  },
  {
   "cell_type": "code",
   "execution_count": 4,
   "id": "7850d230",
   "metadata": {},
   "outputs": [],
   "source": [
    "df = mj_mh_df.copy()"
   ]
  },
  {
   "cell_type": "code",
   "execution_count": 14,
   "id": "58f799fb",
   "metadata": {},
   "outputs": [
    {
     "name": "stdout",
     "output_type": "stream",
     "text": [
      "<class 'pandas.core.frame.DataFrame'>\n",
      "RangeIndex: 58034 entries, 0 to 58033\n",
      "Data columns (total 84 columns):\n",
      " #   Column       Non-Null Count  Dtype  \n",
      "---  ------       --------------  -----  \n",
      " 0   MJAGE        58034 non-null  int64  \n",
      " 1   MJYFU        58034 non-null  int64  \n",
      " 2   MJMFU        58034 non-null  int64  \n",
      " 3   MJREC        58034 non-null  int64  \n",
      " 4   MJYRTOT      58034 non-null  int64  \n",
      " 5   MRBSTWAY     58034 non-null  int64  \n",
      " 6   MRDAYPYR     58034 non-null  int64  \n",
      " 7   MRDAYPMO     58034 non-null  int64  \n",
      " 8   MRDAYPWK     58034 non-null  int64  \n",
      " 9   MJDAY30A     58034 non-null  int64  \n",
      " 10  MR30EST      58034 non-null  int64  \n",
      " 11  TOBFLAG      58034 non-null  int64  \n",
      " 12  ALCFLAG      58034 non-null  int64  \n",
      " 13  MRJFLAG      58034 non-null  int64  \n",
      " 14  COCFLAG      58034 non-null  int64  \n",
      " 15  CRKFLAG      58034 non-null  int64  \n",
      " 16  HERFLAG      58034 non-null  int64  \n",
      " 17  LSDFLAG      58034 non-null  int64  \n",
      " 18  METHAMFLAG   58034 non-null  int64  \n",
      " 19  MJONLYFLAG   58034 non-null  int64  \n",
      " 20  UDMJTIMEUSE  58034 non-null  int64  \n",
      " 21  UDMJTIMEGET  58034 non-null  int64  \n",
      " 22  UDMJWANTBAD  58034 non-null  int64  \n",
      " 23  UDMJSTRURGE  58034 non-null  int64  \n",
      " 24  UDMJNEEDMOR  58034 non-null  int64  \n",
      " 25  UDMJLESSEFF  58034 non-null  int64  \n",
      " 26  UDMJTRYSTOP  58034 non-null  int64  \n",
      " 27  UDMJHLTHPRB  58034 non-null  int64  \n",
      " 28  UDMJHLTHCTD  58034 non-null  int64  \n",
      " 29  UDMJMNTLPRB  58034 non-null  int64  \n",
      " 30  UDMJMNTLCTD  58034 non-null  int64  \n",
      " 31  UDMJSTOPACT  58034 non-null  int64  \n",
      " 32  UDMJWORKPRB  58034 non-null  int64  \n",
      " 33  UDMJFMLYPRB  58034 non-null  int64  \n",
      " 34  UDMJFMLYCTD  58034 non-null  int64  \n",
      " 35  UDMJGETHURT  58034 non-null  int64  \n",
      " 36  UDMJWDANGRY  58034 non-null  int64  \n",
      " 37  UDMJWDFLANX  58034 non-null  int64  \n",
      " 38  UDMJWDSLEEP  58034 non-null  int64  \n",
      " 39  UDMJWDAPPET  58034 non-null  int64  \n",
      " 40  UDMJWDSITST  58034 non-null  int64  \n",
      " 41  UDMJWDDEPRS  58034 non-null  int64  \n",
      " 42  UDMJWDSTMCH  58034 non-null  int64  \n",
      " 43  UDMJWDSHAKE  58034 non-null  int64  \n",
      " 44  UDMJWDSWEAT  58034 non-null  int64  \n",
      " 45  UDMJWDFEVER  58034 non-null  int64  \n",
      " 46  UDMJWDCHILL  58034 non-null  int64  \n",
      " 47  UDMJWDHEDAC  58034 non-null  int64  \n",
      " 48  PYUD5MRJ     57474 non-null  float64\n",
      " 49  IRPYUD5MRJ   58034 non-null  int64  \n",
      " 50  AUALTYR      58034 non-null  int64  \n",
      " 51  AUMHTELYR2   45956 non-null  float64\n",
      " 52  SUICTHNK     58034 non-null  int64  \n",
      " 53  SUIPLANYR    58034 non-null  int64  \n",
      " 54  ADDPREV      58034 non-null  int64  \n",
      " 55  AD_MDEA1     58034 non-null  int64  \n",
      " 56  AD_MDEA2     58034 non-null  int64  \n",
      " 57  AD_MDEA3     58034 non-null  int64  \n",
      " 58  AD_MDEA4     58034 non-null  int64  \n",
      " 59  AD_MDEA8     58034 non-null  int64  \n",
      " 60  ADSMMDEA     58034 non-null  int64  \n",
      " 61  ASDSREL2     5140 non-null   float64\n",
      " 62  YODSMMDE     58034 non-null  int64  \n",
      " 63  CAMHPROB2    45357 non-null  float64\n",
      " 64  MMBTPYR      58034 non-null  int64  \n",
      " 65  MMBT30DY     58034 non-null  int64  \n",
      " 66  MMBTDISP     58034 non-null  int64  \n",
      " 67  MMBJOINT     58034 non-null  int64  \n",
      " 68  MMBLOOSE     58034 non-null  int64  \n",
      " 69  MMBOTHER     58034 non-null  int64  \n",
      " 70  MMLSUNIT1    58034 non-null  int64  \n",
      " 71  MMLSPCTB1    58034 non-null  int64  \n",
      " 72  MMLSPCAT1    58034 non-null  int64  \n",
      " 73  MMBSELL      58034 non-null  int64  \n",
      " 74  AGE3         58034 non-null  int64  \n",
      " 75  HEALTH       58034 non-null  int64  \n",
      " 76  LVLDIFMEM2   58034 non-null  int64  \n",
      " 77  LVLDIFCOMM2  58034 non-null  int64  \n",
      " 78  CATAG3       58034 non-null  int64  \n",
      " 79  HEALTH2      58015 non-null  float64\n",
      " 80  ANYHLTI2     58034 non-null  int64  \n",
      " 81  INCOME       58034 non-null  int64  \n",
      " 82  POVERTY3     57990 non-null  float64\n",
      " 83  COUTYP4      58034 non-null  int64  \n",
      "dtypes: float64(6), int64(78)\n",
      "memory usage: 37.2 MB\n"
     ]
    }
   ],
   "source": [
    "df.info()"
   ]
  },
  {
   "cell_type": "markdown",
   "id": "6b23c740",
   "metadata": {},
   "source": [
    "### Inspect and pre-process ADSMMDEA"
   ]
  },
  {
   "cell_type": "markdown",
   "id": "4bbe45d9",
   "metadata": {},
   "source": [
    "### SCORE OF SYMPTOM INDICATORS 1 THRU 9"
   ]
  },
  {
   "cell_type": "code",
   "execution_count": null,
   "id": "2983154c",
   "metadata": {},
   "outputs": [],
   "source": [
    "1 = Has 5 or more symptoms.............................................................................................. 8918 15.37\n",
    "2 = Has less than 5 symptoms............................................................................................. 1264 2.18\n",
    "94 = SUM OF SYMPTOMS AND DON'T KNOW >=5 .................................................... 22 0.04\n",
    "97 = SUM OF SYMPTOMS AND REFUSED >=5 ........................................................... 3 0.01\n",
    "98 = OTHER MISSING/NOT APPLICABLE.................................................................... 37084 63.90\n",
    "99 = LEGITIMATE SKIP................................................................................................... 10743 18.51"
   ]
  },
  {
   "cell_type": "code",
   "execution_count": null,
   "id": "39eba869",
   "metadata": {},
   "outputs": [],
   "source": [
    "# Only "
   ]
  },
  {
   "cell_type": "code",
   "execution_count": 7,
   "id": "8949dd8f",
   "metadata": {},
   "outputs": [
    {
     "data": {
      "text/plain": [
       "98    37084\n",
       "99    10743\n",
       "1      8918\n",
       "2      1264\n",
       "94       22\n",
       "97        3\n",
       "Name: ADSMMDEA, dtype: int64"
      ]
     },
     "execution_count": 7,
     "metadata": {},
     "output_type": "execute_result"
    }
   ],
   "source": [
    "df.ADSMMDEA.value_counts()"
   ]
  },
  {
   "cell_type": "code",
   "execution_count": null,
   "id": "c004b8c3",
   "metadata": {},
   "outputs": [],
   "source": [
    "col_list = ['MJYRTOT',\n",
    "            'TOBFLAG',\n",
    "            'ALCFLAG',\n",
    "            'MRJFLAG',\n",
    "            'COCFLAG',\n",
    "            'CRKFLAG',\n",
    "            'HERFLAG',\n",
    "            'LSDFLAG',\n",
    "            'METHAMFLAG',\n",
    "            'MJONLYFLAG',\n",
    "            'HEALTH2']"
   ]
  },
  {
   "cell_type": "code",
   "execution_count": 8,
   "id": "8fb6c3fb",
   "metadata": {},
   "outputs": [
    {
     "data": {
      "text/plain": [
       "991    32487\n",
       "993    12956\n",
       "364     1548\n",
       "260      717\n",
       "1        625\n",
       "       ...  \n",
       "135        1\n",
       "258        1\n",
       "39         1\n",
       "136        1\n",
       "98         1\n",
       "Name: MJYRTOT, Length: 204, dtype: int64"
      ]
     },
     "execution_count": 8,
     "metadata": {},
     "output_type": "execute_result"
    }
   ],
   "source": [
    "# Inspect all columns above\n",
    "df.MJYRTOT.value_counts()"
   ]
  },
  {
   "cell_type": "code",
   "execution_count": 3,
   "id": "c7568235-46ab-43b6-9327-e8bd6f36b258",
   "metadata": {
    "id": "c7568235-46ab-43b6-9327-e8bd6f36b258",
    "outputId": "cfa47121-e80f-4eb1-8dc3-387693910f7b"
   },
   "outputs": [
    {
     "name": "stdout",
     "output_type": "stream",
     "text": [
      "AD_MDEA1       0\n",
      "AD_MDEA2       0\n",
      "AD_MDEA3       0\n",
      "AD_MDEA4       0\n",
      "AD_MDEA8       0\n",
      "              ..\n",
      "UDMJWDSLEEP    0\n",
      "UDMJWDSTMCH    0\n",
      "UDMJWDSWEAT    0\n",
      "UDMJWORKPRB    0\n",
      "YODSMMDE       0\n",
      "Length: 84, dtype: int64\n"
     ]
    }
   ],
   "source": [
    "# Check for nas\n",
    "nan_count = mj_mh_df[mj_mh_col].isna().sum()\n",
    "\n",
    "# Print the result\n",
    "print(nan_count)"
   ]
  },
  {
   "cell_type": "code",
   "execution_count": 15,
   "id": "52453dae-ee01-4af8-9d96-f60ea523ce15",
   "metadata": {},
   "outputs": [
    {
     "ename": "AttributeError",
     "evalue": "'DataFrame' object has no attribute 'target'",
     "output_type": "error",
     "traceback": [
      "\u001b[1;31m---------------------------------------------------------------------------\u001b[0m",
      "\u001b[1;31mAttributeError\u001b[0m                            Traceback (most recent call last)",
      "Cell \u001b[1;32mIn[15], line 2\u001b[0m\n\u001b[0;32m      1\u001b[0m df \u001b[38;5;241m=\u001b[39m mj_mh_df\n\u001b[1;32m----> 2\u001b[0m df[\u001b[38;5;124m'\u001b[39m\u001b[38;5;124mtarget\u001b[39m\u001b[38;5;124m'\u001b[39m] \u001b[38;5;241m=\u001b[39m pd\u001b[38;5;241m.\u001b[39mto_numeric(\u001b[43mdf\u001b[49m\u001b[38;5;241;43m.\u001b[39;49m\u001b[43mtarget\u001b[49m)\n",
      "File \u001b[1;32m~\\AppData\\Local\\anaconda3\\lib\\site-packages\\pandas\\core\\generic.py:5902\u001b[0m, in \u001b[0;36mNDFrame.__getattr__\u001b[1;34m(self, name)\u001b[0m\n\u001b[0;32m   5895\u001b[0m \u001b[38;5;28;01mif\u001b[39;00m (\n\u001b[0;32m   5896\u001b[0m     name \u001b[38;5;129;01mnot\u001b[39;00m \u001b[38;5;129;01min\u001b[39;00m \u001b[38;5;28mself\u001b[39m\u001b[38;5;241m.\u001b[39m_internal_names_set\n\u001b[0;32m   5897\u001b[0m     \u001b[38;5;129;01mand\u001b[39;00m name \u001b[38;5;129;01mnot\u001b[39;00m \u001b[38;5;129;01min\u001b[39;00m \u001b[38;5;28mself\u001b[39m\u001b[38;5;241m.\u001b[39m_metadata\n\u001b[0;32m   5898\u001b[0m     \u001b[38;5;129;01mand\u001b[39;00m name \u001b[38;5;129;01mnot\u001b[39;00m \u001b[38;5;129;01min\u001b[39;00m \u001b[38;5;28mself\u001b[39m\u001b[38;5;241m.\u001b[39m_accessors\n\u001b[0;32m   5899\u001b[0m     \u001b[38;5;129;01mand\u001b[39;00m \u001b[38;5;28mself\u001b[39m\u001b[38;5;241m.\u001b[39m_info_axis\u001b[38;5;241m.\u001b[39m_can_hold_identifiers_and_holds_name(name)\n\u001b[0;32m   5900\u001b[0m ):\n\u001b[0;32m   5901\u001b[0m     \u001b[38;5;28;01mreturn\u001b[39;00m \u001b[38;5;28mself\u001b[39m[name]\n\u001b[1;32m-> 5902\u001b[0m \u001b[38;5;28;01mreturn\u001b[39;00m \u001b[38;5;28;43mobject\u001b[39;49m\u001b[38;5;241;43m.\u001b[39;49m\u001b[38;5;21;43m__getattribute__\u001b[39;49m\u001b[43m(\u001b[49m\u001b[38;5;28;43mself\u001b[39;49m\u001b[43m,\u001b[49m\u001b[43m \u001b[49m\u001b[43mname\u001b[49m\u001b[43m)\u001b[49m\n",
      "\u001b[1;31mAttributeError\u001b[0m: 'DataFrame' object has no attribute 'target'"
     ]
    }
   ],
   "source": [
    "df = mj_mh_df\n",
    "df['target'] = pd.to_numeric(df.target)"
   ]
  },
  {
   "cell_type": "code",
   "execution_count": 16,
   "id": "199d5ec8-08fd-453e-955b-e8af682e0f76",
   "metadata": {},
   "outputs": [
    {
     "ename": "ModuleNotFoundError",
     "evalue": "No module named 'sweetviz'",
     "output_type": "error",
     "traceback": [
      "\u001b[1;31m---------------------------------------------------------------------------\u001b[0m",
      "\u001b[1;31mModuleNotFoundError\u001b[0m                       Traceback (most recent call last)",
      "Cell \u001b[1;32mIn[16], line 1\u001b[0m\n\u001b[1;32m----> 1\u001b[0m \u001b[38;5;28;01mimport\u001b[39;00m \u001b[38;5;21;01msweetviz\u001b[39;00m \u001b[38;5;28;01mas\u001b[39;00m \u001b[38;5;21;01msv\u001b[39;00m\n\u001b[0;32m      2\u001b[0m report \u001b[38;5;241m=\u001b[39m sv\u001b[38;5;241m.\u001b[39manalyze(df, target_feat\u001b[38;5;241m=\u001b[39m\u001b[38;5;124m'\u001b[39m\u001b[38;5;124mtarget\u001b[39m\u001b[38;5;124m'\u001b[39m)\n",
      "\u001b[1;31mModuleNotFoundError\u001b[0m: No module named 'sweetviz'"
     ]
    }
   ],
   "source": [
    "import sweetviz as sv\n",
    "report = sv.analyze(df, target_feat='target')"
   ]
  },
  {
   "cell_type": "code",
   "execution_count": null,
   "id": "42548e6d-0f83-4824-b4c1-a0a594550d6d",
   "metadata": {},
   "outputs": [],
   "source": []
  }
 ],
 "metadata": {
  "colab": {
   "provenance": []
  },
  "kernelspec": {
   "display_name": "Python 3 (ipykernel)",
   "language": "python",
   "name": "python3"
  },
  "language_info": {
   "codemirror_mode": {
    "name": "ipython",
    "version": 3
   },
   "file_extension": ".py",
   "mimetype": "text/x-python",
   "name": "python",
   "nbconvert_exporter": "python",
   "pygments_lexer": "ipython3",
   "version": "3.11.3"
  }
 },
 "nbformat": 4,
 "nbformat_minor": 5
}

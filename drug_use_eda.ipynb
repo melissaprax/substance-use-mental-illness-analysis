{
 "cells": [
  {
   "cell_type": "code",
   "execution_count": 1,
   "metadata": {},
   "outputs": [
    {
     "name": "stderr",
     "output_type": "stream",
     "text": [
      "c:\\Users\\e.a.wright\\anaconda3\\envs\\datascience\\Lib\\site-packages\\numpy\\_distributor_init.py:30: UserWarning: loaded more than 1 DLL from .libs:\n",
      "c:\\Users\\e.a.wright\\anaconda3\\envs\\datascience\\Lib\\site-packages\\numpy\\.libs\\libopenblas64__v0.3.23-246-g3d31191b-gcc_10_3_0.dll\n",
      "c:\\Users\\e.a.wright\\anaconda3\\envs\\datascience\\Lib\\site-packages\\numpy\\.libs\\libopenblas64__v0.3.23-gcc_10_3_0.dll\n",
      "  warnings.warn(\"loaded more than 1 DLL from .libs:\"\n"
     ]
    }
   ],
   "source": [
    "# Import libraries\n",
    "import pandas as pd\n",
    "import numpy as np\n",
    "\n",
    "# Import matplotlib and seaborn\n",
    "import matplotlib.pyplot as plt\n",
    "import seaborn as sns"
   ]
  },
  {
   "cell_type": "code",
   "execution_count": 2,
   "metadata": {},
   "outputs": [
    {
     "name": "stderr",
     "output_type": "stream",
     "text": [
      "C:\\Users\\e.a.wright\\AppData\\Local\\Temp\\ipykernel_12204\\2103078997.py:3: DtypeWarning: Columns (2792) have mixed types. Specify dtype option on import or set low_memory=False.\n",
      "  data = pd.read_csv(file_path, sep='\\t')\n"
     ]
    }
   ],
   "source": [
    "file_path = 'data/NSDUH_2021_Tab.txt'\n",
    "\n",
    "data = pd.read_csv(file_path, sep='\\t')"
   ]
  },
  {
   "cell_type": "code",
   "execution_count": 3,
   "metadata": {},
   "outputs": [
    {
     "name": "stdout",
     "output_type": "stream",
     "text": [
      "<class 'pandas.core.frame.DataFrame'>\n",
      "RangeIndex: 58034 entries, 0 to 58033\n",
      "Columns: 2988 entries, QUESTID2 to VEREP\n",
      "dtypes: float64(539), int64(2447), object(2)\n",
      "memory usage: 1.3+ GB\n"
     ]
    }
   ],
   "source": [
    "data.info()"
   ]
  },
  {
   "cell_type": "markdown",
   "metadata": {},
   "source": [
    "#### MJEVER - Ever used marijuana/hashish\n",
    "#### MJAGE - Age when first used marijuana/hashish\n",
    "#### MJYFU - Year of first use marijuana/hashish use\n",
    "#### MJMFU - Month of first use marijuana/hashish use\n",
    "#### MJREC - Time sence last use marijuana/hashish\n",
    "#### MJYRTOT - Total number of days used marijuana/hashish in past 12 months\n",
    "#### MRTOTFG - Trimming indicator for MJRTOT\n",
    "#### MJFQFLG - Trimmed MJRTOT if R is used < 12\n",
    "#### MRBSTWAY -  EASIEST WAY TO TELL US # DAYS USED MARIJUANA/HASH \n",
    "#### MRDAYPYR - # DAYS USED MARIJUANA/HASHISH PAST 12 MONTHS\n",
    "#### MRDAYPMO - # DAYS PER MO USED MARIJUANA/HASHISH PAST 12 MOS\n",
    "#### MRDAYPWK - # DAYS PER WEEK USED MARIJUANA/HASHISH PAST 12 MOS\n",
    "#### MJDAY30A - # DAYS USED MARIJUANA/HASHISH PAST 30 DAYS\n",
    "#### MR30EST - BEST EST. # DAYS USED MARIJUANA PAST 30 DAYS\n"
   ]
  },
  {
   "cell_type": "code",
   "execution_count": 4,
   "metadata": {},
   "outputs": [],
   "source": [
    "\n",
    "col_list = [\"CIGEVER\", \n",
    "            \"MJEVER\",\n",
    "            \"MJYRTOT\", # TOTAL # OF DAYS USED MARIJUANA IN PAST 12 MOS (61)\n",
    "            \"ALCEVER\", \n",
    "            \"COCEVER\", \n",
    "            \"CRKEVER\", \n",
    "            \"HEREVER\", \n",
    "            \"LSD\", \n",
    "            \"METHAMEVR\",\n",
    "            \"ADDPREV\", # SEVERAL DAYS OR LNGR WHEN FELT SAD/EMPTY/DPRSD (506)\n",
    "            ]"
   ]
  },
  {
   "cell_type": "code",
   "execution_count": 22,
   "metadata": {},
   "outputs": [
    {
     "name": "stdout",
     "output_type": "stream",
     "text": [
      "<class 'pandas.core.frame.DataFrame'>\n",
      "RangeIndex: 58034 entries, 0 to 58033\n",
      "Data columns (total 10 columns):\n",
      " #   Column     Non-Null Count  Dtype\n",
      "---  ------     --------------  -----\n",
      " 0   CIGEVER    58034 non-null  int64\n",
      " 1   MJEVER     58034 non-null  int64\n",
      " 2   MJYRTOT    58034 non-null  int64\n",
      " 3   ALCEVER    58034 non-null  int64\n",
      " 4   COCEVER    58034 non-null  int64\n",
      " 5   CRKEVER    58034 non-null  int64\n",
      " 6   HEREVER    58034 non-null  int64\n",
      " 7   LSD        58034 non-null  int64\n",
      " 8   METHAMEVR  58034 non-null  int64\n",
      " 9   ADDPREV    58034 non-null  int64\n",
      "dtypes: int64(10)\n",
      "memory usage: 4.4 MB\n"
     ]
    }
   ],
   "source": [
    "# Subset dataset to dataframe of variables of interest\n",
    "df = data[col_list]\n",
    "\n",
    "df.info()"
   ]
  },
  {
   "cell_type": "code",
   "execution_count": 23,
   "metadata": {},
   "outputs": [
    {
     "data": {
      "text/plain": [
       "0    33161\n",
       "1    24873\n",
       "Name: CIGEVER, dtype: int64"
      ]
     },
     "execution_count": 23,
     "metadata": {},
     "output_type": "execute_result"
    }
   ],
   "source": [
    "# CIGEVER - Change the 2s in CIGEVER to 0s\n",
    "\n",
    "df = df[df['CIGEVER'].isin([1,2])]\n",
    "\n",
    "# Change 2 to 0\n",
    "df.loc[df['CIGEVER'] == 2, 'CIGEVER'] = 0\n",
    "\n",
    "# Inspect changes\n",
    "df['CIGEVER'].value_counts()"
   ]
  },
  {
   "cell_type": "code",
   "execution_count": 24,
   "metadata": {},
   "outputs": [
    {
     "data": {
      "text/plain": [
       "0    32487\n",
       "1    25355\n",
       "Name: MJEVER, dtype: int64"
      ]
     },
     "execution_count": 24,
     "metadata": {},
     "output_type": "execute_result"
    }
   ],
   "source": [
    "# MJEVER - Drop all rows where MJEVER is not 1 or 2\n",
    "df = df[df['MJEVER'].isin([1,2])]\n",
    "\n",
    "# Change 2 to 0\n",
    "df.loc[df['MJEVER'] == 2, 'MJEVER'] = 0\n",
    "\n",
    "# Inspect changes\n",
    "df['MJEVER'].value_counts()\n"
   ]
  },
  {
   "cell_type": "markdown",
   "metadata": {},
   "source": [
    "### Pre-Process MJYRTOT"
   ]
  },
  {
   "cell_type": "code",
   "execution_count": 25,
   "metadata": {},
   "outputs": [],
   "source": [
    "# RANGE = 1 - 365 ............................................................................................................... 12010 20.69\n",
    "# 985 = BAD DATA Logically assigned ............................................................................... 134 0.23\n",
    "# 991 = NEVER USED MARIJUANA ................................................................................. 32487 55.98\n",
    "# 993 = DID NOT USE MARIJUANA IN THE PAST 12 MOS........................................... 12956 22.32\n",
    "# 994 = DON'T KNOW......................................................................................................... 80 0.14\n",
    "# 997 = REFUSED ................................................................................................................ 41 0.07\n",
    "# 998 = BLANK (NO ANSWER).......................................................................................... 326 0.56"
   ]
  },
  {
   "cell_type": "code",
   "execution_count": 26,
   "metadata": {},
   "outputs": [
    {
     "data": {
      "text/plain": [
       "0      45373\n",
       "364     1548\n",
       "260      717\n",
       "1        625\n",
       "2        623\n",
       "       ...  \n",
       "135        1\n",
       "258        1\n",
       "39         1\n",
       "136        1\n",
       "98         1\n",
       "Name: MJYRTOT, Length: 203, dtype: int64"
      ]
     },
     "execution_count": 26,
     "metadata": {},
     "output_type": "execute_result"
    }
   ],
   "source": [
    "# Process MJYRTOT\n",
    "\n",
    "# Set 991 and 993 to 0\n",
    "df.loc[df['MJYRTOT'] == 991, 'MJYRTOT'] = 0\n",
    "df.loc[df['MJYRTOT'] == 993, 'MJYRTOT'] = 0\n",
    "\n",
    "# Inspect\n",
    "df['MJYRTOT'].value_counts()"
   ]
  },
  {
   "cell_type": "code",
   "execution_count": 27,
   "metadata": {},
   "outputs": [
    {
     "data": {
      "text/plain": [
       "<Axes: >"
      ]
     },
     "execution_count": 27,
     "metadata": {},
     "output_type": "execute_result"
    },
    {
     "data": {
      "image/png": "[encoded data removed]",
      "text/plain": [
       "<Figure size 640x480 with 1 Axes>"
      ]
     },
     "metadata": {},
     "output_type": "display_data"
    }
   ],
   "source": [
    "# Drop all values outside of the range: 0-365\n",
    "df = df[df['MJYRTOT'] <= 365]\n",
    "\n",
    "# Reinspect using histogram\n",
    "df['MJYRTOT'].hist(bins=100)"
   ]
  },
  {
   "cell_type": "code",
   "execution_count": 28,
   "metadata": {},
   "outputs": [
    {
     "data": {
      "text/plain": [
       "count    57383.000000\n",
       "mean         0.081014\n",
       "std          0.237793\n",
       "min          0.000000\n",
       "25%          0.000000\n",
       "50%          0.000000\n",
       "75%          0.000000\n",
       "max          1.000000\n",
       "Name: MJYRTOT, dtype: float64"
      ]
     },
     "execution_count": 28,
     "metadata": {},
     "output_type": "execute_result"
    }
   ],
   "source": [
    "# Scale MJYRTOT to be in the same range as the binary variables (0-1)\n",
    "df['MJYRTOT'] = df['MJYRTOT'] / 365\n",
    "\n",
    "# Inspect using summary statistics\n",
    "df.MJYRTOT.describe()"
   ]
  },
  {
   "cell_type": "code",
   "execution_count": 29,
   "metadata": {},
   "outputs": [
    {
     "data": {
      "image/png": "[encoded data removed]",
      "text/plain": [
       "<Figure size 640x480 with 1 Axes>"
      ]
     },
     "metadata": {},
     "output_type": "display_data"
    }
   ],
   "source": [
    "# Plot using histogram\n",
    "MJTHISYEAR = df[df['MJYRTOT'] > 0]['MJYRTOT']\n",
    "\n",
    "# Plot histogram\n",
    "plt.hist(MJTHISYEAR, bins=50, color='green')\n",
    "plt.show()"
   ]
  },
  {
   "cell_type": "code",
   "execution_count": 30,
   "metadata": {},
   "outputs": [
    {
     "data": {
      "text/plain": [
       "1    41185\n",
       "0    16183\n",
       "Name: ALCEVER, dtype: int64"
      ]
     },
     "execution_count": 30,
     "metadata": {},
     "output_type": "execute_result"
    }
   ],
   "source": [
    "# ALCEVER - Drop all rows where MJEVER is not 1 or 2\n",
    "\n",
    "df = df[df['ALCEVER'].isin([1,2])]\n",
    "\n",
    "# Change 2 to 0\n",
    "df.loc[df['ALCEVER'] == 2, 'ALCEVER'] = 0\n",
    "\n",
    "# Inspect changes\n",
    "df['ALCEVER'].value_counts()"
   ]
  },
  {
   "cell_type": "code",
   "execution_count": 31,
   "metadata": {},
   "outputs": [
    {
     "data": {
      "text/plain": [
       "0    50665\n",
       "1     6693\n",
       "Name: COCEVER, dtype: int64"
      ]
     },
     "execution_count": 31,
     "metadata": {},
     "output_type": "execute_result"
    }
   ],
   "source": [
    "# COCEVER - Drop all rows where MJEVER is not 1 or 2\n",
    "\n",
    "df = df[df['COCEVER'].isin([1,2])]\n",
    "\n",
    "# Change 2 to 0\n",
    "df.loc[df['COCEVER'] == 2, 'COCEVER'] = 0\n",
    "\n",
    "# Inspect changes\n",
    "df['COCEVER'].value_counts()"
   ]
  },
  {
   "cell_type": "code",
   "execution_count": 32,
   "metadata": {},
   "outputs": [
    {
     "data": {
      "text/plain": [
       "0    55786\n",
       "1     1565\n",
       "Name: CRKEVER, dtype: int64"
      ]
     },
     "execution_count": 32,
     "metadata": {},
     "output_type": "execute_result"
    }
   ],
   "source": [
    "# CRKEVER - Drop all rows where MJEVER is not 1, 2 or 91\n",
    "\n",
    "df = df[df['CRKEVER'].isin([1,2, 91])]\n",
    "\n",
    "\n",
    "# set all 2s and 91s to 0s\n",
    "df.loc[df['CRKEVER'] == 2, 'CRKEVER'] = 0\n",
    "\n",
    "df.loc[df['CRKEVER'] == 91, 'CRKEVER'] = 0\n",
    "\n",
    "\n",
    "# Inspect changes\n",
    "df['CRKEVER'].value_counts()"
   ]
  },
  {
   "cell_type": "code",
   "execution_count": 33,
   "metadata": {},
   "outputs": [
    {
     "data": {
      "text/plain": [
       "0    56227\n",
       "1     1113\n",
       "Name: HEREVER, dtype: int64"
      ]
     },
     "execution_count": 33,
     "metadata": {},
     "output_type": "execute_result"
    }
   ],
   "source": [
    "#HEREVER\n",
    "df = df[df['HEREVER'].isin([1,2])]\n",
    "\n",
    "df.loc[df['HEREVER'] == 2, 'HEREVER'] = 0\n",
    "\n",
    "# Inspect changes\n",
    "df['HEREVER'].value_counts()"
   ]
  },
  {
   "cell_type": "code",
   "execution_count": 34,
   "metadata": {},
   "outputs": [
    {
     "data": {
      "text/plain": [
       "0    52003\n",
       "1     5317\n",
       "Name: LSD, dtype: int64"
      ]
     },
     "execution_count": 34,
     "metadata": {},
     "output_type": "execute_result"
    }
   ],
   "source": [
    "#LSD\n",
    "\n",
    "df = df[df['LSD'].isin([1,2, 91])]\n",
    "\n",
    "\n",
    "#set all 2 and 91 to 0\n",
    "df.loc[df['LSD'] == 2, 'LSD'] = 0\n",
    "\n",
    "df.loc[df['LSD'] == 91, 'LSD'] = 0\n",
    "\n",
    "\n",
    "# Inspect changes\n",
    "df['LSD'].value_counts()"
   ]
  },
  {
   "cell_type": "code",
   "execution_count": 35,
   "metadata": {},
   "outputs": [
    {
     "data": {
      "text/plain": [
       "0    54663\n",
       "1     2618\n",
       "Name: METHAMEVR, dtype: int64"
      ]
     },
     "execution_count": 35,
     "metadata": {},
     "output_type": "execute_result"
    }
   ],
   "source": [
    "#METHAMEVR\n",
    "df = df[df['METHAMEVR'].isin([1,2])]\n",
    "\n",
    "df.loc[df['METHAMEVR'] == 2, 'METHAMEVR'] = 0\n",
    "\n",
    "# Inspect changes\n",
    "df['METHAMEVR'].value_counts()"
   ]
  },
  {
   "cell_type": "code",
   "execution_count": 36,
   "metadata": {},
   "outputs": [
    {
     "name": "stdout",
     "output_type": "stream",
     "text": [
      "<class 'pandas.core.frame.DataFrame'>\n",
      "Int64Index: 45107 entries, 0 to 58033\n",
      "Data columns (total 10 columns):\n",
      " #   Column     Non-Null Count  Dtype  \n",
      "---  ------     --------------  -----  \n",
      " 0   CIGEVER    45107 non-null  int64  \n",
      " 1   MJEVER     45107 non-null  int64  \n",
      " 2   MJYRTOT    45107 non-null  float64\n",
      " 3   ALCEVER    45107 non-null  int64  \n",
      " 4   COCEVER    45107 non-null  int64  \n",
      " 5   CRKEVER    45107 non-null  int64  \n",
      " 6   HEREVER    45107 non-null  int64  \n",
      " 7   LSD        45107 non-null  int64  \n",
      " 8   METHAMEVR  45107 non-null  int64  \n",
      " 9   ADDPREV    45107 non-null  int64  \n",
      "dtypes: float64(1), int64(9)\n",
      "memory usage: 3.8 MB\n"
     ]
    }
   ],
   "source": [
    "# Clean ADDPREV\n",
    "df = df[(df['ADDPREV'] == 1) | (df['ADDPREV'] == 2)]\n",
    "\n",
    "# Change all 2s to 0s\n",
    "df['ADDPREV'] = df['ADDPREV'].replace(2, 0)\n",
    "\n",
    "# Inspect\n",
    "df.info()"
   ]
  },
  {
   "cell_type": "code",
   "execution_count": 37,
   "metadata": {},
   "outputs": [
    {
     "data": {
      "text/plain": [
       "0    29283\n",
       "1    15824\n",
       "Name: ADDPREV, dtype: int64"
      ]
     },
     "execution_count": 37,
     "metadata": {},
     "output_type": "execute_result"
    }
   ],
   "source": [
    "df.ADDPREV.value_counts()"
   ]
  },
  {
   "cell_type": "code",
   "execution_count": 38,
   "metadata": {},
   "outputs": [],
   "source": [
    "# Import Gradient Boosting Classifier\n",
    "from sklearn.ensemble import GradientBoostingClassifier\n",
    "# Import train_test_split and metrics\n",
    "from sklearn.model_selection import train_test_split\n",
    "from sklearn.metrics import balanced_accuracy_score, confusion_matrix, classification_report\n",
    "# Import RandomOverSampler\n",
    "from imblearn.over_sampling import RandomOverSampler"
   ]
  },
  {
   "cell_type": "code",
   "execution_count": 39,
   "metadata": {},
   "outputs": [],
   "source": [
    "# Instantiate a Gradient Boosting Classifier\n",
    "gbt = GradientBoostingClassifier(random_state=42)\n",
    "\n",
    "# Define X and y\n",
    "X = df.drop('ADDPREV', axis=1)\n",
    "y = df['ADDPREV']\n",
    "\n",
    "# Split the data into training and test sets\n",
    "X_train, X_test, y_train, y_test = train_test_split(X, y, random_state=42)\n",
    "\n",
    "# Resample the training data with RandomOverSampler\n",
    "X_train_resampled, y_train_resampled = RandomOverSampler(random_state=42).fit_resample(X_train, y_train)\n",
    "\n",
    "# Fit the model to the oversampled training data\n",
    "gbt.fit(X_train_resampled, y_train_resampled)\n",
    "\n",
    "# Predict on the test data\n",
    "y_pred = gbt.predict(X_test)\n"
   ]
  },
  {
   "cell_type": "code",
   "execution_count": 41,
   "metadata": {},
   "outputs": [
    {
     "name": "stdout",
     "output_type": "stream",
     "text": [
      "              precision    recall  f1-score   support\n",
      "\n",
      "           0       0.74      0.57      0.65      7320\n",
      "           1       0.45      0.63      0.52      3957\n",
      "\n",
      "    accuracy                           0.60     11277\n",
      "   macro avg       0.60      0.60      0.59     11277\n",
      "weighted avg       0.64      0.60      0.60     11277\n",
      "\n"
     ]
    }
   ],
   "source": [
    "# Return a classification report for the model\n",
    "print(classification_report(y_test, y_pred))"
   ]
  },
  {
   "cell_type": "code",
   "execution_count": 42,
   "metadata": {},
   "outputs": [
    {
     "data": {
      "image/png": "[encoded data removed]",
      "text/plain": [
       "<Figure size 640x480 with 2 Axes>"
      ]
     },
     "metadata": {},
     "output_type": "display_data"
    }
   ],
   "source": [
    "# Print a pretty confusion matrix\n",
    "ax1 = sns.heatmap(confusion_matrix(y_test, y_pred), annot=True, cmap='Blues', fmt='g')\n",
    "plt.show(ax1)"
   ]
  },
  {
   "cell_type": "code",
   "execution_count": 43,
   "metadata": {},
   "outputs": [
    {
     "data": {
      "text/html": [
       "<div>\n",
       "<style scoped>\n",
       "    .dataframe tbody tr th:only-of-type {\n",
       "        vertical-align: middle;\n",
       "    }\n",
       "\n",
       "    .dataframe tbody tr th {\n",
       "        vertical-align: top;\n",
       "    }\n",
       "\n",
       "    .dataframe thead th {\n",
       "        text-align: right;\n",
       "    }\n",
       "</style>\n",
       "<table border=\"1\" class=\"dataframe\">\n",
       "  <thead>\n",
       "    <tr style=\"text-align: right;\">\n",
       "      <th></th>\n",
       "      <th>feature</th>\n",
       "      <th>feature_importance</th>\n",
       "    </tr>\n",
       "  </thead>\n",
       "  <tbody>\n",
       "    <tr>\n",
       "      <th>1</th>\n",
       "      <td>MJEVER</td>\n",
       "      <td>0.664183</td>\n",
       "    </tr>\n",
       "    <tr>\n",
       "      <th>2</th>\n",
       "      <td>MJYRTOT</td>\n",
       "      <td>0.158014</td>\n",
       "    </tr>\n",
       "    <tr>\n",
       "      <th>7</th>\n",
       "      <td>LSD</td>\n",
       "      <td>0.054187</td>\n",
       "    </tr>\n",
       "    <tr>\n",
       "      <th>3</th>\n",
       "      <td>ALCEVER</td>\n",
       "      <td>0.041560</td>\n",
       "    </tr>\n",
       "    <tr>\n",
       "      <th>0</th>\n",
       "      <td>CIGEVER</td>\n",
       "      <td>0.031668</td>\n",
       "    </tr>\n",
       "    <tr>\n",
       "      <th>8</th>\n",
       "      <td>METHAMEVR</td>\n",
       "      <td>0.021227</td>\n",
       "    </tr>\n",
       "    <tr>\n",
       "      <th>4</th>\n",
       "      <td>COCEVER</td>\n",
       "      <td>0.017090</td>\n",
       "    </tr>\n",
       "    <tr>\n",
       "      <th>6</th>\n",
       "      <td>HEREVER</td>\n",
       "      <td>0.007982</td>\n",
       "    </tr>\n",
       "    <tr>\n",
       "      <th>5</th>\n",
       "      <td>CRKEVER</td>\n",
       "      <td>0.004087</td>\n",
       "    </tr>\n",
       "  </tbody>\n",
       "</table>\n",
       "</div>"
      ],
      "text/plain": [
       "     feature  feature_importance\n",
       "1     MJEVER            0.664183\n",
       "2    MJYRTOT            0.158014\n",
       "7        LSD            0.054187\n",
       "3    ALCEVER            0.041560\n",
       "0    CIGEVER            0.031668\n",
       "8  METHAMEVR            0.021227\n",
       "4    COCEVER            0.017090\n",
       "6    HEREVER            0.007982\n",
       "5    CRKEVER            0.004087"
      ]
     },
     "execution_count": 43,
     "metadata": {},
     "output_type": "execute_result"
    }
   ],
   "source": [
    "# Create feature importance dataframe to analyze the importance of each feature\n",
    "fi_values = gbt.feature_importances_\n",
    "features = X_train_resampled.columns\n",
    "# Create dataframe\n",
    "feature_importance_df = pd.DataFrame({\"feature\": features, \"feature_importance\": fi_values})\n",
    "# Sort in descending order\n",
    "feature_importance_df = feature_importance_df.sort_values(by=\"feature_importance\", ascending = False)\n",
    "# View dataframe\n",
    "feature_importance_df"
   ]
  },
  {
   "cell_type": "code",
   "execution_count": 52,
   "metadata": {},
   "outputs": [
    {
     "data": {
      "text/plain": [
       "<Axes: xlabel='MJEVER'>"
      ]
     },
     "execution_count": 52,
     "metadata": {},
     "output_type": "execute_result"
    },
    {
     "data": {
      "image/png": "[encoded data removed]",
      "text/plain": [
       "<Figure size 640x480 with 1 Axes>"
      ]
     },
     "metadata": {},
     "output_type": "display_data"
    }
   ],
   "source": [
    "# Group by MJEVER and calculate mean ADDPREV for each group\n",
    "mjever_addprev = df.groupby('MJEVER')['ADDPREV'].mean()\n",
    "\n",
    "# Plot the results\n",
    "mjever_addprev.plot(kind='bar', color='blue', alpha=0.5)"
   ]
  },
  {
   "cell_type": "code",
   "execution_count": 53,
   "metadata": {},
   "outputs": [
    {
     "name": "stdout",
     "output_type": "stream",
     "text": [
      "   Source  ddof1  ddof2           F  p-unc       np2\n",
      "0  MJEVER      1  45105  1850.55389    0.0  0.039411\n"
     ]
    }
   ],
   "source": [
    "# Perform an analysis of variance (ANOVA) test to determine if there are any significant difference in ADDPREV between MJEVER Groups.\n",
    "\n",
    "# Import dependencies\n",
    "import pingouin as pg\n",
    "\n",
    "# Perform ANOVA test\n",
    "aov = pg.anova(dv='ADDPREV', between='MJEVER', data=df)\n",
    "\n",
    "# Print results\n",
    "print(aov)"
   ]
  },
  {
   "cell_type": "code",
   "execution_count": null,
   "metadata": {},
   "outputs": [],
   "source": [
    "# q: How do I interpret the results of the t-test?\n",
    "# a: The p-value is 0.000000000\n",
    "#    The p-value is less than 0.05, so we reject the null hypothesis."
   ]
  },
  {
   "cell_type": "code",
   "execution_count": 57,
   "metadata": {},
   "outputs": [
    {
     "data": {
      "text/plain": [
       "1.7427166953930355"
      ]
     },
     "execution_count": 57,
     "metadata": {},
     "output_type": "execute_result"
    }
   ],
   "source": [
    "# Calculate the percent difference between the two groups ADDPREV means\n",
    "mjever_addprev[1]/mjever_addprev[0]"
   ]
  },
  {
   "cell_type": "markdown",
   "metadata": {},
   "source": [
    "### There is a significant difference in the mean response to survey question encoded as \"ADDPREV\": \"Have you ever in your life had a period of time lasting several days or longer when most of the day you felt sad, empty or depressed?\" between MJEVER groups, with indivudals who have used MJ at least once in their lives (MJEVER == 1) showing a mean ADDPREV score of 174% that of the MJEVER == 0 group. "
   ]
  },
  {
   "cell_type": "code",
   "execution_count": 54,
   "metadata": {},
   "outputs": [
    {
     "data": {
      "text/plain": [
       "1    22777\n",
       "0    22330\n",
       "Name: MJEVER, dtype: int64"
      ]
     },
     "execution_count": 54,
     "metadata": {},
     "output_type": "execute_result"
    }
   ],
   "source": [
    "# Question: How large are these groups? How many people are in each group?\n",
    "\n",
    "df.MJEVER.value_counts()"
   ]
  },
  {
   "cell_type": "code",
   "execution_count": null,
   "metadata": {},
   "outputs": [],
   "source": []
  }
 ],
 "metadata": {
  "kernelspec": {
   "display_name": "datascience",
   "language": "python",
   "name": "python3"
  },
  "language_info": {
   "codemirror_mode": {
    "name": "ipython",
    "version": 3
   },
   "file_extension": ".py",
   "mimetype": "text/x-python",
   "name": "python",
   "nbconvert_exporter": "python",
   "pygments_lexer": "ipython3",
   "version": "3.11.3"
  },
  "orig_nbformat": 4
 },
 "nbformat": 4,
 "nbformat_minor": 2
}

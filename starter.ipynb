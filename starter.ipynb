{
 "cells": [
  {
   "cell_type": "code",
   "execution_count": 1,
   "metadata": {},
   "outputs": [],
   "source": [
    "import pandas as pd\n",
    "import numpy as np"
   ]
  },
  {
   "cell_type": "code",
   "execution_count": 2,
   "metadata": {},
   "outputs": [
    {
     "name": "stderr",
     "output_type": "stream",
     "text": [
      "C:\\Users\\e.a.wright\\AppData\\Local\\Temp\\ipykernel_20076\\2103078997.py:3: DtypeWarning: Columns (2792) have mixed types. Specify dtype option on import or set low_memory=False.\n",
      "  data = pd.read_csv(file_path, sep='\\t')\n"
     ]
    }
   ],
   "source": [
    "file_path = 'data/NSDUH_2021_Tab.txt'\n",
    "\n",
    "data = pd.read_csv(file_path, sep='\\t')"
   ]
  },
  {
   "cell_type": "code",
   "execution_count": 6,
   "metadata": {},
   "outputs": [
    {
     "data": {
      "text/html": [
       "<div>\n",
       "<style scoped>\n",
       "    .dataframe tbody tr th:only-of-type {\n",
       "        vertical-align: middle;\n",
       "    }\n",
       "\n",
       "    .dataframe tbody tr th {\n",
       "        vertical-align: top;\n",
       "    }\n",
       "\n",
       "    .dataframe thead th {\n",
       "        text-align: right;\n",
       "    }\n",
       "</style>\n",
       "<table border=\"1\" class=\"dataframe\">\n",
       "  <thead>\n",
       "    <tr style=\"text-align: right;\">\n",
       "      <th></th>\n",
       "      <th>QUESTID2</th>\n",
       "      <th>FILEDATE</th>\n",
       "      <th>CIGEVER</th>\n",
       "      <th>CIGOFRSM</th>\n",
       "      <th>CIGWILYR</th>\n",
       "      <th>CIGTRY</th>\n",
       "      <th>CIGYFU</th>\n",
       "      <th>CIGMFU</th>\n",
       "      <th>CIGREC</th>\n",
       "      <th>CIG30USE</th>\n",
       "      <th>...</th>\n",
       "      <th>GOVTPROG</th>\n",
       "      <th>INCOME</th>\n",
       "      <th>POVERTY3</th>\n",
       "      <th>PDEN10</th>\n",
       "      <th>COUTYP4</th>\n",
       "      <th>MAIIN102</th>\n",
       "      <th>AIIND102</th>\n",
       "      <th>ANALWT_C</th>\n",
       "      <th>VESTR_C</th>\n",
       "      <th>VEREP</th>\n",
       "    </tr>\n",
       "  </thead>\n",
       "  <tbody>\n",
       "    <tr>\n",
       "      <th>0</th>\n",
       "      <td>10000182</td>\n",
       "      <td>10/06/2022</td>\n",
       "      <td>1</td>\n",
       "      <td>99</td>\n",
       "      <td>99</td>\n",
       "      <td>19</td>\n",
       "      <td>9999</td>\n",
       "      <td>99</td>\n",
       "      <td>1</td>\n",
       "      <td>7</td>\n",
       "      <td>...</td>\n",
       "      <td>1</td>\n",
       "      <td>1</td>\n",
       "      <td>2.0</td>\n",
       "      <td>2</td>\n",
       "      <td>3</td>\n",
       "      <td>2</td>\n",
       "      <td>2</td>\n",
       "      <td>675.130812</td>\n",
       "      <td>40047</td>\n",
       "      <td>1</td>\n",
       "    </tr>\n",
       "    <tr>\n",
       "      <th>1</th>\n",
       "      <td>10001255</td>\n",
       "      <td>10/06/2022</td>\n",
       "      <td>1</td>\n",
       "      <td>99</td>\n",
       "      <td>99</td>\n",
       "      <td>15</td>\n",
       "      <td>9999</td>\n",
       "      <td>99</td>\n",
       "      <td>4</td>\n",
       "      <td>93</td>\n",
       "      <td>...</td>\n",
       "      <td>2</td>\n",
       "      <td>4</td>\n",
       "      <td>3.0</td>\n",
       "      <td>1</td>\n",
       "      <td>1</td>\n",
       "      <td>2</td>\n",
       "      <td>2</td>\n",
       "      <td>12435.513603</td>\n",
       "      <td>40037</td>\n",
       "      <td>2</td>\n",
       "    </tr>\n",
       "    <tr>\n",
       "      <th>2</th>\n",
       "      <td>10001831</td>\n",
       "      <td>10/06/2022</td>\n",
       "      <td>2</td>\n",
       "      <td>99</td>\n",
       "      <td>99</td>\n",
       "      <td>991</td>\n",
       "      <td>9991</td>\n",
       "      <td>91</td>\n",
       "      <td>91</td>\n",
       "      <td>91</td>\n",
       "      <td>...</td>\n",
       "      <td>2</td>\n",
       "      <td>2</td>\n",
       "      <td>2.0</td>\n",
       "      <td>2</td>\n",
       "      <td>2</td>\n",
       "      <td>2</td>\n",
       "      <td>2</td>\n",
       "      <td>647.085653</td>\n",
       "      <td>40037</td>\n",
       "      <td>2</td>\n",
       "    </tr>\n",
       "    <tr>\n",
       "      <th>3</th>\n",
       "      <td>10002722</td>\n",
       "      <td>10/06/2022</td>\n",
       "      <td>1</td>\n",
       "      <td>99</td>\n",
       "      <td>99</td>\n",
       "      <td>9</td>\n",
       "      <td>9999</td>\n",
       "      <td>99</td>\n",
       "      <td>1</td>\n",
       "      <td>30</td>\n",
       "      <td>...</td>\n",
       "      <td>2</td>\n",
       "      <td>2</td>\n",
       "      <td>2.0</td>\n",
       "      <td>1</td>\n",
       "      <td>1</td>\n",
       "      <td>2</td>\n",
       "      <td>2</td>\n",
       "      <td>11275.260484</td>\n",
       "      <td>40045</td>\n",
       "      <td>2</td>\n",
       "    </tr>\n",
       "    <tr>\n",
       "      <th>4</th>\n",
       "      <td>10002897</td>\n",
       "      <td>10/06/2022</td>\n",
       "      <td>2</td>\n",
       "      <td>99</td>\n",
       "      <td>99</td>\n",
       "      <td>991</td>\n",
       "      <td>9991</td>\n",
       "      <td>91</td>\n",
       "      <td>91</td>\n",
       "      <td>91</td>\n",
       "      <td>...</td>\n",
       "      <td>2</td>\n",
       "      <td>1</td>\n",
       "      <td>1.0</td>\n",
       "      <td>1</td>\n",
       "      <td>1</td>\n",
       "      <td>2</td>\n",
       "      <td>2</td>\n",
       "      <td>350.985132</td>\n",
       "      <td>40006</td>\n",
       "      <td>1</td>\n",
       "    </tr>\n",
       "    <tr>\n",
       "      <th>...</th>\n",
       "      <td>...</td>\n",
       "      <td>...</td>\n",
       "      <td>...</td>\n",
       "      <td>...</td>\n",
       "      <td>...</td>\n",
       "      <td>...</td>\n",
       "      <td>...</td>\n",
       "      <td>...</td>\n",
       "      <td>...</td>\n",
       "      <td>...</td>\n",
       "      <td>...</td>\n",
       "      <td>...</td>\n",
       "      <td>...</td>\n",
       "      <td>...</td>\n",
       "      <td>...</td>\n",
       "      <td>...</td>\n",
       "      <td>...</td>\n",
       "      <td>...</td>\n",
       "      <td>...</td>\n",
       "      <td>...</td>\n",
       "      <td>...</td>\n",
       "    </tr>\n",
       "    <tr>\n",
       "      <th>58029</th>\n",
       "      <td>51649942</td>\n",
       "      <td>10/06/2022</td>\n",
       "      <td>1</td>\n",
       "      <td>99</td>\n",
       "      <td>99</td>\n",
       "      <td>19</td>\n",
       "      <td>9999</td>\n",
       "      <td>99</td>\n",
       "      <td>4</td>\n",
       "      <td>93</td>\n",
       "      <td>...</td>\n",
       "      <td>2</td>\n",
       "      <td>4</td>\n",
       "      <td>3.0</td>\n",
       "      <td>1</td>\n",
       "      <td>1</td>\n",
       "      <td>2</td>\n",
       "      <td>2</td>\n",
       "      <td>188.629137</td>\n",
       "      <td>40025</td>\n",
       "      <td>2</td>\n",
       "    </tr>\n",
       "    <tr>\n",
       "      <th>58030</th>\n",
       "      <td>51652923</td>\n",
       "      <td>10/06/2022</td>\n",
       "      <td>2</td>\n",
       "      <td>99</td>\n",
       "      <td>99</td>\n",
       "      <td>991</td>\n",
       "      <td>9991</td>\n",
       "      <td>91</td>\n",
       "      <td>91</td>\n",
       "      <td>91</td>\n",
       "      <td>...</td>\n",
       "      <td>2</td>\n",
       "      <td>4</td>\n",
       "      <td>3.0</td>\n",
       "      <td>2</td>\n",
       "      <td>2</td>\n",
       "      <td>2</td>\n",
       "      <td>2</td>\n",
       "      <td>197.696511</td>\n",
       "      <td>40024</td>\n",
       "      <td>2</td>\n",
       "    </tr>\n",
       "    <tr>\n",
       "      <th>58031</th>\n",
       "      <td>51652949</td>\n",
       "      <td>10/06/2022</td>\n",
       "      <td>1</td>\n",
       "      <td>99</td>\n",
       "      <td>99</td>\n",
       "      <td>18</td>\n",
       "      <td>9999</td>\n",
       "      <td>99</td>\n",
       "      <td>2</td>\n",
       "      <td>93</td>\n",
       "      <td>...</td>\n",
       "      <td>2</td>\n",
       "      <td>4</td>\n",
       "      <td>3.0</td>\n",
       "      <td>1</td>\n",
       "      <td>1</td>\n",
       "      <td>2</td>\n",
       "      <td>2</td>\n",
       "      <td>247.756480</td>\n",
       "      <td>40006</td>\n",
       "      <td>1</td>\n",
       "    </tr>\n",
       "    <tr>\n",
       "      <th>58032</th>\n",
       "      <td>51655980</td>\n",
       "      <td>10/06/2022</td>\n",
       "      <td>1</td>\n",
       "      <td>99</td>\n",
       "      <td>99</td>\n",
       "      <td>22</td>\n",
       "      <td>9999</td>\n",
       "      <td>99</td>\n",
       "      <td>4</td>\n",
       "      <td>93</td>\n",
       "      <td>...</td>\n",
       "      <td>2</td>\n",
       "      <td>4</td>\n",
       "      <td>3.0</td>\n",
       "      <td>1</td>\n",
       "      <td>1</td>\n",
       "      <td>2</td>\n",
       "      <td>2</td>\n",
       "      <td>338.721596</td>\n",
       "      <td>40025</td>\n",
       "      <td>2</td>\n",
       "    </tr>\n",
       "    <tr>\n",
       "      <th>58033</th>\n",
       "      <td>51656361</td>\n",
       "      <td>10/06/2022</td>\n",
       "      <td>2</td>\n",
       "      <td>99</td>\n",
       "      <td>99</td>\n",
       "      <td>991</td>\n",
       "      <td>9991</td>\n",
       "      <td>91</td>\n",
       "      <td>91</td>\n",
       "      <td>91</td>\n",
       "      <td>...</td>\n",
       "      <td>2</td>\n",
       "      <td>3</td>\n",
       "      <td>3.0</td>\n",
       "      <td>3</td>\n",
       "      <td>3</td>\n",
       "      <td>2</td>\n",
       "      <td>2</td>\n",
       "      <td>9574.680172</td>\n",
       "      <td>40049</td>\n",
       "      <td>1</td>\n",
       "    </tr>\n",
       "  </tbody>\n",
       "</table>\n",
       "<p>58034 rows × 2988 columns</p>\n",
       "</div>"
      ],
      "text/plain": [
       "       QUESTID2    FILEDATE  CIGEVER  CIGOFRSM  CIGWILYR  CIGTRY  CIGYFU  \\\n",
       "0      10000182  10/06/2022        1        99        99      19    9999   \n",
       "1      10001255  10/06/2022        1        99        99      15    9999   \n",
       "2      10001831  10/06/2022        2        99        99     991    9991   \n",
       "3      10002722  10/06/2022        1        99        99       9    9999   \n",
       "4      10002897  10/06/2022        2        99        99     991    9991   \n",
       "...         ...         ...      ...       ...       ...     ...     ...   \n",
       "58029  51649942  10/06/2022        1        99        99      19    9999   \n",
       "58030  51652923  10/06/2022        2        99        99     991    9991   \n",
       "58031  51652949  10/06/2022        1        99        99      18    9999   \n",
       "58032  51655980  10/06/2022        1        99        99      22    9999   \n",
       "58033  51656361  10/06/2022        2        99        99     991    9991   \n",
       "\n",
       "       CIGMFU  CIGREC  CIG30USE  ...  GOVTPROG  INCOME  POVERTY3  PDEN10  \\\n",
       "0          99       1         7  ...         1       1       2.0       2   \n",
       "1          99       4        93  ...         2       4       3.0       1   \n",
       "2          91      91        91  ...         2       2       2.0       2   \n",
       "3          99       1        30  ...         2       2       2.0       1   \n",
       "4          91      91        91  ...         2       1       1.0       1   \n",
       "...       ...     ...       ...  ...       ...     ...       ...     ...   \n",
       "58029      99       4        93  ...         2       4       3.0       1   \n",
       "58030      91      91        91  ...         2       4       3.0       2   \n",
       "58031      99       2        93  ...         2       4       3.0       1   \n",
       "58032      99       4        93  ...         2       4       3.0       1   \n",
       "58033      91      91        91  ...         2       3       3.0       3   \n",
       "\n",
       "       COUTYP4  MAIIN102  AIIND102      ANALWT_C  VESTR_C  VEREP  \n",
       "0            3         2         2    675.130812    40047      1  \n",
       "1            1         2         2  12435.513603    40037      2  \n",
       "2            2         2         2    647.085653    40037      2  \n",
       "3            1         2         2  11275.260484    40045      2  \n",
       "4            1         2         2    350.985132    40006      1  \n",
       "...        ...       ...       ...           ...      ...    ...  \n",
       "58029        1         2         2    188.629137    40025      2  \n",
       "58030        2         2         2    197.696511    40024      2  \n",
       "58031        1         2         2    247.756480    40006      1  \n",
       "58032        1         2         2    338.721596    40025      2  \n",
       "58033        3         2         2   9574.680172    40049      1  \n",
       "\n",
       "[58034 rows x 2988 columns]"
      ]
     },
     "execution_count": 6,
     "metadata": {},
     "output_type": "execute_result"
    }
   ],
   "source": [
    "data"
   ]
  },
  {
   "cell_type": "code",
   "execution_count": 3,
   "metadata": {},
   "outputs": [
    {
     "name": "stdout",
     "output_type": "stream",
     "text": [
      "<class 'pandas.core.frame.DataFrame'>\n",
      "RangeIndex: 58034 entries, 0 to 58033\n",
      "Columns: 2988 entries, QUESTID2 to VEREP\n",
      "dtypes: float64(539), int64(2447), object(2)\n",
      "memory usage: 1.3+ GB\n"
     ]
    }
   ],
   "source": [
    "data.info()"
   ]
  },
  {
   "cell_type": "code",
   "execution_count": 8,
   "metadata": {},
   "outputs": [
    {
     "name": "stdout",
     "output_type": "stream",
     "text": [
      "The shape of this dataset is (58034, 2988)\n"
     ]
    }
   ],
   "source": [
    "print(f\"The shape of this dataset is {data.shape}\")"
   ]
  },
  {
   "cell_type": "code",
   "execution_count": 9,
   "metadata": {},
   "outputs": [
    {
     "data": {
      "text/plain": [
       "Index(['QUESTID2', 'FILEDATE', 'CIGEVER', 'CIGOFRSM', 'CIGWILYR', 'CIGTRY',\n",
       "       'CIGYFU', 'CIGMFU', 'CIGREC', 'CIG30USE',\n",
       "       ...\n",
       "       'GOVTPROG', 'INCOME', 'POVERTY3', 'PDEN10', 'COUTYP4', 'MAIIN102',\n",
       "       'AIIND102', 'ANALWT_C', 'VESTR_C', 'VEREP'],\n",
       "      dtype='object', length=2988)"
      ]
     },
     "execution_count": 9,
     "metadata": {},
     "output_type": "execute_result"
    }
   ],
   "source": [
    "data.columns"
   ]
  },
  {
   "cell_type": "code",
   "execution_count": null,
   "metadata": {},
   "outputs": [],
   "source": [
    "# There are 14 fields in Marijuana"
   ]
  },
  {
   "cell_type": "code",
   "execution_count": 14,
   "metadata": {},
   "outputs": [],
   "source": [
    "# Marijuana Section Variables:\n",
    "\n",
    "MJ_Codes = [\"MJEVER\",\n",
    "\"MJAGE\",\n",
    "\"MJYFU\",\n",
    "\"MJMFU\",\n",
    "\"MJREC\",\n",
    "\"MJREC\",\n",
    "\"MJYRTOT\",\n",
    "\"MRTOTFG\",\n",
    "\"MJFQFLG\",\n",
    "\"MRBSTWAY\",\n",
    "\"MRDAYPYR\",\n",
    "\"MRDAYPMO\",\n",
    "\"MRDAYPWK\",\n",
    "\"MJDAY30A\",\n",
    "\"MR30EST\"]\n",
    "\n"
   ]
  },
  {
   "cell_type": "code",
   "execution_count": 16,
   "metadata": {},
   "outputs": [
    {
     "data": {
      "text/html": [
       "<div>\n",
       "<style scoped>\n",
       "    .dataframe tbody tr th:only-of-type {\n",
       "        vertical-align: middle;\n",
       "    }\n",
       "\n",
       "    .dataframe tbody tr th {\n",
       "        vertical-align: top;\n",
       "    }\n",
       "\n",
       "    .dataframe thead th {\n",
       "        text-align: right;\n",
       "    }\n",
       "</style>\n",
       "<table border=\"1\" class=\"dataframe\">\n",
       "  <thead>\n",
       "    <tr style=\"text-align: right;\">\n",
       "      <th></th>\n",
       "      <th>MJEVER</th>\n",
       "      <th>MJAGE</th>\n",
       "      <th>MJYFU</th>\n",
       "      <th>MJMFU</th>\n",
       "      <th>MJREC</th>\n",
       "      <th>MJREC</th>\n",
       "      <th>MJYRTOT</th>\n",
       "      <th>MRTOTFG</th>\n",
       "      <th>MJFQFLG</th>\n",
       "      <th>MRBSTWAY</th>\n",
       "      <th>MRDAYPYR</th>\n",
       "      <th>MRDAYPMO</th>\n",
       "      <th>MRDAYPWK</th>\n",
       "      <th>MJDAY30A</th>\n",
       "      <th>MR30EST</th>\n",
       "    </tr>\n",
       "  </thead>\n",
       "  <tbody>\n",
       "    <tr>\n",
       "      <th>0</th>\n",
       "      <td>1</td>\n",
       "      <td>19</td>\n",
       "      <td>9999</td>\n",
       "      <td>99</td>\n",
       "      <td>1</td>\n",
       "      <td>1</td>\n",
       "      <td>52</td>\n",
       "      <td>98</td>\n",
       "      <td>98</td>\n",
       "      <td>1</td>\n",
       "      <td>999</td>\n",
       "      <td>99</td>\n",
       "      <td>1</td>\n",
       "      <td>30</td>\n",
       "      <td>99</td>\n",
       "    </tr>\n",
       "    <tr>\n",
       "      <th>1</th>\n",
       "      <td>2</td>\n",
       "      <td>991</td>\n",
       "      <td>9991</td>\n",
       "      <td>91</td>\n",
       "      <td>91</td>\n",
       "      <td>91</td>\n",
       "      <td>991</td>\n",
       "      <td>98</td>\n",
       "      <td>98</td>\n",
       "      <td>91</td>\n",
       "      <td>991</td>\n",
       "      <td>91</td>\n",
       "      <td>91</td>\n",
       "      <td>91</td>\n",
       "      <td>91</td>\n",
       "    </tr>\n",
       "    <tr>\n",
       "      <th>2</th>\n",
       "      <td>2</td>\n",
       "      <td>991</td>\n",
       "      <td>9991</td>\n",
       "      <td>91</td>\n",
       "      <td>91</td>\n",
       "      <td>91</td>\n",
       "      <td>991</td>\n",
       "      <td>98</td>\n",
       "      <td>98</td>\n",
       "      <td>91</td>\n",
       "      <td>991</td>\n",
       "      <td>91</td>\n",
       "      <td>91</td>\n",
       "      <td>91</td>\n",
       "      <td>91</td>\n",
       "    </tr>\n",
       "    <tr>\n",
       "      <th>3</th>\n",
       "      <td>1</td>\n",
       "      <td>13</td>\n",
       "      <td>9999</td>\n",
       "      <td>99</td>\n",
       "      <td>1</td>\n",
       "      <td>1</td>\n",
       "      <td>364</td>\n",
       "      <td>98</td>\n",
       "      <td>98</td>\n",
       "      <td>1</td>\n",
       "      <td>999</td>\n",
       "      <td>99</td>\n",
       "      <td>7</td>\n",
       "      <td>30</td>\n",
       "      <td>99</td>\n",
       "    </tr>\n",
       "    <tr>\n",
       "      <th>4</th>\n",
       "      <td>2</td>\n",
       "      <td>991</td>\n",
       "      <td>9991</td>\n",
       "      <td>91</td>\n",
       "      <td>91</td>\n",
       "      <td>91</td>\n",
       "      <td>991</td>\n",
       "      <td>98</td>\n",
       "      <td>98</td>\n",
       "      <td>91</td>\n",
       "      <td>991</td>\n",
       "      <td>91</td>\n",
       "      <td>91</td>\n",
       "      <td>91</td>\n",
       "      <td>91</td>\n",
       "    </tr>\n",
       "    <tr>\n",
       "      <th>...</th>\n",
       "      <td>...</td>\n",
       "      <td>...</td>\n",
       "      <td>...</td>\n",
       "      <td>...</td>\n",
       "      <td>...</td>\n",
       "      <td>...</td>\n",
       "      <td>...</td>\n",
       "      <td>...</td>\n",
       "      <td>...</td>\n",
       "      <td>...</td>\n",
       "      <td>...</td>\n",
       "      <td>...</td>\n",
       "      <td>...</td>\n",
       "      <td>...</td>\n",
       "      <td>...</td>\n",
       "    </tr>\n",
       "    <tr>\n",
       "      <th>58029</th>\n",
       "      <td>1</td>\n",
       "      <td>21</td>\n",
       "      <td>9999</td>\n",
       "      <td>99</td>\n",
       "      <td>3</td>\n",
       "      <td>3</td>\n",
       "      <td>993</td>\n",
       "      <td>98</td>\n",
       "      <td>98</td>\n",
       "      <td>93</td>\n",
       "      <td>993</td>\n",
       "      <td>93</td>\n",
       "      <td>93</td>\n",
       "      <td>93</td>\n",
       "      <td>93</td>\n",
       "    </tr>\n",
       "    <tr>\n",
       "      <th>58030</th>\n",
       "      <td>1</td>\n",
       "      <td>25</td>\n",
       "      <td>9999</td>\n",
       "      <td>99</td>\n",
       "      <td>3</td>\n",
       "      <td>3</td>\n",
       "      <td>993</td>\n",
       "      <td>98</td>\n",
       "      <td>98</td>\n",
       "      <td>93</td>\n",
       "      <td>993</td>\n",
       "      <td>93</td>\n",
       "      <td>93</td>\n",
       "      <td>93</td>\n",
       "      <td>93</td>\n",
       "    </tr>\n",
       "    <tr>\n",
       "      <th>58031</th>\n",
       "      <td>1</td>\n",
       "      <td>18</td>\n",
       "      <td>9999</td>\n",
       "      <td>99</td>\n",
       "      <td>1</td>\n",
       "      <td>1</td>\n",
       "      <td>48</td>\n",
       "      <td>98</td>\n",
       "      <td>98</td>\n",
       "      <td>2</td>\n",
       "      <td>999</td>\n",
       "      <td>4</td>\n",
       "      <td>99</td>\n",
       "      <td>10</td>\n",
       "      <td>99</td>\n",
       "    </tr>\n",
       "    <tr>\n",
       "      <th>58032</th>\n",
       "      <td>1</td>\n",
       "      <td>19</td>\n",
       "      <td>9999</td>\n",
       "      <td>99</td>\n",
       "      <td>2</td>\n",
       "      <td>2</td>\n",
       "      <td>3</td>\n",
       "      <td>98</td>\n",
       "      <td>98</td>\n",
       "      <td>3</td>\n",
       "      <td>3</td>\n",
       "      <td>99</td>\n",
       "      <td>99</td>\n",
       "      <td>93</td>\n",
       "      <td>93</td>\n",
       "    </tr>\n",
       "    <tr>\n",
       "      <th>58033</th>\n",
       "      <td>2</td>\n",
       "      <td>991</td>\n",
       "      <td>9991</td>\n",
       "      <td>91</td>\n",
       "      <td>91</td>\n",
       "      <td>91</td>\n",
       "      <td>991</td>\n",
       "      <td>98</td>\n",
       "      <td>98</td>\n",
       "      <td>91</td>\n",
       "      <td>991</td>\n",
       "      <td>91</td>\n",
       "      <td>91</td>\n",
       "      <td>91</td>\n",
       "      <td>91</td>\n",
       "    </tr>\n",
       "  </tbody>\n",
       "</table>\n",
       "<p>58034 rows × 15 columns</p>\n",
       "</div>"
      ],
      "text/plain": [
       "       MJEVER  MJAGE  MJYFU  MJMFU  MJREC  MJREC  MJYRTOT  MRTOTFG  MJFQFLG  \\\n",
       "0           1     19   9999     99      1      1       52       98       98   \n",
       "1           2    991   9991     91     91     91      991       98       98   \n",
       "2           2    991   9991     91     91     91      991       98       98   \n",
       "3           1     13   9999     99      1      1      364       98       98   \n",
       "4           2    991   9991     91     91     91      991       98       98   \n",
       "...       ...    ...    ...    ...    ...    ...      ...      ...      ...   \n",
       "58029       1     21   9999     99      3      3      993       98       98   \n",
       "58030       1     25   9999     99      3      3      993       98       98   \n",
       "58031       1     18   9999     99      1      1       48       98       98   \n",
       "58032       1     19   9999     99      2      2        3       98       98   \n",
       "58033       2    991   9991     91     91     91      991       98       98   \n",
       "\n",
       "       MRBSTWAY  MRDAYPYR  MRDAYPMO  MRDAYPWK  MJDAY30A  MR30EST  \n",
       "0             1       999        99         1        30       99  \n",
       "1            91       991        91        91        91       91  \n",
       "2            91       991        91        91        91       91  \n",
       "3             1       999        99         7        30       99  \n",
       "4            91       991        91        91        91       91  \n",
       "...         ...       ...       ...       ...       ...      ...  \n",
       "58029        93       993        93        93        93       93  \n",
       "58030        93       993        93        93        93       93  \n",
       "58031         2       999         4        99        10       99  \n",
       "58032         3         3        99        99        93       93  \n",
       "58033        91       991        91        91        91       91  \n",
       "\n",
       "[58034 rows x 15 columns]"
      ]
     },
     "execution_count": 16,
     "metadata": {},
     "output_type": "execute_result"
    }
   ],
   "source": [
    "MJ_SUBSET = data[MJ_Codes]\n",
    "\n",
    "MJ_SUBSET"
   ]
  },
  {
   "cell_type": "markdown",
   "metadata": {},
   "source": [
    "#### MJEVER - Ever used marijuana/hashish\n",
    "#### MJAGE - Age when first used marijuana/hashish\n",
    "#### MJYFU - Year of first use marijuana/hashish use\n",
    "#### MJMFU - Month of first use marijuana/hashish use\n",
    "#### MJREC - Time sence last use marijuana/hashish\n",
    "#### MJRTOT - Total number of days used marijuana/hashish in past 12 months\n",
    "#### MRTOTFG - Trimming indicator for MJRTOT\n",
    "#### MJFQFLG - Trimmed MJRTOT if R is used < 12\n",
    "#### MRBSTWAY -  EASIEST WAY TO TELL US # DAYS USED MARIJUANA/HASH \n",
    "#### MRDAYPYR - # DAYS USED MARIJUANA/HASHISH PAST 12 MONTHS\n",
    "#### MRDAYPMO - # DAYS PER MO USED MARIJUANA/HASHISH PAST 12 MOS\n",
    "#### MRDAYPWK - # DAYS PER WEEK USED MARIJUANA/HASHISH PAST 12 MOS\n",
    "#### MJDAY30A - # DAYS USED MARIJUANA/HASHISH PAST 30 DAYS\n",
    "#### MR30EST - BEST EST. # DAYS USED MARIJUANA PAST 30 DAYS\n"
   ]
  },
  {
   "cell_type": "code",
   "execution_count": null,
   "metadata": {},
   "outputs": [],
   "source": [
    "# Market Information for Marijuana \n",
    "\n",
    "pg. 620 - 637"
   ]
  },
  {
   "cell_type": "code",
   "execution_count": null,
   "metadata": {},
   "outputs": [],
   "source": [
    "# Section II: Combining the two sets of MJ codes"
   ]
  },
  {
   "cell_type": "code",
   "execution_count": null,
   "metadata": {},
   "outputs": [],
   "source": [
    "# MJ Market Variables\n",
    "MJ_MARKET_CODES = [\n",
    "    'MMBTPYR', # Bought MJ in past 12 months\n",
    "    'MMBT30DY', # # Days bought MH in Past Month\n",
    "    'MMBTDISP', # Bought from store or dispoensary\n",
    "    'MMBJOINT', # Last MJ bought in joints\n",
    "    'MMBLOOSE', # Last MJ bought in Loose form\n",
    "    'MMBOTHER', # Last MJ bought in other form\n",
    "    'MMLSUNIT1', # AMT MJ bought in last time: grams/oz/lbs\n",
    "    'MMLSPCTB1', # Amount paid for MJ last time in bins\n",
    "    'MMLSPCAT1', # Price category of last loose marijuana bought\n",
    "    'MMBSELL', # Sell any marijuana bought last time\n",
    "]"
   ]
  },
  {
   "cell_type": "code",
   "execution_count": 7,
   "metadata": {},
   "outputs": [
    {
     "data": {
      "text/plain": [
       "23"
      ]
     },
     "execution_count": 7,
     "metadata": {},
     "output_type": "execute_result"
    }
   ],
   "source": [
    "# Combine the starter MJ codes and the select MJ Market codes\n",
    "MJ_CODES = [\n",
    "\"MJEVER\", # Ever used marijuana/hashish\n",
    "\"MJAGE\", # Age when first used marijuana/hashish\n",
    "\"MJYFU\", # Year of first use marijuana/hashish use # Drop \n",
    "\"MJREC\", # Month of first use marijuana/hashish use \n",
    "\"MJYRTOT\", # Total number of days used marijuana/hashish in past 12 months\n",
    "\"MRTOTFG\", # Trimming indicator for MJRTOT\n",
    "\"MJFQFLG\", # Trimmed MJRTOT if R is used < 12\n",
    "\"MRBSTWAY\", # EASIEST WAY TO TELL US # DAYS USED MARIJUANA/HASH \n",
    "\"MRDAYPYR\", # DAYS USED MARIJUANA/HASHISH PAST 12 MONTHS\n",
    "\"MRDAYPMO\", # DAYS PER MO USED MARIJUANA/HASHISH PAST 12 MOS\n",
    "\"MRDAYPWK\", # DAYS PER WEEK USED MARIJUANA/HASHISH PAST 12 MOS\n",
    "\"MJDAY30A\", # DAYS USED MARIJUANA/HASHISH PAST 30 DAYS\n",
    "\"MR30EST\", # BEST EST. # DAYS USED MARIJUANA PAST 30 DAYS\n",
    "'MMBTPYR', # Bought MJ in past 12 months\n",
    "'MMBT30DY', # # Days bought MJ in Past Month\n",
    "'MMBTDISP', # Bought from store or dispoensary\n",
    "'MMBJOINT', # Last MJ bought in joints\n",
    "'MMBLOOSE', # Last MJ bought in Loose form\n",
    "'MMBOTHER', # Last MJ bought in other form\n",
    "'MMLSUNIT1', # AMT MJ bought in last time: grams/oz/lbs\n",
    "'MMLSPCTB1', # Amount paid for MJ last time in bins\n",
    "'MMLSPCAT1', # Price category of last loose marijuana bought\n",
    "'MMBSELL', # Sell any marijuana bought last time\n",
    "]\n",
    "# CHeck number of MJ codes\n",
    "len(MJ_CODES)"
   ]
  },
  {
   "cell_type": "code",
   "execution_count": 8,
   "metadata": {},
   "outputs": [
    {
     "data": {
      "text/plain": [
       "6"
      ]
     },
     "execution_count": 8,
     "metadata": {},
     "output_type": "execute_result"
    }
   ],
   "source": [
    "# Subset the dataset down to only MJ Codes (Mental Health Outcome)\n",
    "TARGETS = [\n",
    "'IRIMPREMEM', # DIFFICULTY REMEMBERING ONE MO IN PST 12 MOS - IMP REV (457) --> BINARY!\n",
    "'ADDPREV', # SEVERAL DAYS OR LNGR WHEN FELT SAD/EMPTY/DPRSD (506) --> BINARY!\n",
    "'IRSUIPLANYR', # ADULT MADE PLANS TO KILL SELF IN PST YR - IMP REV (499)\n",
    "'ASDSREL2', # ADULT: DEP FEELINGS ROLE IMPAIRMENT - CLOSE RELATIONSHIPS (520)\n",
    "'IRAMDEYR', # ADULT: PAST YEAR MAJOR DEPRESSIVE EPISODE (MDE) - IMP REV\n",
    "'IRDSTCHR12' # HOW OFTEN FELT COULDN'T BE CHEERED UP WRST MONTH - IMP REV\n",
    "]\n",
    "# Check number of TARGETS\n",
    "len(TARGETS)\n"
   ]
  },
  {
   "cell_type": "code",
   "execution_count": 16,
   "metadata": {},
   "outputs": [],
   "source": [
    "# Create first complete subset with 23 features and ADDPREV as the target\n",
    "\n",
    "SUBSET = data[MJ_CODES]\n"
   ]
  },
  {
   "cell_type": "code",
   "execution_count": 63,
   "metadata": {},
   "outputs": [
    {
     "name": "stdout",
     "output_type": "stream",
     "text": [
      "<class 'pandas.core.frame.DataFrame'>\n",
      "RangeIndex: 58034 entries, 0 to 58033\n",
      "Data columns (total 23 columns):\n",
      " #   Column     Non-Null Count  Dtype\n",
      "---  ------     --------------  -----\n",
      " 0   MJEVER     58034 non-null  int64\n",
      " 1   MJAGE      58034 non-null  int64\n",
      " 2   MJYFU      58034 non-null  int64\n",
      " 3   MJREC      58034 non-null  int64\n",
      " 4   MJYRTOT    58034 non-null  int64\n",
      " 5   MRTOTFG    58034 non-null  int64\n",
      " 6   MJFQFLG    58034 non-null  int64\n",
      " 7   MRBSTWAY   58034 non-null  int64\n",
      " 8   MRDAYPYR   58034 non-null  int64\n",
      " 9   MRDAYPMO   58034 non-null  int64\n",
      " 10  MRDAYPWK   58034 non-null  int64\n",
      " 11  MJDAY30A   58034 non-null  int64\n",
      " 12  MR30EST    58034 non-null  int64\n",
      " 13  MMBTPYR    58034 non-null  int64\n",
      " 14  MMBT30DY   58034 non-null  int64\n",
      " 15  MMBTDISP   58034 non-null  int64\n",
      " 16  MMBJOINT   58034 non-null  int64\n",
      " 17  MMBLOOSE   58034 non-null  int64\n",
      " 18  MMBOTHER   58034 non-null  int64\n",
      " 19  MMLSUNIT1  58034 non-null  int64\n",
      " 20  MMLSPCTB1  58034 non-null  int64\n",
      " 21  MMLSPCAT1  58034 non-null  int64\n",
      " 22  MMBSELL    58034 non-null  int64\n",
      "dtypes: int64(23)\n",
      "memory usage: 10.2 MB\n"
     ]
    }
   ],
   "source": [
    "# Preprocess the features\n",
    "\n",
    "FEATURES = data[MJ_CODES]\n",
    "\n",
    "# Rename FEATURES as df\n",
    "df = FEATURES.copy()\n",
    "\n",
    "# Inspect df\n",
    "df.info()"
   ]
  },
  {
   "cell_type": "code",
   "execution_count": 49,
   "metadata": {},
   "outputs": [
    {
     "data": {
      "text/plain": [
       "2     32487\n",
       "1     25355\n",
       "3       159\n",
       "94       16\n",
       "97       16\n",
       "85        1\n",
       "Name: MJEVER, dtype: int64"
      ]
     },
     "execution_count": 49,
     "metadata": {},
     "output_type": "execute_result"
    }
   ],
   "source": [
    "# Inspect MJEVER column\n",
    "df.MJEVER.value_counts()\n",
    "\n",
    "# 1 = Yes................................................................................................................................ 25355 43.69\n",
    "# 2 = No................................................................................................................................. 32487 55.98\n",
    "# 3 = Yes LOGICALLY ASSIGNED.................................................................................... 159 0.27\n",
    "# 85 = BAD DATA Logically assigned ................................................................................. 1 0.00\n",
    "# 94 = DON'T KNOW........................................................................................................... 16 0.03\n",
    "# 97 = REFUSED .................................................................................................................. 16 0.03"
   ]
  },
  {
   "cell_type": "code",
   "execution_count": 64,
   "metadata": {},
   "outputs": [
    {
     "data": {
      "text/plain": [
       "2    32487\n",
       "1    25355\n",
       "Name: MJEVER, dtype: int64"
      ]
     },
     "execution_count": 64,
     "metadata": {},
     "output_type": "execute_result"
    }
   ],
   "source": [
    "# q: What do we do with every other value aside from 1 and 2 in MJEVER?\n",
    "# a: We drop them. They are not useful for our analysis.\n",
    "\n",
    "# Drop all rows where MJEVER is not 1 or 2\n",
    "df = df[df['MJEVER'].isin([1,2])]\n",
    "\n",
    "# Check that we have only 1 and 2 in MJEVER\n",
    "df['MJEVER'].value_counts()\n"
   ]
  },
  {
   "cell_type": "code",
   "execution_count": 65,
   "metadata": {},
   "outputs": [
    {
     "data": {
      "text/plain": [
       "0    32487\n",
       "1    25355\n",
       "Name: MJEVER, dtype: int64"
      ]
     },
     "execution_count": 65,
     "metadata": {},
     "output_type": "execute_result"
    }
   ],
   "source": [
    "# Change the 2s in MJEVER to 0s\n",
    "\n",
    "df.loc[df['MJEVER'] == 2, 'MJEVER'] = 0\n",
    "\n",
    "# Inspect changes\n",
    "df['MJEVER'].value_counts()"
   ]
  },
  {
   "cell_type": "code",
   "execution_count": 51,
   "metadata": {},
   "outputs": [
    {
     "data": {
      "text/plain": [
       "991    32487\n",
       "16      3704\n",
       "18      3493\n",
       "15      2868\n",
       "17      2377\n",
       "       ...  \n",
       "53         1\n",
       "79         1\n",
       "82         1\n",
       "73         1\n",
       "80         1\n",
       "Name: MJAGE, Length: 83, dtype: int64"
      ]
     },
     "execution_count": 51,
     "metadata": {},
     "output_type": "execute_result"
    }
   ],
   "source": [
    "# Inspect MJAGE\n",
    "df.MJAGE.value_counts()\n",
    "\n",
    "# Note: 991 is never used MJ \n",
    "# Every other value is an integer age value\n",
    "\n",
    "# RANGE = 1 - 82 ................................................................................................................. 25197 43.42\n",
    "# 985 = BAD DATA Logically assigned ............................................................................... 67 0.12\n",
    "# 991 = NEVER USED MARIJUANA ................................................................................. 32487 55.98\n",
    "# 994 = DON'T KNOW......................................................................................................... 61 0.11\n",
    "# 997 = REFUSED ................................................................................................................ 47 0.08\n",
    "# 998 = BLANK (NO ANSWER).......................................................................................... 175 0.30"
   ]
  },
  {
   "cell_type": "code",
   "execution_count": 66,
   "metadata": {},
   "outputs": [
    {
     "data": {
      "text/plain": [
       "1    32645\n",
       "0    25197\n",
       "Name: AGEMISSING, dtype: int64"
      ]
     },
     "execution_count": 66,
     "metadata": {},
     "output_type": "execute_result"
    }
   ],
   "source": [
    "# Create a new variable called AGEMISSING that is equal to 1 if MJAGE is 985, 991, 994, 997, or 998 and 0 otherwise.\n",
    "\n",
    "df['AGEMISSING'] = [1 if x in [985, 991, 994, 997, 998] else 0 for x in df['MJAGE']]\n",
    "\n",
    "df.AGEMISSING.value_counts()\n"
   ]
  },
  {
   "cell_type": "code",
   "execution_count": null,
   "metadata": {},
   "outputs": [],
   "source": [
    "# AGEMISSING is virtually equivalent to MJEVER so do not use both"
   ]
  },
  {
   "cell_type": "code",
   "execution_count": 67,
   "metadata": {},
   "outputs": [
    {
     "data": {
      "text/plain": [
       "<Axes: ylabel='Frequency'>"
      ]
     },
     "execution_count": 67,
     "metadata": {},
     "output_type": "execute_result"
    },
    {
     "data": {
      "image/png": "[encoded data removed]",
      "text/plain": [
       "<Figure size 640x480 with 1 Axes>"
      ]
     },
     "metadata": {},
     "output_type": "display_data"
    }
   ],
   "source": [
    "# Further inspect MJAGE to see how we can handle that field\n",
    "\n",
    "# Get all MJAGE values less than 82\n",
    "actual_ages = df[df['MJAGE'] < 82]['MJAGE']\n",
    "\n",
    "actual_ages.plot.hist(bins=30)"
   ]
  },
  {
   "cell_type": "code",
   "execution_count": 68,
   "metadata": {},
   "outputs": [],
   "source": [
    "# Create a binary variable for 5 year age groups (using MJAGE) up until 30 years old, and then a 31+ category\n",
    "\n",
    "# <= 5\n",
    "df['AGE_5'] = np.where(df['MJAGE'] <= 5, 1, 0)\n",
    "# 6-10\n",
    "df['AGE_6_10'] = np.where((df['MJAGE'] > 5) & (df['MJAGE'] <= 10), 1, 0)\n",
    "# 11-15\n",
    "df['AGE_11_15'] = np.where((df['MJAGE'] > 10) & (df['MJAGE'] <= 15), 1, 0)\n",
    "# 16-20\n",
    "df['AGE_16_20'] = np.where((df['MJAGE'] > 15) & (df['MJAGE'] <= 20), 1, 0)\n",
    "# 21-25\n",
    "df['AGE_21_25'] = np.where((df['MJAGE'] > 20) & (df['MJAGE'] <= 25), 1, 0)\n",
    "# 26-30\n",
    "df['AGE_26_30'] = np.where((df['MJAGE'] > 25) & (df['MJAGE'] <= 30), 1, 0)\n",
    "# 31+\n",
    "df['AGE_31'] = np.where(df['MJAGE'] > 30, 1, 0)"
   ]
  },
  {
   "cell_type": "code",
   "execution_count": 56,
   "metadata": {},
   "outputs": [
    {
     "data": {
      "text/plain": [
       "9991    32487\n",
       "9999    23607\n",
       "2020      774\n",
       "2021      444\n",
       "2019      187\n",
       "9985      132\n",
       "9989      112\n",
       "9994       66\n",
       "9997       32\n",
       "9998        1\n",
       "Name: MJYFU, dtype: int64"
      ]
     },
     "execution_count": 56,
     "metadata": {},
     "output_type": "execute_result"
    }
   ],
   "source": [
    "# Inspect MJYFU\t\n",
    "df.MJYFU.value_counts()\n",
    "\n",
    "# RANGE = 2019 - 2021 ....................................................................................................... 1405 2.42\n",
    "# 9985 = BAD DATA Logically assigned ............................................................................. 132 0.23\n",
    "# 9989 = LEGITIMATE SKIP Logically assigned ................................................................ 112 0.19\n",
    "# 9991 = NEVER USED MARIJUANA................................................................................ 32487 55.98\n",
    "# 9994 = DON'T KNOW....................................................................................................... 66 0.11\n",
    "# 9997 = REFUSED .............................................................................................................. 48 0.08\n",
    "# 9998 = BLANK (NO ANSWER)........................................................................................ 177 0.30\n",
    "# 9999 = LEGITIMATE SKIP............................................................................................... 23607 40.68"
   ]
  },
  {
   "cell_type": "code",
   "execution_count": 69,
   "metadata": {},
   "outputs": [],
   "source": [
    "# Drop MJYFU from df because it is not easily processed\n",
    "df = df.drop(columns=['MJYFU'])"
   ]
  },
  {
   "cell_type": "code",
   "execution_count": 58,
   "metadata": {},
   "outputs": [
    {
     "data": {
      "text/plain": [
       "Index(['MJEVER', 'MJAGE', 'MJREC', 'MJYRTOT', 'MRTOTFG', 'MJFQFLG', 'MRBSTWAY',\n",
       "       'MRDAYPYR', 'MRDAYPMO', 'MRDAYPWK', 'MJDAY30A', 'MR30EST', 'MMBTPYR',\n",
       "       'MMBT30DY', 'MMBTDISP', 'MMBJOINT', 'MMBLOOSE', 'MMBOTHER', 'MMLSUNIT1',\n",
       "       'MMLSPCTB1', 'MMLSPCAT1', 'MMBSELL', 'AGEMISSING', 'AGE_5', 'AGE_6_10',\n",
       "       'AGE_11_15', 'AGE_16_20', 'AGE_21_25', 'AGE_26_30', 'AGE_31'],\n",
       "      dtype='object')"
      ]
     },
     "execution_count": 58,
     "metadata": {},
     "output_type": "execute_result"
    }
   ],
   "source": [
    "# Inspect the columns in df\n",
    "df.columns"
   ]
  },
  {
   "cell_type": "code",
   "execution_count": 33,
   "metadata": {},
   "outputs": [
    {
     "data": {
      "text/plain": [
       "91    32487\n",
       "3     12886\n",
       "1      8176\n",
       "2      3840\n",
       "8       160\n",
       "11      110\n",
       "12       98\n",
       "9        85\n",
       "Name: MJREC, dtype: int64"
      ]
     },
     "execution_count": 33,
     "metadata": {},
     "output_type": "execute_result"
    }
   ],
   "source": [
    "# MJREC\n",
    "df.MJREC.value_counts()     "
   ]
  },
  {
   "cell_type": "code",
   "execution_count": null,
   "metadata": {},
   "outputs": [],
   "source": [
    "# MJREC\n",
    "# 1 = Within the past 30 days................................................................................................. 8176 14.09\n",
    "# 2 = More than 30 days ago but within the past 12 mos....................................................... 3840 6.62\n",
    "# 3 = More than 12 months ago ............................................................................................. 12886 22.20\n",
    "# 8 = Used at some point in the past 12 mos LOG ASSN...................................................... 160 0.28\n",
    "# 9 = Used at some point in the lifetime LOG ASSN............................................................. 85 0.15\n",
    "# 11 = Used in the past 30 days LOGICALLY ASSIGNED.................................................. 136 0.23\n",
    "# 12 = Used >30 days ago but within pst 12 mos LOG ASSN............................................... 161 0.28\n",
    "# 13 = More than 12 months ago LOGICALLY ASSIGNED................................................ 70 0.12\n",
    "# 85 = BAD DATA Logically assigned ................................................................................. 1 0.00\n",
    "# 91 = NEVER USED MARIJUANA ................................................................................... 32487 55.98\n",
    "# 97 = REFUSED .................................................................................................................. 16 0.03\n",
    "# 98 = BLANK (NO ANSWER) ........................................................................................... 16 0.03"
   ]
  },
  {
   "cell_type": "code",
   "execution_count": 70,
   "metadata": {},
   "outputs": [
    {
     "name": "stdout",
     "output_type": "stream",
     "text": [
      "0    49666\n",
      "1     8176\n",
      "Name: MJUSE30, dtype: int64\n",
      "0    54002\n",
      "1     3840\n",
      "Name: MJUSENOT30BUT12, dtype: int64\n",
      "0    44956\n",
      "1    12886\n",
      "Name: MJUSEMORE12, dtype: int64\n"
     ]
    }
   ],
   "source": [
    "# Use MJREC to create 3 new binary variables: MJUSE30, MJUSENOT30BUT12, MJUSEMORE12\n",
    "\n",
    "# Where MJREC == 1, MJUSE30 = 1, else 0\n",
    "df['MJUSE30'] = np.where(df['MJREC'] == 1, 1, 0)\n",
    "\n",
    "# Where MJREC == 2, MJUSENOT30BUT12 = 1, else 0\n",
    "df['MJUSENOT30BUT12'] = np.where(df['MJREC'] == 2, 1, 0)\n",
    "\n",
    "# Where MJREC == 3, MJUSEMORE12 = 1, else 0\n",
    "df['MJUSEMORE12'] = np.where(df['MJREC'] == 3, 1, 0)\n",
    "\n",
    "# Inspect the new variables by printing value counts\n",
    "print(df['MJUSE30'].value_counts())\n",
    "print(df['MJUSENOT30BUT12'].value_counts())\n",
    "print(df['MJUSEMORE12'].value_counts())"
   ]
  },
  {
   "cell_type": "code",
   "execution_count": 71,
   "metadata": {},
   "outputs": [],
   "source": [
    "# Now drop MJREC from df\n",
    "df.drop('MJREC', axis=1, inplace=True)"
   ]
  },
  {
   "cell_type": "code",
   "execution_count": 72,
   "metadata": {},
   "outputs": [
    {
     "data": {
      "text/plain": [
       "Index(['MJEVER', 'MJAGE', 'MJYRTOT', 'MRTOTFG', 'MJFQFLG', 'MRBSTWAY',\n",
       "       'MRDAYPYR', 'MRDAYPMO', 'MRDAYPWK', 'MJDAY30A', 'MR30EST', 'MMBTPYR',\n",
       "       'MMBT30DY', 'MMBTDISP', 'MMBJOINT', 'MMBLOOSE', 'MMBOTHER', 'MMLSUNIT1',\n",
       "       'MMLSPCTB1', 'MMLSPCAT1', 'MMBSELL', 'AGEMISSING', 'AGE_5', 'AGE_6_10',\n",
       "       'AGE_11_15', 'AGE_16_20', 'AGE_21_25', 'AGE_26_30', 'AGE_31', 'MJUSE30',\n",
       "       'MJUSENOT30BUT12', 'MJUSEMORE12'],\n",
       "      dtype='object')"
      ]
     },
     "execution_count": 72,
     "metadata": {},
     "output_type": "execute_result"
    }
   ],
   "source": [
    "df.columns"
   ]
  },
  {
   "cell_type": "code",
   "execution_count": 73,
   "metadata": {},
   "outputs": [
    {
     "data": {
      "text/html": [
       "<div>\n",
       "<style scoped>\n",
       "    .dataframe tbody tr th:only-of-type {\n",
       "        vertical-align: middle;\n",
       "    }\n",
       "\n",
       "    .dataframe tbody tr th {\n",
       "        vertical-align: top;\n",
       "    }\n",
       "\n",
       "    .dataframe thead th {\n",
       "        text-align: right;\n",
       "    }\n",
       "</style>\n",
       "<table border=\"1\" class=\"dataframe\">\n",
       "  <thead>\n",
       "    <tr style=\"text-align: right;\">\n",
       "      <th></th>\n",
       "      <th>MJEVER</th>\n",
       "      <th>AGE_5</th>\n",
       "      <th>AGE_6_10</th>\n",
       "      <th>AGE_11_15</th>\n",
       "      <th>AGE_16_20</th>\n",
       "      <th>AGE_21_25</th>\n",
       "      <th>AGE_26_30</th>\n",
       "      <th>AGE_31</th>\n",
       "      <th>MJUSE30</th>\n",
       "      <th>MJUSENOT30BUT12</th>\n",
       "      <th>MJUSEMORE12</th>\n",
       "    </tr>\n",
       "  </thead>\n",
       "  <tbody>\n",
       "    <tr>\n",
       "      <th>0</th>\n",
       "      <td>1</td>\n",
       "      <td>0</td>\n",
       "      <td>0</td>\n",
       "      <td>0</td>\n",
       "      <td>1</td>\n",
       "      <td>0</td>\n",
       "      <td>0</td>\n",
       "      <td>0</td>\n",
       "      <td>1</td>\n",
       "      <td>0</td>\n",
       "      <td>0</td>\n",
       "    </tr>\n",
       "    <tr>\n",
       "      <th>1</th>\n",
       "      <td>0</td>\n",
       "      <td>0</td>\n",
       "      <td>0</td>\n",
       "      <td>0</td>\n",
       "      <td>0</td>\n",
       "      <td>0</td>\n",
       "      <td>0</td>\n",
       "      <td>1</td>\n",
       "      <td>0</td>\n",
       "      <td>0</td>\n",
       "      <td>0</td>\n",
       "    </tr>\n",
       "    <tr>\n",
       "      <th>2</th>\n",
       "      <td>0</td>\n",
       "      <td>0</td>\n",
       "      <td>0</td>\n",
       "      <td>0</td>\n",
       "      <td>0</td>\n",
       "      <td>0</td>\n",
       "      <td>0</td>\n",
       "      <td>1</td>\n",
       "      <td>0</td>\n",
       "      <td>0</td>\n",
       "      <td>0</td>\n",
       "    </tr>\n",
       "    <tr>\n",
       "      <th>3</th>\n",
       "      <td>1</td>\n",
       "      <td>0</td>\n",
       "      <td>0</td>\n",
       "      <td>1</td>\n",
       "      <td>0</td>\n",
       "      <td>0</td>\n",
       "      <td>0</td>\n",
       "      <td>0</td>\n",
       "      <td>1</td>\n",
       "      <td>0</td>\n",
       "      <td>0</td>\n",
       "    </tr>\n",
       "    <tr>\n",
       "      <th>4</th>\n",
       "      <td>0</td>\n",
       "      <td>0</td>\n",
       "      <td>0</td>\n",
       "      <td>0</td>\n",
       "      <td>0</td>\n",
       "      <td>0</td>\n",
       "      <td>0</td>\n",
       "      <td>1</td>\n",
       "      <td>0</td>\n",
       "      <td>0</td>\n",
       "      <td>0</td>\n",
       "    </tr>\n",
       "  </tbody>\n",
       "</table>\n",
       "</div>"
      ],
      "text/plain": [
       "   MJEVER  AGE_5  AGE_6_10  AGE_11_15  AGE_16_20  AGE_21_25  AGE_26_30  \\\n",
       "0       1      0         0          0          1          0          0   \n",
       "1       0      0         0          0          0          0          0   \n",
       "2       0      0         0          0          0          0          0   \n",
       "3       1      0         0          1          0          0          0   \n",
       "4       0      0         0          0          0          0          0   \n",
       "\n",
       "   AGE_31  MJUSE30  MJUSENOT30BUT12  MJUSEMORE12  \n",
       "0       0        1                0            0  \n",
       "1       1        0                0            0  \n",
       "2       1        0                0            0  \n",
       "3       0        1                0            0  \n",
       "4       1        0                0            0  "
      ]
     },
     "execution_count": 73,
     "metadata": {},
     "output_type": "execute_result"
    }
   ],
   "source": [
    "# Inspect just the a starter set of MJEVER, MJAGE, MJUSE30, MJUSENOT30BUT12, and MJUSEMORE12\n",
    "\n",
    "starter_features = df[['MJEVER', 'AGE_5', 'AGE_6_10',\n",
    "       'AGE_11_15', 'AGE_16_20', 'AGE_21_25', 'AGE_26_30', 'AGE_31', 'MJUSE30',\n",
    "       'MJUSENOT30BUT12', 'MJUSEMORE12']]\n",
    "\n",
    "# Inspect\n",
    "starter_features.head()"
   ]
  },
  {
   "cell_type": "code",
   "execution_count": 76,
   "metadata": {},
   "outputs": [
    {
     "name": "stdout",
     "output_type": "stream",
     "text": [
      "True\n"
     ]
    }
   ],
   "source": [
    "# We now want to get only ADDPREV observations from the original df that correspond to the remaining indices in starter_features\n",
    "# We can do this by using the .loc method on the original df\n",
    "# .loc takes in a list of indices and returns the rows of the df that correspond to those indices\n",
    "# We can use the .index method on starter_features to get the list of indices we want\n",
    "# We can then use .loc to get the rows of the original df that correspond to those indices\n",
    "\n",
    "# Get list of indices from starter_features\n",
    "starter_indices = starter_features.index\n",
    "\n",
    "# Get rows of original data that correspond to starter_indices\n",
    "starter_df = data.loc[starter_indices]\n",
    "\n",
    "# Pull only ADDPREV observations from starter_df\n",
    "ADDPREV_for_starter = starter_df['ADDPREV']\n",
    "\n",
    "# Check that the length of starter_features and ADDPREV_for_starter are the same\n",
    "print(len(starter_features) == len(ADDPREV_for_starter))"
   ]
  },
  {
   "cell_type": "code",
   "execution_count": 79,
   "metadata": {},
   "outputs": [
    {
     "data": {
      "text/plain": [
       "2     29480\n",
       "1     16009\n",
       "99    10659\n",
       "98     1522\n",
       "97      106\n",
       "94       59\n",
       "85        7\n",
       "Name: ADDPREV, dtype: int64"
      ]
     },
     "execution_count": 79,
     "metadata": {},
     "output_type": "execute_result"
    }
   ],
   "source": [
    "# Inspect values of ADDPREV\n",
    "ADDPREV_for_starter.value_counts()"
   ]
  },
  {
   "cell_type": "code",
   "execution_count": 81,
   "metadata": {},
   "outputs": [
    {
     "data": {
      "text/plain": [
       "0.0    40139\n",
       "1.0    16009\n",
       "Name: ADDPREV, dtype: int64"
      ]
     },
     "execution_count": 81,
     "metadata": {},
     "output_type": "execute_result"
    }
   ],
   "source": [
    "# Process ADDPREV_for_starter, keeping 1 as 1, changing 2 to 0, changing 99 to 2, and setting 85, 94, 97, and 98 to NaN\n",
    "ADDPREV_for_starter = ADDPREV_for_starter.replace(2, 0)\n",
    "ADDPREV_for_starter = ADDPREV_for_starter.replace(99, 2)\n",
    "ADDPREV_for_starter = ADDPREV_for_starter.replace(85, np.nan)\n",
    "ADDPREV_for_starter = ADDPREV_for_starter.replace(94, np.nan)\n",
    "ADDPREV_for_starter = ADDPREV_for_starter.replace(97, np.nan)\n",
    "ADDPREV_for_starter = ADDPREV_for_starter.replace(98, np.nan)\n",
    "# Inspect ADDPREV_for_starter\n",
    "ADDPREV_for_starter.value_counts()"
   ]
  },
  {
   "cell_type": "code",
   "execution_count": null,
   "metadata": {},
   "outputs": [],
   "source": [
    "### Severe class imbalance --> need to oversample the minority class"
   ]
  },
  {
   "cell_type": "code",
   "execution_count": 90,
   "metadata": {},
   "outputs": [
    {
     "name": "stdout",
     "output_type": "stream",
     "text": [
      "<class 'pandas.core.frame.DataFrame'>\n",
      "Int64Index: 57842 entries, 0 to 58033\n",
      "Data columns (total 12 columns):\n",
      " #   Column           Non-Null Count  Dtype  \n",
      "---  ------           --------------  -----  \n",
      " 0   MJEVER           57842 non-null  int64  \n",
      " 1   AGE_5            57842 non-null  int32  \n",
      " 2   AGE_6_10         57842 non-null  int32  \n",
      " 3   AGE_11_15        57842 non-null  int32  \n",
      " 4   AGE_16_20        57842 non-null  int32  \n",
      " 5   AGE_21_25        57842 non-null  int32  \n",
      " 6   AGE_26_30        57842 non-null  int32  \n",
      " 7   AGE_31           57842 non-null  int32  \n",
      " 8   MJUSE30          57842 non-null  int32  \n",
      " 9   MJUSENOT30BUT12  57842 non-null  int32  \n",
      " 10  MJUSEMORE12      57842 non-null  int32  \n",
      " 11  ADDPREV          56148 non-null  float64\n",
      "dtypes: float64(1), int32(10), int64(1)\n",
      "memory usage: 5.5 MB\n"
     ]
    },
    {
     "name": "stderr",
     "output_type": "stream",
     "text": [
      "C:\\Users\\e.a.wright\\AppData\\Local\\Temp\\ipykernel_20076\\3686541424.py:5: SettingWithCopyWarning: \n",
      "A value is trying to be set on a copy of a slice from a DataFrame.\n",
      "Try using .loc[row_indexer,col_indexer] = value instead\n",
      "\n",
      "See the caveats in the documentation: https://pandas.pydata.org/pandas-docs/stable/user_guide/indexing.html#returning-a-view-versus-a-copy\n",
      "  starter_df['ADDPREV'] = ADDPREV_for_starter\n"
     ]
    }
   ],
   "source": [
    "# Add ADDPREV_for_starter to starter_df\n",
    "\n",
    "starter_df = starter_features\n",
    "\n",
    "starter_df['ADDPREV'] = ADDPREV_for_starter\n",
    "\n",
    "starter_df.info()"
   ]
  },
  {
   "cell_type": "code",
   "execution_count": 92,
   "metadata": {},
   "outputs": [
    {
     "name": "stdout",
     "output_type": "stream",
     "text": [
      "<class 'pandas.core.frame.DataFrame'>\n",
      "Int64Index: 56148 entries, 0 to 58033\n",
      "Data columns (total 12 columns):\n",
      " #   Column           Non-Null Count  Dtype\n",
      "---  ------           --------------  -----\n",
      " 0   MJEVER           56148 non-null  int64\n",
      " 1   AGE_5            56148 non-null  int32\n",
      " 2   AGE_6_10         56148 non-null  int32\n",
      " 3   AGE_11_15        56148 non-null  int32\n",
      " 4   AGE_16_20        56148 non-null  int32\n",
      " 5   AGE_21_25        56148 non-null  int32\n",
      " 6   AGE_26_30        56148 non-null  int32\n",
      " 7   AGE_31           56148 non-null  int32\n",
      " 8   MJUSE30          56148 non-null  int32\n",
      " 9   MJUSENOT30BUT12  56148 non-null  int32\n",
      " 10  MJUSEMORE12      56148 non-null  int32\n",
      " 11  ADDPREV          56148 non-null  int32\n",
      "dtypes: int32(11), int64(1)\n",
      "memory usage: 3.2 MB\n"
     ]
    }
   ],
   "source": [
    "# Drop all rows with null values\n",
    "starter_df = starter_df.dropna(how='any')\n",
    "# Convert ADDPREV to an integer\n",
    "starter_df['ADDPREV'] = starter_df['ADDPREV'].astype(int)\n",
    "# Inspect starter_df\n",
    "starter_df.info()"
   ]
  },
  {
   "cell_type": "code",
   "execution_count": 105,
   "metadata": {},
   "outputs": [
    {
     "data": {
      "text/plain": [
       "Index(['MJEVER', 'AGE_5', 'AGE_6_10', 'AGE_11_15', 'AGE_16_20', 'AGE_21_25',\n",
       "       'AGE_26_30', 'AGE_31', 'MJUSE30', 'MJUSENOT30BUT12', 'MJUSEMORE12',\n",
       "       'ADDPREV'],\n",
       "      dtype='object')"
      ]
     },
     "execution_count": 105,
     "metadata": {},
     "output_type": "execute_result"
    }
   ],
   "source": [
    "starter_df.columns"
   ]
  },
  {
   "cell_type": "markdown",
   "metadata": {},
   "source": [
    "### Now we have a usable starter dataset for a machine learning model."
   ]
  },
  {
   "cell_type": "code",
   "execution_count": 93,
   "metadata": {},
   "outputs": [],
   "source": [
    "# Define X and y\n",
    "X = starter_df.drop(columns=['ADDPREV'])\n",
    "y = starter_df['ADDPREV']"
   ]
  },
  {
   "cell_type": "code",
   "execution_count": 94,
   "metadata": {},
   "outputs": [
    {
     "data": {
      "text/plain": [
       "(42111, 11)"
      ]
     },
     "execution_count": 94,
     "metadata": {},
     "output_type": "execute_result"
    }
   ],
   "source": [
    "# Split the data into training and testing sets\n",
    "from sklearn.model_selection import train_test_split\n",
    "\n",
    "X_train, X_test, y_train, y_test = train_test_split(X, y, random_state=42, stratify=y)\n",
    "\n",
    "X_train.shape"
   ]
  },
  {
   "cell_type": "code",
   "execution_count": 97,
   "metadata": {},
   "outputs": [
    {
     "name": "stdout",
     "output_type": "stream",
     "text": [
      "Accuracy: 0.7146113841989029\n"
     ]
    }
   ],
   "source": [
    "# Let's first use a Random Forest Classifier to predict the labels of the test set.\n",
    "from sklearn.ensemble import RandomForestClassifier\n",
    "\n",
    "rf = RandomForestClassifier()\n",
    "\n",
    "rf.fit(X_train, y_train)\n",
    "\n",
    "# Predict the labels of the test set: y_pred\n",
    "y_pred = rf.predict(X_test)\n",
    "\n",
    "# Compute and print metrics\n",
    "print(\"Accuracy: {}\".format(rf.score(X_test, y_test)))"
   ]
  },
  {
   "cell_type": "code",
   "execution_count": 100,
   "metadata": {},
   "outputs": [
    {
     "data": {
      "text/plain": [
       "array([[9487,  548],\n",
       "       [3458,  544]], dtype=int64)"
      ]
     },
     "execution_count": 100,
     "metadata": {},
     "output_type": "execute_result"
    }
   ],
   "source": [
    "# Print a confusion matrix for the test data\n",
    "confusion_matrix(y_test, y_pred)"
   ]
  },
  {
   "cell_type": "code",
   "execution_count": 101,
   "metadata": {},
   "outputs": [
    {
     "data": {
      "image/png": "[encoded data removed]",
      "text/plain": [
       "<Figure size 640x480 with 2 Axes>"
      ]
     },
     "metadata": {},
     "output_type": "display_data"
    }
   ],
   "source": [
    "# Now generate a more visually appealing confusion matrix using seaborn\n",
    "\n",
    "import seaborn as sns\n",
    "import matplotlib.pyplot as plt\n",
    "\n",
    "ax1 = sns.heatmap(confusion_matrix(y_test, y_pred), annot=True, cmap='Blues', fmt='g')\n",
    "plt.show(ax1)"
   ]
  },
  {
   "cell_type": "code",
   "execution_count": 99,
   "metadata": {},
   "outputs": [
    {
     "name": "stdout",
     "output_type": "stream",
     "text": [
      "              precision    recall  f1-score   support\n",
      "\n",
      "           0       0.73      0.95      0.83     10035\n",
      "           1       0.50      0.14      0.21      4002\n",
      "\n",
      "    accuracy                           0.71     14037\n",
      "   macro avg       0.62      0.54      0.52     14037\n",
      "weighted avg       0.67      0.71      0.65     14037\n",
      "\n"
     ]
    }
   ],
   "source": [
    "# Print a classification report for the model\n",
    "from sklearn.metrics import balanced_accuracy_score, confusion_matrix, classification_report\n",
    "\n",
    "print(classification_report(y_test, y_pred))"
   ]
  },
  {
   "cell_type": "code",
   "execution_count": 96,
   "metadata": {},
   "outputs": [
    {
     "data": {
      "text/html": [
       "<div>\n",
       "<style scoped>\n",
       "    .dataframe tbody tr th:only-of-type {\n",
       "        vertical-align: middle;\n",
       "    }\n",
       "\n",
       "    .dataframe tbody tr th {\n",
       "        vertical-align: top;\n",
       "    }\n",
       "\n",
       "    .dataframe thead th {\n",
       "        text-align: right;\n",
       "    }\n",
       "</style>\n",
       "<table border=\"1\" class=\"dataframe\">\n",
       "  <thead>\n",
       "    <tr style=\"text-align: right;\">\n",
       "      <th></th>\n",
       "      <th>feature</th>\n",
       "      <th>feature_importance</th>\n",
       "    </tr>\n",
       "  </thead>\n",
       "  <tbody>\n",
       "    <tr>\n",
       "      <th>0</th>\n",
       "      <td>MJEVER</td>\n",
       "      <td>0.392395</td>\n",
       "    </tr>\n",
       "    <tr>\n",
       "      <th>7</th>\n",
       "      <td>AGE_31</td>\n",
       "      <td>0.281410</td>\n",
       "    </tr>\n",
       "    <tr>\n",
       "      <th>8</th>\n",
       "      <td>MJUSE30</td>\n",
       "      <td>0.098114</td>\n",
       "    </tr>\n",
       "    <tr>\n",
       "      <th>4</th>\n",
       "      <td>AGE_16_20</td>\n",
       "      <td>0.079664</td>\n",
       "    </tr>\n",
       "    <tr>\n",
       "      <th>10</th>\n",
       "      <td>MJUSEMORE12</td>\n",
       "      <td>0.068670</td>\n",
       "    </tr>\n",
       "    <tr>\n",
       "      <th>3</th>\n",
       "      <td>AGE_11_15</td>\n",
       "      <td>0.031173</td>\n",
       "    </tr>\n",
       "    <tr>\n",
       "      <th>9</th>\n",
       "      <td>MJUSENOT30BUT12</td>\n",
       "      <td>0.027472</td>\n",
       "    </tr>\n",
       "    <tr>\n",
       "      <th>5</th>\n",
       "      <td>AGE_21_25</td>\n",
       "      <td>0.009535</td>\n",
       "    </tr>\n",
       "    <tr>\n",
       "      <th>6</th>\n",
       "      <td>AGE_26_30</td>\n",
       "      <td>0.005713</td>\n",
       "    </tr>\n",
       "    <tr>\n",
       "      <th>2</th>\n",
       "      <td>AGE_6_10</td>\n",
       "      <td>0.004934</td>\n",
       "    </tr>\n",
       "    <tr>\n",
       "      <th>1</th>\n",
       "      <td>AGE_5</td>\n",
       "      <td>0.000920</td>\n",
       "    </tr>\n",
       "  </tbody>\n",
       "</table>\n",
       "</div>"
      ],
      "text/plain": [
       "            feature  feature_importance\n",
       "0            MJEVER            0.392395\n",
       "7            AGE_31            0.281410\n",
       "8           MJUSE30            0.098114\n",
       "4         AGE_16_20            0.079664\n",
       "10      MJUSEMORE12            0.068670\n",
       "3         AGE_11_15            0.031173\n",
       "9   MJUSENOT30BUT12            0.027472\n",
       "5         AGE_21_25            0.009535\n",
       "6         AGE_26_30            0.005713\n",
       "2          AGE_6_10            0.004934\n",
       "1             AGE_5            0.000920"
      ]
     },
     "execution_count": 96,
     "metadata": {},
     "output_type": "execute_result"
    }
   ],
   "source": [
    "# Create feature importance dataframe to analyze the importance of each feature\n",
    "fi_values = rf.feature_importances_\n",
    "features = X_train.columns\n",
    "\n",
    "# Create dataframe\n",
    "feature_importance_df = pd.DataFrame({\"feature\": features, \"feature_importance\": fi_values})\n",
    "\n",
    "# Sort in descending order\n",
    "feature_importance_df = feature_importance_df.sort_values(by=\"feature_importance\", ascending = False)\n",
    "\n",
    "# View dataframe\n",
    "feature_importance_df"
   ]
  },
  {
   "cell_type": "markdown",
   "metadata": {},
   "source": [
    "### Note: MJEVER and AGE_31 are the most important features of the starter_features"
   ]
  },
  {
   "cell_type": "code",
   "execution_count": 106,
   "metadata": {},
   "outputs": [
    {
     "data": {
      "text/plain": [
       "0.2651585969641044"
      ]
     },
     "execution_count": 106,
     "metadata": {},
     "output_type": "execute_result"
    }
   ],
   "source": [
    "# Find correlation between MJEVER and ADDPREV\n",
    "correlation = starter_df['MJEVER'].corr(starter_df['ADDPREV'])\n",
    "\n",
    "correlation"
   ]
  },
  {
   "cell_type": "markdown",
   "metadata": {},
   "source": [
    "## Second Pass: Remove meaningless features, retain the 5 most important features from the first pass, and add 1 new feature that we think may improve the model's performance."
   ]
  },
  {
   "cell_type": "code",
   "execution_count": 102,
   "metadata": {},
   "outputs": [],
   "source": [
    "FirstPassTop5 = ['MJEVER', 'AGE_31', 'MJUSE30', 'AGE_16_20', 'MJUSEMORE12']"
   ]
  },
  {
   "cell_type": "code",
   "execution_count": null,
   "metadata": {},
   "outputs": [],
   "source": [
    "# Potential MJ Usage-Related Features to Add:\n",
    "# 1. \"MRDAYPYR\", # DAYS USED MARIJUANA/HASHISH PAST 12 MONTHS\n",
    "# 2. \"MRDAYPMO\", # DAYS PER MO USED MARIJUANA/HASHISH PAST 12 MOS\n",
    "# 3. \"MRDAYPWK\", # DAYS PER WEEK USED MARIJUANA/HASHISH PAST 12 MOS"
   ]
  },
  {
   "cell_type": "code",
   "execution_count": 104,
   "metadata": {},
   "outputs": [
    {
     "data": {
      "text/plain": [
       "991    32487\n",
       "993    12956\n",
       "999     7732\n",
       "1        622\n",
       "2        621\n",
       "       ...  \n",
       "155        1\n",
       "67         1\n",
       "135        1\n",
       "354        1\n",
       "358        1\n",
       "Name: MRDAYPYR, Length: 115, dtype: int64"
      ]
     },
     "execution_count": 104,
     "metadata": {},
     "output_type": "execute_result"
    }
   ],
   "source": [
    "# Inspect MRDAYPYR\n",
    "data.MRDAYPYR.value_counts()"
   ]
  },
  {
   "cell_type": "code",
   "execution_count": 107,
   "metadata": {},
   "outputs": [
    {
     "data": {
      "text/plain": [
       "<Axes: >"
      ]
     },
     "execution_count": 107,
     "metadata": {},
     "output_type": "execute_result"
    },
    {
     "data": {
      "image/png": "[encoded data removed]",
      "text/plain": [
       "<Figure size 640x480 with 1 Axes>"
      ]
     },
     "metadata": {},
     "output_type": "display_data"
    }
   ],
   "source": [
    "# Filter MRDAYPYR to values less than 366\n",
    "mj_use_last_year = data[data['MRDAYPYR'] < 366]\n",
    "\n",
    "# Plot histogram of MJ use in last year\n",
    "mj_use_last_year['MRDAYPYR'].hist(bins=30)"
   ]
  },
  {
   "cell_type": "code",
   "execution_count": 110,
   "metadata": {},
   "outputs": [
    {
     "data": {
      "text/plain": [
       "1    54055\n",
       "0     3787\n",
       "Name: MJUSE100DAYS+, dtype: int64"
      ]
     },
     "execution_count": 110,
     "metadata": {},
     "output_type": "execute_result"
    }
   ],
   "source": [
    "# q: How would we like to group this data?\n",
    "\n",
    "# Create a new binary variable called MJUSE100DAYS+ for all individuals who used MJ for 100 days or more in the past year\n",
    "df['MJUSE100DAYS+'] = np.where(df['MRDAYPYR'] >= 100, 1, 0)\n",
    "\n",
    "# Inspect value_counts() of MJUSE100DAYS+\n",
    "df['MJUSE100DAYS+'].value_counts()"
   ]
  },
  {
   "cell_type": "code",
   "execution_count": null,
   "metadata": {},
   "outputs": [],
   "source": [
    "# Create a new dataframe that includes FirstPassTop5 from starter_df and MJUSE100DAYS+\n",
    "\n",
    "second_pass_df = starter_df[FirstPassTop5]\n",
    "\n",
    "# Get list of indices from starter_features\n",
    "starter_indices = starter_features.index\n",
    "\n",
    "# Get rows of original data that correspond to starter_indices\n",
    "starter_df = data.loc[starter_indices]\n",
    "\n",
    "# Pull only ADDPREV observations from starter_df\n",
    "ADDPREV_for_starter = starter_df['ADDPREV']"
   ]
  },
  {
   "cell_type": "code",
   "execution_count": null,
   "metadata": {},
   "outputs": [
    {
     "data": {
      "text/plain": [
       "23"
      ]
     },
     "metadata": {},
     "output_type": "display_data"
    }
   ],
   "source": [
    "# Combine the starter MJ codes and the select MJ Market codes\n",
    "MJ_CODES = [\n",
    "\"MJEVER\", # Ever used marijuana/hashish                \n",
    "\"MJAGE\", # Age when first used marijuana/hashish\n",
    "\"MJYFU\", # Year of first use marijuana/hashish use\n",
    "\"MJREC\", # Month of first use marijuana/hashish use \n",
    "\"MJYRTOT\", # Total number of days used marijuana/hashish in past 12 months\n",
    "\"MRTOTFG\", # Trimming indicator for MJRTOT\n",
    "\"MJFQFLG\", # Trimmed MJRTOT if R is used < 12\n",
    "\"MRBSTWAY\", # EASIEST WAY TO TELL US # DAYS USED MARIJUANA/HASH \n",
    "\"MRDAYPYR\", # DAYS USED MARIJUANA/HASHISH PAST 12 MONTHS\n",
    "\"MRDAYPMO\", # DAYS PER MO USED MARIJUANA/HASHISH PAST 12 MOS\n",
    "\"MRDAYPWK\", # DAYS PER WEEK USED MARIJUANA/HASHISH PAST 12 MOS\n",
    "\"MJDAY30A\", # DAYS USED MARIJUANA/HASHISH PAST 30 DAYS\n",
    "\"MR30EST\", # BEST EST. # DAYS USED MARIJUANA PAST 30 DAYS\n",
    "'MMBTPYR', # Bought MJ in past 12 months\n",
    "'MMBT30DY', # # Days bought MH in Past Month\n",
    "'MMBTDISP', # Bought from store or dispoensary\n",
    "'MMBJOINT', # Last MJ bought in joints\n",
    "'MMBLOOSE', # Last MJ bought in Loose form\n",
    "'MMBOTHER', # Last MJ bought in other form\n",
    "'MMLSUNIT1', # AMT MJ bought in last time: grams/oz/lbs\n",
    "'MMLSPCTB1', # Amount paid for MJ last time in bins\n",
    "'MMLSPCAT1', # Price category of last loose marijuana bought\n",
    "'MMBSELL', # Sell any marijuana bought last time\n",
    "]\n",
    "# CHeck number of MJ codes\n",
    "len(MJ_CODES)"
   ]
  },
  {
   "cell_type": "code",
   "execution_count": null,
   "metadata": {},
   "outputs": [],
   "source": [
    "# Test the model on the test set and print all of its performance metrics\n",
    "\n",
    "rf.test"
   ]
  },
  {
   "cell_type": "code",
   "execution_count": null,
   "metadata": {},
   "outputs": [],
   "source": [
    "# Notes from conversation with Erin:\n",
    "\n",
    "# One hot encoded for each target\n",
    "# 6 outcomes in final layer in the case of neural network\n",
    "# Certain models are not as good with multiple labels... etc.\n",
    "# Classification of Iris dataset (good example to look at)\n",
    "# Characteristics of each flower --> same problem as above but far more features"
   ]
  },
  {
   "cell_type": "code",
   "execution_count": null,
   "metadata": {},
   "outputs": [],
   "source": [
    "# Tips:\n",
    "# Start with simple model --> Work with Iris dataset\n",
    "# Apply simple model to first, then run AutoML after features and targets are defined and data is cleaned"
   ]
  },
  {
   "cell_type": "code",
   "execution_count": 28,
   "metadata": {},
   "outputs": [],
   "source": [
    "# Start with ADDPREV as Target"
   ]
  },
  {
   "cell_type": "code",
   "execution_count": null,
   "metadata": {},
   "outputs": [],
   "source": [
    "# Treat MJEVER, setting each 2 to 0\n",
    "MJEVER_CLEAN = MJEVER.replace(2, 0)"
   ]
  },
  {
   "cell_type": "code",
   "execution_count": null,
   "metadata": {},
   "outputs": [],
   "source": [
    "# AutoML will run 20 models and test all their performances."
   ]
  }
 ],
 "metadata": {
  "kernelspec": {
   "display_name": "datascience",
   "language": "python",
   "name": "python3"
  },
  "language_info": {
   "codemirror_mode": {
    "name": "ipython",
    "version": 3
   },
   "file_extension": ".py",
   "mimetype": "text/x-python",
   "name": "python",
   "nbconvert_exporter": "python",
   "pygments_lexer": "ipython3",
   "version": "3.11.3"
  },
  "orig_nbformat": 4
 },
 "nbformat": 4,
 "nbformat_minor": 2
}

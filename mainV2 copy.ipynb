{
 "cells": [
  {
   "cell_type": "code",
   "execution_count": 1,
   "metadata": {},
   "outputs": [
    {
     "name": "stderr",
     "output_type": "stream",
     "text": [
      "c:\\Users\\e.a.wright\\anaconda3\\envs\\datascience\\Lib\\site-packages\\numpy\\_distributor_init.py:30: UserWarning: loaded more than 1 DLL from .libs:\n",
      "c:\\Users\\e.a.wright\\anaconda3\\envs\\datascience\\Lib\\site-packages\\numpy\\.libs\\libopenblas64__v0.3.23-246-g3d31191b-gcc_10_3_0.dll\n",
      "c:\\Users\\e.a.wright\\anaconda3\\envs\\datascience\\Lib\\site-packages\\numpy\\.libs\\libopenblas64__v0.3.23-gcc_10_3_0.dll\n",
      "  warnings.warn(\"loaded more than 1 DLL from .libs:\"\n"
     ]
    }
   ],
   "source": [
    "# Import libraries\n",
    "import pandas as pd\n",
    "import numpy as np\n",
    "\n",
    "# Import matplotlib and seaborn\n",
    "import matplotlib.pyplot as plt\n",
    "import seaborn as sns"
   ]
  },
  {
   "cell_type": "markdown",
   "metadata": {},
   "source": [
    "## Section I: Summary of Data Treatment"
   ]
  },
  {
   "cell_type": "code",
   "execution_count": 2,
   "metadata": {},
   "outputs": [
    {
     "name": "stderr",
     "output_type": "stream",
     "text": [
      "C:\\Users\\e.a.wright\\AppData\\Local\\Temp\\ipykernel_32056\\2939283609.py:5: DtypeWarning: Columns (2792) have mixed types. Specify dtype option on import or set low_memory=False.\n",
      "  data = pd.read_csv(file_path, sep='\\t')\n"
     ]
    }
   ],
   "source": [
    "# Read in the original dataset for the NSDUH 2021 survey \n",
    "# Purpose for importing is to get descriptive statistics on much data was preserved after cleaning\n",
    "file_path = 'data/NSDUH_2021_Tab.txt'\n",
    "\n",
    "data = pd.read_csv(file_path, sep='\\t')"
   ]
  },
  {
   "cell_type": "code",
   "execution_count": 3,
   "metadata": {},
   "outputs": [
    {
     "name": "stdout",
     "output_type": "stream",
     "text": [
      "There were 58034 rows and 2988 columns in the original dataset.\n"
     ]
    }
   ],
   "source": [
    "# Save shape of data\n",
    "N_rows = data.shape[0]\n",
    "N_cols = data.shape[1]\n",
    "\n",
    "# Print shape of data in sentence\n",
    "print(f\"There were {N_rows} rows and {N_cols} columns in the original dataset.\")"
   ]
  },
  {
   "cell_type": "code",
   "execution_count": 25,
   "metadata": {},
   "outputs": [],
   "source": [
    "# Read in the pre-process subset of data to be used for modeling\n",
    "subset = pd.read_csv('data/model_subset.csv')"
   ]
  },
  {
   "cell_type": "code",
   "execution_count": 26,
   "metadata": {},
   "outputs": [
    {
     "name": "stdout",
     "output_type": "stream",
     "text": [
      "<class 'pandas.core.frame.DataFrame'>\n",
      "RangeIndex: 53896 entries, 0 to 53895\n",
      "Data columns (total 16 columns):\n",
      " #   Column      Non-Null Count  Dtype  \n",
      "---  ------      --------------  -----  \n",
      " 0   CATAG3      53896 non-null  int64  \n",
      " 1   HEALTH2     53896 non-null  float64\n",
      " 2   ANYHLTI2    53896 non-null  int64  \n",
      " 3   INCOME      53896 non-null  int64  \n",
      " 4   POVERTY3    53896 non-null  float64\n",
      " 5   TOBFLAG     53896 non-null  int64  \n",
      " 6   MRJFLAG     53896 non-null  int64  \n",
      " 7   PYUD5MRJ    53896 non-null  float64\n",
      " 8   MJYRTOT     53896 non-null  int64  \n",
      " 9   ALCFLAG     53896 non-null  int64  \n",
      " 10  COCFLAG     53896 non-null  int64  \n",
      " 11  CRKFLAG     53896 non-null  int64  \n",
      " 12  HERFLAG     53896 non-null  int64  \n",
      " 13  LSDFLAG     53896 non-null  int64  \n",
      " 14  METHAMFLAG  53896 non-null  int64  \n",
      " 15  DEP         53896 non-null  int64  \n",
      "dtypes: float64(3), int64(13)\n",
      "memory usage: 6.6 MB\n"
     ]
    }
   ],
   "source": [
    "# Inspect subset\n",
    "subset.info()"
   ]
  },
  {
   "cell_type": "code",
   "execution_count": 27,
   "metadata": {},
   "outputs": [
    {
     "name": "stdout",
     "output_type": "stream",
     "text": [
      "After cleaning and pre-processing, we were left with 53896 rows and 16 columns in our experimental dataframe.\n"
     ]
    },
    {
     "ename": "NameError",
     "evalue": "name 'N_rows' is not defined",
     "output_type": "error",
     "traceback": [
      "\u001b[1;31m---------------------------------------------------------------------------\u001b[0m",
      "\u001b[1;31mNameError\u001b[0m                                 Traceback (most recent call last)",
      "Cell \u001b[1;32mIn[27], line 8\u001b[0m\n\u001b[0;32m      6\u001b[0m \u001b[39mprint\u001b[39m(\u001b[39mf\u001b[39m\u001b[39m\"\u001b[39m\u001b[39mAfter cleaning and pre-processing, we were left with \u001b[39m\u001b[39m{\u001b[39;00mn_rows\u001b[39m}\u001b[39;00m\u001b[39m rows and \u001b[39m\u001b[39m{\u001b[39;00mn_cols\u001b[39m}\u001b[39;00m\u001b[39m columns in our experimental dataframe.\u001b[39m\u001b[39m\"\u001b[39m)\n\u001b[0;32m      7\u001b[0m \u001b[39m# Print the percentage of individuals (rows) that were preserved\u001b[39;00m\n\u001b[1;32m----> 8\u001b[0m \u001b[39mprint\u001b[39m(\u001b[39mf\u001b[39m\u001b[39m\"\u001b[39m\u001b[39mThis means that \u001b[39m\u001b[39m{\u001b[39;00m\u001b[39mround\u001b[39m((n_rows\u001b[39m/\u001b[39mN_rows)\u001b[39m*\u001b[39m\u001b[39m100\u001b[39m,\u001b[39m \u001b[39m\u001b[39m2\u001b[39m)\u001b[39m}\u001b[39;00m\u001b[39m% of the original dataset\u001b[39m\u001b[39m'\u001b[39m\u001b[39ms rows (individuals) was preserved.\u001b[39m\u001b[39m\"\u001b[39m)\n",
      "\u001b[1;31mNameError\u001b[0m: name 'N_rows' is not defined"
     ]
    }
   ],
   "source": [
    "# Save shape of data\n",
    "n_rows = subset.shape[0]\n",
    "n_cols = subset.shape[1]\n",
    "\n",
    "# Print shape of data in sentence\n",
    "print(f\"After cleaning and pre-processing, we were left with {n_rows} rows and {n_cols} columns in our experimental dataframe.\")\n",
    "# Print the percentage of individuals (rows) that were preserved\n",
    "print(f\"This means that {round((n_rows/N_rows)*100, 2)}% of the original dataset's rows (individuals) was preserved.\")"
   ]
  },
  {
   "cell_type": "markdown",
   "metadata": {},
   "source": [
    "### Target: DEP - SCORE OF SYMPTOM INDICATORS 1 THRU 9 (For Depression)\n",
    "\n",
    "### Note: DEP is a calculated variable combining the values of the Adult and Youth Depression Fields: \"df['DEP'] = np.where((df['ADSMMDEA'] == 1) | (df['YODSMMDE'] == 1), 1, 0)\" \n",
    "\n",
    "### 1 = Has 5 or more symptoms of depression\n",
    "### 0 = Does not have 5 or more symptoms of depression"
   ]
  },
  {
   "cell_type": "markdown",
   "metadata": {},
   "source": [
    "## Section II: Modeling"
   ]
  },
  {
   "cell_type": "code",
   "execution_count": 9,
   "metadata": {},
   "outputs": [],
   "source": [
    "# Import Gradient Boosting Classifier\n",
    "from sklearn.ensemble import GradientBoostingClassifier\n",
    "\n",
    "# Import SMOTE for oversampling of the minority class\n",
    "from imblearn.over_sampling import SMOTE # synthetically generates new samples from the minority class\n",
    "\n",
    "# Import StandardScaler\n",
    "from sklearn.preprocessing import StandardScaler\n",
    "\n",
    "# Import train_test_split and metrics\n",
    "from sklearn.model_selection import train_test_split\n",
    "\n",
    "from sklearn.metrics import balanced_accuracy_score, confusion_matrix, classification_report, ConfusionMatrixDisplay\n",
    "\n",
    "# Import RandomOverSampler\n",
    "from imblearn.over_sampling import RandomOverSampler # this randomly reuses samples from the minority class"
   ]
  },
  {
   "cell_type": "code",
   "execution_count": 8,
   "metadata": {},
   "outputs": [
    {
     "data": {
      "text/plain": [
       "0    42771\n",
       "1    11125\n",
       "Name: DEP, dtype: int64"
      ]
     },
     "execution_count": 8,
     "metadata": {},
     "output_type": "execute_result"
    }
   ],
   "source": [
    "# Check for class imbalance in the target variable\n",
    "subset.DEP.value_counts()"
   ]
  },
  {
   "cell_type": "code",
   "execution_count": 28,
   "metadata": {},
   "outputs": [],
   "source": [
    "# Instantiate a Gradient Boosting Classifier\n",
    "gbt = GradientBoostingClassifier(random_state=42)\n",
    "\n",
    "# Define X and y\n",
    "X = subset.drop('DEP', axis=1)\n",
    "y = subset['DEP']\n",
    "\n",
    "# Split the data into training and test sets\n",
    "X_train, X_test, y_train, y_test = train_test_split(X, y, random_state=42)\n",
    "\n",
    "# Apply SMOTE to oversample the minority class\n",
    "smote = SMOTE(random_state=42)\n",
    "X_train_resampled, y_train_resampled = smote.fit_resample(X_train, y_train)\n",
    "\n",
    "# Initialize the StandardScaler\n",
    "scaler = StandardScaler()\n",
    "\n",
    "# Fit the scaler on the training data and transform both training and testing sets\n",
    "X_train_resampled_scaled = scaler.fit_transform(X_train_resampled) # Here the resampled X_train data is scaled\n",
    "X_test_scaled = scaler.transform(X_test) # Here the original X_test data is scaled as it was not resampled\n",
    "\n",
    "# Note: you do not need to scale the target variable (y).  "
   ]
  },
  {
   "cell_type": "code",
   "execution_count": 29,
   "metadata": {},
   "outputs": [
    {
     "data": {
      "text/plain": [
       "0    32087\n",
       "1     8335\n",
       "Name: DEP, dtype: int64"
      ]
     },
     "execution_count": 29,
     "metadata": {},
     "output_type": "execute_result"
    }
   ],
   "source": [
    "y_train.value_counts()"
   ]
  },
  {
   "cell_type": "code",
   "execution_count": 30,
   "metadata": {},
   "outputs": [
    {
     "data": {
      "text/html": [
       "<div>\n",
       "<style scoped>\n",
       "    .dataframe tbody tr th:only-of-type {\n",
       "        vertical-align: middle;\n",
       "    }\n",
       "\n",
       "    .dataframe tbody tr th {\n",
       "        vertical-align: top;\n",
       "    }\n",
       "\n",
       "    .dataframe thead th {\n",
       "        text-align: right;\n",
       "    }\n",
       "</style>\n",
       "<table border=\"1\" class=\"dataframe\">\n",
       "  <thead>\n",
       "    <tr style=\"text-align: right;\">\n",
       "      <th></th>\n",
       "      <th>CATAG3</th>\n",
       "      <th>HEALTH2</th>\n",
       "      <th>ANYHLTI2</th>\n",
       "      <th>INCOME</th>\n",
       "      <th>POVERTY3</th>\n",
       "      <th>TOBFLAG</th>\n",
       "      <th>MRJFLAG</th>\n",
       "      <th>PYUD5MRJ</th>\n",
       "      <th>MJYRTOT</th>\n",
       "      <th>ALCFLAG</th>\n",
       "      <th>COCFLAG</th>\n",
       "      <th>CRKFLAG</th>\n",
       "      <th>HERFLAG</th>\n",
       "      <th>LSDFLAG</th>\n",
       "      <th>METHAMFLAG</th>\n",
       "    </tr>\n",
       "  </thead>\n",
       "  <tbody>\n",
       "    <tr>\n",
       "      <th>0</th>\n",
       "      <td>-0.611073</td>\n",
       "      <td>-0.407494</td>\n",
       "      <td>-0.273951</td>\n",
       "      <td>1.071703</td>\n",
       "      <td>0.707423</td>\n",
       "      <td>-0.989459</td>\n",
       "      <td>-0.969245</td>\n",
       "      <td>-0.322622</td>\n",
       "      <td>-0.373269</td>\n",
       "      <td>-1.680605</td>\n",
       "      <td>-0.363807</td>\n",
       "      <td>-0.160774</td>\n",
       "      <td>-0.130895</td>\n",
       "      <td>-0.323715</td>\n",
       "      <td>-0.210746</td>\n",
       "    </tr>\n",
       "    <tr>\n",
       "      <th>1</th>\n",
       "      <td>0.836589</td>\n",
       "      <td>-0.407494</td>\n",
       "      <td>-0.273951</td>\n",
       "      <td>-0.655087</td>\n",
       "      <td>-1.893003</td>\n",
       "      <td>-0.989459</td>\n",
       "      <td>-0.969245</td>\n",
       "      <td>-0.322622</td>\n",
       "      <td>-0.373269</td>\n",
       "      <td>-1.680605</td>\n",
       "      <td>-0.363807</td>\n",
       "      <td>-0.160774</td>\n",
       "      <td>-0.130895</td>\n",
       "      <td>-0.323715</td>\n",
       "      <td>-0.210746</td>\n",
       "    </tr>\n",
       "    <tr>\n",
       "      <th>2</th>\n",
       "      <td>-0.611073</td>\n",
       "      <td>0.673268</td>\n",
       "      <td>-0.273951</td>\n",
       "      <td>0.208308</td>\n",
       "      <td>-0.592790</td>\n",
       "      <td>1.010653</td>\n",
       "      <td>1.031731</td>\n",
       "      <td>-0.322622</td>\n",
       "      <td>0.143338</td>\n",
       "      <td>0.595024</td>\n",
       "      <td>-0.363807</td>\n",
       "      <td>-0.160774</td>\n",
       "      <td>-0.130895</td>\n",
       "      <td>-0.323715</td>\n",
       "      <td>-0.210746</td>\n",
       "    </tr>\n",
       "    <tr>\n",
       "      <th>3</th>\n",
       "      <td>0.112758</td>\n",
       "      <td>-0.407494</td>\n",
       "      <td>-0.273951</td>\n",
       "      <td>1.071703</td>\n",
       "      <td>0.707423</td>\n",
       "      <td>1.010653</td>\n",
       "      <td>1.031731</td>\n",
       "      <td>-0.322622</td>\n",
       "      <td>-0.351743</td>\n",
       "      <td>0.595024</td>\n",
       "      <td>2.748707</td>\n",
       "      <td>-0.160774</td>\n",
       "      <td>-0.130895</td>\n",
       "      <td>-0.323715</td>\n",
       "      <td>-0.210746</td>\n",
       "    </tr>\n",
       "    <tr>\n",
       "      <th>4</th>\n",
       "      <td>1.560419</td>\n",
       "      <td>1.754029</td>\n",
       "      <td>-0.273951</td>\n",
       "      <td>-1.518482</td>\n",
       "      <td>-1.893003</td>\n",
       "      <td>1.010653</td>\n",
       "      <td>1.031731</td>\n",
       "      <td>-0.322622</td>\n",
       "      <td>-0.373269</td>\n",
       "      <td>0.595024</td>\n",
       "      <td>-0.363807</td>\n",
       "      <td>-0.160774</td>\n",
       "      <td>-0.130895</td>\n",
       "      <td>-0.323715</td>\n",
       "      <td>-0.210746</td>\n",
       "    </tr>\n",
       "  </tbody>\n",
       "</table>\n",
       "</div>"
      ],
      "text/plain": [
       "     CATAG3   HEALTH2  ANYHLTI2    INCOME  POVERTY3   TOBFLAG   MRJFLAG  \\\n",
       "0 -0.611073 -0.407494 -0.273951  1.071703  0.707423 -0.989459 -0.969245   \n",
       "1  0.836589 -0.407494 -0.273951 -0.655087 -1.893003 -0.989459 -0.969245   \n",
       "2 -0.611073  0.673268 -0.273951  0.208308 -0.592790  1.010653  1.031731   \n",
       "3  0.112758 -0.407494 -0.273951  1.071703  0.707423  1.010653  1.031731   \n",
       "4  1.560419  1.754029 -0.273951 -1.518482 -1.893003  1.010653  1.031731   \n",
       "\n",
       "   PYUD5MRJ   MJYRTOT   ALCFLAG   COCFLAG   CRKFLAG   HERFLAG   LSDFLAG  \\\n",
       "0 -0.322622 -0.373269 -1.680605 -0.363807 -0.160774 -0.130895 -0.323715   \n",
       "1 -0.322622 -0.373269 -1.680605 -0.363807 -0.160774 -0.130895 -0.323715   \n",
       "2 -0.322622  0.143338  0.595024 -0.363807 -0.160774 -0.130895 -0.323715   \n",
       "3 -0.322622 -0.351743  0.595024  2.748707 -0.160774 -0.130895 -0.323715   \n",
       "4 -0.322622 -0.373269  0.595024 -0.363807 -0.160774 -0.130895 -0.323715   \n",
       "\n",
       "   METHAMFLAG  \n",
       "0   -0.210746  \n",
       "1   -0.210746  \n",
       "2   -0.210746  \n",
       "3   -0.210746  \n",
       "4   -0.210746  "
      ]
     },
     "execution_count": 30,
     "metadata": {},
     "output_type": "execute_result"
    }
   ],
   "source": [
    "# Convert X_train_resampled_scaled to dataframe for inspection\n",
    "X_train_resampled_scaled_df = pd.DataFrame(X_train_resampled_scaled, columns=X_train.columns)\n",
    "\n",
    "# Inspect X_train_resampled_scaled_df\n",
    "X_train_resampled_scaled_df.head()"
   ]
  },
  {
   "cell_type": "code",
   "execution_count": 31,
   "metadata": {},
   "outputs": [
    {
     "data": {
      "text/plain": [
       "1    32087\n",
       "0    32087\n",
       "Name: DEP, dtype: int64"
      ]
     },
     "execution_count": 31,
     "metadata": {},
     "output_type": "execute_result"
    }
   ],
   "source": [
    "# Inspect y_train_resampled for evidence of successful resampling\n",
    "y_train_resampled.value_counts()"
   ]
  },
  {
   "cell_type": "code",
   "execution_count": 32,
   "metadata": {},
   "outputs": [],
   "source": [
    "# Fit the model to the oversampled training data\n",
    "gbt.fit(X_train_resampled_scaled, y_train_resampled)\n",
    "\n",
    "# Predict on the test data\n",
    "y_pred = gbt.predict(X_test_scaled)"
   ]
  },
  {
   "cell_type": "code",
   "execution_count": 33,
   "metadata": {},
   "outputs": [
    {
     "name": "stdout",
     "output_type": "stream",
     "text": [
      "              precision    recall  f1-score   support\n",
      "\n",
      "           0       0.86      0.72      0.78     10684\n",
      "           1       0.34      0.55      0.42      2790\n",
      "\n",
      "    accuracy                           0.68     13474\n",
      "   macro avg       0.60      0.64      0.60     13474\n",
      "weighted avg       0.75      0.68      0.71     13474\n",
      "\n"
     ]
    }
   ],
   "source": [
    "# Return a classification report for the model\n",
    "print(classification_report(y_test, y_pred))"
   ]
  },
  {
   "cell_type": "code",
   "execution_count": 22,
   "metadata": {},
   "outputs": [
    {
     "data": {
      "image/png": "[encoded data removed]",
      "text/plain": [
       "<Figure size 640x480 with 2 Axes>"
      ]
     },
     "metadata": {},
     "output_type": "display_data"
    }
   ],
   "source": [
    "# Print a pretty confusion matrix\n",
    "ax1 = sns.heatmap(confusion_matrix(y_test, y_pred), annot=True, cmap='Blues', fmt='g')\n",
    "plt.show(ax1)"
   ]
  },
  {
   "cell_type": "code",
   "execution_count": 45,
   "metadata": {},
   "outputs": [
    {
     "data": {
      "text/html": [
       "<div>\n",
       "<style scoped>\n",
       "    .dataframe tbody tr th:only-of-type {\n",
       "        vertical-align: middle;\n",
       "    }\n",
       "\n",
       "    .dataframe tbody tr th {\n",
       "        vertical-align: top;\n",
       "    }\n",
       "\n",
       "    .dataframe thead th {\n",
       "        text-align: right;\n",
       "    }\n",
       "</style>\n",
       "<table border=\"1\" class=\"dataframe\">\n",
       "  <thead>\n",
       "    <tr style=\"text-align: right;\">\n",
       "      <th></th>\n",
       "      <th>feature</th>\n",
       "      <th>feature_importance</th>\n",
       "    </tr>\n",
       "  </thead>\n",
       "  <tbody>\n",
       "    <tr>\n",
       "      <th>1</th>\n",
       "      <td>HEALTH2</td>\n",
       "      <td>0.362204</td>\n",
       "    </tr>\n",
       "    <tr>\n",
       "      <th>0</th>\n",
       "      <td>CATAG3</td>\n",
       "      <td>0.266727</td>\n",
       "    </tr>\n",
       "    <tr>\n",
       "      <th>6</th>\n",
       "      <td>MRJFLAG</td>\n",
       "      <td>0.115889</td>\n",
       "    </tr>\n",
       "    <tr>\n",
       "      <th>7</th>\n",
       "      <td>PYUD5MRJ</td>\n",
       "      <td>0.080821</td>\n",
       "    </tr>\n",
       "    <tr>\n",
       "      <th>4</th>\n",
       "      <td>POVERTY3</td>\n",
       "      <td>0.056055</td>\n",
       "    </tr>\n",
       "    <tr>\n",
       "      <th>2</th>\n",
       "      <td>ANYHLTI2</td>\n",
       "      <td>0.040701</td>\n",
       "    </tr>\n",
       "    <tr>\n",
       "      <th>9</th>\n",
       "      <td>ALCFLAG</td>\n",
       "      <td>0.029343</td>\n",
       "    </tr>\n",
       "    <tr>\n",
       "      <th>8</th>\n",
       "      <td>MJYRTOT</td>\n",
       "      <td>0.027589</td>\n",
       "    </tr>\n",
       "    <tr>\n",
       "      <th>3</th>\n",
       "      <td>INCOME</td>\n",
       "      <td>0.011978</td>\n",
       "    </tr>\n",
       "    <tr>\n",
       "      <th>5</th>\n",
       "      <td>TOBFLAG</td>\n",
       "      <td>0.005321</td>\n",
       "    </tr>\n",
       "    <tr>\n",
       "      <th>14</th>\n",
       "      <td>METHAMFLAG</td>\n",
       "      <td>0.001268</td>\n",
       "    </tr>\n",
       "    <tr>\n",
       "      <th>11</th>\n",
       "      <td>CRKFLAG</td>\n",
       "      <td>0.000789</td>\n",
       "    </tr>\n",
       "    <tr>\n",
       "      <th>10</th>\n",
       "      <td>COCFLAG</td>\n",
       "      <td>0.000675</td>\n",
       "    </tr>\n",
       "    <tr>\n",
       "      <th>13</th>\n",
       "      <td>LSDFLAG</td>\n",
       "      <td>0.000640</td>\n",
       "    </tr>\n",
       "    <tr>\n",
       "      <th>12</th>\n",
       "      <td>HERFLAG</td>\n",
       "      <td>0.000000</td>\n",
       "    </tr>\n",
       "  </tbody>\n",
       "</table>\n",
       "</div>"
      ],
      "text/plain": [
       "       feature  feature_importance\n",
       "1      HEALTH2            0.362204\n",
       "0       CATAG3            0.266727\n",
       "6      MRJFLAG            0.115889\n",
       "7     PYUD5MRJ            0.080821\n",
       "4     POVERTY3            0.056055\n",
       "2     ANYHLTI2            0.040701\n",
       "9      ALCFLAG            0.029343\n",
       "8      MJYRTOT            0.027589\n",
       "3       INCOME            0.011978\n",
       "5      TOBFLAG            0.005321\n",
       "14  METHAMFLAG            0.001268\n",
       "11     CRKFLAG            0.000789\n",
       "10     COCFLAG            0.000675\n",
       "13     LSDFLAG            0.000640\n",
       "12     HERFLAG            0.000000"
      ]
     },
     "execution_count": 45,
     "metadata": {},
     "output_type": "execute_result"
    }
   ],
   "source": [
    "# Create feature importance dataframe to analyze the importance of each feature\n",
    "fi_values = gbt.feature_importances_\n",
    "features = X_train.columns\n",
    "# Create dataframe\n",
    "feature_importance_df = pd.DataFrame({\"feature\": features, \"feature_importance\": fi_values})\n",
    "# Sort in descending order\n",
    "feature_importance_df = feature_importance_df.sort_values(by=\"feature_importance\", ascending = False)\n",
    "# View dataframe\n",
    "feature_importance_df"
   ]
  },
  {
   "cell_type": "code",
   "execution_count": null,
   "metadata": {},
   "outputs": [],
   "source": [
    "# Note: Next step will be to eliminate features with low feature importance values to, theoretically, prevent overfitting"
   ]
  },
  {
   "cell_type": "markdown",
   "metadata": {},
   "source": [
    "## Section III: Confirming Validity of DEP against age-specific depression targets"
   ]
  },
  {
   "cell_type": "markdown",
   "metadata": {},
   "source": [
    "### Before proceeding, use CATAG3 to create an ADULT dataframe and a YOUTH dataframe each with their appropriate target column"
   ]
  },
  {
   "cell_type": "code",
   "execution_count": 2,
   "metadata": {},
   "outputs": [],
   "source": [
    "# Read in subset_three_targets.csv\n",
    "df = pd.read_csv('data/subset_three_targets.csv')"
   ]
  },
  {
   "cell_type": "code",
   "execution_count": 3,
   "metadata": {},
   "outputs": [],
   "source": [
    "# Create ADULT dataframe (CATAG3 == 2, 3, or 4)\n",
    "ADULT = df[df['CATAG3'].isin([2,3,4])]\n",
    "\n",
    "# Drop the YODSMMDE and DEP columns from ADULT dataframe\n",
    "ADULT = ADULT.drop(['YODSMMDE', 'DEP'], axis=1)\n",
    "\n",
    "# Create YOUTH dataframe (CATAG3 == 1)\n",
    "YOUTH = df[df['CATAG3'].isin([1])]\n",
    "\n",
    "# Drop the ADSMMDEA and DEP columns from YOUTH dataframe\n",
    "YOUTH = YOUTH.drop(['ADSMMDEA', 'DEP'], axis=1)"
   ]
  },
  {
   "cell_type": "code",
   "execution_count": 4,
   "metadata": {},
   "outputs": [
    {
     "data": {
      "text/plain": [
       "0    25813\n",
       "1     7364\n",
       "Name: ADSMMDEA, dtype: int64"
      ]
     },
     "execution_count": 4,
     "metadata": {},
     "output_type": "execute_result"
    }
   ],
   "source": [
    "# Inspect the value counts of the target variables for ADULT\n",
    "adultVC = ADULT.ADSMMDEA.value_counts()\n",
    "\n",
    "adultVC"
   ]
  },
  {
   "cell_type": "code",
   "execution_count": 5,
   "metadata": {},
   "outputs": [
    {
     "name": "stdout",
     "output_type": "stream",
     "text": [
      "Percent of Adults with Depression: 22.0%\n"
     ]
    }
   ],
   "source": [
    "# Percent Adult's with Depression\n",
    "percent_adults_depression = round(adultVC[1]/(adultVC[0]+adultVC[1]), 2)*100 # Round to 2 decimal places\n",
    "\n",
    "# Print\n",
    "print(f\"Percent of Adults with Depression: {percent_adults_depression}%\")"
   ]
  },
  {
   "cell_type": "code",
   "execution_count": 6,
   "metadata": {},
   "outputs": [
    {
     "data": {
      "text/plain": [
       "0    7684\n",
       "1    2557\n",
       "Name: YODSMMDE, dtype: int64"
      ]
     },
     "execution_count": 6,
     "metadata": {},
     "output_type": "execute_result"
    }
   ],
   "source": [
    "# Inspect the value counts of the target variables for YOUTH\n",
    "youthVC = YOUTH.YODSMMDE.value_counts()\n",
    "\n",
    "youthVC"
   ]
  },
  {
   "cell_type": "code",
   "execution_count": 7,
   "metadata": {},
   "outputs": [
    {
     "name": "stdout",
     "output_type": "stream",
     "text": [
      "Percent of Adults with Depression: 25.0%\n"
     ]
    }
   ],
   "source": [
    "# Percent YOUTH with Depression\n",
    "percent_youth_depression = round(youthVC[1]/(youthVC[0]+youthVC[1]), 2)*100 # Round to 2 decimal places\n",
    "\n",
    "# Print\n",
    "print(f\"Percent of Adults with Depression: {percent_youth_depression}%\")"
   ]
  },
  {
   "cell_type": "markdown",
   "metadata": {},
   "source": [
    "### Train and test a model on ADULT dataset"
   ]
  },
  {
   "cell_type": "code",
   "execution_count": 10,
   "metadata": {},
   "outputs": [],
   "source": [
    "# Instantiate a Gradient Boosting Classifier\n",
    "gbt = GradientBoostingClassifier(random_state=42)\n",
    "\n",
    "# Define X and y\n",
    "X = ADULT.drop('ADSMMDEA', axis=1)\n",
    "y = ADULT['ADSMMDEA']\n",
    "\n",
    "# Split the data into training and test sets\n",
    "X_train, X_test, y_train, y_test = train_test_split(X, y, random_state=42)\n",
    "\n",
    "# Apply SMOTE to oversample the minority class\n",
    "smote = SMOTE(random_state=42)\n",
    "X_train_resampled, y_train_resampled = smote.fit_resample(X_train, y_train)\n",
    "\n",
    "# Initialize the StandardScaler\n",
    "scaler = StandardScaler()\n",
    "\n",
    "# Fit the scaler on the training data and transform both training and testing sets\n",
    "X_train_resampled_scaled = scaler.fit_transform(X_train_resampled) # Here the resampled X_train data is scaled\n",
    "X_test_scaled = scaler.transform(X_test) # Here the original X_test data is scaled as it was not resampled\n",
    "\n",
    "# Note: you do not need to scale the target variable (y).  "
   ]
  },
  {
   "cell_type": "code",
   "execution_count": 11,
   "metadata": {},
   "outputs": [],
   "source": [
    "# Fit the model to the oversampled training data\n",
    "gbt.fit(X_train_resampled_scaled, y_train_resampled)\n",
    "\n",
    "# Predict on the test data\n",
    "y_pred = gbt.predict(X_test_scaled)"
   ]
  },
  {
   "cell_type": "code",
   "execution_count": 12,
   "metadata": {},
   "outputs": [
    {
     "name": "stdout",
     "output_type": "stream",
     "text": [
      "              precision    recall  f1-score   support\n",
      "\n",
      "           0       0.84      0.70      0.77      6423\n",
      "           1       0.35      0.53      0.42      1872\n",
      "\n",
      "    accuracy                           0.67      8295\n",
      "   macro avg       0.59      0.62      0.59      8295\n",
      "weighted avg       0.73      0.67      0.69      8295\n",
      "\n"
     ]
    }
   ],
   "source": [
    "# Return a classification report for the model\n",
    "print(classification_report(y_test, y_pred))"
   ]
  },
  {
   "cell_type": "code",
   "execution_count": 15,
   "metadata": {},
   "outputs": [
    {
     "data": {
      "image/png": "[encoded data removed]",
      "text/plain": [
       "<Figure size 640x480 with 2 Axes>"
      ]
     },
     "metadata": {},
     "output_type": "display_data"
    }
   ],
   "source": [
    "# Make a confusion matrix using Sklearn\n",
    "\n",
    "cm = confusion_matrix(y_test, y_pred, labels=gbt.classes_)\n",
    "\n",
    "disp = ConfusionMatrixDisplay(confusion_matrix=cm,\n",
    "                                display_labels=gbt.classes_)\n",
    "\n",
    "# Display the confusion matrix\n",
    "disp.plot()\n",
    "# Set the title of the plot\n",
    "plt.title('Adult Depression GBC Model Confusion Matrix')\n",
    "plt.show()"
   ]
  },
  {
   "cell_type": "code",
   "execution_count": 16,
   "metadata": {},
   "outputs": [
    {
     "data": {
      "text/html": [
       "<div>\n",
       "<style scoped>\n",
       "    .dataframe tbody tr th:only-of-type {\n",
       "        vertical-align: middle;\n",
       "    }\n",
       "\n",
       "    .dataframe tbody tr th {\n",
       "        vertical-align: top;\n",
       "    }\n",
       "\n",
       "    .dataframe thead th {\n",
       "        text-align: right;\n",
       "    }\n",
       "</style>\n",
       "<table border=\"1\" class=\"dataframe\">\n",
       "  <thead>\n",
       "    <tr style=\"text-align: right;\">\n",
       "      <th></th>\n",
       "      <th>feature</th>\n",
       "      <th>adult_feature_importance</th>\n",
       "    </tr>\n",
       "  </thead>\n",
       "  <tbody>\n",
       "    <tr>\n",
       "      <th>1</th>\n",
       "      <td>HEALTH2</td>\n",
       "      <td>0.440975</td>\n",
       "    </tr>\n",
       "    <tr>\n",
       "      <th>6</th>\n",
       "      <td>MRJFLAG</td>\n",
       "      <td>0.145312</td>\n",
       "    </tr>\n",
       "    <tr>\n",
       "      <th>7</th>\n",
       "      <td>PYUD5MRJ</td>\n",
       "      <td>0.090688</td>\n",
       "    </tr>\n",
       "    <tr>\n",
       "      <th>0</th>\n",
       "      <td>CATAG3</td>\n",
       "      <td>0.083567</td>\n",
       "    </tr>\n",
       "    <tr>\n",
       "      <th>4</th>\n",
       "      <td>POVERTY3</td>\n",
       "      <td>0.072345</td>\n",
       "    </tr>\n",
       "    <tr>\n",
       "      <th>2</th>\n",
       "      <td>ANYHLTI2</td>\n",
       "      <td>0.064079</td>\n",
       "    </tr>\n",
       "    <tr>\n",
       "      <th>8</th>\n",
       "      <td>MJYRTOT</td>\n",
       "      <td>0.040727</td>\n",
       "    </tr>\n",
       "    <tr>\n",
       "      <th>3</th>\n",
       "      <td>INCOME</td>\n",
       "      <td>0.025015</td>\n",
       "    </tr>\n",
       "    <tr>\n",
       "      <th>9</th>\n",
       "      <td>ALCFLAG</td>\n",
       "      <td>0.021143</td>\n",
       "    </tr>\n",
       "    <tr>\n",
       "      <th>5</th>\n",
       "      <td>TOBFLAG</td>\n",
       "      <td>0.009005</td>\n",
       "    </tr>\n",
       "    <tr>\n",
       "      <th>10</th>\n",
       "      <td>COCFLAG</td>\n",
       "      <td>0.002758</td>\n",
       "    </tr>\n",
       "    <tr>\n",
       "      <th>13</th>\n",
       "      <td>LSDFLAG</td>\n",
       "      <td>0.002035</td>\n",
       "    </tr>\n",
       "    <tr>\n",
       "      <th>14</th>\n",
       "      <td>METHAMFLAG</td>\n",
       "      <td>0.001904</td>\n",
       "    </tr>\n",
       "    <tr>\n",
       "      <th>12</th>\n",
       "      <td>HERFLAG</td>\n",
       "      <td>0.000448</td>\n",
       "    </tr>\n",
       "    <tr>\n",
       "      <th>11</th>\n",
       "      <td>CRKFLAG</td>\n",
       "      <td>0.000000</td>\n",
       "    </tr>\n",
       "  </tbody>\n",
       "</table>\n",
       "</div>"
      ],
      "text/plain": [
       "       feature  adult_feature_importance\n",
       "1      HEALTH2                  0.440975\n",
       "6      MRJFLAG                  0.145312\n",
       "7     PYUD5MRJ                  0.090688\n",
       "0       CATAG3                  0.083567\n",
       "4     POVERTY3                  0.072345\n",
       "2     ANYHLTI2                  0.064079\n",
       "8      MJYRTOT                  0.040727\n",
       "3       INCOME                  0.025015\n",
       "9      ALCFLAG                  0.021143\n",
       "5      TOBFLAG                  0.009005\n",
       "10     COCFLAG                  0.002758\n",
       "13     LSDFLAG                  0.002035\n",
       "14  METHAMFLAG                  0.001904\n",
       "12     HERFLAG                  0.000448\n",
       "11     CRKFLAG                  0.000000"
      ]
     },
     "execution_count": 16,
     "metadata": {},
     "output_type": "execute_result"
    }
   ],
   "source": [
    "# Create feature importance dataframe to analyze the importance of each feature\n",
    "fi_values = gbt.feature_importances_\n",
    "features = X_train.columns\n",
    "# Create dataframe\n",
    "adult_feature_importance_df = pd.DataFrame({\"feature\": features, \"adult_feature_importance\": fi_values})\n",
    "# Sort in descending order\n",
    "adult_feature_importance_df = adult_feature_importance_df.sort_values(by=\"adult_feature_importance\", ascending = False)\n",
    "# View dataframe\n",
    "adult_feature_importance_df"
   ]
  },
  {
   "cell_type": "code",
   "execution_count": 17,
   "metadata": {},
   "outputs": [
    {
     "data": {
      "text/plain": [
       "['HEALTH2',\n",
       " 'MRJFLAG',\n",
       " 'PYUD5MRJ',\n",
       " 'CATAG3',\n",
       " 'POVERTY3',\n",
       " 'ANYHLTI2',\n",
       " 'MJYRTOT',\n",
       " 'INCOME',\n",
       " 'ALCFLAG']"
      ]
     },
     "execution_count": 17,
     "metadata": {},
     "output_type": "execute_result"
    }
   ],
   "source": [
    "# Top 9 Features \n",
    "\n",
    "# Select first 9 features from adult_feature_importance_df\n",
    "Top9_adult = adult_feature_importance_df['feature'][:9]\n",
    "\n",
    "# Convert into list\n",
    "Top9_adult = Top9_adult.tolist()\n",
    "\n",
    "# Inspect\n",
    "Top9_adult"
   ]
  },
  {
   "cell_type": "markdown",
   "metadata": {},
   "source": [
    "### Rerun model with only the top 9 ADULT features\n"
   ]
  },
  {
   "cell_type": "code",
   "execution_count": 18,
   "metadata": {},
   "outputs": [
    {
     "name": "stdout",
     "output_type": "stream",
     "text": [
      "              precision    recall  f1-score   support\n",
      "\n",
      "           0       0.85      0.60      0.70      6423\n",
      "           1       0.32      0.64      0.42      1872\n",
      "\n",
      "    accuracy                           0.61      8295\n",
      "   macro avg       0.58      0.62      0.56      8295\n",
      "weighted avg       0.73      0.61      0.64      8295\n",
      "\n"
     ]
    }
   ],
   "source": [
    "# Retrain and test model using Top9_adult as X\n",
    "\n",
    "# Instantiate a Gradient Boosting Classifier\n",
    "gbt = GradientBoostingClassifier(random_state=42)\n",
    "\n",
    "# Define X and y\n",
    "X = ADULT[['HEALTH2',\n",
    "            'MRJFLAG',\n",
    "            'PYUD5MRJ',\n",
    "            'CATAG3', # Further explore age variables for ADULT\n",
    "            'POVERTY3',\n",
    "            'ANYHLTI2',\n",
    "            #'MJYRTOT',\n",
    "            #'INCOME',\n",
    "            #'ALCFLAG'\n",
    "            ]]\n",
    "y = ADULT['ADSMMDEA']\n",
    "\n",
    "# Split the data into training and test sets\n",
    "X_train, X_test, y_train, y_test = train_test_split(X, y, random_state=42)\n",
    "\n",
    "# Apply SMOTE to oversample the minority class\n",
    "smote = SMOTE(random_state=42)\n",
    "X_train_resampled, y_train_resampled = smote.fit_resample(X_train, y_train)\n",
    "\n",
    "# Initialize the StandardScaler\n",
    "scaler = StandardScaler()\n",
    "\n",
    "# Fit the scaler on the training data and transform both training and testing sets\n",
    "X_train_resampled_scaled = scaler.fit_transform(X_train_resampled) # Here the resampled X_train data is scaled\n",
    "X_test_scaled = scaler.transform(X_test) # Here the original X_test data is scaled as it was not resampled\n",
    "\n",
    "# Note: you do not need to scale the target variable (y). \n",
    "\n",
    "# Fit the model to the oversampled training data\n",
    "gbt.fit(X_train_resampled_scaled, y_train_resampled)\n",
    "\n",
    "# Predict on the test data\n",
    "y_pred = gbt.predict(X_test_scaled)\n",
    "\n",
    "# Return a classification report for the model\n",
    "print(classification_report(y_test, y_pred))"
   ]
  },
  {
   "cell_type": "code",
   "execution_count": 19,
   "metadata": {},
   "outputs": [
    {
     "data": {
      "image/png": "[encoded data removed]",
      "text/plain": [
       "<Figure size 640x480 with 2 Axes>"
      ]
     },
     "metadata": {},
     "output_type": "display_data"
    }
   ],
   "source": [
    "# Print a pretty confusion matrix\n",
    "cm = confusion_matrix(y_test, y_pred, labels=gbt.classes_)\n",
    "\n",
    "disp = ConfusionMatrixDisplay(confusion_matrix=cm,\n",
    "                                display_labels=gbt.classes_)\n",
    "\n",
    "# Display the confusion matrix\n",
    "disp.plot()\n",
    "# Set the title of the plot\n",
    "plt.title('6-Feature Adult Depression GBC Model Confusion Matrix')\n",
    "plt.show()"
   ]
  },
  {
   "cell_type": "markdown",
   "metadata": {},
   "source": [
    "### Train Model with YOUTH data"
   ]
  },
  {
   "cell_type": "code",
   "execution_count": 20,
   "metadata": {},
   "outputs": [
    {
     "name": "stdout",
     "output_type": "stream",
     "text": [
      "              precision    recall  f1-score   support\n",
      "\n",
      "           0       0.83      0.70      0.76      1937\n",
      "           1       0.37      0.56      0.45       624\n",
      "\n",
      "    accuracy                           0.67      2561\n",
      "   macro avg       0.60      0.63      0.60      2561\n",
      "weighted avg       0.72      0.67      0.68      2561\n",
      "\n"
     ]
    }
   ],
   "source": [
    "# Instantiate a Gradient Boosting Classifier\n",
    "gbt = GradientBoostingClassifier(random_state=42)\n",
    "\n",
    "# Define X and y\n",
    "X = YOUTH.drop('YODSMMDE', axis=1)\n",
    "y = YOUTH['YODSMMDE']\n",
    "\n",
    "# Split the data into training and test sets\n",
    "X_train, X_test, y_train, y_test = train_test_split(X, y, random_state=42)\n",
    "\n",
    "# Apply SMOTE to oversample the minority class\n",
    "smote = SMOTE(random_state=42)\n",
    "X_train_resampled, y_train_resampled = smote.fit_resample(X_train, y_train)\n",
    "\n",
    "# Initialize the StandardScaler\n",
    "scaler = StandardScaler()\n",
    "\n",
    "# Fit the scaler on the training data and transform both training and testing sets\n",
    "X_train_resampled_scaled = scaler.fit_transform(X_train_resampled) # Here the resampled X_train data is scaled\n",
    "X_test_scaled = scaler.transform(X_test) # Here the original X_test data is scaled as it was not resampled\n",
    "\n",
    "# Note: you do not need to scale the target variable (y).\n",
    "\n",
    "# Fit the model to the oversampled training data\n",
    "gbt.fit(X_train_resampled_scaled, y_train_resampled)\n",
    "\n",
    "# Predict on the test data\n",
    "y_pred = gbt.predict(X_test_scaled)\n",
    "\n",
    "# Return a classification report for the model\n",
    "print(classification_report(y_test, y_pred))"
   ]
  },
  {
   "cell_type": "code",
   "execution_count": 22,
   "metadata": {},
   "outputs": [
    {
     "data": {
      "image/png": "[encoded data removed]",
      "text/plain": [
       "<Figure size 640x480 with 2 Axes>"
      ]
     },
     "metadata": {},
     "output_type": "display_data"
    }
   ],
   "source": [
    "# Print a confusion matrix for the model\n",
    "cm = confusion_matrix(y_test, y_pred, labels=gbt.classes_)\n",
    "\n",
    "disp = ConfusionMatrixDisplay(confusion_matrix=cm,\n",
    "                                display_labels=gbt.classes_)\n",
    "\n",
    "# Display the confusion matrix\n",
    "disp.plot()\n",
    "# Set the title of the plot\n",
    "plt.title('Youth Depression GBC Model Confusion Matrix')\n",
    "plt.show()"
   ]
  },
  {
   "cell_type": "code",
   "execution_count": 21,
   "metadata": {},
   "outputs": [
    {
     "data": {
      "text/html": [
       "<div>\n",
       "<style scoped>\n",
       "    .dataframe tbody tr th:only-of-type {\n",
       "        vertical-align: middle;\n",
       "    }\n",
       "\n",
       "    .dataframe tbody tr th {\n",
       "        vertical-align: top;\n",
       "    }\n",
       "\n",
       "    .dataframe thead th {\n",
       "        text-align: right;\n",
       "    }\n",
       "</style>\n",
       "<table border=\"1\" class=\"dataframe\">\n",
       "  <thead>\n",
       "    <tr style=\"text-align: right;\">\n",
       "      <th></th>\n",
       "      <th>feature</th>\n",
       "      <th>youth_feature_importance</th>\n",
       "    </tr>\n",
       "  </thead>\n",
       "  <tbody>\n",
       "    <tr>\n",
       "      <th>1</th>\n",
       "      <td>HEALTH2</td>\n",
       "      <td>0.499813</td>\n",
       "    </tr>\n",
       "    <tr>\n",
       "      <th>9</th>\n",
       "      <td>ALCFLAG</td>\n",
       "      <td>0.244815</td>\n",
       "    </tr>\n",
       "    <tr>\n",
       "      <th>6</th>\n",
       "      <td>MRJFLAG</td>\n",
       "      <td>0.070116</td>\n",
       "    </tr>\n",
       "    <tr>\n",
       "      <th>4</th>\n",
       "      <td>POVERTY3</td>\n",
       "      <td>0.041385</td>\n",
       "    </tr>\n",
       "    <tr>\n",
       "      <th>8</th>\n",
       "      <td>MJYRTOT</td>\n",
       "      <td>0.039888</td>\n",
       "    </tr>\n",
       "    <tr>\n",
       "      <th>7</th>\n",
       "      <td>PYUD5MRJ</td>\n",
       "      <td>0.034001</td>\n",
       "    </tr>\n",
       "    <tr>\n",
       "      <th>3</th>\n",
       "      <td>INCOME</td>\n",
       "      <td>0.026361</td>\n",
       "    </tr>\n",
       "    <tr>\n",
       "      <th>2</th>\n",
       "      <td>ANYHLTI2</td>\n",
       "      <td>0.017742</td>\n",
       "    </tr>\n",
       "    <tr>\n",
       "      <th>5</th>\n",
       "      <td>TOBFLAG</td>\n",
       "      <td>0.016949</td>\n",
       "    </tr>\n",
       "    <tr>\n",
       "      <th>10</th>\n",
       "      <td>COCFLAG</td>\n",
       "      <td>0.004962</td>\n",
       "    </tr>\n",
       "    <tr>\n",
       "      <th>14</th>\n",
       "      <td>METHAMFLAG</td>\n",
       "      <td>0.001536</td>\n",
       "    </tr>\n",
       "    <tr>\n",
       "      <th>12</th>\n",
       "      <td>HERFLAG</td>\n",
       "      <td>0.001112</td>\n",
       "    </tr>\n",
       "    <tr>\n",
       "      <th>13</th>\n",
       "      <td>LSDFLAG</td>\n",
       "      <td>0.000852</td>\n",
       "    </tr>\n",
       "    <tr>\n",
       "      <th>11</th>\n",
       "      <td>CRKFLAG</td>\n",
       "      <td>0.000470</td>\n",
       "    </tr>\n",
       "    <tr>\n",
       "      <th>0</th>\n",
       "      <td>CATAG3</td>\n",
       "      <td>0.000000</td>\n",
       "    </tr>\n",
       "  </tbody>\n",
       "</table>\n",
       "</div>"
      ],
      "text/plain": [
       "       feature  youth_feature_importance\n",
       "1      HEALTH2                  0.499813\n",
       "9      ALCFLAG                  0.244815\n",
       "6      MRJFLAG                  0.070116\n",
       "4     POVERTY3                  0.041385\n",
       "8      MJYRTOT                  0.039888\n",
       "7     PYUD5MRJ                  0.034001\n",
       "3       INCOME                  0.026361\n",
       "2     ANYHLTI2                  0.017742\n",
       "5      TOBFLAG                  0.016949\n",
       "10     COCFLAG                  0.004962\n",
       "14  METHAMFLAG                  0.001536\n",
       "12     HERFLAG                  0.001112\n",
       "13     LSDFLAG                  0.000852\n",
       "11     CRKFLAG                  0.000470\n",
       "0       CATAG3                  0.000000"
      ]
     },
     "execution_count": 21,
     "metadata": {},
     "output_type": "execute_result"
    }
   ],
   "source": [
    "# Create feature importance dataframe to analyze the importance of each feature\n",
    "fi_values = gbt.feature_importances_\n",
    "features = X_train.columns\n",
    "# Create dataframe\n",
    "youth_feature_importance_df = pd.DataFrame({\"feature\": features, \"youth_feature_importance\": fi_values})\n",
    "# Sort in descending order\n",
    "youth_feature_importance_df = youth_feature_importance_df.sort_values(by=\"youth_feature_importance\", ascending = False)\n",
    "# View dataframe\n",
    "youth_feature_importance_df"
   ]
  },
  {
   "cell_type": "code",
   "execution_count": 23,
   "metadata": {},
   "outputs": [
    {
     "data": {
      "text/plain": [
       "['HEALTH2', 'ALCFLAG', 'MRJFLAG', 'POVERTY3', 'MJYRTOT', 'PYUD5MRJ']"
      ]
     },
     "execution_count": 23,
     "metadata": {},
     "output_type": "execute_result"
    }
   ],
   "source": [
    "# Select the top 6 features from the YOUTH model\n",
    "\n",
    "# Select first 9 features from adult_feature_importance_df\n",
    "Top6_youth = youth_feature_importance_df['feature'][:6]\n",
    "\n",
    "# Convert into list\n",
    "Top6_youth = Top6_youth.tolist()\n",
    "\n",
    "# Inspect\n",
    "Top6_youth"
   ]
  },
  {
   "cell_type": "markdown",
   "metadata": {},
   "source": [
    "### Note: Communicate these findings to the group and use them to inform Pycaret model feature selection."
   ]
  },
  {
   "cell_type": "code",
   "execution_count": 24,
   "metadata": {},
   "outputs": [
    {
     "ename": "NameError",
     "evalue": "name 'feature_importance_df' is not defined",
     "output_type": "error",
     "traceback": [
      "\u001b[1;31m---------------------------------------------------------------------------\u001b[0m",
      "\u001b[1;31mNameError\u001b[0m                                 Traceback (most recent call last)",
      "Cell \u001b[1;32mIn[24], line 3\u001b[0m\n\u001b[0;32m      1\u001b[0m \u001b[39m# Merge the two feature importance dataframes (adult_feature_importance_df and youth_feature_importance_df) on ['feature']\u001b[39;00m\n\u001b[1;32m----> 3\u001b[0m FEATURE_IMPORTANCES \u001b[39m=\u001b[39m pd\u001b[39m.\u001b[39mmerge(feature_importance_df, adult_feature_importance_df, on\u001b[39m=\u001b[39m[\u001b[39m'\u001b[39m\u001b[39mfeature\u001b[39m\u001b[39m'\u001b[39m], how\u001b[39m=\u001b[39m\u001b[39m'\u001b[39m\u001b[39mouter\u001b[39m\u001b[39m'\u001b[39m)\n\u001b[0;32m      5\u001b[0m \u001b[39m# Merge FEATURE_IMPORTANCES with youth_feature_importance_df on ['feature']\u001b[39;00m\n\u001b[0;32m      6\u001b[0m FEATURE_IMPORTANCES \u001b[39m=\u001b[39m pd\u001b[39m.\u001b[39mmerge(FEATURE_IMPORTANCES, youth_feature_importance_df, on\u001b[39m=\u001b[39m[\u001b[39m'\u001b[39m\u001b[39mfeature\u001b[39m\u001b[39m'\u001b[39m], how\u001b[39m=\u001b[39m\u001b[39m'\u001b[39m\u001b[39mouter\u001b[39m\u001b[39m'\u001b[39m)\n",
      "\u001b[1;31mNameError\u001b[0m: name 'feature_importance_df' is not defined"
     ]
    }
   ],
   "source": [
    "# Merge the two feature importance dataframes (adult_feature_importance_df and youth_feature_importance_df) on ['feature']\n",
    "\n",
    "FEATURE_IMPORTANCES = pd.merge(feature_importance_df, adult_feature_importance_df, on=['feature'], how='outer')\n",
    "\n",
    "# Merge FEATURE_IMPORTANCES with youth_feature_importance_df on ['feature']\n",
    "FEATURE_IMPORTANCES = pd.merge(FEATURE_IMPORTANCES, youth_feature_importance_df, on=['feature'], how='outer')\n",
    "\n",
    "# Inspect\n",
    "\n",
    "FEATURE_IMPORTANCES"
   ]
  },
  {
   "cell_type": "code",
   "execution_count": 64,
   "metadata": {},
   "outputs": [
    {
     "data": {
      "image/png": "[encoded data removed]",
      "text/plain": [
       "<Figure size 1000x600 with 1 Axes>"
      ]
     },
     "metadata": {},
     "output_type": "display_data"
    }
   ],
   "source": [
    "# Melting the data to create a single importance column for both iterations\n",
    "melted_data = pd.melt(FEATURE_IMPORTANCES, id_vars='feature', var_name='iteration', value_name='feature_importance')\n",
    "\n",
    "# Sorting data by feature importance for better visualization\n",
    "melted_data = melted_data.sort_values(by='feature_importance', ascending=False)\n",
    "\n",
    "# Create a bar plot using Seaborn with bars side by side\n",
    "plt.figure(figsize=(10, 6))\n",
    "sns.barplot(x='feature', y='feature_importance', hue='iteration', data=melted_data)\n",
    "plt.xlabel('Features')\n",
    "plt.ylabel('Feature Importance')\n",
    "plt.title('Feature Importance Comparison')\n",
    "plt.xticks(rotation=45)\n",
    "plt.legend(title='Iteration')\n",
    "plt.tight_layout()\n",
    "plt.show()"
   ]
  },
  {
   "cell_type": "code",
   "execution_count": 57,
   "metadata": {},
   "outputs": [
    {
     "data": {
      "text/plain": [
       "['HEALTH2',\n",
       " 'MRJFLAG',\n",
       " 'PYUD5MRJ',\n",
       " 'CATAG3',\n",
       " 'POVERTY3',\n",
       " 'ANYHLTI2',\n",
       " 'MJYRTOT',\n",
       " 'INCOME',\n",
       " 'ALCFLAG']"
      ]
     },
     "execution_count": 57,
     "metadata": {},
     "output_type": "execute_result"
    }
   ],
   "source": [
    "# Pull the top 9 most important features from each model and create new dataframes with them\n",
    "\n",
    "# Select first 9 features from adult_feature_importance_df\n",
    "Top9_adult = adult_feature_importance_df['feature'][:9]\n",
    "\n",
    "# Convert into list\n",
    "Top9_adult = Top9_adult.tolist()\n",
    "\n",
    "# Inspect\n",
    "Top9_adult"
   ]
  },
  {
   "cell_type": "code",
   "execution_count": 61,
   "metadata": {},
   "outputs": [
    {
     "name": "stdout",
     "output_type": "stream",
     "text": [
      "              precision    recall  f1-score   support\n",
      "\n",
      "           0       0.84      0.69      0.76      6423\n",
      "           1       0.34      0.54      0.42      1872\n",
      "\n",
      "    accuracy                           0.66      8295\n",
      "   macro avg       0.59      0.62      0.59      8295\n",
      "weighted avg       0.73      0.66      0.68      8295\n",
      "\n"
     ]
    }
   ],
   "source": [
    "# Retrain and test model using Top9_adult as X\n",
    "\n",
    "# Instantiate a Gradient Boosting Classifier\n",
    "gbt = GradientBoostingClassifier(random_state=42)\n",
    "\n",
    "# Define X and y\n",
    "X = ADULT[['HEALTH2',\n",
    "            'MRJFLAG',\n",
    "            'PYUD5MRJ',\n",
    "            'CATAG3',\n",
    "            'POVERTY3',\n",
    "            'ANYHLTI2',\n",
    "            'MJYRTOT',\n",
    "            'INCOME',\n",
    "            'ALCFLAG']]\n",
    "y = ADULT['ADSMMDEA']\n",
    "\n",
    "# Split the data into training and test sets\n",
    "X_train, X_test, y_train, y_test = train_test_split(X, y, random_state=42)\n",
    "\n",
    "# Apply SMOTE to oversample the minority class\n",
    "smote = SMOTE(random_state=42)\n",
    "X_train_resampled, y_train_resampled = smote.fit_resample(X_train, y_train)\n",
    "\n",
    "# Initialize the StandardScaler\n",
    "scaler = StandardScaler()\n",
    "\n",
    "# Fit the scaler on the training data and transform both training and testing sets\n",
    "X_train_resampled_scaled = scaler.fit_transform(X_train_resampled) # Here the resampled X_train data is scaled\n",
    "X_test_scaled = scaler.transform(X_test) # Here the original X_test data is scaled as it was not resampled\n",
    "\n",
    "# Note: you do not need to scale the target variable (y).  \n",
    "\n",
    "# Fit the model to the oversampled training data\n",
    "gbt.fit(X_train_resampled_scaled, y_train_resampled)\n",
    "\n",
    "# Predict on the test data\n",
    "y_pred = gbt.predict(X_test_scaled)\n",
    "\n",
    "# Return a classification report for the model\n",
    "print(classification_report(y_test, y_pred))"
   ]
  },
  {
   "cell_type": "code",
   "execution_count": null,
   "metadata": {},
   "outputs": [],
   "source": [
    "### Taking a break here after making some tangible progress but no model performance improvement."
   ]
  },
  {
   "cell_type": "code",
   "execution_count": null,
   "metadata": {},
   "outputs": [],
   "source": []
  },
  {
   "cell_type": "code",
   "execution_count": 6,
   "metadata": {},
   "outputs": [],
   "source": [
    "from sklearn.model_selection import train_test_split, cross_validate\n",
    "from sklearn.ensemble import RandomForestClassifier\n",
    "from sklearn.metrics import classification_report\n",
    "\n",
    "# Ensembled sampling\n",
    "from imblearn.under_sampling import NearMiss\n",
    "from imblearn.over_sampling import SMOTE\n",
    "from imblearn.ensemble import BalancedRandomForestClassifier\n",
    "from imblearn.ensemble import RUSBoostClassifier\n",
    "from imblearn.ensemble import EasyEnsembleClassifier\n",
    "from imblearn.ensemble import BalancedBaggingClassifier"
   ]
  },
  {
   "cell_type": "code",
   "execution_count": 13,
   "metadata": {},
   "outputs": [],
   "source": [
    "subset = subset.dropna()"
   ]
  },
  {
   "cell_type": "code",
   "execution_count": 14,
   "metadata": {},
   "outputs": [
    {
     "name": "stdout",
     "output_type": "stream",
     "text": [
      "<class 'pandas.core.frame.DataFrame'>\n",
      "Int64Index: 53896 entries, 0 to 53911\n",
      "Data columns (total 19 columns):\n",
      " #   Column      Non-Null Count  Dtype  \n",
      "---  ------      --------------  -----  \n",
      " 0   CATAG3      53896 non-null  int64  \n",
      " 1   HEALTH2     53896 non-null  float64\n",
      " 2   ANYHLTI2    53896 non-null  int64  \n",
      " 3   INCOME      53896 non-null  int64  \n",
      " 4   POVERTY3    53896 non-null  float64\n",
      " 5   TOBFLAG     53896 non-null  int64  \n",
      " 6   MRJFLAG     53896 non-null  int64  \n",
      " 7   PYUD5MRJ    53896 non-null  float64\n",
      " 8   MJYRTOT     53896 non-null  int64  \n",
      " 9   ALCFLAG     53896 non-null  int64  \n",
      " 10  COCFLAG     53896 non-null  int64  \n",
      " 11  CRKFLAG     53896 non-null  int64  \n",
      " 12  HERFLAG     53896 non-null  int64  \n",
      " 13  LSDFLAG     53896 non-null  int64  \n",
      " 14  METHAMFLAG  53896 non-null  int64  \n",
      " 15  ADDPREV     53896 non-null  int64  \n",
      " 16  ADSMMDEA    53896 non-null  int64  \n",
      " 17  YODSMMDE    53896 non-null  int64  \n",
      " 18  DEP         53896 non-null  int64  \n",
      "dtypes: float64(3), int64(16)\n",
      "memory usage: 8.2 MB\n"
     ]
    }
   ],
   "source": [
    "subset.info()"
   ]
  },
  {
   "cell_type": "code",
   "execution_count": 15,
   "metadata": {},
   "outputs": [],
   "source": [
    "# Define X and y\n",
    "X = subset.drop('DEP', axis=1)\n",
    "y = subset['DEP']\n",
    "\n",
    "# Split the data into training and test sets\n",
    "X_train, X_test, y_train, y_test = train_test_split(X, y, random_state=42)"
   ]
  },
  {
   "cell_type": "code",
   "execution_count": 18,
   "metadata": {},
   "outputs": [
    {
     "name": "stdout",
     "output_type": "stream",
     "text": [
      "1.000 +/- 0.000\n"
     ]
    }
   ],
   "source": [
    "# Train the balanced random forest model\n",
    "brf = BalancedRandomForestClassifier(random_state=42)\n",
    "brf_model_cv = cross_validate(brf, X_train, y_train, cv = 5, n_jobs = -1, scoring=\"precision\")\n",
    "\n",
    "# Check the model performance\n",
    "print(f\"{brf_model_cv['test_score'].mean():.3f} +/- {brf_model_cv['test_score'].std():.3f}\")"
   ]
  },
  {
   "cell_type": "code",
   "execution_count": null,
   "metadata": {},
   "outputs": [],
   "source": [
    "# Next Model"
   ]
  },
  {
   "cell_type": "code",
   "execution_count": 19,
   "metadata": {},
   "outputs": [
    {
     "ename": "ValueError",
     "evalue": "\nAll the 5 fits failed.\nIt is very likely that your model is misconfigured.\nYou can try to debug the error by setting error_score='raise'.\n\nBelow are more details about the failures:\n--------------------------------------------------------------------------------\n5 fits failed with the following error:\nTraceback (most recent call last):\n  File \"c:\\Users\\e.a.wright\\anaconda3\\envs\\datascience\\Lib\\site-packages\\sklearn\\model_selection\\_validation.py\", line 686, in _fit_and_score\n    estimator.fit(X_train, y_train, **fit_params)\n  File \"c:\\Users\\e.a.wright\\anaconda3\\envs\\datascience\\Lib\\site-packages\\imblearn\\utils\\fixes.py\", line 85, in wrapper\n    return fit_method(estimator, *args, **kwargs)\n           ^^^^^^^^^^^^^^^^^^^^^^^^^^^^^^^^^^^^^^\n  File \"c:\\Users\\e.a.wright\\anaconda3\\envs\\datascience\\Lib\\site-packages\\imblearn\\ensemble\\_bagging.py\", line 422, in fit\n    return super().fit(X, y)\n           ^^^^^^^^^^^^^^^^^\n  File \"c:\\Users\\e.a.wright\\anaconda3\\envs\\datascience\\Lib\\site-packages\\sklearn\\ensemble\\_bagging.py\", line 337, in fit\n    return self._fit(X, y, self.max_samples, sample_weight=sample_weight)\n           ^^^^^^^^^^^^^^^^^^^^^^^^^^^^^^^^^^^^^^^^^^^^^^^^^^^^^^^^^^^^^^\n  File \"c:\\Users\\e.a.wright\\anaconda3\\envs\\datascience\\Lib\\site-packages\\imblearn\\ensemble\\_bagging.py\", line 437, in _fit\n    return super()._fit(X, y, self.max_samples, sample_weight=None)\n           ^^^^^^^^^^^^^^^^^^^^^^^^^^^^^^^^^^^^^^^^^^^^^^^^^^^^^^^^\n  File \"c:\\Users\\e.a.wright\\anaconda3\\envs\\datascience\\Lib\\site-packages\\sklearn\\ensemble\\_bagging.py\", line 472, in _fit\n    all_results = Parallel(\n                  ^^^^^^^^^\n  File \"c:\\Users\\e.a.wright\\anaconda3\\envs\\datascience\\Lib\\site-packages\\sklearn\\utils\\parallel.py\", line 63, in __call__\n    return super().__call__(iterable_with_config)\n           ^^^^^^^^^^^^^^^^^^^^^^^^^^^^^^^^^^^^^^\n  File \"c:\\Users\\e.a.wright\\anaconda3\\envs\\datascience\\Lib\\site-packages\\joblib\\parallel.py\", line 1085, in __call__\n    if self.dispatch_one_batch(iterator):\n       ^^^^^^^^^^^^^^^^^^^^^^^^^^^^^^^^^\n  File \"c:\\Users\\e.a.wright\\anaconda3\\envs\\datascience\\Lib\\site-packages\\joblib\\parallel.py\", line 901, in dispatch_one_batch\n    self._dispatch(tasks)\n  File \"c:\\Users\\e.a.wright\\anaconda3\\envs\\datascience\\Lib\\site-packages\\joblib\\parallel.py\", line 819, in _dispatch\n    job = self._backend.apply_async(batch, callback=cb)\n          ^^^^^^^^^^^^^^^^^^^^^^^^^^^^^^^^^^^^^^^^^^^^^\n  File \"c:\\Users\\e.a.wright\\anaconda3\\envs\\datascience\\Lib\\site-packages\\joblib\\_parallel_backends.py\", line 208, in apply_async\n    result = ImmediateResult(func)\n             ^^^^^^^^^^^^^^^^^^^^^\n  File \"c:\\Users\\e.a.wright\\anaconda3\\envs\\datascience\\Lib\\site-packages\\joblib\\_parallel_backends.py\", line 597, in __init__\n    self.results = batch()\n                   ^^^^^^^\n  File \"c:\\Users\\e.a.wright\\anaconda3\\envs\\datascience\\Lib\\site-packages\\joblib\\parallel.py\", line 288, in __call__\n    return [func(*args, **kwargs)\n           ^^^^^^^^^^^^^^^^^^^^^^\n  File \"c:\\Users\\e.a.wright\\anaconda3\\envs\\datascience\\Lib\\site-packages\\joblib\\parallel.py\", line 288, in <listcomp>\n    return [func(*args, **kwargs)\n            ^^^^^^^^^^^^^^^^^^^^^\n  File \"c:\\Users\\e.a.wright\\anaconda3\\envs\\datascience\\Lib\\site-packages\\sklearn\\utils\\parallel.py\", line 123, in __call__\n    return self.function(*args, **kwargs)\n           ^^^^^^^^^^^^^^^^^^^^^^^^^^^^^^\n  File \"c:\\Users\\e.a.wright\\anaconda3\\envs\\datascience\\Lib\\site-packages\\sklearn\\ensemble\\_bagging.py\", line 144, in _parallel_build_estimators\n    estimator_fit(X_, y[indices])\n  File \"c:\\Users\\e.a.wright\\anaconda3\\envs\\datascience\\Lib\\site-packages\\imblearn\\pipeline.py\", line 293, in fit\n    Xt, yt = self._fit(X, y, **fit_params_steps)\n             ^^^^^^^^^^^^^^^^^^^^^^^^^^^^^^^^^^^\n  File \"c:\\Users\\e.a.wright\\anaconda3\\envs\\datascience\\Lib\\site-packages\\imblearn\\pipeline.py\", line 250, in _fit\n    X, y, fitted_transformer = fit_resample_one_cached(\n                               ^^^^^^^^^^^^^^^^^^^^^^^^\n  File \"c:\\Users\\e.a.wright\\anaconda3\\envs\\datascience\\Lib\\site-packages\\joblib\\memory.py\", line 349, in __call__\n    return self.func(*args, **kwargs)\n           ^^^^^^^^^^^^^^^^^^^^^^^^^^\n  File \"c:\\Users\\e.a.wright\\anaconda3\\envs\\datascience\\Lib\\site-packages\\imblearn\\pipeline.py\", line 422, in _fit_resample_one\n    X_res, y_res = sampler.fit_resample(X, y, **fit_params)\n                   ^^^^^^^^^^^^^^^^^^^^^^^^^^^^^^^^^^^^^^^^\n  File \"c:\\Users\\e.a.wright\\anaconda3\\envs\\datascience\\Lib\\site-packages\\imblearn\\base.py\", line 208, in fit_resample\n    return super().fit_resample(X, y)\n           ^^^^^^^^^^^^^^^^^^^^^^^^^^\n  File \"c:\\Users\\e.a.wright\\anaconda3\\envs\\datascience\\Lib\\site-packages\\imblearn\\base.py\", line 112, in fit_resample\n    output = self._fit_resample(X, y)\n             ^^^^^^^^^^^^^^^^^^^^^^^^\n  File \"c:\\Users\\e.a.wright\\anaconda3\\envs\\datascience\\Lib\\site-packages\\imblearn\\under_sampling\\_prototype_selection\\_nearmiss.py\", line 269, in _fit_resample\n    dist_vec, idx_vec = self.nn_ver3_.kneighbors(\n                        ^^^^^^^^^^^^^^^^^^^^^^^^^\n  File \"c:\\Users\\e.a.wright\\anaconda3\\envs\\datascience\\Lib\\site-packages\\sklearn\\neighbors\\_base.py\", line 824, in kneighbors\n    results = ArgKmin.compute(\n              ^^^^^^^^^^^^^^^^\n  File \"c:\\Users\\e.a.wright\\anaconda3\\envs\\datascience\\Lib\\site-packages\\sklearn\\metrics\\_pairwise_distances_reduction\\_dispatcher.py\", line 277, in compute\n    return ArgKmin64.compute(\n           ^^^^^^^^^^^^^^^^^^\n  File \"sklearn\\metrics\\_pairwise_distances_reduction\\_argkmin.pyx\", line 95, in sklearn.metrics._pairwise_distances_reduction._argkmin.ArgKmin64.compute\n  File \"c:\\Users\\e.a.wright\\anaconda3\\envs\\datascience\\Lib\\site-packages\\sklearn\\utils\\fixes.py\", line 139, in threadpool_limits\n    return threadpoolctl.threadpool_limits(limits=limits, user_api=user_api)\n           ^^^^^^^^^^^^^^^^^^^^^^^^^^^^^^^^^^^^^^^^^^^^^^^^^^^^^^^^^^^^^^^^^\n  File \"c:\\Users\\e.a.wright\\anaconda3\\envs\\datascience\\Lib\\site-packages\\threadpoolctl.py\", line 171, in __init__\n    self._original_info = self._set_threadpool_limits()\n                          ^^^^^^^^^^^^^^^^^^^^^^^^^^^^^\n  File \"c:\\Users\\e.a.wright\\anaconda3\\envs\\datascience\\Lib\\site-packages\\threadpoolctl.py\", line 268, in _set_threadpool_limits\n    modules = _ThreadpoolInfo(prefixes=self._prefixes,\n              ^^^^^^^^^^^^^^^^^^^^^^^^^^^^^^^^^^^^^^^^\n  File \"c:\\Users\\e.a.wright\\anaconda3\\envs\\datascience\\Lib\\site-packages\\threadpoolctl.py\", line 340, in __init__\n    self._load_modules()\n  File \"c:\\Users\\e.a.wright\\anaconda3\\envs\\datascience\\Lib\\site-packages\\threadpoolctl.py\", line 373, in _load_modules\n    self._find_modules_with_enum_process_module_ex()\n  File \"c:\\Users\\e.a.wright\\anaconda3\\envs\\datascience\\Lib\\site-packages\\threadpoolctl.py\", line 485, in _find_modules_with_enum_process_module_ex\n    self._make_module_from_path(filepath)\n  File \"c:\\Users\\e.a.wright\\anaconda3\\envs\\datascience\\Lib\\site-packages\\threadpoolctl.py\", line 515, in _make_module_from_path\n    module = module_class(filepath, prefix, user_api, internal_api)\n             ^^^^^^^^^^^^^^^^^^^^^^^^^^^^^^^^^^^^^^^^^^^^^^^^^^^^^^\n  File \"c:\\Users\\e.a.wright\\anaconda3\\envs\\datascience\\Lib\\site-packages\\threadpoolctl.py\", line 606, in __init__\n    self.version = self.get_version()\n                   ^^^^^^^^^^^^^^^^^^\n  File \"c:\\Users\\e.a.wright\\anaconda3\\envs\\datascience\\Lib\\site-packages\\threadpoolctl.py\", line 646, in get_version\n    config = get_config().split()\n             ^^^^^^^^^^^^^^^^^^\nAttributeError: 'NoneType' object has no attribute 'split'\n",
     "output_type": "error",
     "traceback": [
      "\u001b[1;31m---------------------------------------------------------------------------\u001b[0m",
      "\u001b[1;31mValueError\u001b[0m                                Traceback (most recent call last)",
      "Cell \u001b[1;32mIn[19], line 3\u001b[0m\n\u001b[0;32m      1\u001b[0m \u001b[39m# Train the balanced bagging classifier model using near miss under sampling\u001b[39;00m\n\u001b[0;32m      2\u001b[0m bbc_nm \u001b[39m=\u001b[39m BalancedBaggingClassifier(random_state\u001b[39m=\u001b[39m\u001b[39m42\u001b[39m, sampler\u001b[39m=\u001b[39m(NearMiss(version\u001b[39m=\u001b[39m\u001b[39m3\u001b[39m)))\n\u001b[1;32m----> 3\u001b[0m bbc_nm_model_cv \u001b[39m=\u001b[39m cross_validate(bbc_nm, X_train, y_train, cv \u001b[39m=\u001b[39m \u001b[39m5\u001b[39m, n_jobs \u001b[39m=\u001b[39m \u001b[39m-\u001b[39m\u001b[39m1\u001b[39m, scoring\u001b[39m=\u001b[39m\u001b[39m\"\u001b[39m\u001b[39mrecall\u001b[39m\u001b[39m\"\u001b[39m)\n\u001b[0;32m      5\u001b[0m \u001b[39m# Check the model performance\u001b[39;00m\n\u001b[0;32m      6\u001b[0m \u001b[39mprint\u001b[39m(\u001b[39mf\u001b[39m\u001b[39m\"\u001b[39m\u001b[39m{\u001b[39;00mbbc_nm_model_cv[\u001b[39m'\u001b[39m\u001b[39mtest_score\u001b[39m\u001b[39m'\u001b[39m]\u001b[39m.\u001b[39mmean()\u001b[39m:\u001b[39;00m\u001b[39m.3f\u001b[39m\u001b[39m}\u001b[39;00m\u001b[39m +/- \u001b[39m\u001b[39m{\u001b[39;00mbbc_nm_model_cv[\u001b[39m'\u001b[39m\u001b[39mtest_score\u001b[39m\u001b[39m'\u001b[39m]\u001b[39m.\u001b[39mstd()\u001b[39m:\u001b[39;00m\u001b[39m.3f\u001b[39m\u001b[39m}\u001b[39;00m\u001b[39m\"\u001b[39m)\n",
      "File \u001b[1;32mc:\\Users\\e.a.wright\\anaconda3\\envs\\datascience\\Lib\\site-packages\\sklearn\\model_selection\\_validation.py:285\u001b[0m, in \u001b[0;36mcross_validate\u001b[1;34m(estimator, X, y, groups, scoring, cv, n_jobs, verbose, fit_params, pre_dispatch, return_train_score, return_estimator, error_score)\u001b[0m\n\u001b[0;32m    265\u001b[0m parallel \u001b[39m=\u001b[39m Parallel(n_jobs\u001b[39m=\u001b[39mn_jobs, verbose\u001b[39m=\u001b[39mverbose, pre_dispatch\u001b[39m=\u001b[39mpre_dispatch)\n\u001b[0;32m    266\u001b[0m results \u001b[39m=\u001b[39m parallel(\n\u001b[0;32m    267\u001b[0m     delayed(_fit_and_score)(\n\u001b[0;32m    268\u001b[0m         clone(estimator),\n\u001b[1;32m   (...)\u001b[0m\n\u001b[0;32m    282\u001b[0m     \u001b[39mfor\u001b[39;00m train, test \u001b[39min\u001b[39;00m cv\u001b[39m.\u001b[39msplit(X, y, groups)\n\u001b[0;32m    283\u001b[0m )\n\u001b[1;32m--> 285\u001b[0m _warn_or_raise_about_fit_failures(results, error_score)\n\u001b[0;32m    287\u001b[0m \u001b[39m# For callabe scoring, the return type is only know after calling. If the\u001b[39;00m\n\u001b[0;32m    288\u001b[0m \u001b[39m# return type is a dictionary, the error scores can now be inserted with\u001b[39;00m\n\u001b[0;32m    289\u001b[0m \u001b[39m# the correct key.\u001b[39;00m\n\u001b[0;32m    290\u001b[0m \u001b[39mif\u001b[39;00m \u001b[39mcallable\u001b[39m(scoring):\n",
      "File \u001b[1;32mc:\\Users\\e.a.wright\\anaconda3\\envs\\datascience\\Lib\\site-packages\\sklearn\\model_selection\\_validation.py:367\u001b[0m, in \u001b[0;36m_warn_or_raise_about_fit_failures\u001b[1;34m(results, error_score)\u001b[0m\n\u001b[0;32m    360\u001b[0m \u001b[39mif\u001b[39;00m num_failed_fits \u001b[39m==\u001b[39m num_fits:\n\u001b[0;32m    361\u001b[0m     all_fits_failed_message \u001b[39m=\u001b[39m (\n\u001b[0;32m    362\u001b[0m         \u001b[39mf\u001b[39m\u001b[39m\"\u001b[39m\u001b[39m\\n\u001b[39;00m\u001b[39mAll the \u001b[39m\u001b[39m{\u001b[39;00mnum_fits\u001b[39m}\u001b[39;00m\u001b[39m fits failed.\u001b[39m\u001b[39m\\n\u001b[39;00m\u001b[39m\"\u001b[39m\n\u001b[0;32m    363\u001b[0m         \u001b[39m\"\u001b[39m\u001b[39mIt is very likely that your model is misconfigured.\u001b[39m\u001b[39m\\n\u001b[39;00m\u001b[39m\"\u001b[39m\n\u001b[0;32m    364\u001b[0m         \u001b[39m\"\u001b[39m\u001b[39mYou can try to debug the error by setting error_score=\u001b[39m\u001b[39m'\u001b[39m\u001b[39mraise\u001b[39m\u001b[39m'\u001b[39m\u001b[39m.\u001b[39m\u001b[39m\\n\u001b[39;00m\u001b[39m\\n\u001b[39;00m\u001b[39m\"\u001b[39m\n\u001b[0;32m    365\u001b[0m         \u001b[39mf\u001b[39m\u001b[39m\"\u001b[39m\u001b[39mBelow are more details about the failures:\u001b[39m\u001b[39m\\n\u001b[39;00m\u001b[39m{\u001b[39;00mfit_errors_summary\u001b[39m}\u001b[39;00m\u001b[39m\"\u001b[39m\n\u001b[0;32m    366\u001b[0m     )\n\u001b[1;32m--> 367\u001b[0m     \u001b[39mraise\u001b[39;00m \u001b[39mValueError\u001b[39;00m(all_fits_failed_message)\n\u001b[0;32m    369\u001b[0m \u001b[39melse\u001b[39;00m:\n\u001b[0;32m    370\u001b[0m     some_fits_failed_message \u001b[39m=\u001b[39m (\n\u001b[0;32m    371\u001b[0m         \u001b[39mf\u001b[39m\u001b[39m\"\u001b[39m\u001b[39m\\n\u001b[39;00m\u001b[39m{\u001b[39;00mnum_failed_fits\u001b[39m}\u001b[39;00m\u001b[39m fits failed out of a total of \u001b[39m\u001b[39m{\u001b[39;00mnum_fits\u001b[39m}\u001b[39;00m\u001b[39m.\u001b[39m\u001b[39m\\n\u001b[39;00m\u001b[39m\"\u001b[39m\n\u001b[0;32m    372\u001b[0m         \u001b[39m\"\u001b[39m\u001b[39mThe score on these train-test partitions for these parameters\u001b[39m\u001b[39m\"\u001b[39m\n\u001b[1;32m   (...)\u001b[0m\n\u001b[0;32m    376\u001b[0m         \u001b[39mf\u001b[39m\u001b[39m\"\u001b[39m\u001b[39mBelow are more details about the failures:\u001b[39m\u001b[39m\\n\u001b[39;00m\u001b[39m{\u001b[39;00mfit_errors_summary\u001b[39m}\u001b[39;00m\u001b[39m\"\u001b[39m\n\u001b[0;32m    377\u001b[0m     )\n",
      "\u001b[1;31mValueError\u001b[0m: \nAll the 5 fits failed.\nIt is very likely that your model is misconfigured.\nYou can try to debug the error by setting error_score='raise'.\n\nBelow are more details about the failures:\n--------------------------------------------------------------------------------\n5 fits failed with the following error:\nTraceback (most recent call last):\n  File \"c:\\Users\\e.a.wright\\anaconda3\\envs\\datascience\\Lib\\site-packages\\sklearn\\model_selection\\_validation.py\", line 686, in _fit_and_score\n    estimator.fit(X_train, y_train, **fit_params)\n  File \"c:\\Users\\e.a.wright\\anaconda3\\envs\\datascience\\Lib\\site-packages\\imblearn\\utils\\fixes.py\", line 85, in wrapper\n    return fit_method(estimator, *args, **kwargs)\n           ^^^^^^^^^^^^^^^^^^^^^^^^^^^^^^^^^^^^^^\n  File \"c:\\Users\\e.a.wright\\anaconda3\\envs\\datascience\\Lib\\site-packages\\imblearn\\ensemble\\_bagging.py\", line 422, in fit\n    return super().fit(X, y)\n           ^^^^^^^^^^^^^^^^^\n  File \"c:\\Users\\e.a.wright\\anaconda3\\envs\\datascience\\Lib\\site-packages\\sklearn\\ensemble\\_bagging.py\", line 337, in fit\n    return self._fit(X, y, self.max_samples, sample_weight=sample_weight)\n           ^^^^^^^^^^^^^^^^^^^^^^^^^^^^^^^^^^^^^^^^^^^^^^^^^^^^^^^^^^^^^^\n  File \"c:\\Users\\e.a.wright\\anaconda3\\envs\\datascience\\Lib\\site-packages\\imblearn\\ensemble\\_bagging.py\", line 437, in _fit\n    return super()._fit(X, y, self.max_samples, sample_weight=None)\n           ^^^^^^^^^^^^^^^^^^^^^^^^^^^^^^^^^^^^^^^^^^^^^^^^^^^^^^^^\n  File \"c:\\Users\\e.a.wright\\anaconda3\\envs\\datascience\\Lib\\site-packages\\sklearn\\ensemble\\_bagging.py\", line 472, in _fit\n    all_results = Parallel(\n                  ^^^^^^^^^\n  File \"c:\\Users\\e.a.wright\\anaconda3\\envs\\datascience\\Lib\\site-packages\\sklearn\\utils\\parallel.py\", line 63, in __call__\n    return super().__call__(iterable_with_config)\n           ^^^^^^^^^^^^^^^^^^^^^^^^^^^^^^^^^^^^^^\n  File \"c:\\Users\\e.a.wright\\anaconda3\\envs\\datascience\\Lib\\site-packages\\joblib\\parallel.py\", line 1085, in __call__\n    if self.dispatch_one_batch(iterator):\n       ^^^^^^^^^^^^^^^^^^^^^^^^^^^^^^^^^\n  File \"c:\\Users\\e.a.wright\\anaconda3\\envs\\datascience\\Lib\\site-packages\\joblib\\parallel.py\", line 901, in dispatch_one_batch\n    self._dispatch(tasks)\n  File \"c:\\Users\\e.a.wright\\anaconda3\\envs\\datascience\\Lib\\site-packages\\joblib\\parallel.py\", line 819, in _dispatch\n    job = self._backend.apply_async(batch, callback=cb)\n          ^^^^^^^^^^^^^^^^^^^^^^^^^^^^^^^^^^^^^^^^^^^^^\n  File \"c:\\Users\\e.a.wright\\anaconda3\\envs\\datascience\\Lib\\site-packages\\joblib\\_parallel_backends.py\", line 208, in apply_async\n    result = ImmediateResult(func)\n             ^^^^^^^^^^^^^^^^^^^^^\n  File \"c:\\Users\\e.a.wright\\anaconda3\\envs\\datascience\\Lib\\site-packages\\joblib\\_parallel_backends.py\", line 597, in __init__\n    self.results = batch()\n                   ^^^^^^^\n  File \"c:\\Users\\e.a.wright\\anaconda3\\envs\\datascience\\Lib\\site-packages\\joblib\\parallel.py\", line 288, in __call__\n    return [func(*args, **kwargs)\n           ^^^^^^^^^^^^^^^^^^^^^^\n  File \"c:\\Users\\e.a.wright\\anaconda3\\envs\\datascience\\Lib\\site-packages\\joblib\\parallel.py\", line 288, in <listcomp>\n    return [func(*args, **kwargs)\n            ^^^^^^^^^^^^^^^^^^^^^\n  File \"c:\\Users\\e.a.wright\\anaconda3\\envs\\datascience\\Lib\\site-packages\\sklearn\\utils\\parallel.py\", line 123, in __call__\n    return self.function(*args, **kwargs)\n           ^^^^^^^^^^^^^^^^^^^^^^^^^^^^^^\n  File \"c:\\Users\\e.a.wright\\anaconda3\\envs\\datascience\\Lib\\site-packages\\sklearn\\ensemble\\_bagging.py\", line 144, in _parallel_build_estimators\n    estimator_fit(X_, y[indices])\n  File \"c:\\Users\\e.a.wright\\anaconda3\\envs\\datascience\\Lib\\site-packages\\imblearn\\pipeline.py\", line 293, in fit\n    Xt, yt = self._fit(X, y, **fit_params_steps)\n             ^^^^^^^^^^^^^^^^^^^^^^^^^^^^^^^^^^^\n  File \"c:\\Users\\e.a.wright\\anaconda3\\envs\\datascience\\Lib\\site-packages\\imblearn\\pipeline.py\", line 250, in _fit\n    X, y, fitted_transformer = fit_resample_one_cached(\n                               ^^^^^^^^^^^^^^^^^^^^^^^^\n  File \"c:\\Users\\e.a.wright\\anaconda3\\envs\\datascience\\Lib\\site-packages\\joblib\\memory.py\", line 349, in __call__\n    return self.func(*args, **kwargs)\n           ^^^^^^^^^^^^^^^^^^^^^^^^^^\n  File \"c:\\Users\\e.a.wright\\anaconda3\\envs\\datascience\\Lib\\site-packages\\imblearn\\pipeline.py\", line 422, in _fit_resample_one\n    X_res, y_res = sampler.fit_resample(X, y, **fit_params)\n                   ^^^^^^^^^^^^^^^^^^^^^^^^^^^^^^^^^^^^^^^^\n  File \"c:\\Users\\e.a.wright\\anaconda3\\envs\\datascience\\Lib\\site-packages\\imblearn\\base.py\", line 208, in fit_resample\n    return super().fit_resample(X, y)\n           ^^^^^^^^^^^^^^^^^^^^^^^^^^\n  File \"c:\\Users\\e.a.wright\\anaconda3\\envs\\datascience\\Lib\\site-packages\\imblearn\\base.py\", line 112, in fit_resample\n    output = self._fit_resample(X, y)\n             ^^^^^^^^^^^^^^^^^^^^^^^^\n  File \"c:\\Users\\e.a.wright\\anaconda3\\envs\\datascience\\Lib\\site-packages\\imblearn\\under_sampling\\_prototype_selection\\_nearmiss.py\", line 269, in _fit_resample\n    dist_vec, idx_vec = self.nn_ver3_.kneighbors(\n                        ^^^^^^^^^^^^^^^^^^^^^^^^^\n  File \"c:\\Users\\e.a.wright\\anaconda3\\envs\\datascience\\Lib\\site-packages\\sklearn\\neighbors\\_base.py\", line 824, in kneighbors\n    results = ArgKmin.compute(\n              ^^^^^^^^^^^^^^^^\n  File \"c:\\Users\\e.a.wright\\anaconda3\\envs\\datascience\\Lib\\site-packages\\sklearn\\metrics\\_pairwise_distances_reduction\\_dispatcher.py\", line 277, in compute\n    return ArgKmin64.compute(\n           ^^^^^^^^^^^^^^^^^^\n  File \"sklearn\\metrics\\_pairwise_distances_reduction\\_argkmin.pyx\", line 95, in sklearn.metrics._pairwise_distances_reduction._argkmin.ArgKmin64.compute\n  File \"c:\\Users\\e.a.wright\\anaconda3\\envs\\datascience\\Lib\\site-packages\\sklearn\\utils\\fixes.py\", line 139, in threadpool_limits\n    return threadpoolctl.threadpool_limits(limits=limits, user_api=user_api)\n           ^^^^^^^^^^^^^^^^^^^^^^^^^^^^^^^^^^^^^^^^^^^^^^^^^^^^^^^^^^^^^^^^^\n  File \"c:\\Users\\e.a.wright\\anaconda3\\envs\\datascience\\Lib\\site-packages\\threadpoolctl.py\", line 171, in __init__\n    self._original_info = self._set_threadpool_limits()\n                          ^^^^^^^^^^^^^^^^^^^^^^^^^^^^^\n  File \"c:\\Users\\e.a.wright\\anaconda3\\envs\\datascience\\Lib\\site-packages\\threadpoolctl.py\", line 268, in _set_threadpool_limits\n    modules = _ThreadpoolInfo(prefixes=self._prefixes,\n              ^^^^^^^^^^^^^^^^^^^^^^^^^^^^^^^^^^^^^^^^\n  File \"c:\\Users\\e.a.wright\\anaconda3\\envs\\datascience\\Lib\\site-packages\\threadpoolctl.py\", line 340, in __init__\n    self._load_modules()\n  File \"c:\\Users\\e.a.wright\\anaconda3\\envs\\datascience\\Lib\\site-packages\\threadpoolctl.py\", line 373, in _load_modules\n    self._find_modules_with_enum_process_module_ex()\n  File \"c:\\Users\\e.a.wright\\anaconda3\\envs\\datascience\\Lib\\site-packages\\threadpoolctl.py\", line 485, in _find_modules_with_enum_process_module_ex\n    self._make_module_from_path(filepath)\n  File \"c:\\Users\\e.a.wright\\anaconda3\\envs\\datascience\\Lib\\site-packages\\threadpoolctl.py\", line 515, in _make_module_from_path\n    module = module_class(filepath, prefix, user_api, internal_api)\n             ^^^^^^^^^^^^^^^^^^^^^^^^^^^^^^^^^^^^^^^^^^^^^^^^^^^^^^\n  File \"c:\\Users\\e.a.wright\\anaconda3\\envs\\datascience\\Lib\\site-packages\\threadpoolctl.py\", line 606, in __init__\n    self.version = self.get_version()\n                   ^^^^^^^^^^^^^^^^^^\n  File \"c:\\Users\\e.a.wright\\anaconda3\\envs\\datascience\\Lib\\site-packages\\threadpoolctl.py\", line 646, in get_version\n    config = get_config().split()\n             ^^^^^^^^^^^^^^^^^^\nAttributeError: 'NoneType' object has no attribute 'split'\n"
     ]
    }
   ],
   "source": [
    "# Train the balanced bagging classifier model using near miss under sampling\n",
    "bbc_nm = BalancedBaggingClassifier(random_state=42, sampler=(NearMiss(version=3)))\n",
    "bbc_nm_model_cv = cross_validate(bbc_nm, X_train, y_train, cv = 5, n_jobs = -1, scoring=\"recall\")\n",
    "\n",
    "# Check the model performance\n",
    "print(f\"{bbc_nm_model_cv['test_score'].mean():.3f} +/- {bbc_nm_model_cv['test_score'].std():.3f}\")"
   ]
  },
  {
   "cell_type": "code",
   "execution_count": null,
   "metadata": {},
   "outputs": [],
   "source": [
    "# Train the balanced random forest model\n",
    "brf = BalancedRandomForestClassifier(random_state=42)\n",
    "brf_model = brf.fit(X_train, y_train)\n",
    "brf_prediction = brf_model.predict(X_test)\n",
    "\n",
    "# Check the model performance\n",
    "print(classification_report(y_test, brf_prediction))"
   ]
  },
  {
   "cell_type": "markdown",
   "metadata": {},
   "source": [
    "# Sweet Sweet Victory!"
   ]
  },
  {
   "cell_type": "code",
   "execution_count": 98,
   "metadata": {},
   "outputs": [],
   "source": [
    "# Write subset to a csv file\n",
    "df.to_csv('data/model_subset.csv', index=False)"
   ]
  },
  {
   "cell_type": "code",
   "execution_count": null,
   "metadata": {},
   "outputs": [],
   "source": []
  }
 ],
 "metadata": {
  "kernelspec": {
   "display_name": "datascience",
   "language": "python",
   "name": "python3"
  },
  "language_info": {
   "codemirror_mode": {
    "name": "ipython",
    "version": 3
   },
   "file_extension": ".py",
   "mimetype": "text/x-python",
   "name": "python",
   "nbconvert_exporter": "python",
   "pygments_lexer": "ipython3",
   "version": "3.11.3"
  },
  "orig_nbformat": 4
 },
 "nbformat": 4,
 "nbformat_minor": 2
}

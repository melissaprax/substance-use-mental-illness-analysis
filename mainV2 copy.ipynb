{
 "cells": [
  {
   "cell_type": "code",
   "execution_count": 1,
   "metadata": {
    "tags": []
   },
   "outputs": [
    {
     "name": "stderr",
     "output_type": "stream",
     "text": [
      "c:\\Users\\e.a.wright\\anaconda3\\envs\\datascience\\Lib\\site-packages\\numpy\\_distributor_init.py:30: UserWarning: loaded more than 1 DLL from .libs:\n",
      "c:\\Users\\e.a.wright\\anaconda3\\envs\\datascience\\Lib\\site-packages\\numpy\\.libs\\libopenblas64__v0.3.23-246-g3d31191b-gcc_10_3_0.dll\n",
      "c:\\Users\\e.a.wright\\anaconda3\\envs\\datascience\\Lib\\site-packages\\numpy\\.libs\\libopenblas64__v0.3.23-gcc_10_3_0.dll\n",
      "  warnings.warn(\"loaded more than 1 DLL from .libs:\"\n"
     ]
    }
   ],
   "source": [
    "# Import libraries\n",
    "import pandas as pd\n",
    "import numpy as np\n",
    "\n",
    "# Import matplotlib and seaborn\n",
    "import matplotlib.pyplot as plt\n",
    "import seaborn as sns"
   ]
  },
  {
   "cell_type": "markdown",
   "metadata": {},
   "source": [
    "## Section I: Summary of Data Treatment"
   ]
  },
  {
   "cell_type": "code",
   "execution_count": 2,
   "metadata": {},
   "outputs": [
    {
     "name": "stderr",
     "output_type": "stream",
     "text": [
      "C:\\Users\\e.a.wright\\AppData\\Local\\Temp\\ipykernel_33608\\2939283609.py:5: DtypeWarning: Columns (2792) have mixed types. Specify dtype option on import or set low_memory=False.\n",
      "  data = pd.read_csv(file_path, sep='\\t')\n"
     ]
    }
   ],
   "source": [
    "# Read in the original dataset for the NSDUH 2021 survey \n",
    "# Purpose for importing is to get descriptive statistics on much data was preserved after cleaning\n",
    "file_path = 'data/NSDUH_2021_Tab.txt'\n",
    "\n",
    "data = pd.read_csv(file_path, sep='\\t')"
   ]
  },
  {
   "cell_type": "code",
   "execution_count": 3,
   "metadata": {},
   "outputs": [
    {
     "name": "stdout",
     "output_type": "stream",
     "text": [
      "There were 58034 rows and 2988 columns in the original dataset.\n"
     ]
    }
   ],
   "source": [
    "# Save shape of data\n",
    "N_rows = data.shape[0]\n",
    "N_cols = data.shape[1]\n",
    "\n",
    "# Print shape of data in sentence\n",
    "print(f\"There were {N_rows} rows and {N_cols} columns in the original dataset.\")"
   ]
  },
  {
   "cell_type": "code",
   "execution_count": 2,
   "metadata": {
    "tags": []
   },
   "outputs": [],
   "source": [
    "# Read in the pre-process subset of data to be used for modeling\n",
    "subset = pd.read_csv('data/model_subset.csv')"
   ]
  },
  {
   "cell_type": "code",
   "execution_count": 5,
   "metadata": {},
   "outputs": [
    {
     "name": "stdout",
     "output_type": "stream",
     "text": [
      "<class 'pandas.core.frame.DataFrame'>\n",
      "RangeIndex: 53896 entries, 0 to 53895\n",
      "Data columns (total 16 columns):\n",
      " #   Column      Non-Null Count  Dtype  \n",
      "---  ------      --------------  -----  \n",
      " 0   CATAG3      53896 non-null  int64  \n",
      " 1   HEALTH2     53896 non-null  float64\n",
      " 2   ANYHLTI2    53896 non-null  int64  \n",
      " 3   INCOME      53896 non-null  int64  \n",
      " 4   POVERTY3    53896 non-null  float64\n",
      " 5   TOBFLAG     53896 non-null  int64  \n",
      " 6   MRJFLAG     53896 non-null  int64  \n",
      " 7   PYUD5MRJ    53896 non-null  float64\n",
      " 8   MJYRTOT     53896 non-null  int64  \n",
      " 9   ALCFLAG     53896 non-null  int64  \n",
      " 10  COCFLAG     53896 non-null  int64  \n",
      " 11  CRKFLAG     53896 non-null  int64  \n",
      " 12  HERFLAG     53896 non-null  int64  \n",
      " 13  LSDFLAG     53896 non-null  int64  \n",
      " 14  METHAMFLAG  53896 non-null  int64  \n",
      " 15  DEP         53896 non-null  int64  \n",
      "dtypes: float64(3), int64(13)\n",
      "memory usage: 6.6 MB\n"
     ]
    }
   ],
   "source": [
    "# Inspect subset\n",
    "subset.info()"
   ]
  },
  {
   "cell_type": "code",
   "execution_count": 6,
   "metadata": {},
   "outputs": [
    {
     "name": "stdout",
     "output_type": "stream",
     "text": [
      "After cleaning and pre-processing, we were left with 53896 rows and 16 columns in our experimental dataframe.\n",
      "This means that 92.87% of the original dataset's rows (individuals) was preserved.\n"
     ]
    }
   ],
   "source": [
    "# Save shape of data\n",
    "n_rows = subset.shape[0]\n",
    "n_cols = subset.shape[1]\n",
    "\n",
    "# Print shape of data in sentence\n",
    "print(f\"After cleaning and pre-processing, we were left with {n_rows} rows and {n_cols} columns in our experimental dataframe.\")\n",
    "# Print the percentage of individuals (rows) that were preserved\n",
    "print(f\"This means that {round((n_rows/N_rows)*100, 2)}% of the original dataset's rows (individuals) was preserved.\")"
   ]
  },
  {
   "cell_type": "markdown",
   "metadata": {},
   "source": [
    "### Target: DEP - SCORE OF SYMPTOM INDICATORS 1 THRU 9 (For Depression)\n",
    "\n",
    "### Note: DEP is a calculated variable combining the values of the Adult and Youth Depression Fields: \"df['DEP'] = np.where((df['ADSMMDEA'] == 1) | (df['YODSMMDE'] == 1), 1, 0)\" \n",
    "\n",
    "### 1 = Has 5 or more symptoms of depression\n",
    "### 0 = Does not have 5 or more symptoms of depression"
   ]
  },
  {
   "cell_type": "markdown",
   "metadata": {},
   "source": [
    "## Section II: Modeling"
   ]
  },
  {
   "cell_type": "markdown",
   "metadata": {},
   "source": [
    "#### Important Note: Change datatype of all (0/1) variables to Boolean, this way StandardScaler() will not work on them."
   ]
  },
  {
   "cell_type": "code",
   "execution_count": 40,
   "metadata": {},
   "outputs": [
    {
     "name": "stdout",
     "output_type": "stream",
     "text": [
      "<class 'pandas.core.frame.DataFrame'>\n",
      "RangeIndex: 53896 entries, 0 to 53895\n",
      "Data columns (total 16 columns):\n",
      " #   Column      Non-Null Count  Dtype  \n",
      "---  ------      --------------  -----  \n",
      " 0   CATAG3      53896 non-null  int64  \n",
      " 1   HEALTH2     53896 non-null  float64\n",
      " 2   ANYHLTI2    53896 non-null  int64  \n",
      " 3   INCOME      53896 non-null  int64  \n",
      " 4   POVERTY3    53896 non-null  float64\n",
      " 5   TOBFLAG     53896 non-null  int64  \n",
      " 6   MRJFLAG     53896 non-null  int64  \n",
      " 7   PYUD5MRJ    53896 non-null  float64\n",
      " 8   MJYRTOT     53896 non-null  int64  \n",
      " 9   ALCFLAG     53896 non-null  int64  \n",
      " 10  COCFLAG     53896 non-null  int64  \n",
      " 11  CRKFLAG     53896 non-null  int64  \n",
      " 12  HERFLAG     53896 non-null  int64  \n",
      " 13  LSDFLAG     53896 non-null  int64  \n",
      " 14  METHAMFLAG  53896 non-null  int64  \n",
      " 15  DEP         53896 non-null  int64  \n",
      "dtypes: float64(3), int64(13)\n",
      "memory usage: 6.6 MB\n"
     ]
    }
   ],
   "source": [
    "subset.info()"
   ]
  },
  {
   "cell_type": "code",
   "execution_count": 41,
   "metadata": {},
   "outputs": [
    {
     "data": {
      "text/plain": [
       "Index(['CATAG3', 'HEALTH2', 'ANYHLTI2', 'INCOME', 'POVERTY3', 'TOBFLAG',\n",
       "       'MRJFLAG', 'PYUD5MRJ', 'MJYRTOT', 'ALCFLAG', 'COCFLAG', 'CRKFLAG',\n",
       "       'HERFLAG', 'LSDFLAG', 'METHAMFLAG', 'DEP'],\n",
       "      dtype='object')"
      ]
     },
     "execution_count": 41,
     "metadata": {},
     "output_type": "execute_result"
    }
   ],
   "source": [
    "subset.columns"
   ]
  },
  {
   "cell_type": "code",
   "execution_count": 42,
   "metadata": {},
   "outputs": [
    {
     "data": {
      "text/html": [
       "<div>\n",
       "<style scoped>\n",
       "    .dataframe tbody tr th:only-of-type {\n",
       "        vertical-align: middle;\n",
       "    }\n",
       "\n",
       "    .dataframe tbody tr th {\n",
       "        vertical-align: top;\n",
       "    }\n",
       "\n",
       "    .dataframe thead th {\n",
       "        text-align: right;\n",
       "    }\n",
       "</style>\n",
       "<table border=\"1\" class=\"dataframe\">\n",
       "  <thead>\n",
       "    <tr style=\"text-align: right;\">\n",
       "      <th></th>\n",
       "      <th>CATAG3</th>\n",
       "      <th>HEALTH2</th>\n",
       "      <th>ANYHLTI2</th>\n",
       "      <th>INCOME</th>\n",
       "      <th>POVERTY3</th>\n",
       "      <th>TOBFLAG</th>\n",
       "      <th>MRJFLAG</th>\n",
       "      <th>PYUD5MRJ</th>\n",
       "      <th>MJYRTOT</th>\n",
       "      <th>ALCFLAG</th>\n",
       "      <th>COCFLAG</th>\n",
       "      <th>CRKFLAG</th>\n",
       "      <th>HERFLAG</th>\n",
       "      <th>LSDFLAG</th>\n",
       "      <th>METHAMFLAG</th>\n",
       "      <th>DEP</th>\n",
       "    </tr>\n",
       "  </thead>\n",
       "  <tbody>\n",
       "    <tr>\n",
       "      <th>0</th>\n",
       "      <td>3</td>\n",
       "      <td>4.0</td>\n",
       "      <td>1</td>\n",
       "      <td>1</td>\n",
       "      <td>2.0</td>\n",
       "      <td>1</td>\n",
       "      <td>1</td>\n",
       "      <td>0.0</td>\n",
       "      <td>52</td>\n",
       "      <td>1</td>\n",
       "      <td>0</td>\n",
       "      <td>0</td>\n",
       "      <td>0</td>\n",
       "      <td>0</td>\n",
       "      <td>0</td>\n",
       "      <td>0</td>\n",
       "    </tr>\n",
       "    <tr>\n",
       "      <th>1</th>\n",
       "      <td>5</td>\n",
       "      <td>3.0</td>\n",
       "      <td>1</td>\n",
       "      <td>4</td>\n",
       "      <td>3.0</td>\n",
       "      <td>1</td>\n",
       "      <td>0</td>\n",
       "      <td>0.0</td>\n",
       "      <td>0</td>\n",
       "      <td>1</td>\n",
       "      <td>0</td>\n",
       "      <td>0</td>\n",
       "      <td>0</td>\n",
       "      <td>0</td>\n",
       "      <td>0</td>\n",
       "      <td>0</td>\n",
       "    </tr>\n",
       "    <tr>\n",
       "      <th>2</th>\n",
       "      <td>2</td>\n",
       "      <td>2.0</td>\n",
       "      <td>1</td>\n",
       "      <td>2</td>\n",
       "      <td>2.0</td>\n",
       "      <td>0</td>\n",
       "      <td>0</td>\n",
       "      <td>0.0</td>\n",
       "      <td>0</td>\n",
       "      <td>1</td>\n",
       "      <td>0</td>\n",
       "      <td>0</td>\n",
       "      <td>0</td>\n",
       "      <td>0</td>\n",
       "      <td>0</td>\n",
       "      <td>0</td>\n",
       "    </tr>\n",
       "    <tr>\n",
       "      <th>3</th>\n",
       "      <td>4</td>\n",
       "      <td>2.0</td>\n",
       "      <td>1</td>\n",
       "      <td>2</td>\n",
       "      <td>2.0</td>\n",
       "      <td>1</td>\n",
       "      <td>1</td>\n",
       "      <td>1.0</td>\n",
       "      <td>364</td>\n",
       "      <td>1</td>\n",
       "      <td>0</td>\n",
       "      <td>0</td>\n",
       "      <td>0</td>\n",
       "      <td>0</td>\n",
       "      <td>0</td>\n",
       "      <td>0</td>\n",
       "    </tr>\n",
       "    <tr>\n",
       "      <th>4</th>\n",
       "      <td>2</td>\n",
       "      <td>1.0</td>\n",
       "      <td>2</td>\n",
       "      <td>1</td>\n",
       "      <td>1.0</td>\n",
       "      <td>0</td>\n",
       "      <td>0</td>\n",
       "      <td>0.0</td>\n",
       "      <td>0</td>\n",
       "      <td>0</td>\n",
       "      <td>0</td>\n",
       "      <td>0</td>\n",
       "      <td>0</td>\n",
       "      <td>0</td>\n",
       "      <td>0</td>\n",
       "      <td>0</td>\n",
       "    </tr>\n",
       "  </tbody>\n",
       "</table>\n",
       "</div>"
      ],
      "text/plain": [
       "   CATAG3  HEALTH2  ANYHLTI2  INCOME  POVERTY3  TOBFLAG  MRJFLAG  PYUD5MRJ  \\\n",
       "0       3      4.0         1       1       2.0        1        1       0.0   \n",
       "1       5      3.0         1       4       3.0        1        0       0.0   \n",
       "2       2      2.0         1       2       2.0        0        0       0.0   \n",
       "3       4      2.0         1       2       2.0        1        1       1.0   \n",
       "4       2      1.0         2       1       1.0        0        0       0.0   \n",
       "\n",
       "   MJYRTOT  ALCFLAG  COCFLAG  CRKFLAG  HERFLAG  LSDFLAG  METHAMFLAG  DEP  \n",
       "0       52        1        0        0        0        0           0    0  \n",
       "1        0        1        0        0        0        0           0    0  \n",
       "2        0        1        0        0        0        0           0    0  \n",
       "3      364        1        0        0        0        0           0    0  \n",
       "4        0        0        0        0        0        0           0    0  "
      ]
     },
     "execution_count": 42,
     "metadata": {},
     "output_type": "execute_result"
    }
   ],
   "source": [
    "subset.head()"
   ]
  },
  {
   "cell_type": "code",
   "execution_count": 43,
   "metadata": {},
   "outputs": [
    {
     "data": {
      "text/plain": [
       "0.0    50264\n",
       "1.0     3632\n",
       "Name: PYUD5MRJ, dtype: int64"
      ]
     },
     "execution_count": 43,
     "metadata": {},
     "output_type": "execute_result"
    }
   ],
   "source": [
    "subset.PYUD5MRJ.value_counts()"
   ]
  },
  {
   "cell_type": "code",
   "execution_count": 16,
   "metadata": {},
   "outputs": [
    {
     "name": "stdout",
     "output_type": "stream",
     "text": [
      "<class 'pandas.core.frame.DataFrame'>\n",
      "RangeIndex: 53896 entries, 0 to 53895\n",
      "Data columns (total 16 columns):\n",
      " #   Column      Non-Null Count  Dtype  \n",
      "---  ------      --------------  -----  \n",
      " 0   CATAG3      53896 non-null  int64  \n",
      " 1   HEALTH2     53896 non-null  float64\n",
      " 2   ANYHLTI2    53896 non-null  int64  \n",
      " 3   INCOME      53896 non-null  int64  \n",
      " 4   POVERTY3    53896 non-null  float64\n",
      " 5   TOBFLAG     53896 non-null  bool   \n",
      " 6   MRJFLAG     53896 non-null  bool   \n",
      " 7   PYUD5MRJ    53896 non-null  bool   \n",
      " 8   MJYRTOT     53896 non-null  int64  \n",
      " 9   ALCFLAG     53896 non-null  bool   \n",
      " 10  COCFLAG     53896 non-null  bool   \n",
      " 11  CRKFLAG     53896 non-null  bool   \n",
      " 12  HERFLAG     53896 non-null  bool   \n",
      " 13  LSDFLAG     53896 non-null  bool   \n",
      " 14  METHAMFLAG  53896 non-null  bool   \n",
      " 15  DEP         53896 non-null  bool   \n",
      "dtypes: bool(10), float64(2), int64(4)\n",
      "memory usage: 3.0 MB\n"
     ]
    }
   ],
   "source": [
    "subset.info()"
   ]
  },
  {
   "cell_type": "code",
   "execution_count": 4,
   "metadata": {
    "tags": []
   },
   "outputs": [],
   "source": [
    "# Import Gradient Boosting Classifier\n",
    "from sklearn.ensemble import GradientBoostingClassifier\n",
    "\n",
    "# Import SMOTE for oversampling of the minority class\n",
    "from imblearn.over_sampling import SMOTE # synthetically generates new samples from the minority class\n",
    "\n",
    "# Import StandardScaler\n",
    "from sklearn.preprocessing import StandardScaler\n",
    "\n",
    "# Import ColumnTransformer for proper scaling of mixed data\n",
    "from sklearn.compose import ColumnTransformer\n",
    "\n",
    "# Import train_test_split and metrics\n",
    "from sklearn.model_selection import train_test_split\n",
    "\n",
    "from sklearn.metrics import balanced_accuracy_score, confusion_matrix, classification_report, ConfusionMatrixDisplay\n",
    "\n",
    "# Import RandomOverSampler\n",
    "from imblearn.over_sampling import RandomOverSampler # this randomly reuses samples from the minority class"
   ]
  },
  {
   "cell_type": "code",
   "execution_count": 5,
   "metadata": {},
   "outputs": [
    {
     "data": {
      "text/plain": [
       "False    42771\n",
       "True     11125\n",
       "Name: DEP, dtype: int64"
      ]
     },
     "execution_count": 5,
     "metadata": {},
     "output_type": "execute_result"
    }
   ],
   "source": [
    "# Check for class imbalance in the target variable\n",
    "subset.DEP.value_counts()"
   ]
  },
  {
   "cell_type": "code",
   "execution_count": 5,
   "metadata": {},
   "outputs": [
    {
     "name": "stdout",
     "output_type": "stream",
     "text": [
      "              precision    recall  f1-score   support\n",
      "\n",
      "           0       0.86      0.72      0.78     10684\n",
      "           1       0.34      0.55      0.42      2790\n",
      "\n",
      "    accuracy                           0.68     13474\n",
      "   macro avg       0.60      0.64      0.60     13474\n",
      "weighted avg       0.75      0.68      0.71     13474\n",
      "\n"
     ]
    }
   ],
   "source": [
    "# Instantiate a Gradient Boosting Classifier\n",
    "gbc = GradientBoostingClassifier(random_state=42)\n",
    "\n",
    "# Define X and y\n",
    "X = subset.drop('DEP', axis=1)\n",
    "y = subset['DEP']\n",
    "\n",
    "# Split the data into training and test sets\n",
    "X_train, X_test, y_train, y_test = train_test_split(X, y, random_state=42)\n",
    "\n",
    "# Apply SMOTE to oversample the minority class\n",
    "smote = SMOTE(random_state=42)\n",
    "X_train_resampled, y_train_resampled = smote.fit_resample(X_train, y_train)\n",
    "\n",
    "# Initialize the StandardScaler\n",
    "scaler = StandardScaler()\n",
    "\n",
    "# Fit the scaler on the training data and transform both training and testing sets\n",
    "X_train_resampled_scaled = scaler.fit_transform(X_train_resampled) # Here the resampled X_train data is scaled\n",
    "X_test_scaled = scaler.transform(X_test) # Here the original X_test data is scaled as it was not resampled\n",
    "\n",
    "# Note: you do not need to scale the target variable (y). \n",
    "\n",
    "# Fit the model to the oversampled training data\n",
    "gbc.fit(X_train_resampled_scaled, y_train_resampled)\n",
    "\n",
    "# Predict on the test data\n",
    "y_pred = gbc.predict(X_test_scaled)\n",
    "\n",
    "# Return a classification report for the model\n",
    "print(classification_report(y_test, y_pred))"
   ]
  },
  {
   "cell_type": "code",
   "execution_count": 6,
   "metadata": {
    "tags": []
   },
   "outputs": [
    {
     "data": {
      "image/png": "[encoded data removed]",
      "text/plain": [
       "<Figure size 640x480 with 2 Axes>"
      ]
     },
     "metadata": {},
     "output_type": "display_data"
    }
   ],
   "source": [
    "# Print a pretty confusion matrix\n",
    "\n",
    "cm = confusion_matrix(y_test, y_pred, labels=gbc.classes_)\n",
    "\n",
    "disp = ConfusionMatrixDisplay(confusion_matrix=cm,\n",
    "                                display_labels=gbc.classes_)\n",
    "\n",
    "# Display the confusion matrix\n",
    "disp.plot()\n",
    "# Set the title of the plot\n",
    "plt.title('Combined Depression GBC Model Confusion Matrix')\n",
    "plt.show()"
   ]
  },
  {
   "cell_type": "code",
   "execution_count": 7,
   "metadata": {},
   "outputs": [
    {
     "name": "stderr",
     "output_type": "stream",
     "text": [
      "c:\\Users\\e.a.wright\\anaconda3\\envs\\datascience\\Lib\\site-packages\\sklearn\\base.py:457: UserWarning: X has feature names, but GradientBoostingClassifier was fitted without feature names\n",
      "  warnings.warn(\n"
     ]
    }
   ],
   "source": [
    "# Find predicted probabilities for each class\n",
    "predicted_probs = gbc.predict_proba(X_test)[:, 1]\n",
    "\n",
    "# Print"
   ]
  },
  {
   "cell_type": "code",
   "execution_count": 36,
   "metadata": {},
   "outputs": [
    {
     "name": "stdout",
     "output_type": "stream",
     "text": [
      "Threshold: 0.70 | Precision: 0.21 | Recall: 0.54 | F1-Score: 0.30\n",
      "Confusion Matrix:\n",
      "TN: 4975 | FP: 5709\n",
      "FN: 1280 | TP: 1510\n",
      "\n",
      "Threshold: 0.75 | Precision: 0.21 | Recall: 0.53 | F1-Score: 0.30\n",
      "Confusion Matrix:\n",
      "TN: 5012 | FP: 5672\n",
      "FN: 1316 | TP: 1474\n",
      "\n",
      "Threshold: 0.80 | Precision: 0.18 | Recall: 0.29 | F1-Score: 0.22\n",
      "Confusion Matrix:\n",
      "TN: 6925 | FP: 3759\n",
      "FN: 1987 | TP: 803\n",
      "\n",
      "Threshold: 0.85 | Precision: 0.14 | Recall: 0.16 | F1-Score: 0.15\n",
      "Confusion Matrix:\n",
      "TN: 8000 | FP: 2684\n",
      "FN: 2352 | TP: 438\n",
      "\n",
      "Threshold: 0.90 | Precision: 0.13 | Recall: 0.14 | F1-Score: 0.13\n",
      "Confusion Matrix:\n",
      "TN: 8199 | FP: 2485\n",
      "FN: 2410 | TP: 380\n",
      "\n",
      "Threshold: 0.95 | Precision: 0.16 | Recall: 0.08 | F1-Score: 0.10\n",
      "Confusion Matrix:\n",
      "TN: 9538 | FP: 1146\n",
      "FN: 2574 | TP: 216\n",
      "\n"
     ]
    }
   ],
   "source": [
    "from sklearn.metrics import precision_score, recall_score, f1_score\n",
    "\n",
    "thresholds = [.70, .75, .80, .85, .90, .95] \n",
    "\n",
    "for threshold in thresholds:\n",
    "    predicted_labels = (predicted_probs > threshold).astype(int)\n",
    "    conf_matrix = confusion_matrix(y_test, predicted_labels)\n",
    "    \n",
    "    tn, fp, fn, tp = conf_matrix.ravel()\n",
    "    \n",
    "    precision = precision_score(y_test, predicted_labels)\n",
    "    recall = recall_score(y_test, predicted_labels)\n",
    "    f1 = f1_score(y_test, predicted_labels)\n",
    "    \n",
    "    print(f\"Threshold: {threshold:.2f} | Precision: {precision:.2f} | Recall: {recall:.2f} | F1-Score: {f1:.2f}\")\n",
    "    print(f\"Confusion Matrix:\")\n",
    "    print(f\"TN: {tn} | FP: {fp}\")\n",
    "    print(f\"FN: {fn} | TP: {tp}\")\n",
    "    print()"
   ]
  },
  {
   "cell_type": "code",
   "execution_count": 40,
   "metadata": {},
   "outputs": [],
   "source": [
    "# Choose a different threshold based on the findings above\n",
    "\n",
    "chosen_threshold = 0.75  # Replace with your chosen threshold\n",
    "final_predictions = (predicted_probs > chosen_threshold).astype(int)"
   ]
  },
  {
   "cell_type": "code",
   "execution_count": 41,
   "metadata": {},
   "outputs": [
    {
     "name": "stdout",
     "output_type": "stream",
     "text": [
      "[[5012 5672]\n",
      " [1316 1474]]\n"
     ]
    }
   ],
   "source": [
    "# Print confusion matrix\n",
    "conf_matrix = confusion_matrix(y_test, final_predictions)\n",
    "print(conf_matrix)"
   ]
  },
  {
   "cell_type": "code",
   "execution_count": 42,
   "metadata": {},
   "outputs": [
    {
     "name": "stdout",
     "output_type": "stream",
     "text": [
      "              precision    recall  f1-score   support\n",
      "\n",
      "           0       0.79      0.47      0.59     10684\n",
      "           1       0.21      0.53      0.30      2790\n",
      "\n",
      "    accuracy                           0.48     13474\n",
      "   macro avg       0.50      0.50      0.44     13474\n",
      "weighted avg       0.67      0.48      0.53     13474\n",
      "\n"
     ]
    }
   ],
   "source": [
    "# Print classification report based on final_predictions\n",
    "print(classification_report(y_test, final_predictions))"
   ]
  },
  {
   "cell_type": "code",
   "execution_count": 43,
   "metadata": {},
   "outputs": [
    {
     "data": {
      "image/png": "[encoded data removed]",
      "text/plain": [
       "<Figure size 640x480 with 2 Axes>"
      ]
     },
     "metadata": {},
     "output_type": "display_data"
    }
   ],
   "source": [
    "# Print a pretty confusion matrix\n",
    "\n",
    "cm = confusion_matrix(y_test, final_predictions, labels=gbc.classes_)\n",
    "\n",
    "disp = ConfusionMatrixDisplay(confusion_matrix=cm,\n",
    "                                display_labels=gbc.classes_)\n",
    "\n",
    "# Display the confusion matrix\n",
    "disp.plot()\n",
    "# Set the title of the plot\n",
    "plt.title('Tuned Depression GBC Model Confusion Matrix')\n",
    "plt.show()"
   ]
  },
  {
   "cell_type": "code",
   "execution_count": 33,
   "metadata": {
    "tags": []
   },
   "outputs": [
    {
     "data": {
      "text/html": [
       "<div>\n",
       "<style scoped>\n",
       "    .dataframe tbody tr th:only-of-type {\n",
       "        vertical-align: middle;\n",
       "    }\n",
       "\n",
       "    .dataframe tbody tr th {\n",
       "        vertical-align: top;\n",
       "    }\n",
       "\n",
       "    .dataframe thead th {\n",
       "        text-align: right;\n",
       "    }\n",
       "</style>\n",
       "<table border=\"1\" class=\"dataframe\">\n",
       "  <thead>\n",
       "    <tr style=\"text-align: right;\">\n",
       "      <th></th>\n",
       "      <th>feature</th>\n",
       "      <th>feature_importance</th>\n",
       "    </tr>\n",
       "  </thead>\n",
       "  <tbody>\n",
       "    <tr>\n",
       "      <th>1</th>\n",
       "      <td>HEALTH2</td>\n",
       "      <td>0.362204</td>\n",
       "    </tr>\n",
       "    <tr>\n",
       "      <th>0</th>\n",
       "      <td>CATAG3</td>\n",
       "      <td>0.266727</td>\n",
       "    </tr>\n",
       "    <tr>\n",
       "      <th>6</th>\n",
       "      <td>MRJFLAG</td>\n",
       "      <td>0.115889</td>\n",
       "    </tr>\n",
       "    <tr>\n",
       "      <th>7</th>\n",
       "      <td>PYUD5MRJ</td>\n",
       "      <td>0.080821</td>\n",
       "    </tr>\n",
       "    <tr>\n",
       "      <th>4</th>\n",
       "      <td>POVERTY3</td>\n",
       "      <td>0.056055</td>\n",
       "    </tr>\n",
       "    <tr>\n",
       "      <th>2</th>\n",
       "      <td>ANYHLTI2</td>\n",
       "      <td>0.040701</td>\n",
       "    </tr>\n",
       "    <tr>\n",
       "      <th>9</th>\n",
       "      <td>ALCFLAG</td>\n",
       "      <td>0.029343</td>\n",
       "    </tr>\n",
       "    <tr>\n",
       "      <th>8</th>\n",
       "      <td>MJYRTOT</td>\n",
       "      <td>0.027589</td>\n",
       "    </tr>\n",
       "    <tr>\n",
       "      <th>3</th>\n",
       "      <td>INCOME</td>\n",
       "      <td>0.011978</td>\n",
       "    </tr>\n",
       "    <tr>\n",
       "      <th>5</th>\n",
       "      <td>TOBFLAG</td>\n",
       "      <td>0.005321</td>\n",
       "    </tr>\n",
       "    <tr>\n",
       "      <th>14</th>\n",
       "      <td>METHAMFLAG</td>\n",
       "      <td>0.001268</td>\n",
       "    </tr>\n",
       "    <tr>\n",
       "      <th>11</th>\n",
       "      <td>CRKFLAG</td>\n",
       "      <td>0.000789</td>\n",
       "    </tr>\n",
       "    <tr>\n",
       "      <th>10</th>\n",
       "      <td>COCFLAG</td>\n",
       "      <td>0.000675</td>\n",
       "    </tr>\n",
       "    <tr>\n",
       "      <th>13</th>\n",
       "      <td>LSDFLAG</td>\n",
       "      <td>0.000640</td>\n",
       "    </tr>\n",
       "    <tr>\n",
       "      <th>12</th>\n",
       "      <td>HERFLAG</td>\n",
       "      <td>0.000000</td>\n",
       "    </tr>\n",
       "  </tbody>\n",
       "</table>\n",
       "</div>"
      ],
      "text/plain": [
       "       feature  feature_importance\n",
       "1      HEALTH2            0.362204\n",
       "0       CATAG3            0.266727\n",
       "6      MRJFLAG            0.115889\n",
       "7     PYUD5MRJ            0.080821\n",
       "4     POVERTY3            0.056055\n",
       "2     ANYHLTI2            0.040701\n",
       "9      ALCFLAG            0.029343\n",
       "8      MJYRTOT            0.027589\n",
       "3       INCOME            0.011978\n",
       "5      TOBFLAG            0.005321\n",
       "14  METHAMFLAG            0.001268\n",
       "11     CRKFLAG            0.000789\n",
       "10     COCFLAG            0.000675\n",
       "13     LSDFLAG            0.000640\n",
       "12     HERFLAG            0.000000"
      ]
     },
     "execution_count": 33,
     "metadata": {},
     "output_type": "execute_result"
    }
   ],
   "source": [
    "# Create feature importance dataframe to analyze the importance of each feature\n",
    "fi_values = gbc.feature_importances_\n",
    "features = X_train.columns\n",
    "# Create dataframe\n",
    "feature_importance_df = pd.DataFrame({\"feature\": features, \"feature_importance\": fi_values})\n",
    "# Sort in descending order\n",
    "feature_importance_df = feature_importance_df.sort_values(by=\"feature_importance\", ascending = False)\n",
    "# View dataframe\n",
    "feature_importance_df"
   ]
  },
  {
   "cell_type": "markdown",
   "metadata": {},
   "source": [
    "## Section III: Confirming Validity of DEP against age-specific depression targets"
   ]
  },
  {
   "cell_type": "markdown",
   "metadata": {},
   "source": [
    "### Before proceeding, use CATAG3 to create an ADULT dataframe and a YOUTH dataframe each with their appropriate target column"
   ]
  },
  {
   "cell_type": "code",
   "execution_count": 45,
   "metadata": {
    "tags": []
   },
   "outputs": [],
   "source": [
    "# Read in subset_three_targets.csv\n",
    "df = pd.read_csv('data/subset_three_targets.csv')"
   ]
  },
  {
   "cell_type": "code",
   "execution_count": 46,
   "metadata": {
    "tags": []
   },
   "outputs": [],
   "source": [
    "# Create ADULT dataframe (CATAG3 == 2, 3, or 4)\n",
    "ADULT = df[df['CATAG3'].isin([2,3,4])]\n",
    "\n",
    "# Drop the YODSMMDE and DEP columns from ADULT dataframe\n",
    "ADULT = ADULT.drop(['YODSMMDE', 'DEP'], axis=1)\n",
    "\n",
    "# Create YOUTH dataframe (CATAG3 == 1)\n",
    "YOUTH = df[df['CATAG3'].isin([1])]\n",
    "\n",
    "# Drop the ADSMMDEA and DEP columns from YOUTH dataframe\n",
    "YOUTH = YOUTH.drop(['ADSMMDEA', 'DEP'], axis=1)"
   ]
  },
  {
   "cell_type": "code",
   "execution_count": 23,
   "metadata": {
    "tags": []
   },
   "outputs": [
    {
     "data": {
      "text/plain": [
       "0    25813\n",
       "1     7364\n",
       "Name: ADSMMDEA, dtype: int64"
      ]
     },
     "execution_count": 23,
     "metadata": {},
     "output_type": "execute_result"
    }
   ],
   "source": [
    "# Inspect the value counts of the target variables for ADULT\n",
    "adultVC = ADULT.ADSMMDEA.value_counts()\n",
    "\n",
    "adultVC"
   ]
  },
  {
   "cell_type": "code",
   "execution_count": 24,
   "metadata": {
    "tags": []
   },
   "outputs": [
    {
     "name": "stdout",
     "output_type": "stream",
     "text": [
      "Percent of Adults with Depression: 22.0%\n"
     ]
    }
   ],
   "source": [
    "# Percent Adult's with Depression\n",
    "percent_adults_depression = round(adultVC[1]/(adultVC[0]+adultVC[1]), 2)*100 # Round to 2 decimal places\n",
    "\n",
    "# Print\n",
    "print(f\"Percent of Adults with Depression: {percent_adults_depression}%\")"
   ]
  },
  {
   "cell_type": "code",
   "execution_count": 25,
   "metadata": {
    "tags": []
   },
   "outputs": [
    {
     "data": {
      "text/plain": [
       "0    7684\n",
       "1    2557\n",
       "Name: YODSMMDE, dtype: int64"
      ]
     },
     "execution_count": 25,
     "metadata": {},
     "output_type": "execute_result"
    }
   ],
   "source": [
    "# Inspect the value counts of the target variables for YOUTH\n",
    "youthVC = YOUTH.YODSMMDE.value_counts()\n",
    "\n",
    "youthVC"
   ]
  },
  {
   "cell_type": "code",
   "execution_count": 26,
   "metadata": {
    "tags": []
   },
   "outputs": [
    {
     "name": "stdout",
     "output_type": "stream",
     "text": [
      "Percent of Adults with Depression: 25.0%\n"
     ]
    }
   ],
   "source": [
    "# Percent YOUTH with Depression\n",
    "percent_youth_depression = round(youthVC[1]/(youthVC[0]+youthVC[1]), 2)*100 # Round to 2 decimal places\n",
    "\n",
    "# Print\n",
    "print(f\"Percent of Adults with Depression: {percent_youth_depression}%\")"
   ]
  },
  {
   "cell_type": "markdown",
   "metadata": {},
   "source": [
    "### Train and test a model on ADULT dataset"
   ]
  },
  {
   "cell_type": "code",
   "execution_count": 51,
   "metadata": {},
   "outputs": [
    {
     "name": "stdout",
     "output_type": "stream",
     "text": [
      "              precision    recall  f1-score   support\n",
      "\n",
      "           0       0.84      0.70      0.77      6423\n",
      "           1       0.35      0.53      0.42      1872\n",
      "\n",
      "    accuracy                           0.67      8295\n",
      "   macro avg       0.59      0.62      0.59      8295\n",
      "weighted avg       0.73      0.67      0.69      8295\n",
      "\n"
     ]
    }
   ],
   "source": [
    "# Instantiate a Gradient Boosting Classifier\n",
    "gbc = GradientBoostingClassifier(random_state=42)\n",
    "\n",
    "# Define X and y\n",
    "X = ADULT.drop('ADSMMDEA', axis=1)\n",
    "y = ADULT['ADSMMDEA']\n",
    "\n",
    "# Split the data into training and test sets\n",
    "X_train, X_test, y_train, y_test = train_test_split(X, y, random_state=42)\n",
    "\n",
    "# Apply SMOTE to oversample the minority class\n",
    "smote = SMOTE(random_state=42)\n",
    "X_train_resampled, y_train_resampled = smote.fit_resample(X_train, y_train)\n",
    "\n",
    "# Initialize the StandardScaler\n",
    "scaler = StandardScaler()\n",
    "\n",
    "# Fit the scaler on the training data and transform both training and testing sets\n",
    "X_train_resampled_scaled = scaler.fit_transform(X_train_resampled) # Here the resampled X_train data is scaled\n",
    "X_test_scaled = scaler.transform(X_test) # Here the original X_test data is scaled as it was not resampled\n",
    "\n",
    "# Note: you do not need to scale the target variable (y). \n",
    "\n",
    "# Fit the model to the oversampled training data\n",
    "gbc.fit(X_train_resampled_scaled, y_train_resampled)\n",
    "\n",
    "# Predict on the test data\n",
    "y_pred = gbc.predict(X_test_scaled)\n",
    "\n",
    "# Return a classification report for the model\n",
    "print(classification_report(y_test, y_pred))"
   ]
  },
  {
   "cell_type": "code",
   "execution_count": 53,
   "metadata": {},
   "outputs": [
    {
     "data": {
      "image/png": "[encoded data removed]",
      "text/plain": [
       "<Figure size 640x480 with 2 Axes>"
      ]
     },
     "metadata": {},
     "output_type": "display_data"
    }
   ],
   "source": [
    "# Make a confusion matrix using Sklearn\n",
    "\n",
    "cm = confusion_matrix(y_test, y_pred, labels=gbc.classes_)\n",
    "\n",
    "disp = ConfusionMatrixDisplay(confusion_matrix=cm,\n",
    "                                display_labels=gbc.classes_)\n",
    "\n",
    "# Display the confusion matrix\n",
    "disp.plot()\n",
    "# Set the title of the plot\n",
    "plt.title('Adult Depression GBC Model Confusion Matrix')\n",
    "plt.show()"
   ]
  },
  {
   "cell_type": "code",
   "execution_count": 55,
   "metadata": {},
   "outputs": [
    {
     "data": {
      "text/html": [
       "<div>\n",
       "<style scoped>\n",
       "    .dataframe tbody tr th:only-of-type {\n",
       "        vertical-align: middle;\n",
       "    }\n",
       "\n",
       "    .dataframe tbody tr th {\n",
       "        vertical-align: top;\n",
       "    }\n",
       "\n",
       "    .dataframe thead th {\n",
       "        text-align: right;\n",
       "    }\n",
       "</style>\n",
       "<table border=\"1\" class=\"dataframe\">\n",
       "  <thead>\n",
       "    <tr style=\"text-align: right;\">\n",
       "      <th></th>\n",
       "      <th>feature</th>\n",
       "      <th>adult_feature_importance</th>\n",
       "    </tr>\n",
       "  </thead>\n",
       "  <tbody>\n",
       "    <tr>\n",
       "      <th>1</th>\n",
       "      <td>HEALTH2</td>\n",
       "      <td>0.440975</td>\n",
       "    </tr>\n",
       "    <tr>\n",
       "      <th>6</th>\n",
       "      <td>MRJFLAG</td>\n",
       "      <td>0.145312</td>\n",
       "    </tr>\n",
       "    <tr>\n",
       "      <th>7</th>\n",
       "      <td>PYUD5MRJ</td>\n",
       "      <td>0.090688</td>\n",
       "    </tr>\n",
       "    <tr>\n",
       "      <th>0</th>\n",
       "      <td>CATAG3</td>\n",
       "      <td>0.083567</td>\n",
       "    </tr>\n",
       "    <tr>\n",
       "      <th>4</th>\n",
       "      <td>POVERTY3</td>\n",
       "      <td>0.072345</td>\n",
       "    </tr>\n",
       "    <tr>\n",
       "      <th>2</th>\n",
       "      <td>ANYHLTI2</td>\n",
       "      <td>0.064079</td>\n",
       "    </tr>\n",
       "    <tr>\n",
       "      <th>8</th>\n",
       "      <td>MJYRTOT</td>\n",
       "      <td>0.040727</td>\n",
       "    </tr>\n",
       "    <tr>\n",
       "      <th>3</th>\n",
       "      <td>INCOME</td>\n",
       "      <td>0.025015</td>\n",
       "    </tr>\n",
       "    <tr>\n",
       "      <th>9</th>\n",
       "      <td>ALCFLAG</td>\n",
       "      <td>0.021143</td>\n",
       "    </tr>\n",
       "    <tr>\n",
       "      <th>5</th>\n",
       "      <td>TOBFLAG</td>\n",
       "      <td>0.009005</td>\n",
       "    </tr>\n",
       "    <tr>\n",
       "      <th>10</th>\n",
       "      <td>COCFLAG</td>\n",
       "      <td>0.002758</td>\n",
       "    </tr>\n",
       "    <tr>\n",
       "      <th>13</th>\n",
       "      <td>LSDFLAG</td>\n",
       "      <td>0.002035</td>\n",
       "    </tr>\n",
       "    <tr>\n",
       "      <th>14</th>\n",
       "      <td>METHAMFLAG</td>\n",
       "      <td>0.001904</td>\n",
       "    </tr>\n",
       "    <tr>\n",
       "      <th>12</th>\n",
       "      <td>HERFLAG</td>\n",
       "      <td>0.000448</td>\n",
       "    </tr>\n",
       "    <tr>\n",
       "      <th>11</th>\n",
       "      <td>CRKFLAG</td>\n",
       "      <td>0.000000</td>\n",
       "    </tr>\n",
       "  </tbody>\n",
       "</table>\n",
       "</div>"
      ],
      "text/plain": [
       "       feature  adult_feature_importance\n",
       "1      HEALTH2                  0.440975\n",
       "6      MRJFLAG                  0.145312\n",
       "7     PYUD5MRJ                  0.090688\n",
       "0       CATAG3                  0.083567\n",
       "4     POVERTY3                  0.072345\n",
       "2     ANYHLTI2                  0.064079\n",
       "8      MJYRTOT                  0.040727\n",
       "3       INCOME                  0.025015\n",
       "9      ALCFLAG                  0.021143\n",
       "5      TOBFLAG                  0.009005\n",
       "10     COCFLAG                  0.002758\n",
       "13     LSDFLAG                  0.002035\n",
       "14  METHAMFLAG                  0.001904\n",
       "12     HERFLAG                  0.000448\n",
       "11     CRKFLAG                  0.000000"
      ]
     },
     "execution_count": 55,
     "metadata": {},
     "output_type": "execute_result"
    }
   ],
   "source": [
    "# Create feature importance dataframe to analyze the importance of each feature\n",
    "fi_values = gbc.feature_importances_\n",
    "features = X_train.columns\n",
    "# Create dataframe\n",
    "adult_feature_importance_df = pd.DataFrame({\"feature\": features, \"adult_feature_importance\": fi_values})\n",
    "# Sort in descending order\n",
    "adult_feature_importance_df = adult_feature_importance_df.sort_values(by=\"adult_feature_importance\", ascending = False)\n",
    "# View dataframe\n",
    "adult_feature_importance_df"
   ]
  },
  {
   "cell_type": "code",
   "execution_count": 56,
   "metadata": {},
   "outputs": [
    {
     "data": {
      "text/plain": [
       "['HEALTH2',\n",
       " 'MRJFLAG',\n",
       " 'PYUD5MRJ',\n",
       " 'CATAG3',\n",
       " 'POVERTY3',\n",
       " 'ANYHLTI2',\n",
       " 'MJYRTOT',\n",
       " 'INCOME',\n",
       " 'ALCFLAG']"
      ]
     },
     "execution_count": 56,
     "metadata": {},
     "output_type": "execute_result"
    }
   ],
   "source": [
    "# Top 9 Features \n",
    "\n",
    "# Select first 9 features from adult_feature_importance_df\n",
    "Top9_adult = adult_feature_importance_df['feature'][:9]\n",
    "\n",
    "# Convert into list\n",
    "Top9_adult = Top9_adult.tolist()\n",
    "\n",
    "# Inspect\n",
    "Top9_adult"
   ]
  },
  {
   "cell_type": "markdown",
   "metadata": {},
   "source": [
    "### Rerun model with only the top 9 ADULT features\n"
   ]
  },
  {
   "cell_type": "code",
   "execution_count": 58,
   "metadata": {},
   "outputs": [
    {
     "name": "stdout",
     "output_type": "stream",
     "text": [
      "              precision    recall  f1-score   support\n",
      "\n",
      "           0       0.85      0.60      0.70      6423\n",
      "           1       0.32      0.64      0.42      1872\n",
      "\n",
      "    accuracy                           0.61      8295\n",
      "   macro avg       0.58      0.62      0.56      8295\n",
      "weighted avg       0.73      0.61      0.64      8295\n",
      "\n"
     ]
    }
   ],
   "source": [
    "# Retrain and test model using Top9_adult as X\n",
    "\n",
    "# Instantiate a Gradient Boosting Classifier\n",
    "gbc = GradientBoostingClassifier(random_state=42)\n",
    "\n",
    "# Define X and y\n",
    "X = ADULT[['HEALTH2',\n",
    "            'MRJFLAG',\n",
    "            'PYUD5MRJ',\n",
    "            'CATAG3', # Further explore age variables for ADULT\n",
    "            'POVERTY3',\n",
    "            'ANYHLTI2',\n",
    "            #'MJYRTOT',\n",
    "            #'INCOME',\n",
    "            #'ALCFLAG'\n",
    "            ]]\n",
    "y = ADULT['ADSMMDEA']\n",
    "\n",
    "# Split the data into training and test sets\n",
    "X_train, X_test, y_train, y_test = train_test_split(X, y, random_state=42)\n",
    "\n",
    "# Apply SMOTE to oversample the minority class\n",
    "smote = SMOTE(random_state=42)\n",
    "X_train_resampled, y_train_resampled = smote.fit_resample(X_train, y_train)\n",
    "\n",
    "# Initialize the StandardScaler\n",
    "scaler = StandardScaler()\n",
    "\n",
    "# Fit the scaler on the training data and transform both training and testing sets\n",
    "X_train_resampled_scaled = scaler.fit_transform(X_train_resampled) # Here the resampled X_train data is scaled\n",
    "X_test_scaled = scaler.transform(X_test) # Here the original X_test data is scaled as it was not resampled\n",
    "\n",
    "# Note: you do not need to scale the target variable (y). \n",
    "\n",
    "# Fit the model to the oversampled training data\n",
    "gbc.fit(X_train_resampled_scaled, y_train_resampled)\n",
    "\n",
    "# Predict on the test data\n",
    "y_pred = gbc.predict(X_test_scaled)\n",
    "\n",
    "# Return a classification report for the model\n",
    "print(classification_report(y_test, y_pred))"
   ]
  },
  {
   "cell_type": "code",
   "execution_count": 59,
   "metadata": {},
   "outputs": [
    {
     "data": {
      "image/png": "[encoded data removed]",
      "text/plain": [
       "<Figure size 640x480 with 2 Axes>"
      ]
     },
     "metadata": {},
     "output_type": "display_data"
    }
   ],
   "source": [
    "# Print a pretty confusion matrix\n",
    "cm = confusion_matrix(y_test, y_pred, labels=gbt.classes_)\n",
    "\n",
    "disp = ConfusionMatrixDisplay(confusion_matrix=cm,\n",
    "                                display_labels=gbt.classes_)\n",
    "\n",
    "# Display the confusion matrix\n",
    "disp.plot()\n",
    "# Set the title of the plot\n",
    "plt.title('6-Feature Adult Depression GBC Model Confusion Matrix')\n",
    "plt.show()"
   ]
  },
  {
   "cell_type": "markdown",
   "metadata": {},
   "source": [
    "### Train Model with YOUTH data"
   ]
  },
  {
   "cell_type": "code",
   "execution_count": 60,
   "metadata": {},
   "outputs": [
    {
     "name": "stdout",
     "output_type": "stream",
     "text": [
      "              precision    recall  f1-score   support\n",
      "\n",
      "           0       0.83      0.70      0.76      1937\n",
      "           1       0.37      0.56      0.45       624\n",
      "\n",
      "    accuracy                           0.67      2561\n",
      "   macro avg       0.60      0.63      0.60      2561\n",
      "weighted avg       0.72      0.67      0.68      2561\n",
      "\n"
     ]
    }
   ],
   "source": [
    "# Instantiate a Gradient Boosting Classifier\n",
    "gbc = GradientBoostingClassifier(random_state=42)\n",
    "\n",
    "# Define X and y\n",
    "X = YOUTH.drop('YODSMMDE', axis=1)\n",
    "y = YOUTH['YODSMMDE']\n",
    "\n",
    "# Split the data into training and test sets\n",
    "X_train, X_test, y_train, y_test = train_test_split(X, y, random_state=42)\n",
    "\n",
    "# Apply SMOTE to oversample the minority class\n",
    "smote = SMOTE(random_state=42)\n",
    "X_train_resampled, y_train_resampled = smote.fit_resample(X_train, y_train)\n",
    "\n",
    "# Initialize the StandardScaler\n",
    "scaler = StandardScaler()\n",
    "\n",
    "# Fit the scaler on the training data and transform both training and testing sets\n",
    "X_train_resampled_scaled = scaler.fit_transform(X_train_resampled) # Here the resampled X_train data is scaled\n",
    "X_test_scaled = scaler.transform(X_test) # Here the original X_test data is scaled as it was not resampled\n",
    "\n",
    "# Note: you do not need to scale the target variable (y).\n",
    "\n",
    "# Fit the model to the oversampled training data\n",
    "gbc.fit(X_train_resampled_scaled, y_train_resampled)\n",
    "\n",
    "# Predict on the test data\n",
    "y_pred = gbc.predict(X_test_scaled)\n",
    "\n",
    "# Return a classification report for the model\n",
    "print(classification_report(y_test, y_pred))"
   ]
  },
  {
   "cell_type": "code",
   "execution_count": 61,
   "metadata": {},
   "outputs": [
    {
     "data": {
      "image/png": "[encoded data removed]",
      "text/plain": [
       "<Figure size 640x480 with 2 Axes>"
      ]
     },
     "metadata": {},
     "output_type": "display_data"
    }
   ],
   "source": [
    "# Print a confusion matrix for the model\n",
    "cm = confusion_matrix(y_test, y_pred, labels=gbc.classes_)\n",
    "\n",
    "disp = ConfusionMatrixDisplay(confusion_matrix=cm,\n",
    "                                display_labels=gbc.classes_)\n",
    "\n",
    "# Display the confusion matrix\n",
    "disp.plot()\n",
    "# Set the title of the plot\n",
    "plt.title('Youth Depression GBC Model Confusion Matrix')\n",
    "plt.show()"
   ]
  },
  {
   "cell_type": "code",
   "execution_count": 63,
   "metadata": {},
   "outputs": [
    {
     "data": {
      "text/html": [
       "<div>\n",
       "<style scoped>\n",
       "    .dataframe tbody tr th:only-of-type {\n",
       "        vertical-align: middle;\n",
       "    }\n",
       "\n",
       "    .dataframe tbody tr th {\n",
       "        vertical-align: top;\n",
       "    }\n",
       "\n",
       "    .dataframe thead th {\n",
       "        text-align: right;\n",
       "    }\n",
       "</style>\n",
       "<table border=\"1\" class=\"dataframe\">\n",
       "  <thead>\n",
       "    <tr style=\"text-align: right;\">\n",
       "      <th></th>\n",
       "      <th>feature</th>\n",
       "      <th>youth_feature_importance</th>\n",
       "    </tr>\n",
       "  </thead>\n",
       "  <tbody>\n",
       "    <tr>\n",
       "      <th>1</th>\n",
       "      <td>HEALTH2</td>\n",
       "      <td>0.499813</td>\n",
       "    </tr>\n",
       "    <tr>\n",
       "      <th>9</th>\n",
       "      <td>ALCFLAG</td>\n",
       "      <td>0.244815</td>\n",
       "    </tr>\n",
       "    <tr>\n",
       "      <th>6</th>\n",
       "      <td>MRJFLAG</td>\n",
       "      <td>0.070116</td>\n",
       "    </tr>\n",
       "    <tr>\n",
       "      <th>4</th>\n",
       "      <td>POVERTY3</td>\n",
       "      <td>0.041385</td>\n",
       "    </tr>\n",
       "    <tr>\n",
       "      <th>8</th>\n",
       "      <td>MJYRTOT</td>\n",
       "      <td>0.039888</td>\n",
       "    </tr>\n",
       "    <tr>\n",
       "      <th>7</th>\n",
       "      <td>PYUD5MRJ</td>\n",
       "      <td>0.034001</td>\n",
       "    </tr>\n",
       "    <tr>\n",
       "      <th>3</th>\n",
       "      <td>INCOME</td>\n",
       "      <td>0.026361</td>\n",
       "    </tr>\n",
       "    <tr>\n",
       "      <th>2</th>\n",
       "      <td>ANYHLTI2</td>\n",
       "      <td>0.017742</td>\n",
       "    </tr>\n",
       "    <tr>\n",
       "      <th>5</th>\n",
       "      <td>TOBFLAG</td>\n",
       "      <td>0.016949</td>\n",
       "    </tr>\n",
       "    <tr>\n",
       "      <th>10</th>\n",
       "      <td>COCFLAG</td>\n",
       "      <td>0.004962</td>\n",
       "    </tr>\n",
       "    <tr>\n",
       "      <th>14</th>\n",
       "      <td>METHAMFLAG</td>\n",
       "      <td>0.001536</td>\n",
       "    </tr>\n",
       "    <tr>\n",
       "      <th>12</th>\n",
       "      <td>HERFLAG</td>\n",
       "      <td>0.001112</td>\n",
       "    </tr>\n",
       "    <tr>\n",
       "      <th>13</th>\n",
       "      <td>LSDFLAG</td>\n",
       "      <td>0.000852</td>\n",
       "    </tr>\n",
       "    <tr>\n",
       "      <th>11</th>\n",
       "      <td>CRKFLAG</td>\n",
       "      <td>0.000470</td>\n",
       "    </tr>\n",
       "    <tr>\n",
       "      <th>0</th>\n",
       "      <td>CATAG3</td>\n",
       "      <td>0.000000</td>\n",
       "    </tr>\n",
       "  </tbody>\n",
       "</table>\n",
       "</div>"
      ],
      "text/plain": [
       "       feature  youth_feature_importance\n",
       "1      HEALTH2                  0.499813\n",
       "9      ALCFLAG                  0.244815\n",
       "6      MRJFLAG                  0.070116\n",
       "4     POVERTY3                  0.041385\n",
       "8      MJYRTOT                  0.039888\n",
       "7     PYUD5MRJ                  0.034001\n",
       "3       INCOME                  0.026361\n",
       "2     ANYHLTI2                  0.017742\n",
       "5      TOBFLAG                  0.016949\n",
       "10     COCFLAG                  0.004962\n",
       "14  METHAMFLAG                  0.001536\n",
       "12     HERFLAG                  0.001112\n",
       "13     LSDFLAG                  0.000852\n",
       "11     CRKFLAG                  0.000470\n",
       "0       CATAG3                  0.000000"
      ]
     },
     "execution_count": 63,
     "metadata": {},
     "output_type": "execute_result"
    }
   ],
   "source": [
    "# Create feature importance dataframe to analyze the importance of each feature\n",
    "fi_values = gbc.feature_importances_\n",
    "features = X_train.columns\n",
    "# Create dataframe\n",
    "youth_feature_importance_df = pd.DataFrame({\"feature\": features, \"youth_feature_importance\": fi_values})\n",
    "# Sort in descending order\n",
    "youth_feature_importance_df = youth_feature_importance_df.sort_values(by=\"youth_feature_importance\", ascending = False)\n",
    "# View dataframe\n",
    "youth_feature_importance_df"
   ]
  },
  {
   "cell_type": "code",
   "execution_count": 64,
   "metadata": {},
   "outputs": [
    {
     "data": {
      "text/plain": [
       "['HEALTH2', 'ALCFLAG', 'MRJFLAG', 'POVERTY3', 'MJYRTOT', 'PYUD5MRJ']"
      ]
     },
     "execution_count": 64,
     "metadata": {},
     "output_type": "execute_result"
    }
   ],
   "source": [
    "# Select the top 6 features from the YOUTH model\n",
    "\n",
    "# Select first 9 features from adult_feature_importance_df\n",
    "Top6_youth = youth_feature_importance_df['feature'][:6]\n",
    "\n",
    "# Convert into list\n",
    "Top6_youth = Top6_youth.tolist()\n",
    "\n",
    "# Inspect\n",
    "Top6_youth"
   ]
  },
  {
   "cell_type": "markdown",
   "metadata": {},
   "source": [
    "### Note: Communicate these findings to the group and use them to inform Pycaret model feature selection."
   ]
  },
  {
   "cell_type": "code",
   "execution_count": 65,
   "metadata": {},
   "outputs": [
    {
     "data": {
      "text/html": [
       "<div>\n",
       "<style scoped>\n",
       "    .dataframe tbody tr th:only-of-type {\n",
       "        vertical-align: middle;\n",
       "    }\n",
       "\n",
       "    .dataframe tbody tr th {\n",
       "        vertical-align: top;\n",
       "    }\n",
       "\n",
       "    .dataframe thead th {\n",
       "        text-align: right;\n",
       "    }\n",
       "</style>\n",
       "<table border=\"1\" class=\"dataframe\">\n",
       "  <thead>\n",
       "    <tr style=\"text-align: right;\">\n",
       "      <th></th>\n",
       "      <th>feature</th>\n",
       "      <th>feature_importance</th>\n",
       "      <th>adult_feature_importance</th>\n",
       "      <th>youth_feature_importance</th>\n",
       "    </tr>\n",
       "  </thead>\n",
       "  <tbody>\n",
       "    <tr>\n",
       "      <th>0</th>\n",
       "      <td>HEALTH2</td>\n",
       "      <td>0.362204</td>\n",
       "      <td>0.440975</td>\n",
       "      <td>0.499813</td>\n",
       "    </tr>\n",
       "    <tr>\n",
       "      <th>1</th>\n",
       "      <td>CATAG3</td>\n",
       "      <td>0.266727</td>\n",
       "      <td>0.083567</td>\n",
       "      <td>0.000000</td>\n",
       "    </tr>\n",
       "    <tr>\n",
       "      <th>2</th>\n",
       "      <td>MRJFLAG</td>\n",
       "      <td>0.115889</td>\n",
       "      <td>0.145312</td>\n",
       "      <td>0.070116</td>\n",
       "    </tr>\n",
       "    <tr>\n",
       "      <th>3</th>\n",
       "      <td>PYUD5MRJ</td>\n",
       "      <td>0.080821</td>\n",
       "      <td>0.090688</td>\n",
       "      <td>0.034001</td>\n",
       "    </tr>\n",
       "    <tr>\n",
       "      <th>4</th>\n",
       "      <td>POVERTY3</td>\n",
       "      <td>0.056055</td>\n",
       "      <td>0.072345</td>\n",
       "      <td>0.041385</td>\n",
       "    </tr>\n",
       "    <tr>\n",
       "      <th>5</th>\n",
       "      <td>ANYHLTI2</td>\n",
       "      <td>0.040701</td>\n",
       "      <td>0.064079</td>\n",
       "      <td>0.017742</td>\n",
       "    </tr>\n",
       "    <tr>\n",
       "      <th>6</th>\n",
       "      <td>ALCFLAG</td>\n",
       "      <td>0.029343</td>\n",
       "      <td>0.021143</td>\n",
       "      <td>0.244815</td>\n",
       "    </tr>\n",
       "    <tr>\n",
       "      <th>7</th>\n",
       "      <td>MJYRTOT</td>\n",
       "      <td>0.027589</td>\n",
       "      <td>0.040727</td>\n",
       "      <td>0.039888</td>\n",
       "    </tr>\n",
       "    <tr>\n",
       "      <th>8</th>\n",
       "      <td>INCOME</td>\n",
       "      <td>0.011978</td>\n",
       "      <td>0.025015</td>\n",
       "      <td>0.026361</td>\n",
       "    </tr>\n",
       "    <tr>\n",
       "      <th>9</th>\n",
       "      <td>TOBFLAG</td>\n",
       "      <td>0.005321</td>\n",
       "      <td>0.009005</td>\n",
       "      <td>0.016949</td>\n",
       "    </tr>\n",
       "    <tr>\n",
       "      <th>10</th>\n",
       "      <td>METHAMFLAG</td>\n",
       "      <td>0.001268</td>\n",
       "      <td>0.001904</td>\n",
       "      <td>0.001536</td>\n",
       "    </tr>\n",
       "    <tr>\n",
       "      <th>11</th>\n",
       "      <td>CRKFLAG</td>\n",
       "      <td>0.000789</td>\n",
       "      <td>0.000000</td>\n",
       "      <td>0.000470</td>\n",
       "    </tr>\n",
       "    <tr>\n",
       "      <th>12</th>\n",
       "      <td>COCFLAG</td>\n",
       "      <td>0.000675</td>\n",
       "      <td>0.002758</td>\n",
       "      <td>0.004962</td>\n",
       "    </tr>\n",
       "    <tr>\n",
       "      <th>13</th>\n",
       "      <td>LSDFLAG</td>\n",
       "      <td>0.000640</td>\n",
       "      <td>0.002035</td>\n",
       "      <td>0.000852</td>\n",
       "    </tr>\n",
       "    <tr>\n",
       "      <th>14</th>\n",
       "      <td>HERFLAG</td>\n",
       "      <td>0.000000</td>\n",
       "      <td>0.000448</td>\n",
       "      <td>0.001112</td>\n",
       "    </tr>\n",
       "  </tbody>\n",
       "</table>\n",
       "</div>"
      ],
      "text/plain": [
       "       feature  feature_importance  adult_feature_importance  \\\n",
       "0      HEALTH2            0.362204                  0.440975   \n",
       "1       CATAG3            0.266727                  0.083567   \n",
       "2      MRJFLAG            0.115889                  0.145312   \n",
       "3     PYUD5MRJ            0.080821                  0.090688   \n",
       "4     POVERTY3            0.056055                  0.072345   \n",
       "5     ANYHLTI2            0.040701                  0.064079   \n",
       "6      ALCFLAG            0.029343                  0.021143   \n",
       "7      MJYRTOT            0.027589                  0.040727   \n",
       "8       INCOME            0.011978                  0.025015   \n",
       "9      TOBFLAG            0.005321                  0.009005   \n",
       "10  METHAMFLAG            0.001268                  0.001904   \n",
       "11     CRKFLAG            0.000789                  0.000000   \n",
       "12     COCFLAG            0.000675                  0.002758   \n",
       "13     LSDFLAG            0.000640                  0.002035   \n",
       "14     HERFLAG            0.000000                  0.000448   \n",
       "\n",
       "    youth_feature_importance  \n",
       "0                   0.499813  \n",
       "1                   0.000000  \n",
       "2                   0.070116  \n",
       "3                   0.034001  \n",
       "4                   0.041385  \n",
       "5                   0.017742  \n",
       "6                   0.244815  \n",
       "7                   0.039888  \n",
       "8                   0.026361  \n",
       "9                   0.016949  \n",
       "10                  0.001536  \n",
       "11                  0.000470  \n",
       "12                  0.004962  \n",
       "13                  0.000852  \n",
       "14                  0.001112  "
      ]
     },
     "execution_count": 65,
     "metadata": {},
     "output_type": "execute_result"
    }
   ],
   "source": [
    "# Merge the two feature importance dataframes (adult_feature_importance_df and youth_feature_importance_df) on ['feature']\n",
    "\n",
    "FEATURE_IMPORTANCES = pd.merge(feature_importance_df, adult_feature_importance_df, on=['feature'], how='outer')\n",
    "\n",
    "# Merge FEATURE_IMPORTANCES with youth_feature_importance_df on ['feature']\n",
    "FEATURE_IMPORTANCES = pd.merge(FEATURE_IMPORTANCES, youth_feature_importance_df, on=['feature'], how='outer')\n",
    "\n",
    "# Inspect\n",
    "\n",
    "FEATURE_IMPORTANCES"
   ]
  },
  {
   "cell_type": "code",
   "execution_count": 66,
   "metadata": {},
   "outputs": [
    {
     "name": "stderr",
     "output_type": "stream",
     "text": [
      "C:\\Users\\e.a.wright\\AppData\\Local\\Temp\\ipykernel_31232\\2327115218.py:2: FutureWarning: This dataframe has a column name that matches the 'value_name' column name of the resulting Dataframe. In the future this will raise an error, please set the 'value_name' parameter of DataFrame.melt to a unique name.\n",
      "  melted_data = pd.melt(FEATURE_IMPORTANCES, id_vars='feature', var_name='iteration', value_name='feature_importance')\n"
     ]
    },
    {
     "data": {
      "image/png": "[encoded data removed]",
      "text/plain": [
       "<Figure size 1000x600 with 1 Axes>"
      ]
     },
     "metadata": {},
     "output_type": "display_data"
    }
   ],
   "source": [
    "# Melting the data to create a single importance column for both iterations\n",
    "melted_data = pd.melt(FEATURE_IMPORTANCES, id_vars='feature', var_name='iteration', value_name='feature_importance')\n",
    "\n",
    "# Sorting data by feature importance for better visualization\n",
    "melted_data = melted_data.sort_values(by='feature_importance', ascending=False)\n",
    "\n",
    "# Create a bar plot using Seaborn with bars side by side\n",
    "plt.figure(figsize=(10, 6))\n",
    "sns.barplot(x='feature', y='feature_importance', hue='iteration', data=melted_data)\n",
    "plt.xlabel('Features')\n",
    "plt.ylabel('Feature Importance')\n",
    "plt.title('Feature Importance Comparison')\n",
    "plt.xticks(rotation=45)\n",
    "plt.legend(title='Iteration')\n",
    "plt.tight_layout()\n",
    "plt.show()"
   ]
  },
  {
   "cell_type": "code",
   "execution_count": 6,
   "metadata": {},
   "outputs": [],
   "source": [
    "from sklearn.model_selection import train_test_split, cross_validate\n",
    "from sklearn.ensemble import RandomForestClassifier\n",
    "from sklearn.metrics import classification_report\n",
    "\n",
    "# Ensembled sampling\n",
    "from imblearn.under_sampling import NearMiss\n",
    "from imblearn.over_sampling import SMOTE\n",
    "from imblearn.ensemble import BalancedRandomForestClassifier\n",
    "from imblearn.ensemble import RUSBoostClassifier\n",
    "from imblearn.ensemble import EasyEnsembleClassifier\n",
    "from imblearn.ensemble import BalancedBaggingClassifier"
   ]
  },
  {
   "cell_type": "code",
   "execution_count": 13,
   "metadata": {},
   "outputs": [],
   "source": [
    "subset = subset.dropna()"
   ]
  },
  {
   "cell_type": "code",
   "execution_count": 14,
   "metadata": {},
   "outputs": [
    {
     "name": "stdout",
     "output_type": "stream",
     "text": [
      "<class 'pandas.core.frame.DataFrame'>\n",
      "Int64Index: 53896 entries, 0 to 53911\n",
      "Data columns (total 19 columns):\n",
      " #   Column      Non-Null Count  Dtype  \n",
      "---  ------      --------------  -----  \n",
      " 0   CATAG3      53896 non-null  int64  \n",
      " 1   HEALTH2     53896 non-null  float64\n",
      " 2   ANYHLTI2    53896 non-null  int64  \n",
      " 3   INCOME      53896 non-null  int64  \n",
      " 4   POVERTY3    53896 non-null  float64\n",
      " 5   TOBFLAG     53896 non-null  int64  \n",
      " 6   MRJFLAG     53896 non-null  int64  \n",
      " 7   PYUD5MRJ    53896 non-null  float64\n",
      " 8   MJYRTOT     53896 non-null  int64  \n",
      " 9   ALCFLAG     53896 non-null  int64  \n",
      " 10  COCFLAG     53896 non-null  int64  \n",
      " 11  CRKFLAG     53896 non-null  int64  \n",
      " 12  HERFLAG     53896 non-null  int64  \n",
      " 13  LSDFLAG     53896 non-null  int64  \n",
      " 14  METHAMFLAG  53896 non-null  int64  \n",
      " 15  ADDPREV     53896 non-null  int64  \n",
      " 16  ADSMMDEA    53896 non-null  int64  \n",
      " 17  YODSMMDE    53896 non-null  int64  \n",
      " 18  DEP         53896 non-null  int64  \n",
      "dtypes: float64(3), int64(16)\n",
      "memory usage: 8.2 MB\n"
     ]
    }
   ],
   "source": [
    "subset.info()"
   ]
  }
 ],
 "metadata": {
  "kernelspec": {
   "display_name": "Python 3 (ipykernel)",
   "language": "python",
   "name": "python3"
  },
  "language_info": {
   "codemirror_mode": {
    "name": "ipython",
    "version": 3
   },
   "file_extension": ".py",
   "mimetype": "text/x-python",
   "name": "python",
   "nbconvert_exporter": "python",
   "pygments_lexer": "ipython3",
   "version": "3.11.3"
  }
 },
 "nbformat": 4,
 "nbformat_minor": 4
}
